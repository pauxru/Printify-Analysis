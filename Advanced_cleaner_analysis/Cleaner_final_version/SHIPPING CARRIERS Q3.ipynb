{
 "cells": [
  {
   "cell_type": "markdown",
   "id": "fbb972d4",
   "metadata": {},
   "source": [
    "# Depedencies"
   ]
  },
  {
   "cell_type": "code",
   "execution_count": 43,
   "id": "a529713c",
   "metadata": {},
   "outputs": [],
   "source": [
    "import pandas as pd\n",
    "import numpy as np\n",
    "import time\n",
    "import collections\n",
    "import plotly.graph_objects as go\n",
    "import plotly.express as px\n",
    "import math\n",
    "import seaborn as sn"
   ]
  },
  {
   "cell_type": "markdown",
   "id": "3fdd4f0a",
   "metadata": {},
   "source": [
    "# Import the Data from the excel"
   ]
  },
  {
   "cell_type": "code",
   "execution_count": 44,
   "id": "a5877140",
   "metadata": {
    "scrolled": true
   },
   "outputs": [
    {
     "data": {
      "text/html": [
       "<div>\n",
       "<style scoped>\n",
       "    .dataframe tbody tr th:only-of-type {\n",
       "        vertical-align: middle;\n",
       "    }\n",
       "\n",
       "    .dataframe tbody tr th {\n",
       "        vertical-align: top;\n",
       "    }\n",
       "\n",
       "    .dataframe thead th {\n",
       "        text-align: right;\n",
       "    }\n",
       "</style>\n",
       "<table border=\"1\" class=\"dataframe\">\n",
       "  <thead>\n",
       "    <tr style=\"text-align: right;\">\n",
       "      <th></th>\n",
       "      <th>MERCHANT_ID</th>\n",
       "      <th>ORDER_ID</th>\n",
       "      <th>SHOP_ID</th>\n",
       "      <th>ADDRESS_TO_COUNTRY</th>\n",
       "      <th>ADDRESS_TO_REGION</th>\n",
       "      <th>ORDER_DT</th>\n",
       "      <th>FULFILLED_DT</th>\n",
       "      <th>REPRINT_FLAG</th>\n",
       "      <th>SALES_CHANNEL_TYPE_ID</th>\n",
       "      <th>TOTAL_COST</th>\n",
       "      <th>TOTAL_SHIPPING</th>\n",
       "      <th>MERCHANT_REGISTERED_DT</th>\n",
       "      <th>SUB_IS_ACTIVE_FLAG</th>\n",
       "      <th>SUB_PLAN</th>\n",
       "      <th>SHIPMENT_CARRIER</th>\n",
       "      <th>SHIPMENT_DELIVERD_DT</th>\n",
       "    </tr>\n",
       "  </thead>\n",
       "  <tbody>\n",
       "    <tr>\n",
       "      <th>0</th>\n",
       "      <td>7143578</td>\n",
       "      <td>2013244.178</td>\n",
       "      <td>2013244</td>\n",
       "      <td>US</td>\n",
       "      <td>WA</td>\n",
       "      <td>2020-10-02 19:30:15</td>\n",
       "      <td>2020-10-20 07:53:06</td>\n",
       "      <td>NaN</td>\n",
       "      <td>9</td>\n",
       "      <td>2902</td>\n",
       "      <td>2200</td>\n",
       "      <td>2020-05-19 15:22:57</td>\n",
       "      <td>True</td>\n",
       "      <td>business_account_3</td>\n",
       "      <td>UPS</td>\n",
       "      <td>2020-10-08 21:07:29</td>\n",
       "    </tr>\n",
       "    <tr>\n",
       "      <th>1</th>\n",
       "      <td>5888534</td>\n",
       "      <td>1358429.695</td>\n",
       "      <td>1358429</td>\n",
       "      <td>US</td>\n",
       "      <td>MN</td>\n",
       "      <td>2020-11-21 05:19:03</td>\n",
       "      <td>2020-11-23 00:23:32</td>\n",
       "      <td>NaN</td>\n",
       "      <td>4</td>\n",
       "      <td>1149</td>\n",
       "      <td>924</td>\n",
       "      <td>2018-02-08 07:34:02</td>\n",
       "      <td>True</td>\n",
       "      <td>business_account_3</td>\n",
       "      <td>USPS</td>\n",
       "      <td>2020-11-28 21:50:56</td>\n",
       "    </tr>\n",
       "    <tr>\n",
       "      <th>2</th>\n",
       "      <td>6484224</td>\n",
       "      <td>939390.193</td>\n",
       "      <td>939390</td>\n",
       "      <td>US</td>\n",
       "      <td>AK</td>\n",
       "      <td>2020-10-25 01:39:08</td>\n",
       "      <td>2020-10-26 20:30:53</td>\n",
       "      <td>NaN</td>\n",
       "      <td>1</td>\n",
       "      <td>977</td>\n",
       "      <td>400</td>\n",
       "      <td>2019-04-09 20:02:46</td>\n",
       "      <td>True</td>\n",
       "      <td>business_account_3</td>\n",
       "      <td>USPS</td>\n",
       "      <td>2020-11-02 23:37:54</td>\n",
       "    </tr>\n",
       "    <tr>\n",
       "      <th>3</th>\n",
       "      <td>7251033</td>\n",
       "      <td>1856107.400</td>\n",
       "      <td>1856107</td>\n",
       "      <td>US</td>\n",
       "      <td>PA</td>\n",
       "      <td>2020-10-08 16:35:21</td>\n",
       "      <td>2020-10-10 15:02:47</td>\n",
       "      <td>NaN</td>\n",
       "      <td>1</td>\n",
       "      <td>661</td>\n",
       "      <td>800</td>\n",
       "      <td>2020-07-20 17:04:41</td>\n",
       "      <td>True</td>\n",
       "      <td>business_account_3</td>\n",
       "      <td>UPS</td>\n",
       "      <td>2020-10-15 18:08:37</td>\n",
       "    </tr>\n",
       "    <tr>\n",
       "      <th>4</th>\n",
       "      <td>7241488</td>\n",
       "      <td>1843904.400</td>\n",
       "      <td>1843904</td>\n",
       "      <td>US</td>\n",
       "      <td>CO</td>\n",
       "      <td>2020-11-17 19:30:10</td>\n",
       "      <td>2020-11-18 03:45:25</td>\n",
       "      <td>NaN</td>\n",
       "      <td>2</td>\n",
       "      <td>719</td>\n",
       "      <td>424</td>\n",
       "      <td>2020-07-15 18:47:51</td>\n",
       "      <td>True</td>\n",
       "      <td>business_account_3</td>\n",
       "      <td>USPS</td>\n",
       "      <td>2020-11-24 00:44:56</td>\n",
       "    </tr>\n",
       "  </tbody>\n",
       "</table>\n",
       "</div>"
      ],
      "text/plain": [
       "   MERCHANT_ID     ORDER_ID  SHOP_ID ADDRESS_TO_COUNTRY ADDRESS_TO_REGION  \\\n",
       "0      7143578  2013244.178  2013244                 US                WA   \n",
       "1      5888534  1358429.695  1358429                 US                MN   \n",
       "2      6484224   939390.193   939390                 US                AK   \n",
       "3      7251033  1856107.400  1856107                 US                PA   \n",
       "4      7241488  1843904.400  1843904                 US                CO   \n",
       "\n",
       "             ORDER_DT        FULFILLED_DT  REPRINT_FLAG  \\\n",
       "0 2020-10-02 19:30:15 2020-10-20 07:53:06           NaN   \n",
       "1 2020-11-21 05:19:03 2020-11-23 00:23:32           NaN   \n",
       "2 2020-10-25 01:39:08 2020-10-26 20:30:53           NaN   \n",
       "3 2020-10-08 16:35:21 2020-10-10 15:02:47           NaN   \n",
       "4 2020-11-17 19:30:10 2020-11-18 03:45:25           NaN   \n",
       "\n",
       "   SALES_CHANNEL_TYPE_ID  TOTAL_COST  TOTAL_SHIPPING MERCHANT_REGISTERED_DT  \\\n",
       "0                      9        2902            2200    2020-05-19 15:22:57   \n",
       "1                      4        1149             924    2018-02-08 07:34:02   \n",
       "2                      1         977             400    2019-04-09 20:02:46   \n",
       "3                      1         661             800    2020-07-20 17:04:41   \n",
       "4                      2         719             424    2020-07-15 18:47:51   \n",
       "\n",
       "   SUB_IS_ACTIVE_FLAG            SUB_PLAN SHIPMENT_CARRIER  \\\n",
       "0                True  business_account_3              UPS   \n",
       "1                True  business_account_3             USPS   \n",
       "2                True  business_account_3             USPS   \n",
       "3                True  business_account_3              UPS   \n",
       "4                True  business_account_3             USPS   \n",
       "\n",
       "  SHIPMENT_DELIVERD_DT  \n",
       "0  2020-10-08 21:07:29  \n",
       "1  2020-11-28 21:50:56  \n",
       "2  2020-11-02 23:37:54  \n",
       "3  2020-10-15 18:08:37  \n",
       "4  2020-11-24 00:44:56  "
      ]
     },
     "execution_count": 44,
     "metadata": {},
     "output_type": "execute_result"
    }
   ],
   "source": [
    "# Read the printify products excel file into pandas dataframe\n",
    "orders = pd.read_excel('Printify_Data_Analyst_homework.xlsx', sheet_name = 'Orders')\n",
    "orders.head()"
   ]
  },
  {
   "cell_type": "code",
   "execution_count": 45,
   "id": "6c1767bf",
   "metadata": {
    "scrolled": true
   },
   "outputs": [
    {
     "name": "stdout",
     "output_type": "stream",
     "text": [
      "<class 'pandas.core.frame.DataFrame'>\n",
      "RangeIndex: 13506 entries, 0 to 13505\n",
      "Data columns (total 16 columns):\n",
      " #   Column                  Non-Null Count  Dtype         \n",
      "---  ------                  --------------  -----         \n",
      " 0   MERCHANT_ID             13506 non-null  int64         \n",
      " 1   ORDER_ID                13506 non-null  float64       \n",
      " 2   SHOP_ID                 13506 non-null  int64         \n",
      " 3   ADDRESS_TO_COUNTRY      13505 non-null  object        \n",
      " 4   ADDRESS_TO_REGION       12930 non-null  object        \n",
      " 5   ORDER_DT                13506 non-null  datetime64[ns]\n",
      " 6   FULFILLED_DT            12637 non-null  datetime64[ns]\n",
      " 7   REPRINT_FLAG            103 non-null    float64       \n",
      " 8   SALES_CHANNEL_TYPE_ID   13506 non-null  int64         \n",
      " 9   TOTAL_COST              13506 non-null  int64         \n",
      " 10  TOTAL_SHIPPING          13506 non-null  int64         \n",
      " 11  MERCHANT_REGISTERED_DT  13506 non-null  datetime64[ns]\n",
      " 12  SUB_IS_ACTIVE_FLAG      13506 non-null  bool          \n",
      " 13  SUB_PLAN                9897 non-null   object        \n",
      " 14  SHIPMENT_CARRIER        11833 non-null  object        \n",
      " 15  SHIPMENT_DELIVERD_DT    10912 non-null  datetime64[ns]\n",
      "dtypes: bool(1), datetime64[ns](4), float64(2), int64(5), object(4)\n",
      "memory usage: 1.6+ MB\n"
     ]
    }
   ],
   "source": [
    "orders.info()"
   ]
  },
  {
   "cell_type": "code",
   "execution_count": 46,
   "id": "20715b66",
   "metadata": {
    "scrolled": true
   },
   "outputs": [
    {
     "data": {
      "text/html": [
       "<div>\n",
       "<style scoped>\n",
       "    .dataframe tbody tr th:only-of-type {\n",
       "        vertical-align: middle;\n",
       "    }\n",
       "\n",
       "    .dataframe tbody tr th {\n",
       "        vertical-align: top;\n",
       "    }\n",
       "\n",
       "    .dataframe thead th {\n",
       "        text-align: right;\n",
       "    }\n",
       "</style>\n",
       "<table border=\"1\" class=\"dataframe\">\n",
       "  <thead>\n",
       "    <tr style=\"text-align: right;\">\n",
       "      <th></th>\n",
       "      <th>ORDER_ID</th>\n",
       "      <th>PRINT_PROVIDER_ID</th>\n",
       "      <th>PRODUCT_BRAND</th>\n",
       "      <th>PRODUCT_TYPE</th>\n",
       "      <th>ITEM_STATUS</th>\n",
       "      <th>QUANTITY</th>\n",
       "    </tr>\n",
       "  </thead>\n",
       "  <tbody>\n",
       "    <tr>\n",
       "      <th>0</th>\n",
       "      <td>1.750015e+06</td>\n",
       "      <td>30</td>\n",
       "      <td>Generic brand</td>\n",
       "      <td>Mug</td>\n",
       "      <td>on-hold</td>\n",
       "      <td>3</td>\n",
       "    </tr>\n",
       "    <tr>\n",
       "      <th>1</th>\n",
       "      <td>1.750015e+06</td>\n",
       "      <td>30</td>\n",
       "      <td>Generic brand</td>\n",
       "      <td>Mug</td>\n",
       "      <td>on-hold</td>\n",
       "      <td>2</td>\n",
       "    </tr>\n",
       "    <tr>\n",
       "      <th>2</th>\n",
       "      <td>1.225155e+06</td>\n",
       "      <td>16</td>\n",
       "      <td>Gildan</td>\n",
       "      <td>Kids clothes</td>\n",
       "      <td>shipment_delivered</td>\n",
       "      <td>1</td>\n",
       "    </tr>\n",
       "    <tr>\n",
       "      <th>3</th>\n",
       "      <td>1.828891e+06</td>\n",
       "      <td>39</td>\n",
       "      <td>Bella+Canvas</td>\n",
       "      <td>T-Shirt</td>\n",
       "      <td>shipment_delivered</td>\n",
       "      <td>1</td>\n",
       "    </tr>\n",
       "    <tr>\n",
       "      <th>4</th>\n",
       "      <td>1.847848e+06</td>\n",
       "      <td>10</td>\n",
       "      <td>Generic brand</td>\n",
       "      <td>Accessories</td>\n",
       "      <td>shipment_delivered</td>\n",
       "      <td>1</td>\n",
       "    </tr>\n",
       "    <tr>\n",
       "      <th>5</th>\n",
       "      <td>1.750016e+06</td>\n",
       "      <td>30</td>\n",
       "      <td>Generic brand</td>\n",
       "      <td>Mug</td>\n",
       "      <td>on-hold</td>\n",
       "      <td>1</td>\n",
       "    </tr>\n",
       "    <tr>\n",
       "      <th>6</th>\n",
       "      <td>4.668482e+05</td>\n",
       "      <td>10</td>\n",
       "      <td>Generic brand</td>\n",
       "      <td>Bags</td>\n",
       "      <td>shipment_delivered</td>\n",
       "      <td>1</td>\n",
       "    </tr>\n",
       "    <tr>\n",
       "      <th>7</th>\n",
       "      <td>1.569960e+06</td>\n",
       "      <td>45</td>\n",
       "      <td>Gildan</td>\n",
       "      <td>Sweatshirt</td>\n",
       "      <td>fulfilled</td>\n",
       "      <td>1</td>\n",
       "    </tr>\n",
       "    <tr>\n",
       "      <th>8</th>\n",
       "      <td>2.004430e+06</td>\n",
       "      <td>29</td>\n",
       "      <td>Gildan</td>\n",
       "      <td>Sweatshirt</td>\n",
       "      <td>shipment_delivered</td>\n",
       "      <td>1</td>\n",
       "    </tr>\n",
       "    <tr>\n",
       "      <th>9</th>\n",
       "      <td>2.255664e+05</td>\n",
       "      <td>25</td>\n",
       "      <td>Bella+Canvas</td>\n",
       "      <td>T-Shirt</td>\n",
       "      <td>shipment_delivered</td>\n",
       "      <td>1</td>\n",
       "    </tr>\n",
       "    <tr>\n",
       "      <th>10</th>\n",
       "      <td>1.750016e+06</td>\n",
       "      <td>30</td>\n",
       "      <td>Generic brand</td>\n",
       "      <td>Mug</td>\n",
       "      <td>on-hold</td>\n",
       "      <td>1</td>\n",
       "    </tr>\n",
       "    <tr>\n",
       "      <th>11</th>\n",
       "      <td>1.750016e+06</td>\n",
       "      <td>30</td>\n",
       "      <td>Generic brand</td>\n",
       "      <td>Mug</td>\n",
       "      <td>on-hold</td>\n",
       "      <td>1</td>\n",
       "    </tr>\n",
       "    <tr>\n",
       "      <th>12</th>\n",
       "      <td>1.750016e+06</td>\n",
       "      <td>30</td>\n",
       "      <td>Generic brand</td>\n",
       "      <td>Mug</td>\n",
       "      <td>on-hold</td>\n",
       "      <td>1</td>\n",
       "    </tr>\n",
       "    <tr>\n",
       "      <th>13</th>\n",
       "      <td>2.797993e+05</td>\n",
       "      <td>25</td>\n",
       "      <td>Bella+Canvas</td>\n",
       "      <td>T-Shirt</td>\n",
       "      <td>shipment_out_for_delivery</td>\n",
       "      <td>1</td>\n",
       "    </tr>\n",
       "    <tr>\n",
       "      <th>14</th>\n",
       "      <td>2.797993e+05</td>\n",
       "      <td>25</td>\n",
       "      <td>Bella+Canvas</td>\n",
       "      <td>T-Shirt</td>\n",
       "      <td>shipment_out_for_delivery</td>\n",
       "      <td>1</td>\n",
       "    </tr>\n",
       "    <tr>\n",
       "      <th>15</th>\n",
       "      <td>2.797993e+05</td>\n",
       "      <td>25</td>\n",
       "      <td>Bella+Canvas</td>\n",
       "      <td>T-Shirt</td>\n",
       "      <td>shipment_out_for_delivery</td>\n",
       "      <td>1</td>\n",
       "    </tr>\n",
       "    <tr>\n",
       "      <th>16</th>\n",
       "      <td>2.797993e+05</td>\n",
       "      <td>25</td>\n",
       "      <td>Bella+Canvas</td>\n",
       "      <td>T-Shirt</td>\n",
       "      <td>shipment_out_for_delivery</td>\n",
       "      <td>1</td>\n",
       "    </tr>\n",
       "    <tr>\n",
       "      <th>17</th>\n",
       "      <td>2.797993e+05</td>\n",
       "      <td>25</td>\n",
       "      <td>Bella+Canvas</td>\n",
       "      <td>T-Shirt</td>\n",
       "      <td>shipment_out_for_delivery</td>\n",
       "      <td>1</td>\n",
       "    </tr>\n",
       "    <tr>\n",
       "      <th>18</th>\n",
       "      <td>1.898294e+06</td>\n",
       "      <td>29</td>\n",
       "      <td>Bella+Canvas</td>\n",
       "      <td>T-Shirt</td>\n",
       "      <td>shipment_delivered</td>\n",
       "      <td>1</td>\n",
       "    </tr>\n",
       "    <tr>\n",
       "      <th>19</th>\n",
       "      <td>1.898294e+06</td>\n",
       "      <td>3</td>\n",
       "      <td>Bella+Canvas</td>\n",
       "      <td>Long-sleeve</td>\n",
       "      <td>shipment_delivered</td>\n",
       "      <td>1</td>\n",
       "    </tr>\n",
       "  </tbody>\n",
       "</table>\n",
       "</div>"
      ],
      "text/plain": [
       "        ORDER_ID  PRINT_PROVIDER_ID  PRODUCT_BRAND  PRODUCT_TYPE  \\\n",
       "0   1.750015e+06                 30  Generic brand           Mug   \n",
       "1   1.750015e+06                 30  Generic brand           Mug   \n",
       "2   1.225155e+06                 16         Gildan  Kids clothes   \n",
       "3   1.828891e+06                 39   Bella+Canvas       T-Shirt   \n",
       "4   1.847848e+06                 10  Generic brand   Accessories   \n",
       "5   1.750016e+06                 30  Generic brand           Mug   \n",
       "6   4.668482e+05                 10  Generic brand          Bags   \n",
       "7   1.569960e+06                 45         Gildan    Sweatshirt   \n",
       "8   2.004430e+06                 29         Gildan    Sweatshirt   \n",
       "9   2.255664e+05                 25   Bella+Canvas       T-Shirt   \n",
       "10  1.750016e+06                 30  Generic brand           Mug   \n",
       "11  1.750016e+06                 30  Generic brand           Mug   \n",
       "12  1.750016e+06                 30  Generic brand           Mug   \n",
       "13  2.797993e+05                 25   Bella+Canvas       T-Shirt   \n",
       "14  2.797993e+05                 25   Bella+Canvas       T-Shirt   \n",
       "15  2.797993e+05                 25   Bella+Canvas       T-Shirt   \n",
       "16  2.797993e+05                 25   Bella+Canvas       T-Shirt   \n",
       "17  2.797993e+05                 25   Bella+Canvas       T-Shirt   \n",
       "18  1.898294e+06                 29   Bella+Canvas       T-Shirt   \n",
       "19  1.898294e+06                  3   Bella+Canvas   Long-sleeve   \n",
       "\n",
       "                  ITEM_STATUS  QUANTITY  \n",
       "0                     on-hold         3  \n",
       "1                     on-hold         2  \n",
       "2          shipment_delivered         1  \n",
       "3          shipment_delivered         1  \n",
       "4          shipment_delivered         1  \n",
       "5                     on-hold         1  \n",
       "6          shipment_delivered         1  \n",
       "7                   fulfilled         1  \n",
       "8          shipment_delivered         1  \n",
       "9          shipment_delivered         1  \n",
       "10                    on-hold         1  \n",
       "11                    on-hold         1  \n",
       "12                    on-hold         1  \n",
       "13  shipment_out_for_delivery         1  \n",
       "14  shipment_out_for_delivery         1  \n",
       "15  shipment_out_for_delivery         1  \n",
       "16  shipment_out_for_delivery         1  \n",
       "17  shipment_out_for_delivery         1  \n",
       "18         shipment_delivered         1  \n",
       "19         shipment_delivered         1  "
      ]
     },
     "execution_count": 46,
     "metadata": {},
     "output_type": "execute_result"
    }
   ],
   "source": [
    "# Read the printify products excel file into pandas dataframe\n",
    "new_line_items = pd.read_excel('Printify_Data_Analyst_homework.xlsx', sheet_name = 'Line items')\n",
    "new_line_items.head(20)"
   ]
  },
  {
   "cell_type": "code",
   "execution_count": 47,
   "id": "8a59a90b",
   "metadata": {},
   "outputs": [
    {
     "name": "stdout",
     "output_type": "stream",
     "text": [
      "<class 'pandas.core.frame.DataFrame'>\n",
      "RangeIndex: 57583 entries, 0 to 57582\n",
      "Data columns (total 6 columns):\n",
      " #   Column             Non-Null Count  Dtype  \n",
      "---  ------             --------------  -----  \n",
      " 0   ORDER_ID           57583 non-null  float64\n",
      " 1   PRINT_PROVIDER_ID  57583 non-null  int64  \n",
      " 2   PRODUCT_BRAND      57583 non-null  object \n",
      " 3   PRODUCT_TYPE       57583 non-null  object \n",
      " 4   ITEM_STATUS        57583 non-null  object \n",
      " 5   QUANTITY           57583 non-null  int64  \n",
      "dtypes: float64(1), int64(2), object(3)\n",
      "memory usage: 2.6+ MB\n"
     ]
    }
   ],
   "source": [
    "new_line_items.info()"
   ]
  },
  {
   "cell_type": "markdown",
   "id": "f7f7cbd3",
   "metadata": {},
   "source": [
    "# Clean The data\n",
    "\n",
    "## line_items cleaning"
   ]
  },
  {
   "cell_type": "code",
   "execution_count": 48,
   "id": "3d7ac07e",
   "metadata": {
    "scrolled": true
   },
   "outputs": [
    {
     "data": {
      "text/html": [
       "<div>\n",
       "<style scoped>\n",
       "    .dataframe tbody tr th:only-of-type {\n",
       "        vertical-align: middle;\n",
       "    }\n",
       "\n",
       "    .dataframe tbody tr th {\n",
       "        vertical-align: top;\n",
       "    }\n",
       "\n",
       "    .dataframe thead th {\n",
       "        text-align: right;\n",
       "    }\n",
       "</style>\n",
       "<table border=\"1\" class=\"dataframe\">\n",
       "  <thead>\n",
       "    <tr style=\"text-align: right;\">\n",
       "      <th></th>\n",
       "      <th>ORDER_ID</th>\n",
       "      <th>PRINT_PROVIDER_ID</th>\n",
       "      <th>PRODUCT_BRAND</th>\n",
       "      <th>PRODUCT_TYPE</th>\n",
       "      <th>ITEM_STATUS</th>\n",
       "      <th>QUANTITY</th>\n",
       "    </tr>\n",
       "  </thead>\n",
       "  <tbody>\n",
       "    <tr>\n",
       "      <th>0</th>\n",
       "      <td>1.750015e+06</td>\n",
       "      <td>30</td>\n",
       "      <td>Generic brand</td>\n",
       "      <td>Mug</td>\n",
       "      <td>on-hold</td>\n",
       "      <td>3</td>\n",
       "    </tr>\n",
       "    <tr>\n",
       "      <th>1</th>\n",
       "      <td>1.750015e+06</td>\n",
       "      <td>30</td>\n",
       "      <td>Generic brand</td>\n",
       "      <td>Mug</td>\n",
       "      <td>on-hold</td>\n",
       "      <td>2</td>\n",
       "    </tr>\n",
       "    <tr>\n",
       "      <th>2</th>\n",
       "      <td>1.225155e+06</td>\n",
       "      <td>16</td>\n",
       "      <td>Gildan</td>\n",
       "      <td>Kids clothes</td>\n",
       "      <td>shipment_delivered</td>\n",
       "      <td>1</td>\n",
       "    </tr>\n",
       "    <tr>\n",
       "      <th>3</th>\n",
       "      <td>1.828891e+06</td>\n",
       "      <td>39</td>\n",
       "      <td>Bella+Canvas</td>\n",
       "      <td>T-Shirt</td>\n",
       "      <td>shipment_delivered</td>\n",
       "      <td>1</td>\n",
       "    </tr>\n",
       "    <tr>\n",
       "      <th>4</th>\n",
       "      <td>1.847848e+06</td>\n",
       "      <td>10</td>\n",
       "      <td>Generic brand</td>\n",
       "      <td>Accessories</td>\n",
       "      <td>shipment_delivered</td>\n",
       "      <td>1</td>\n",
       "    </tr>\n",
       "    <tr>\n",
       "      <th>...</th>\n",
       "      <td>...</td>\n",
       "      <td>...</td>\n",
       "      <td>...</td>\n",
       "      <td>...</td>\n",
       "      <td>...</td>\n",
       "      <td>...</td>\n",
       "    </tr>\n",
       "    <tr>\n",
       "      <th>15616</th>\n",
       "      <td>1.735807e+06</td>\n",
       "      <td>2</td>\n",
       "      <td>Generic brand</td>\n",
       "      <td>Canvas</td>\n",
       "      <td>shipment_delivered</td>\n",
       "      <td>1</td>\n",
       "    </tr>\n",
       "    <tr>\n",
       "      <th>15617</th>\n",
       "      <td>1.732949e+06</td>\n",
       "      <td>26</td>\n",
       "      <td>Gildan</td>\n",
       "      <td>T-Shirt</td>\n",
       "      <td>fulfilled</td>\n",
       "      <td>1</td>\n",
       "    </tr>\n",
       "    <tr>\n",
       "      <th>15618</th>\n",
       "      <td>1.449381e+06</td>\n",
       "      <td>29</td>\n",
       "      <td>Gildan</td>\n",
       "      <td>Sweatshirt</td>\n",
       "      <td>shipment_out_for_delivery</td>\n",
       "      <td>1</td>\n",
       "    </tr>\n",
       "    <tr>\n",
       "      <th>15619</th>\n",
       "      <td>1.735807e+06</td>\n",
       "      <td>48</td>\n",
       "      <td>Generic brand</td>\n",
       "      <td>Mug</td>\n",
       "      <td>shipment_delivered</td>\n",
       "      <td>1</td>\n",
       "    </tr>\n",
       "    <tr>\n",
       "      <th>15620</th>\n",
       "      <td>1.735807e+06</td>\n",
       "      <td>2</td>\n",
       "      <td>Generic brand</td>\n",
       "      <td>Canvas</td>\n",
       "      <td>shipment_delivered</td>\n",
       "      <td>1</td>\n",
       "    </tr>\n",
       "  </tbody>\n",
       "</table>\n",
       "<p>15621 rows × 6 columns</p>\n",
       "</div>"
      ],
      "text/plain": [
       "           ORDER_ID  PRINT_PROVIDER_ID  PRODUCT_BRAND  PRODUCT_TYPE  \\\n",
       "0      1.750015e+06                 30  Generic brand           Mug   \n",
       "1      1.750015e+06                 30  Generic brand           Mug   \n",
       "2      1.225155e+06                 16         Gildan  Kids clothes   \n",
       "3      1.828891e+06                 39   Bella+Canvas       T-Shirt   \n",
       "4      1.847848e+06                 10  Generic brand   Accessories   \n",
       "...             ...                ...            ...           ...   \n",
       "15616  1.735807e+06                  2  Generic brand        Canvas   \n",
       "15617  1.732949e+06                 26         Gildan       T-Shirt   \n",
       "15618  1.449381e+06                 29         Gildan    Sweatshirt   \n",
       "15619  1.735807e+06                 48  Generic brand           Mug   \n",
       "15620  1.735807e+06                  2  Generic brand        Canvas   \n",
       "\n",
       "                     ITEM_STATUS  QUANTITY  \n",
       "0                        on-hold         3  \n",
       "1                        on-hold         2  \n",
       "2             shipment_delivered         1  \n",
       "3             shipment_delivered         1  \n",
       "4             shipment_delivered         1  \n",
       "...                          ...       ...  \n",
       "15616         shipment_delivered         1  \n",
       "15617                  fulfilled         1  \n",
       "15618  shipment_out_for_delivery         1  \n",
       "15619         shipment_delivered         1  \n",
       "15620         shipment_delivered         1  \n",
       "\n",
       "[15621 rows x 6 columns]"
      ]
     },
     "execution_count": 48,
     "metadata": {},
     "output_type": "execute_result"
    }
   ],
   "source": [
    "# Remove duplicates \n",
    "line_items = new_line_items.drop_duplicates(subset=['ORDER_ID', 'PRINT_PROVIDER_ID', 'PRODUCT_BRAND', 'PRODUCT_TYPE', 'ITEM_STATUS'])\n",
    "\n",
    "# DOn't remove orders with similar characteristics except quantity\n",
    "#line_items = new_line_items.drop_duplicates(subset=['ORDER_ID', 'PRINT_PROVIDER_ID', 'PRODUCT_BRAND', 'PRODUCT_TYPE', 'ITEM_STATUS', 'QUANTITY'])\n",
    "line_items.reset_index(drop=True, inplace=True)\n",
    "line_items"
   ]
  },
  {
   "cell_type": "code",
   "execution_count": null,
   "id": "5038ab02",
   "metadata": {},
   "outputs": [],
   "source": []
  },
  {
   "cell_type": "markdown",
   "id": "3e6d1aa8",
   "metadata": {},
   "source": [
    "## Orders cleaning"
   ]
  },
  {
   "cell_type": "code",
   "execution_count": 49,
   "id": "b0000788",
   "metadata": {
    "scrolled": true
   },
   "outputs": [
    {
     "data": {
      "text/html": [
       "<div>\n",
       "<style scoped>\n",
       "    .dataframe tbody tr th:only-of-type {\n",
       "        vertical-align: middle;\n",
       "    }\n",
       "\n",
       "    .dataframe tbody tr th {\n",
       "        vertical-align: top;\n",
       "    }\n",
       "\n",
       "    .dataframe thead th {\n",
       "        text-align: right;\n",
       "    }\n",
       "</style>\n",
       "<table border=\"1\" class=\"dataframe\">\n",
       "  <thead>\n",
       "    <tr style=\"text-align: right;\">\n",
       "      <th></th>\n",
       "      <th>MERCHANT_ID</th>\n",
       "      <th>ORDER_ID</th>\n",
       "      <th>SHOP_ID</th>\n",
       "      <th>ADDRESS_TO_COUNTRY</th>\n",
       "      <th>ADDRESS_TO_REGION</th>\n",
       "      <th>ORDER_DT</th>\n",
       "      <th>FULFILLED_DT</th>\n",
       "      <th>REPRINT_FLAG</th>\n",
       "      <th>SALES_CHANNEL_TYPE_ID</th>\n",
       "      <th>TOTAL_COST</th>\n",
       "      <th>TOTAL_SHIPPING</th>\n",
       "      <th>MERCHANT_REGISTERED_DT</th>\n",
       "      <th>SUB_IS_ACTIVE_FLAG</th>\n",
       "      <th>SUB_PLAN</th>\n",
       "      <th>SHIPMENT_CARRIER</th>\n",
       "      <th>SHIPMENT_DELIVERD_DT</th>\n",
       "    </tr>\n",
       "  </thead>\n",
       "  <tbody>\n",
       "    <tr>\n",
       "      <th>537</th>\n",
       "      <td>5868230</td>\n",
       "      <td>3.635962e+05</td>\n",
       "      <td>363596</td>\n",
       "      <td>US</td>\n",
       "      <td>VI</td>\n",
       "      <td>2020-11-18 19:36:02</td>\n",
       "      <td>2020-11-19 15:23:46</td>\n",
       "      <td>NaN</td>\n",
       "      <td>2</td>\n",
       "      <td>9533</td>\n",
       "      <td>2616</td>\n",
       "      <td>2018-01-16 11:29:38</td>\n",
       "      <td>True</td>\n",
       "      <td>business_account_3</td>\n",
       "      <td>USPS</td>\n",
       "      <td>2020-11-24 17:34:42</td>\n",
       "    </tr>\n",
       "    <tr>\n",
       "      <th>538</th>\n",
       "      <td>5868230</td>\n",
       "      <td>3.635962e+05</td>\n",
       "      <td>363596</td>\n",
       "      <td>US</td>\n",
       "      <td>VI</td>\n",
       "      <td>2020-11-18 19:36:02</td>\n",
       "      <td>2020-11-19 15:23:46</td>\n",
       "      <td>NaN</td>\n",
       "      <td>2</td>\n",
       "      <td>9533</td>\n",
       "      <td>2616</td>\n",
       "      <td>2018-01-16 11:29:38</td>\n",
       "      <td>True</td>\n",
       "      <td>business_account_3</td>\n",
       "      <td>USPS</td>\n",
       "      <td>2020-11-28 16:51:06</td>\n",
       "    </tr>\n",
       "    <tr>\n",
       "      <th>5436</th>\n",
       "      <td>6118692</td>\n",
       "      <td>5.160665e+05</td>\n",
       "      <td>516066</td>\n",
       "      <td>US</td>\n",
       "      <td>MD</td>\n",
       "      <td>2020-10-11 04:30:55</td>\n",
       "      <td>2020-10-13 01:11:15</td>\n",
       "      <td>NaN</td>\n",
       "      <td>1</td>\n",
       "      <td>1979</td>\n",
       "      <td>850</td>\n",
       "      <td>2018-09-13 12:23:50</td>\n",
       "      <td>True</td>\n",
       "      <td>business_account_3</td>\n",
       "      <td>USPS</td>\n",
       "      <td>2020-10-16 19:44:40</td>\n",
       "    </tr>\n",
       "    <tr>\n",
       "      <th>5437</th>\n",
       "      <td>6118692</td>\n",
       "      <td>5.160665e+05</td>\n",
       "      <td>516066</td>\n",
       "      <td>US</td>\n",
       "      <td>MD</td>\n",
       "      <td>2020-10-11 04:30:55</td>\n",
       "      <td>2020-10-13 01:11:15</td>\n",
       "      <td>NaN</td>\n",
       "      <td>1</td>\n",
       "      <td>1979</td>\n",
       "      <td>850</td>\n",
       "      <td>2018-09-13 12:23:50</td>\n",
       "      <td>True</td>\n",
       "      <td>business_account_3</td>\n",
       "      <td>UPS_MAIL_INNOVATIONS</td>\n",
       "      <td>2020-10-19 19:21:56</td>\n",
       "    </tr>\n",
       "    <tr>\n",
       "      <th>13</th>\n",
       "      <td>6314037</td>\n",
       "      <td>7.521543e+05</td>\n",
       "      <td>752154</td>\n",
       "      <td>US</td>\n",
       "      <td>WA</td>\n",
       "      <td>2020-10-03 13:05:53</td>\n",
       "      <td>2020-10-07 20:20:59</td>\n",
       "      <td>NaN</td>\n",
       "      <td>2</td>\n",
       "      <td>14732</td>\n",
       "      <td>3884</td>\n",
       "      <td>2019-01-25 17:38:56</td>\n",
       "      <td>False</td>\n",
       "      <td>business_account_3</td>\n",
       "      <td>USPS</td>\n",
       "      <td>2020-10-09 21:38:49</td>\n",
       "    </tr>\n",
       "    <tr>\n",
       "      <th>14</th>\n",
       "      <td>6314037</td>\n",
       "      <td>7.521543e+05</td>\n",
       "      <td>752154</td>\n",
       "      <td>US</td>\n",
       "      <td>WA</td>\n",
       "      <td>2020-10-03 13:05:53</td>\n",
       "      <td>2020-10-07 20:20:59</td>\n",
       "      <td>NaN</td>\n",
       "      <td>2</td>\n",
       "      <td>14732</td>\n",
       "      <td>3884</td>\n",
       "      <td>2019-01-25 17:38:56</td>\n",
       "      <td>False</td>\n",
       "      <td>business_account_3</td>\n",
       "      <td>NaN</td>\n",
       "      <td>NaT</td>\n",
       "    </tr>\n",
       "    <tr>\n",
       "      <th>7502</th>\n",
       "      <td>7016547</td>\n",
       "      <td>1.555863e+06</td>\n",
       "      <td>1555863</td>\n",
       "      <td>US</td>\n",
       "      <td>TX</td>\n",
       "      <td>2020-10-29 22:10:53</td>\n",
       "      <td>2020-11-02 18:07:59</td>\n",
       "      <td>NaN</td>\n",
       "      <td>1</td>\n",
       "      <td>167</td>\n",
       "      <td>350</td>\n",
       "      <td>2020-02-17 23:36:26</td>\n",
       "      <td>True</td>\n",
       "      <td>business_account_3</td>\n",
       "      <td>USPS</td>\n",
       "      <td>2020-11-05 20:05:27</td>\n",
       "    </tr>\n",
       "    <tr>\n",
       "      <th>5285</th>\n",
       "      <td>7016547</td>\n",
       "      <td>1.555863e+06</td>\n",
       "      <td>1555863</td>\n",
       "      <td>US</td>\n",
       "      <td>LA</td>\n",
       "      <td>2020-10-11 01:33:06</td>\n",
       "      <td>2020-10-14 21:42:00</td>\n",
       "      <td>NaN</td>\n",
       "      <td>1</td>\n",
       "      <td>103</td>\n",
       "      <td>350</td>\n",
       "      <td>2020-02-17 23:36:26</td>\n",
       "      <td>True</td>\n",
       "      <td>business_account_3</td>\n",
       "      <td>NaN</td>\n",
       "      <td>NaT</td>\n",
       "    </tr>\n",
       "    <tr>\n",
       "      <th>6069</th>\n",
       "      <td>7223323</td>\n",
       "      <td>1.820693e+06</td>\n",
       "      <td>1820693</td>\n",
       "      <td>US</td>\n",
       "      <td>SC</td>\n",
       "      <td>2020-11-04 04:20:21</td>\n",
       "      <td>2020-11-09 18:34:04</td>\n",
       "      <td>NaN</td>\n",
       "      <td>3</td>\n",
       "      <td>6855</td>\n",
       "      <td>2624</td>\n",
       "      <td>2020-07-06 19:27:58</td>\n",
       "      <td>True</td>\n",
       "      <td>business_account_3</td>\n",
       "      <td>USPS</td>\n",
       "      <td>2020-11-09 22:02:28</td>\n",
       "    </tr>\n",
       "    <tr>\n",
       "      <th>6070</th>\n",
       "      <td>7223323</td>\n",
       "      <td>1.820693e+06</td>\n",
       "      <td>1820693</td>\n",
       "      <td>US</td>\n",
       "      <td>SC</td>\n",
       "      <td>2020-11-04 04:20:21</td>\n",
       "      <td>2020-11-09 18:34:04</td>\n",
       "      <td>NaN</td>\n",
       "      <td>3</td>\n",
       "      <td>6855</td>\n",
       "      <td>2624</td>\n",
       "      <td>2020-07-06 19:27:58</td>\n",
       "      <td>True</td>\n",
       "      <td>business_account_3</td>\n",
       "      <td>USPS</td>\n",
       "      <td>2020-11-13 20:28:54</td>\n",
       "    </tr>\n",
       "    <tr>\n",
       "      <th>9320</th>\n",
       "      <td>7368224</td>\n",
       "      <td>1.996849e+06</td>\n",
       "      <td>1996849</td>\n",
       "      <td>US</td>\n",
       "      <td>MD</td>\n",
       "      <td>2020-11-13 21:20:55</td>\n",
       "      <td>2020-11-15 15:34:18</td>\n",
       "      <td>NaN</td>\n",
       "      <td>4</td>\n",
       "      <td>1070</td>\n",
       "      <td>524</td>\n",
       "      <td>2020-09-03 16:42:53</td>\n",
       "      <td>True</td>\n",
       "      <td>business_account_3</td>\n",
       "      <td>USPS</td>\n",
       "      <td>2020-11-18 21:06:22</td>\n",
       "    </tr>\n",
       "    <tr>\n",
       "      <th>8099</th>\n",
       "      <td>7368224</td>\n",
       "      <td>1.996849e+06</td>\n",
       "      <td>1996849</td>\n",
       "      <td>US</td>\n",
       "      <td>NC</td>\n",
       "      <td>2020-12-27 12:42:36</td>\n",
       "      <td>2020-12-29 22:49:17</td>\n",
       "      <td>NaN</td>\n",
       "      <td>4</td>\n",
       "      <td>491</td>\n",
       "      <td>424</td>\n",
       "      <td>2020-09-03 16:42:53</td>\n",
       "      <td>True</td>\n",
       "      <td>business_account_3</td>\n",
       "      <td>USPS</td>\n",
       "      <td>2021-01-08 18:39:25</td>\n",
       "    </tr>\n",
       "    <tr>\n",
       "      <th>10989</th>\n",
       "      <td>7383862</td>\n",
       "      <td>2.015444e+06</td>\n",
       "      <td>2015444</td>\n",
       "      <td>US</td>\n",
       "      <td>PA</td>\n",
       "      <td>2020-12-24 13:53:24</td>\n",
       "      <td>2021-01-21 23:56:17</td>\n",
       "      <td>NaN</td>\n",
       "      <td>2</td>\n",
       "      <td>28172</td>\n",
       "      <td>7480</td>\n",
       "      <td>2020-09-09 21:25:29</td>\n",
       "      <td>True</td>\n",
       "      <td>business_account_3</td>\n",
       "      <td>USPS</td>\n",
       "      <td>2021-01-11 16:36:38</td>\n",
       "    </tr>\n",
       "    <tr>\n",
       "      <th>10990</th>\n",
       "      <td>7383862</td>\n",
       "      <td>2.015444e+06</td>\n",
       "      <td>2015444</td>\n",
       "      <td>US</td>\n",
       "      <td>PA</td>\n",
       "      <td>2020-12-24 13:53:24</td>\n",
       "      <td>2021-01-21 23:56:17</td>\n",
       "      <td>NaN</td>\n",
       "      <td>2</td>\n",
       "      <td>28172</td>\n",
       "      <td>7480</td>\n",
       "      <td>2020-09-09 21:25:29</td>\n",
       "      <td>True</td>\n",
       "      <td>business_account_3</td>\n",
       "      <td>USPS</td>\n",
       "      <td>NaT</td>\n",
       "    </tr>\n",
       "    <tr>\n",
       "      <th>1535</th>\n",
       "      <td>7439351</td>\n",
       "      <td>2.078441e+06</td>\n",
       "      <td>2078441</td>\n",
       "      <td>US</td>\n",
       "      <td>IA</td>\n",
       "      <td>2020-10-03 21:37:34</td>\n",
       "      <td>2020-10-20 08:02:12</td>\n",
       "      <td>NaN</td>\n",
       "      <td>2</td>\n",
       "      <td>3664</td>\n",
       "      <td>1700</td>\n",
       "      <td>2020-09-23 23:42:43</td>\n",
       "      <td>False</td>\n",
       "      <td>NaN</td>\n",
       "      <td>USPS</td>\n",
       "      <td>2020-10-20 08:11:09</td>\n",
       "    </tr>\n",
       "    <tr>\n",
       "      <th>1534</th>\n",
       "      <td>7439351</td>\n",
       "      <td>2.078441e+06</td>\n",
       "      <td>2078441</td>\n",
       "      <td>US</td>\n",
       "      <td>IA</td>\n",
       "      <td>2020-10-03 21:37:34</td>\n",
       "      <td>2020-10-20 08:02:12</td>\n",
       "      <td>NaN</td>\n",
       "      <td>2</td>\n",
       "      <td>3664</td>\n",
       "      <td>1700</td>\n",
       "      <td>2020-09-23 23:42:43</td>\n",
       "      <td>False</td>\n",
       "      <td>NaN</td>\n",
       "      <td>USPS</td>\n",
       "      <td>2020-10-08 19:47:38</td>\n",
       "    </tr>\n",
       "    <tr>\n",
       "      <th>7321</th>\n",
       "      <td>7476675</td>\n",
       "      <td>2.119858e+06</td>\n",
       "      <td>2119857</td>\n",
       "      <td>US</td>\n",
       "      <td>OH</td>\n",
       "      <td>2020-11-25 07:39:40</td>\n",
       "      <td>2020-11-26 20:37:35</td>\n",
       "      <td>NaN</td>\n",
       "      <td>4</td>\n",
       "      <td>609</td>\n",
       "      <td>424</td>\n",
       "      <td>2020-10-01 08:44:55</td>\n",
       "      <td>False</td>\n",
       "      <td>NaN</td>\n",
       "      <td>USPS</td>\n",
       "      <td>2020-12-08 16:33:58</td>\n",
       "    </tr>\n",
       "    <tr>\n",
       "      <th>12579</th>\n",
       "      <td>7476675</td>\n",
       "      <td>2.119858e+06</td>\n",
       "      <td>2119857</td>\n",
       "      <td>US</td>\n",
       "      <td>TX</td>\n",
       "      <td>2020-10-28 18:46:53</td>\n",
       "      <td>2020-10-29 18:58:29</td>\n",
       "      <td>NaN</td>\n",
       "      <td>4</td>\n",
       "      <td>739</td>\n",
       "      <td>400</td>\n",
       "      <td>2020-10-01 08:44:55</td>\n",
       "      <td>False</td>\n",
       "      <td>NaN</td>\n",
       "      <td>USPS</td>\n",
       "      <td>2020-11-02 19:33:48</td>\n",
       "    </tr>\n",
       "    <tr>\n",
       "      <th>5851</th>\n",
       "      <td>7559003</td>\n",
       "      <td>2.229889e+06</td>\n",
       "      <td>2229889</td>\n",
       "      <td>FR</td>\n",
       "      <td>NaN</td>\n",
       "      <td>2020-11-12 01:43:43</td>\n",
       "      <td>2020-11-21 08:40:59</td>\n",
       "      <td>NaN</td>\n",
       "      <td>6</td>\n",
       "      <td>478</td>\n",
       "      <td>800</td>\n",
       "      <td>2020-10-28 09:58:01</td>\n",
       "      <td>True</td>\n",
       "      <td>business_account_3</td>\n",
       "      <td>unknown</td>\n",
       "      <td>NaT</td>\n",
       "    </tr>\n",
       "    <tr>\n",
       "      <th>4722</th>\n",
       "      <td>7559003</td>\n",
       "      <td>2.229889e+06</td>\n",
       "      <td>2229889</td>\n",
       "      <td>FR</td>\n",
       "      <td>NaN</td>\n",
       "      <td>2020-12-03 02:27:39</td>\n",
       "      <td>2020-12-09 17:15:58</td>\n",
       "      <td>NaN</td>\n",
       "      <td>6</td>\n",
       "      <td>333</td>\n",
       "      <td>1000</td>\n",
       "      <td>2020-10-28 09:58:01</td>\n",
       "      <td>True</td>\n",
       "      <td>business_account_3</td>\n",
       "      <td>NaN</td>\n",
       "      <td>NaT</td>\n",
       "    </tr>\n",
       "    <tr>\n",
       "      <th>10478</th>\n",
       "      <td>7572140</td>\n",
       "      <td>2.232641e+06</td>\n",
       "      <td>2232640</td>\n",
       "      <td>US</td>\n",
       "      <td>IN</td>\n",
       "      <td>2020-12-07 18:36:13</td>\n",
       "      <td>NaT</td>\n",
       "      <td>NaN</td>\n",
       "      <td>2</td>\n",
       "      <td>0</td>\n",
       "      <td>0</td>\n",
       "      <td>2020-11-02 15:41:56</td>\n",
       "      <td>True</td>\n",
       "      <td>business_account_3</td>\n",
       "      <td>NaN</td>\n",
       "      <td>NaT</td>\n",
       "    </tr>\n",
       "    <tr>\n",
       "      <th>10479</th>\n",
       "      <td>7572140</td>\n",
       "      <td>2.232641e+06</td>\n",
       "      <td>2232640</td>\n",
       "      <td>US</td>\n",
       "      <td>IN</td>\n",
       "      <td>2020-11-05 18:13:25</td>\n",
       "      <td>NaT</td>\n",
       "      <td>NaN</td>\n",
       "      <td>2</td>\n",
       "      <td>0</td>\n",
       "      <td>0</td>\n",
       "      <td>2020-11-02 15:41:56</td>\n",
       "      <td>True</td>\n",
       "      <td>business_account_3</td>\n",
       "      <td>NaN</td>\n",
       "      <td>NaT</td>\n",
       "    </tr>\n",
       "  </tbody>\n",
       "</table>\n",
       "</div>"
      ],
      "text/plain": [
       "       MERCHANT_ID      ORDER_ID  SHOP_ID ADDRESS_TO_COUNTRY  \\\n",
       "537        5868230  3.635962e+05   363596                 US   \n",
       "538        5868230  3.635962e+05   363596                 US   \n",
       "5436       6118692  5.160665e+05   516066                 US   \n",
       "5437       6118692  5.160665e+05   516066                 US   \n",
       "13         6314037  7.521543e+05   752154                 US   \n",
       "14         6314037  7.521543e+05   752154                 US   \n",
       "7502       7016547  1.555863e+06  1555863                 US   \n",
       "5285       7016547  1.555863e+06  1555863                 US   \n",
       "6069       7223323  1.820693e+06  1820693                 US   \n",
       "6070       7223323  1.820693e+06  1820693                 US   \n",
       "9320       7368224  1.996849e+06  1996849                 US   \n",
       "8099       7368224  1.996849e+06  1996849                 US   \n",
       "10989      7383862  2.015444e+06  2015444                 US   \n",
       "10990      7383862  2.015444e+06  2015444                 US   \n",
       "1535       7439351  2.078441e+06  2078441                 US   \n",
       "1534       7439351  2.078441e+06  2078441                 US   \n",
       "7321       7476675  2.119858e+06  2119857                 US   \n",
       "12579      7476675  2.119858e+06  2119857                 US   \n",
       "5851       7559003  2.229889e+06  2229889                 FR   \n",
       "4722       7559003  2.229889e+06  2229889                 FR   \n",
       "10478      7572140  2.232641e+06  2232640                 US   \n",
       "10479      7572140  2.232641e+06  2232640                 US   \n",
       "\n",
       "      ADDRESS_TO_REGION            ORDER_DT        FULFILLED_DT  REPRINT_FLAG  \\\n",
       "537                  VI 2020-11-18 19:36:02 2020-11-19 15:23:46           NaN   \n",
       "538                  VI 2020-11-18 19:36:02 2020-11-19 15:23:46           NaN   \n",
       "5436                 MD 2020-10-11 04:30:55 2020-10-13 01:11:15           NaN   \n",
       "5437                 MD 2020-10-11 04:30:55 2020-10-13 01:11:15           NaN   \n",
       "13                   WA 2020-10-03 13:05:53 2020-10-07 20:20:59           NaN   \n",
       "14                   WA 2020-10-03 13:05:53 2020-10-07 20:20:59           NaN   \n",
       "7502                 TX 2020-10-29 22:10:53 2020-11-02 18:07:59           NaN   \n",
       "5285                 LA 2020-10-11 01:33:06 2020-10-14 21:42:00           NaN   \n",
       "6069                 SC 2020-11-04 04:20:21 2020-11-09 18:34:04           NaN   \n",
       "6070                 SC 2020-11-04 04:20:21 2020-11-09 18:34:04           NaN   \n",
       "9320                 MD 2020-11-13 21:20:55 2020-11-15 15:34:18           NaN   \n",
       "8099                 NC 2020-12-27 12:42:36 2020-12-29 22:49:17           NaN   \n",
       "10989                PA 2020-12-24 13:53:24 2021-01-21 23:56:17           NaN   \n",
       "10990                PA 2020-12-24 13:53:24 2021-01-21 23:56:17           NaN   \n",
       "1535                 IA 2020-10-03 21:37:34 2020-10-20 08:02:12           NaN   \n",
       "1534                 IA 2020-10-03 21:37:34 2020-10-20 08:02:12           NaN   \n",
       "7321                 OH 2020-11-25 07:39:40 2020-11-26 20:37:35           NaN   \n",
       "12579                TX 2020-10-28 18:46:53 2020-10-29 18:58:29           NaN   \n",
       "5851                NaN 2020-11-12 01:43:43 2020-11-21 08:40:59           NaN   \n",
       "4722                NaN 2020-12-03 02:27:39 2020-12-09 17:15:58           NaN   \n",
       "10478                IN 2020-12-07 18:36:13                 NaT           NaN   \n",
       "10479                IN 2020-11-05 18:13:25                 NaT           NaN   \n",
       "\n",
       "       SALES_CHANNEL_TYPE_ID  TOTAL_COST  TOTAL_SHIPPING  \\\n",
       "537                        2        9533            2616   \n",
       "538                        2        9533            2616   \n",
       "5436                       1        1979             850   \n",
       "5437                       1        1979             850   \n",
       "13                         2       14732            3884   \n",
       "14                         2       14732            3884   \n",
       "7502                       1         167             350   \n",
       "5285                       1         103             350   \n",
       "6069                       3        6855            2624   \n",
       "6070                       3        6855            2624   \n",
       "9320                       4        1070             524   \n",
       "8099                       4         491             424   \n",
       "10989                      2       28172            7480   \n",
       "10990                      2       28172            7480   \n",
       "1535                       2        3664            1700   \n",
       "1534                       2        3664            1700   \n",
       "7321                       4         609             424   \n",
       "12579                      4         739             400   \n",
       "5851                       6         478             800   \n",
       "4722                       6         333            1000   \n",
       "10478                      2           0               0   \n",
       "10479                      2           0               0   \n",
       "\n",
       "      MERCHANT_REGISTERED_DT  SUB_IS_ACTIVE_FLAG            SUB_PLAN  \\\n",
       "537      2018-01-16 11:29:38                True  business_account_3   \n",
       "538      2018-01-16 11:29:38                True  business_account_3   \n",
       "5436     2018-09-13 12:23:50                True  business_account_3   \n",
       "5437     2018-09-13 12:23:50                True  business_account_3   \n",
       "13       2019-01-25 17:38:56               False  business_account_3   \n",
       "14       2019-01-25 17:38:56               False  business_account_3   \n",
       "7502     2020-02-17 23:36:26                True  business_account_3   \n",
       "5285     2020-02-17 23:36:26                True  business_account_3   \n",
       "6069     2020-07-06 19:27:58                True  business_account_3   \n",
       "6070     2020-07-06 19:27:58                True  business_account_3   \n",
       "9320     2020-09-03 16:42:53                True  business_account_3   \n",
       "8099     2020-09-03 16:42:53                True  business_account_3   \n",
       "10989    2020-09-09 21:25:29                True  business_account_3   \n",
       "10990    2020-09-09 21:25:29                True  business_account_3   \n",
       "1535     2020-09-23 23:42:43               False                 NaN   \n",
       "1534     2020-09-23 23:42:43               False                 NaN   \n",
       "7321     2020-10-01 08:44:55               False                 NaN   \n",
       "12579    2020-10-01 08:44:55               False                 NaN   \n",
       "5851     2020-10-28 09:58:01                True  business_account_3   \n",
       "4722     2020-10-28 09:58:01                True  business_account_3   \n",
       "10478    2020-11-02 15:41:56                True  business_account_3   \n",
       "10479    2020-11-02 15:41:56                True  business_account_3   \n",
       "\n",
       "           SHIPMENT_CARRIER SHIPMENT_DELIVERD_DT  \n",
       "537                    USPS  2020-11-24 17:34:42  \n",
       "538                    USPS  2020-11-28 16:51:06  \n",
       "5436                   USPS  2020-10-16 19:44:40  \n",
       "5437   UPS_MAIL_INNOVATIONS  2020-10-19 19:21:56  \n",
       "13                     USPS  2020-10-09 21:38:49  \n",
       "14                      NaN                  NaT  \n",
       "7502                   USPS  2020-11-05 20:05:27  \n",
       "5285                    NaN                  NaT  \n",
       "6069                   USPS  2020-11-09 22:02:28  \n",
       "6070                   USPS  2020-11-13 20:28:54  \n",
       "9320                   USPS  2020-11-18 21:06:22  \n",
       "8099                   USPS  2021-01-08 18:39:25  \n",
       "10989                  USPS  2021-01-11 16:36:38  \n",
       "10990                  USPS                  NaT  \n",
       "1535                   USPS  2020-10-20 08:11:09  \n",
       "1534                   USPS  2020-10-08 19:47:38  \n",
       "7321                   USPS  2020-12-08 16:33:58  \n",
       "12579                  USPS  2020-11-02 19:33:48  \n",
       "5851                unknown                  NaT  \n",
       "4722                    NaN                  NaT  \n",
       "10478                   NaN                  NaT  \n",
       "10479                   NaN                  NaT  "
      ]
     },
     "execution_count": 49,
     "metadata": {},
     "output_type": "execute_result"
    }
   ],
   "source": [
    "# First rows encounter with duplicated order_id \n",
    "duplicate_orders1 = orders[orders['ORDER_ID'].duplicated(keep='last')]\n",
    "duplicate_orders1\n",
    "\n",
    "# Second rows encounter with duplicated order_id \n",
    "duplicate_orders2 = orders[orders['ORDER_ID'].duplicated(keep='first')]\n",
    "duplicate_orders2\n",
    "\n",
    "# Combine the duplicated rows into one dataframe for closer comparison\n",
    "duplicates = pd.concat([duplicate_orders1, duplicate_orders2]).sort_values(by=['MERCHANT_ID'])\n",
    "duplicates"
   ]
  },
  {
   "cell_type": "code",
   "execution_count": 50,
   "id": "f741dcfc",
   "metadata": {},
   "outputs": [],
   "source": [
    "orders.drop_duplicates(subset=['MERCHANT_ID', 'ORDER_ID'], \n",
    "                               inplace=True, keep='last')"
   ]
  },
  {
   "cell_type": "code",
   "execution_count": 51,
   "id": "eb997700",
   "metadata": {},
   "outputs": [],
   "source": [
    "# Not complete in removing the errors\n",
    "orders.drop_duplicates(subset=['MERCHANT_ID', 'ORDER_ID', \n",
    "                               'SHOP_ID', 'ADDRESS_TO_COUNTRY', \n",
    "                               'ADDRESS_TO_REGION','ORDER_DT',\n",
    "                               'FULFILLED_DT','REPRINT_FLAG',\n",
    "                               'SALES_CHANNEL_TYPE_ID',\n",
    "                               'TOTAL_COST','TOTAL_SHIPPING',\n",
    "                               'MERCHANT_REGISTERED_DT',\n",
    "                               'SUB_IS_ACTIVE_FLAG','SUB_PLAN', \n",
    "                               'SHIPMENT_CARRIER'], inplace=True,\n",
    "                                  keep='last')\n",
    "orders.reset_index(drop=True, inplace=True)"
   ]
  },
  {
   "cell_type": "code",
   "execution_count": 52,
   "id": "79e9b2ae",
   "metadata": {
    "scrolled": true
   },
   "outputs": [
    {
     "data": {
      "text/html": [
       "<div>\n",
       "<style scoped>\n",
       "    .dataframe tbody tr th:only-of-type {\n",
       "        vertical-align: middle;\n",
       "    }\n",
       "\n",
       "    .dataframe tbody tr th {\n",
       "        vertical-align: top;\n",
       "    }\n",
       "\n",
       "    .dataframe thead th {\n",
       "        text-align: right;\n",
       "    }\n",
       "</style>\n",
       "<table border=\"1\" class=\"dataframe\">\n",
       "  <thead>\n",
       "    <tr style=\"text-align: right;\">\n",
       "      <th></th>\n",
       "      <th>MERCHANT_ID</th>\n",
       "      <th>ORDER_ID</th>\n",
       "      <th>SHOP_ID</th>\n",
       "      <th>ADDRESS_TO_COUNTRY</th>\n",
       "      <th>ADDRESS_TO_REGION</th>\n",
       "      <th>ORDER_DT</th>\n",
       "      <th>FULFILLED_DT</th>\n",
       "      <th>REPRINT_FLAG</th>\n",
       "      <th>SALES_CHANNEL_TYPE_ID</th>\n",
       "      <th>TOTAL_COST</th>\n",
       "      <th>TOTAL_SHIPPING</th>\n",
       "      <th>MERCHANT_REGISTERED_DT</th>\n",
       "      <th>SUB_IS_ACTIVE_FLAG</th>\n",
       "      <th>SUB_PLAN</th>\n",
       "      <th>SHIPMENT_CARRIER</th>\n",
       "      <th>SHIPMENT_DELIVERD_DT</th>\n",
       "    </tr>\n",
       "  </thead>\n",
       "  <tbody>\n",
       "    <tr>\n",
       "      <th>0</th>\n",
       "      <td>7143578</td>\n",
       "      <td>2.013244e+06</td>\n",
       "      <td>2013244</td>\n",
       "      <td>US</td>\n",
       "      <td>WA</td>\n",
       "      <td>2020-10-02 19:30:15</td>\n",
       "      <td>2020-10-20 07:53:06</td>\n",
       "      <td>NaN</td>\n",
       "      <td>9</td>\n",
       "      <td>2902</td>\n",
       "      <td>2200</td>\n",
       "      <td>2020-05-19 15:22:57</td>\n",
       "      <td>True</td>\n",
       "      <td>business_account_3</td>\n",
       "      <td>UPS</td>\n",
       "      <td>2020-10-08 21:07:29</td>\n",
       "    </tr>\n",
       "    <tr>\n",
       "      <th>1</th>\n",
       "      <td>5888534</td>\n",
       "      <td>1.358430e+06</td>\n",
       "      <td>1358429</td>\n",
       "      <td>US</td>\n",
       "      <td>MN</td>\n",
       "      <td>2020-11-21 05:19:03</td>\n",
       "      <td>2020-11-23 00:23:32</td>\n",
       "      <td>NaN</td>\n",
       "      <td>4</td>\n",
       "      <td>1149</td>\n",
       "      <td>924</td>\n",
       "      <td>2018-02-08 07:34:02</td>\n",
       "      <td>True</td>\n",
       "      <td>business_account_3</td>\n",
       "      <td>USPS</td>\n",
       "      <td>2020-11-28 21:50:56</td>\n",
       "    </tr>\n",
       "    <tr>\n",
       "      <th>2</th>\n",
       "      <td>6484224</td>\n",
       "      <td>9.393902e+05</td>\n",
       "      <td>939390</td>\n",
       "      <td>US</td>\n",
       "      <td>AK</td>\n",
       "      <td>2020-10-25 01:39:08</td>\n",
       "      <td>2020-10-26 20:30:53</td>\n",
       "      <td>NaN</td>\n",
       "      <td>1</td>\n",
       "      <td>977</td>\n",
       "      <td>400</td>\n",
       "      <td>2019-04-09 20:02:46</td>\n",
       "      <td>True</td>\n",
       "      <td>business_account_3</td>\n",
       "      <td>USPS</td>\n",
       "      <td>2020-11-02 23:37:54</td>\n",
       "    </tr>\n",
       "    <tr>\n",
       "      <th>3</th>\n",
       "      <td>7251033</td>\n",
       "      <td>1.856107e+06</td>\n",
       "      <td>1856107</td>\n",
       "      <td>US</td>\n",
       "      <td>PA</td>\n",
       "      <td>2020-10-08 16:35:21</td>\n",
       "      <td>2020-10-10 15:02:47</td>\n",
       "      <td>NaN</td>\n",
       "      <td>1</td>\n",
       "      <td>661</td>\n",
       "      <td>800</td>\n",
       "      <td>2020-07-20 17:04:41</td>\n",
       "      <td>True</td>\n",
       "      <td>business_account_3</td>\n",
       "      <td>UPS</td>\n",
       "      <td>2020-10-15 18:08:37</td>\n",
       "    </tr>\n",
       "    <tr>\n",
       "      <th>4</th>\n",
       "      <td>7241488</td>\n",
       "      <td>1.843904e+06</td>\n",
       "      <td>1843904</td>\n",
       "      <td>US</td>\n",
       "      <td>CO</td>\n",
       "      <td>2020-11-17 19:30:10</td>\n",
       "      <td>2020-11-18 03:45:25</td>\n",
       "      <td>NaN</td>\n",
       "      <td>2</td>\n",
       "      <td>719</td>\n",
       "      <td>424</td>\n",
       "      <td>2020-07-15 18:47:51</td>\n",
       "      <td>True</td>\n",
       "      <td>business_account_3</td>\n",
       "      <td>USPS</td>\n",
       "      <td>2020-11-24 00:44:56</td>\n",
       "    </tr>\n",
       "    <tr>\n",
       "      <th>...</th>\n",
       "      <td>...</td>\n",
       "      <td>...</td>\n",
       "      <td>...</td>\n",
       "      <td>...</td>\n",
       "      <td>...</td>\n",
       "      <td>...</td>\n",
       "      <td>...</td>\n",
       "      <td>...</td>\n",
       "      <td>...</td>\n",
       "      <td>...</td>\n",
       "      <td>...</td>\n",
       "      <td>...</td>\n",
       "      <td>...</td>\n",
       "      <td>...</td>\n",
       "      <td>...</td>\n",
       "      <td>...</td>\n",
       "    </tr>\n",
       "    <tr>\n",
       "      <th>13490</th>\n",
       "      <td>7562898</td>\n",
       "      <td>2.225081e+06</td>\n",
       "      <td>2225081</td>\n",
       "      <td>CA</td>\n",
       "      <td>ON</td>\n",
       "      <td>2020-11-05 21:12:29</td>\n",
       "      <td>NaT</td>\n",
       "      <td>NaN</td>\n",
       "      <td>1</td>\n",
       "      <td>0</td>\n",
       "      <td>0</td>\n",
       "      <td>2020-10-29 16:51:47</td>\n",
       "      <td>False</td>\n",
       "      <td>NaN</td>\n",
       "      <td>NaN</td>\n",
       "      <td>NaT</td>\n",
       "    </tr>\n",
       "    <tr>\n",
       "      <th>13491</th>\n",
       "      <td>7475289</td>\n",
       "      <td>2.153683e+06</td>\n",
       "      <td>2153683</td>\n",
       "      <td>US</td>\n",
       "      <td>CO</td>\n",
       "      <td>2020-11-16 04:11:43</td>\n",
       "      <td>NaT</td>\n",
       "      <td>NaN</td>\n",
       "      <td>1</td>\n",
       "      <td>1447</td>\n",
       "      <td>474</td>\n",
       "      <td>2020-09-30 23:11:41</td>\n",
       "      <td>True</td>\n",
       "      <td>business_account_3</td>\n",
       "      <td>NaN</td>\n",
       "      <td>NaT</td>\n",
       "    </tr>\n",
       "    <tr>\n",
       "      <th>13492</th>\n",
       "      <td>7144356</td>\n",
       "      <td>1.717608e+06</td>\n",
       "      <td>1717607</td>\n",
       "      <td>US</td>\n",
       "      <td>CT</td>\n",
       "      <td>2020-12-25 00:08:07</td>\n",
       "      <td>NaT</td>\n",
       "      <td>NaN</td>\n",
       "      <td>1</td>\n",
       "      <td>2187</td>\n",
       "      <td>824</td>\n",
       "      <td>2020-05-20 01:38:41</td>\n",
       "      <td>False</td>\n",
       "      <td>NaN</td>\n",
       "      <td>NaN</td>\n",
       "      <td>NaT</td>\n",
       "    </tr>\n",
       "    <tr>\n",
       "      <th>13493</th>\n",
       "      <td>7581194</td>\n",
       "      <td>2.243421e+06</td>\n",
       "      <td>2243420</td>\n",
       "      <td>US</td>\n",
       "      <td>IN</td>\n",
       "      <td>2020-11-19 16:43:04</td>\n",
       "      <td>NaT</td>\n",
       "      <td>NaN</td>\n",
       "      <td>4</td>\n",
       "      <td>2187</td>\n",
       "      <td>824</td>\n",
       "      <td>2020-11-05 20:02:09</td>\n",
       "      <td>False</td>\n",
       "      <td>NaN</td>\n",
       "      <td>NaN</td>\n",
       "      <td>NaT</td>\n",
       "    </tr>\n",
       "    <tr>\n",
       "      <th>13494</th>\n",
       "      <td>7559085</td>\n",
       "      <td>2.216957e+06</td>\n",
       "      <td>2216957</td>\n",
       "      <td>CA</td>\n",
       "      <td>QC</td>\n",
       "      <td>2020-11-26 00:33:02</td>\n",
       "      <td>NaT</td>\n",
       "      <td>NaN</td>\n",
       "      <td>4</td>\n",
       "      <td>0</td>\n",
       "      <td>0</td>\n",
       "      <td>2020-10-28 11:10:04</td>\n",
       "      <td>False</td>\n",
       "      <td>NaN</td>\n",
       "      <td>NaN</td>\n",
       "      <td>NaT</td>\n",
       "    </tr>\n",
       "  </tbody>\n",
       "</table>\n",
       "<p>13495 rows × 16 columns</p>\n",
       "</div>"
      ],
      "text/plain": [
       "       MERCHANT_ID      ORDER_ID  SHOP_ID ADDRESS_TO_COUNTRY  \\\n",
       "0          7143578  2.013244e+06  2013244                 US   \n",
       "1          5888534  1.358430e+06  1358429                 US   \n",
       "2          6484224  9.393902e+05   939390                 US   \n",
       "3          7251033  1.856107e+06  1856107                 US   \n",
       "4          7241488  1.843904e+06  1843904                 US   \n",
       "...            ...           ...      ...                ...   \n",
       "13490      7562898  2.225081e+06  2225081                 CA   \n",
       "13491      7475289  2.153683e+06  2153683                 US   \n",
       "13492      7144356  1.717608e+06  1717607                 US   \n",
       "13493      7581194  2.243421e+06  2243420                 US   \n",
       "13494      7559085  2.216957e+06  2216957                 CA   \n",
       "\n",
       "      ADDRESS_TO_REGION            ORDER_DT        FULFILLED_DT  REPRINT_FLAG  \\\n",
       "0                    WA 2020-10-02 19:30:15 2020-10-20 07:53:06           NaN   \n",
       "1                    MN 2020-11-21 05:19:03 2020-11-23 00:23:32           NaN   \n",
       "2                    AK 2020-10-25 01:39:08 2020-10-26 20:30:53           NaN   \n",
       "3                    PA 2020-10-08 16:35:21 2020-10-10 15:02:47           NaN   \n",
       "4                    CO 2020-11-17 19:30:10 2020-11-18 03:45:25           NaN   \n",
       "...                 ...                 ...                 ...           ...   \n",
       "13490                ON 2020-11-05 21:12:29                 NaT           NaN   \n",
       "13491                CO 2020-11-16 04:11:43                 NaT           NaN   \n",
       "13492                CT 2020-12-25 00:08:07                 NaT           NaN   \n",
       "13493                IN 2020-11-19 16:43:04                 NaT           NaN   \n",
       "13494                QC 2020-11-26 00:33:02                 NaT           NaN   \n",
       "\n",
       "       SALES_CHANNEL_TYPE_ID  TOTAL_COST  TOTAL_SHIPPING  \\\n",
       "0                          9        2902            2200   \n",
       "1                          4        1149             924   \n",
       "2                          1         977             400   \n",
       "3                          1         661             800   \n",
       "4                          2         719             424   \n",
       "...                      ...         ...             ...   \n",
       "13490                      1           0               0   \n",
       "13491                      1        1447             474   \n",
       "13492                      1        2187             824   \n",
       "13493                      4        2187             824   \n",
       "13494                      4           0               0   \n",
       "\n",
       "      MERCHANT_REGISTERED_DT  SUB_IS_ACTIVE_FLAG            SUB_PLAN  \\\n",
       "0        2020-05-19 15:22:57                True  business_account_3   \n",
       "1        2018-02-08 07:34:02                True  business_account_3   \n",
       "2        2019-04-09 20:02:46                True  business_account_3   \n",
       "3        2020-07-20 17:04:41                True  business_account_3   \n",
       "4        2020-07-15 18:47:51                True  business_account_3   \n",
       "...                      ...                 ...                 ...   \n",
       "13490    2020-10-29 16:51:47               False                 NaN   \n",
       "13491    2020-09-30 23:11:41                True  business_account_3   \n",
       "13492    2020-05-20 01:38:41               False                 NaN   \n",
       "13493    2020-11-05 20:02:09               False                 NaN   \n",
       "13494    2020-10-28 11:10:04               False                 NaN   \n",
       "\n",
       "      SHIPMENT_CARRIER SHIPMENT_DELIVERD_DT  \n",
       "0                  UPS  2020-10-08 21:07:29  \n",
       "1                 USPS  2020-11-28 21:50:56  \n",
       "2                 USPS  2020-11-02 23:37:54  \n",
       "3                  UPS  2020-10-15 18:08:37  \n",
       "4                 USPS  2020-11-24 00:44:56  \n",
       "...                ...                  ...  \n",
       "13490              NaN                  NaT  \n",
       "13491              NaN                  NaT  \n",
       "13492              NaN                  NaT  \n",
       "13493              NaN                  NaT  \n",
       "13494              NaN                  NaT  \n",
       "\n",
       "[13495 rows x 16 columns]"
      ]
     },
     "execution_count": 52,
     "metadata": {},
     "output_type": "execute_result"
    }
   ],
   "source": [
    "orders"
   ]
  },
  {
   "cell_type": "markdown",
   "id": "d56e9432",
   "metadata": {},
   "source": [
    "## Prepare for Joining"
   ]
  },
  {
   "cell_type": "code",
   "execution_count": 53,
   "id": "57c4c018",
   "metadata": {
    "scrolled": true
   },
   "outputs": [
    {
     "data": {
      "text/html": [
       "<div>\n",
       "<style scoped>\n",
       "    .dataframe tbody tr th:only-of-type {\n",
       "        vertical-align: middle;\n",
       "    }\n",
       "\n",
       "    .dataframe tbody tr th {\n",
       "        vertical-align: top;\n",
       "    }\n",
       "\n",
       "    .dataframe thead th {\n",
       "        text-align: right;\n",
       "    }\n",
       "</style>\n",
       "<table border=\"1\" class=\"dataframe\">\n",
       "  <thead>\n",
       "    <tr style=\"text-align: right;\">\n",
       "      <th></th>\n",
       "      <th>ORDER_ID</th>\n",
       "      <th>PRINT_PROVIDER_ID</th>\n",
       "      <th>PRODUCT_BRAND</th>\n",
       "      <th>PRODUCT_TYPE</th>\n",
       "      <th>ITEM_STATUS</th>\n",
       "      <th>QUANTITY</th>\n",
       "      <th>SHOP_ID</th>\n",
       "    </tr>\n",
       "  </thead>\n",
       "  <tbody>\n",
       "    <tr>\n",
       "      <th>0</th>\n",
       "      <td>15208.0</td>\n",
       "      <td>30</td>\n",
       "      <td>Generic brand</td>\n",
       "      <td>Mug</td>\n",
       "      <td>on-hold</td>\n",
       "      <td>3</td>\n",
       "      <td>1750015.0</td>\n",
       "    </tr>\n",
       "    <tr>\n",
       "      <th>1</th>\n",
       "      <td>12357.0</td>\n",
       "      <td>30</td>\n",
       "      <td>Generic brand</td>\n",
       "      <td>Mug</td>\n",
       "      <td>on-hold</td>\n",
       "      <td>2</td>\n",
       "      <td>1750015.0</td>\n",
       "    </tr>\n",
       "    <tr>\n",
       "      <th>2</th>\n",
       "      <td>10081.0</td>\n",
       "      <td>16</td>\n",
       "      <td>Gildan</td>\n",
       "      <td>Kids clothes</td>\n",
       "      <td>shipment_delivered</td>\n",
       "      <td>1</td>\n",
       "      <td>1225155.0</td>\n",
       "    </tr>\n",
       "    <tr>\n",
       "      <th>3</th>\n",
       "      <td>707.0</td>\n",
       "      <td>39</td>\n",
       "      <td>Bella+Canvas</td>\n",
       "      <td>T-Shirt</td>\n",
       "      <td>shipment_delivered</td>\n",
       "      <td>1</td>\n",
       "      <td>1828890.0</td>\n",
       "    </tr>\n",
       "    <tr>\n",
       "      <th>4</th>\n",
       "      <td>55.0</td>\n",
       "      <td>10</td>\n",
       "      <td>Generic brand</td>\n",
       "      <td>Accessories</td>\n",
       "      <td>shipment_delivered</td>\n",
       "      <td>1</td>\n",
       "      <td>1847847.0</td>\n",
       "    </tr>\n",
       "    <tr>\n",
       "      <th>...</th>\n",
       "      <td>...</td>\n",
       "      <td>...</td>\n",
       "      <td>...</td>\n",
       "      <td>...</td>\n",
       "      <td>...</td>\n",
       "      <td>...</td>\n",
       "      <td>...</td>\n",
       "    </tr>\n",
       "    <tr>\n",
       "      <th>15616</th>\n",
       "      <td>1367.0</td>\n",
       "      <td>2</td>\n",
       "      <td>Generic brand</td>\n",
       "      <td>Canvas</td>\n",
       "      <td>shipment_delivered</td>\n",
       "      <td>1</td>\n",
       "      <td>1735807.0</td>\n",
       "    </tr>\n",
       "    <tr>\n",
       "      <th>15617</th>\n",
       "      <td>7852.0</td>\n",
       "      <td>26</td>\n",
       "      <td>Gildan</td>\n",
       "      <td>T-Shirt</td>\n",
       "      <td>fulfilled</td>\n",
       "      <td>1</td>\n",
       "      <td>1732948.0</td>\n",
       "    </tr>\n",
       "    <tr>\n",
       "      <th>15618</th>\n",
       "      <td>11854.0</td>\n",
       "      <td>29</td>\n",
       "      <td>Gildan</td>\n",
       "      <td>Sweatshirt</td>\n",
       "      <td>shipment_out_for_delivery</td>\n",
       "      <td>1</td>\n",
       "      <td>1449381.0</td>\n",
       "    </tr>\n",
       "    <tr>\n",
       "      <th>15619</th>\n",
       "      <td>2759.0</td>\n",
       "      <td>48</td>\n",
       "      <td>Generic brand</td>\n",
       "      <td>Mug</td>\n",
       "      <td>shipment_delivered</td>\n",
       "      <td>1</td>\n",
       "      <td>1735807.0</td>\n",
       "    </tr>\n",
       "    <tr>\n",
       "      <th>15620</th>\n",
       "      <td>2759.0</td>\n",
       "      <td>2</td>\n",
       "      <td>Generic brand</td>\n",
       "      <td>Canvas</td>\n",
       "      <td>shipment_delivered</td>\n",
       "      <td>1</td>\n",
       "      <td>1735807.0</td>\n",
       "    </tr>\n",
       "  </tbody>\n",
       "</table>\n",
       "<p>15621 rows × 7 columns</p>\n",
       "</div>"
      ],
      "text/plain": [
       "       ORDER_ID  PRINT_PROVIDER_ID  PRODUCT_BRAND  PRODUCT_TYPE  \\\n",
       "0       15208.0                 30  Generic brand           Mug   \n",
       "1       12357.0                 30  Generic brand           Mug   \n",
       "2       10081.0                 16         Gildan  Kids clothes   \n",
       "3         707.0                 39   Bella+Canvas       T-Shirt   \n",
       "4          55.0                 10  Generic brand   Accessories   \n",
       "...         ...                ...            ...           ...   \n",
       "15616    1367.0                  2  Generic brand        Canvas   \n",
       "15617    7852.0                 26         Gildan       T-Shirt   \n",
       "15618   11854.0                 29         Gildan    Sweatshirt   \n",
       "15619    2759.0                 48  Generic brand           Mug   \n",
       "15620    2759.0                  2  Generic brand        Canvas   \n",
       "\n",
       "                     ITEM_STATUS  QUANTITY    SHOP_ID  \n",
       "0                        on-hold         3  1750015.0  \n",
       "1                        on-hold         2  1750015.0  \n",
       "2             shipment_delivered         1  1225155.0  \n",
       "3             shipment_delivered         1  1828890.0  \n",
       "4             shipment_delivered         1  1847847.0  \n",
       "...                          ...       ...        ...  \n",
       "15616         shipment_delivered         1  1735807.0  \n",
       "15617                  fulfilled         1  1732948.0  \n",
       "15618  shipment_out_for_delivery         1  1449381.0  \n",
       "15619         shipment_delivered         1  1735807.0  \n",
       "15620         shipment_delivered         1  1735807.0  \n",
       "\n",
       "[15621 rows x 7 columns]"
      ]
     },
     "execution_count": 53,
     "metadata": {},
     "output_type": "execute_result"
    }
   ],
   "source": [
    "pd.options.mode.chained_assignment = None  # default='warn'\n",
    "for i in range(len(line_items['ORDER_ID'])):\n",
    "    \n",
    "    # Split at the dot and get shop id (right) and order id (left)\n",
    "    order = str(line_items.loc[i]['ORDER_ID']).split(\".\")\n",
    "    \n",
    "    # At same location insert the order id\n",
    "    line_items.at[i, 'ORDER_ID'] = int(order[-1])\n",
    "    \n",
    "    # Add another column called shop id and add the right part\n",
    "    # using this (shop_id) is the only way to join the data right\n",
    "    line_items.at[i,'SHOP_ID'] = int(order[0])\n",
    "line_items"
   ]
  },
  {
   "cell_type": "code",
   "execution_count": 54,
   "id": "b5f85c08",
   "metadata": {
    "scrolled": true
   },
   "outputs": [
    {
     "data": {
      "text/html": [
       "<div>\n",
       "<style scoped>\n",
       "    .dataframe tbody tr th:only-of-type {\n",
       "        vertical-align: middle;\n",
       "    }\n",
       "\n",
       "    .dataframe tbody tr th {\n",
       "        vertical-align: top;\n",
       "    }\n",
       "\n",
       "    .dataframe thead th {\n",
       "        text-align: right;\n",
       "    }\n",
       "</style>\n",
       "<table border=\"1\" class=\"dataframe\">\n",
       "  <thead>\n",
       "    <tr style=\"text-align: right;\">\n",
       "      <th></th>\n",
       "      <th>MERCHANT_ID</th>\n",
       "      <th>ORDER_ID</th>\n",
       "      <th>SHOP_ID</th>\n",
       "      <th>ADDRESS_TO_COUNTRY</th>\n",
       "      <th>ADDRESS_TO_REGION</th>\n",
       "      <th>ORDER_DT</th>\n",
       "      <th>FULFILLED_DT</th>\n",
       "      <th>REPRINT_FLAG</th>\n",
       "      <th>SALES_CHANNEL_TYPE_ID</th>\n",
       "      <th>TOTAL_COST</th>\n",
       "      <th>TOTAL_SHIPPING</th>\n",
       "      <th>MERCHANT_REGISTERED_DT</th>\n",
       "      <th>SUB_IS_ACTIVE_FLAG</th>\n",
       "      <th>SUB_PLAN</th>\n",
       "      <th>SHIPMENT_CARRIER</th>\n",
       "      <th>SHIPMENT_DELIVERD_DT</th>\n",
       "    </tr>\n",
       "  </thead>\n",
       "  <tbody>\n",
       "    <tr>\n",
       "      <th>0</th>\n",
       "      <td>7143578</td>\n",
       "      <td>178.0</td>\n",
       "      <td>2013244</td>\n",
       "      <td>US</td>\n",
       "      <td>WA</td>\n",
       "      <td>2020-10-02 19:30:15</td>\n",
       "      <td>2020-10-20 07:53:06</td>\n",
       "      <td>NaN</td>\n",
       "      <td>9</td>\n",
       "      <td>2902</td>\n",
       "      <td>2200</td>\n",
       "      <td>2020-05-19 15:22:57</td>\n",
       "      <td>True</td>\n",
       "      <td>business_account_3</td>\n",
       "      <td>UPS</td>\n",
       "      <td>2020-10-08 21:07:29</td>\n",
       "    </tr>\n",
       "    <tr>\n",
       "      <th>1</th>\n",
       "      <td>5888534</td>\n",
       "      <td>695.0</td>\n",
       "      <td>1358429</td>\n",
       "      <td>US</td>\n",
       "      <td>MN</td>\n",
       "      <td>2020-11-21 05:19:03</td>\n",
       "      <td>2020-11-23 00:23:32</td>\n",
       "      <td>NaN</td>\n",
       "      <td>4</td>\n",
       "      <td>1149</td>\n",
       "      <td>924</td>\n",
       "      <td>2018-02-08 07:34:02</td>\n",
       "      <td>True</td>\n",
       "      <td>business_account_3</td>\n",
       "      <td>USPS</td>\n",
       "      <td>2020-11-28 21:50:56</td>\n",
       "    </tr>\n",
       "    <tr>\n",
       "      <th>2</th>\n",
       "      <td>6484224</td>\n",
       "      <td>193.0</td>\n",
       "      <td>939390</td>\n",
       "      <td>US</td>\n",
       "      <td>AK</td>\n",
       "      <td>2020-10-25 01:39:08</td>\n",
       "      <td>2020-10-26 20:30:53</td>\n",
       "      <td>NaN</td>\n",
       "      <td>1</td>\n",
       "      <td>977</td>\n",
       "      <td>400</td>\n",
       "      <td>2019-04-09 20:02:46</td>\n",
       "      <td>True</td>\n",
       "      <td>business_account_3</td>\n",
       "      <td>USPS</td>\n",
       "      <td>2020-11-02 23:37:54</td>\n",
       "    </tr>\n",
       "    <tr>\n",
       "      <th>3</th>\n",
       "      <td>7251033</td>\n",
       "      <td>4.0</td>\n",
       "      <td>1856107</td>\n",
       "      <td>US</td>\n",
       "      <td>PA</td>\n",
       "      <td>2020-10-08 16:35:21</td>\n",
       "      <td>2020-10-10 15:02:47</td>\n",
       "      <td>NaN</td>\n",
       "      <td>1</td>\n",
       "      <td>661</td>\n",
       "      <td>800</td>\n",
       "      <td>2020-07-20 17:04:41</td>\n",
       "      <td>True</td>\n",
       "      <td>business_account_3</td>\n",
       "      <td>UPS</td>\n",
       "      <td>2020-10-15 18:08:37</td>\n",
       "    </tr>\n",
       "    <tr>\n",
       "      <th>4</th>\n",
       "      <td>7241488</td>\n",
       "      <td>4.0</td>\n",
       "      <td>1843904</td>\n",
       "      <td>US</td>\n",
       "      <td>CO</td>\n",
       "      <td>2020-11-17 19:30:10</td>\n",
       "      <td>2020-11-18 03:45:25</td>\n",
       "      <td>NaN</td>\n",
       "      <td>2</td>\n",
       "      <td>719</td>\n",
       "      <td>424</td>\n",
       "      <td>2020-07-15 18:47:51</td>\n",
       "      <td>True</td>\n",
       "      <td>business_account_3</td>\n",
       "      <td>USPS</td>\n",
       "      <td>2020-11-24 00:44:56</td>\n",
       "    </tr>\n",
       "    <tr>\n",
       "      <th>...</th>\n",
       "      <td>...</td>\n",
       "      <td>...</td>\n",
       "      <td>...</td>\n",
       "      <td>...</td>\n",
       "      <td>...</td>\n",
       "      <td>...</td>\n",
       "      <td>...</td>\n",
       "      <td>...</td>\n",
       "      <td>...</td>\n",
       "      <td>...</td>\n",
       "      <td>...</td>\n",
       "      <td>...</td>\n",
       "      <td>...</td>\n",
       "      <td>...</td>\n",
       "      <td>...</td>\n",
       "      <td>...</td>\n",
       "    </tr>\n",
       "    <tr>\n",
       "      <th>13490</th>\n",
       "      <td>7562898</td>\n",
       "      <td>12.0</td>\n",
       "      <td>2225081</td>\n",
       "      <td>CA</td>\n",
       "      <td>ON</td>\n",
       "      <td>2020-11-05 21:12:29</td>\n",
       "      <td>NaT</td>\n",
       "      <td>NaN</td>\n",
       "      <td>1</td>\n",
       "      <td>0</td>\n",
       "      <td>0</td>\n",
       "      <td>2020-10-29 16:51:47</td>\n",
       "      <td>False</td>\n",
       "      <td>NaN</td>\n",
       "      <td>NaN</td>\n",
       "      <td>NaT</td>\n",
       "    </tr>\n",
       "    <tr>\n",
       "      <th>13491</th>\n",
       "      <td>7475289</td>\n",
       "      <td>2224.0</td>\n",
       "      <td>2153683</td>\n",
       "      <td>US</td>\n",
       "      <td>CO</td>\n",
       "      <td>2020-11-16 04:11:43</td>\n",
       "      <td>NaT</td>\n",
       "      <td>NaN</td>\n",
       "      <td>1</td>\n",
       "      <td>1447</td>\n",
       "      <td>474</td>\n",
       "      <td>2020-09-30 23:11:41</td>\n",
       "      <td>True</td>\n",
       "      <td>business_account_3</td>\n",
       "      <td>NaN</td>\n",
       "      <td>NaT</td>\n",
       "    </tr>\n",
       "    <tr>\n",
       "      <th>13492</th>\n",
       "      <td>7144356</td>\n",
       "      <td>5.0</td>\n",
       "      <td>1717607</td>\n",
       "      <td>US</td>\n",
       "      <td>CT</td>\n",
       "      <td>2020-12-25 00:08:07</td>\n",
       "      <td>NaT</td>\n",
       "      <td>NaN</td>\n",
       "      <td>1</td>\n",
       "      <td>2187</td>\n",
       "      <td>824</td>\n",
       "      <td>2020-05-20 01:38:41</td>\n",
       "      <td>False</td>\n",
       "      <td>NaN</td>\n",
       "      <td>NaN</td>\n",
       "      <td>NaT</td>\n",
       "    </tr>\n",
       "    <tr>\n",
       "      <th>13493</th>\n",
       "      <td>7581194</td>\n",
       "      <td>66.0</td>\n",
       "      <td>2243420</td>\n",
       "      <td>US</td>\n",
       "      <td>IN</td>\n",
       "      <td>2020-11-19 16:43:04</td>\n",
       "      <td>NaT</td>\n",
       "      <td>NaN</td>\n",
       "      <td>4</td>\n",
       "      <td>2187</td>\n",
       "      <td>824</td>\n",
       "      <td>2020-11-05 20:02:09</td>\n",
       "      <td>False</td>\n",
       "      <td>NaN</td>\n",
       "      <td>NaN</td>\n",
       "      <td>NaT</td>\n",
       "    </tr>\n",
       "    <tr>\n",
       "      <th>13494</th>\n",
       "      <td>7559085</td>\n",
       "      <td>28.0</td>\n",
       "      <td>2216957</td>\n",
       "      <td>CA</td>\n",
       "      <td>QC</td>\n",
       "      <td>2020-11-26 00:33:02</td>\n",
       "      <td>NaT</td>\n",
       "      <td>NaN</td>\n",
       "      <td>4</td>\n",
       "      <td>0</td>\n",
       "      <td>0</td>\n",
       "      <td>2020-10-28 11:10:04</td>\n",
       "      <td>False</td>\n",
       "      <td>NaN</td>\n",
       "      <td>NaN</td>\n",
       "      <td>NaT</td>\n",
       "    </tr>\n",
       "  </tbody>\n",
       "</table>\n",
       "<p>13495 rows × 16 columns</p>\n",
       "</div>"
      ],
      "text/plain": [
       "       MERCHANT_ID  ORDER_ID  SHOP_ID ADDRESS_TO_COUNTRY ADDRESS_TO_REGION  \\\n",
       "0          7143578     178.0  2013244                 US                WA   \n",
       "1          5888534     695.0  1358429                 US                MN   \n",
       "2          6484224     193.0   939390                 US                AK   \n",
       "3          7251033       4.0  1856107                 US                PA   \n",
       "4          7241488       4.0  1843904                 US                CO   \n",
       "...            ...       ...      ...                ...               ...   \n",
       "13490      7562898      12.0  2225081                 CA                ON   \n",
       "13491      7475289    2224.0  2153683                 US                CO   \n",
       "13492      7144356       5.0  1717607                 US                CT   \n",
       "13493      7581194      66.0  2243420                 US                IN   \n",
       "13494      7559085      28.0  2216957                 CA                QC   \n",
       "\n",
       "                 ORDER_DT        FULFILLED_DT  REPRINT_FLAG  \\\n",
       "0     2020-10-02 19:30:15 2020-10-20 07:53:06           NaN   \n",
       "1     2020-11-21 05:19:03 2020-11-23 00:23:32           NaN   \n",
       "2     2020-10-25 01:39:08 2020-10-26 20:30:53           NaN   \n",
       "3     2020-10-08 16:35:21 2020-10-10 15:02:47           NaN   \n",
       "4     2020-11-17 19:30:10 2020-11-18 03:45:25           NaN   \n",
       "...                   ...                 ...           ...   \n",
       "13490 2020-11-05 21:12:29                 NaT           NaN   \n",
       "13491 2020-11-16 04:11:43                 NaT           NaN   \n",
       "13492 2020-12-25 00:08:07                 NaT           NaN   \n",
       "13493 2020-11-19 16:43:04                 NaT           NaN   \n",
       "13494 2020-11-26 00:33:02                 NaT           NaN   \n",
       "\n",
       "       SALES_CHANNEL_TYPE_ID  TOTAL_COST  TOTAL_SHIPPING  \\\n",
       "0                          9        2902            2200   \n",
       "1                          4        1149             924   \n",
       "2                          1         977             400   \n",
       "3                          1         661             800   \n",
       "4                          2         719             424   \n",
       "...                      ...         ...             ...   \n",
       "13490                      1           0               0   \n",
       "13491                      1        1447             474   \n",
       "13492                      1        2187             824   \n",
       "13493                      4        2187             824   \n",
       "13494                      4           0               0   \n",
       "\n",
       "      MERCHANT_REGISTERED_DT  SUB_IS_ACTIVE_FLAG            SUB_PLAN  \\\n",
       "0        2020-05-19 15:22:57                True  business_account_3   \n",
       "1        2018-02-08 07:34:02                True  business_account_3   \n",
       "2        2019-04-09 20:02:46                True  business_account_3   \n",
       "3        2020-07-20 17:04:41                True  business_account_3   \n",
       "4        2020-07-15 18:47:51                True  business_account_3   \n",
       "...                      ...                 ...                 ...   \n",
       "13490    2020-10-29 16:51:47               False                 NaN   \n",
       "13491    2020-09-30 23:11:41                True  business_account_3   \n",
       "13492    2020-05-20 01:38:41               False                 NaN   \n",
       "13493    2020-11-05 20:02:09               False                 NaN   \n",
       "13494    2020-10-28 11:10:04               False                 NaN   \n",
       "\n",
       "      SHIPMENT_CARRIER SHIPMENT_DELIVERD_DT  \n",
       "0                  UPS  2020-10-08 21:07:29  \n",
       "1                 USPS  2020-11-28 21:50:56  \n",
       "2                 USPS  2020-11-02 23:37:54  \n",
       "3                  UPS  2020-10-15 18:08:37  \n",
       "4                 USPS  2020-11-24 00:44:56  \n",
       "...                ...                  ...  \n",
       "13490              NaN                  NaT  \n",
       "13491              NaN                  NaT  \n",
       "13492              NaN                  NaT  \n",
       "13493              NaN                  NaT  \n",
       "13494              NaN                  NaT  \n",
       "\n",
       "[13495 rows x 16 columns]"
      ]
     },
     "execution_count": 54,
     "metadata": {},
     "output_type": "execute_result"
    }
   ],
   "source": [
    "# Iteratively, mutate the order id to remove the shop id in the number\n",
    "# The order id was concatenated with shop id using a dot making seem like\n",
    "# a floating data type\n",
    "for i in range(len(orders['ORDER_ID'])):\n",
    "    \n",
    "    # We convert the order id to string, split into 2 from where the dot is\n",
    "    # The right from the dot section is shop id and left is order id\n",
    "    order = str(orders.loc[i]['ORDER_ID']).split(\".\")\n",
    "    \n",
    "    # At same location, put the order id only, we already have the shop id on the dataset\n",
    "    orders.at[i, 'ORDER_ID'] = int(order[-1])\n",
    "orders"
   ]
  },
  {
   "cell_type": "markdown",
   "id": "9bdd6a05",
   "metadata": {},
   "source": [
    "# Join the Data"
   ]
  },
  {
   "cell_type": "code",
   "execution_count": 55,
   "id": "d16c2a84",
   "metadata": {},
   "outputs": [],
   "source": [
    "# Join the two dataframes to form one where each merchant is \n",
    "# Matched with all their orders and shops\n",
    "printify_df = pd.merge(orders, line_items, how=\"inner\", on=['ORDER_ID','SHOP_ID'])"
   ]
  },
  {
   "cell_type": "code",
   "execution_count": 56,
   "id": "87b8c4e7",
   "metadata": {
    "scrolled": true
   },
   "outputs": [
    {
     "data": {
      "text/html": [
       "<div>\n",
       "<style scoped>\n",
       "    .dataframe tbody tr th:only-of-type {\n",
       "        vertical-align: middle;\n",
       "    }\n",
       "\n",
       "    .dataframe tbody tr th {\n",
       "        vertical-align: top;\n",
       "    }\n",
       "\n",
       "    .dataframe thead th {\n",
       "        text-align: right;\n",
       "    }\n",
       "</style>\n",
       "<table border=\"1\" class=\"dataframe\">\n",
       "  <thead>\n",
       "    <tr style=\"text-align: right;\">\n",
       "      <th></th>\n",
       "      <th>MERCHANT_ID</th>\n",
       "      <th>ORDER_ID</th>\n",
       "      <th>SHOP_ID</th>\n",
       "      <th>ADDRESS_TO_COUNTRY</th>\n",
       "      <th>ADDRESS_TO_REGION</th>\n",
       "      <th>ORDER_DT</th>\n",
       "      <th>FULFILLED_DT</th>\n",
       "      <th>REPRINT_FLAG</th>\n",
       "      <th>SALES_CHANNEL_TYPE_ID</th>\n",
       "      <th>TOTAL_COST</th>\n",
       "      <th>...</th>\n",
       "      <th>MERCHANT_REGISTERED_DT</th>\n",
       "      <th>SUB_IS_ACTIVE_FLAG</th>\n",
       "      <th>SUB_PLAN</th>\n",
       "      <th>SHIPMENT_CARRIER</th>\n",
       "      <th>SHIPMENT_DELIVERD_DT</th>\n",
       "      <th>PRINT_PROVIDER_ID</th>\n",
       "      <th>PRODUCT_BRAND</th>\n",
       "      <th>PRODUCT_TYPE</th>\n",
       "      <th>ITEM_STATUS</th>\n",
       "      <th>QUANTITY</th>\n",
       "    </tr>\n",
       "  </thead>\n",
       "  <tbody>\n",
       "    <tr>\n",
       "      <th>0</th>\n",
       "      <td>7143578</td>\n",
       "      <td>178.0</td>\n",
       "      <td>2013244</td>\n",
       "      <td>US</td>\n",
       "      <td>WA</td>\n",
       "      <td>2020-10-02 19:30:15</td>\n",
       "      <td>2020-10-20 07:53:06</td>\n",
       "      <td>NaN</td>\n",
       "      <td>9</td>\n",
       "      <td>2902</td>\n",
       "      <td>...</td>\n",
       "      <td>2020-05-19 15:22:57</td>\n",
       "      <td>True</td>\n",
       "      <td>business_account_3</td>\n",
       "      <td>UPS</td>\n",
       "      <td>2020-10-08 21:07:29</td>\n",
       "      <td>1</td>\n",
       "      <td>Generic brand</td>\n",
       "      <td>Mug</td>\n",
       "      <td>shipment_delivered</td>\n",
       "      <td>1</td>\n",
       "    </tr>\n",
       "    <tr>\n",
       "      <th>1</th>\n",
       "      <td>7143578</td>\n",
       "      <td>178.0</td>\n",
       "      <td>2013244</td>\n",
       "      <td>US</td>\n",
       "      <td>WA</td>\n",
       "      <td>2020-10-02 19:30:15</td>\n",
       "      <td>2020-10-20 07:53:06</td>\n",
       "      <td>NaN</td>\n",
       "      <td>9</td>\n",
       "      <td>2902</td>\n",
       "      <td>...</td>\n",
       "      <td>2020-05-19 15:22:57</td>\n",
       "      <td>True</td>\n",
       "      <td>business_account_3</td>\n",
       "      <td>UPS</td>\n",
       "      <td>2020-10-08 21:07:29</td>\n",
       "      <td>16</td>\n",
       "      <td>Generic brand</td>\n",
       "      <td>Mug</td>\n",
       "      <td>shipment_delivered</td>\n",
       "      <td>1</td>\n",
       "    </tr>\n",
       "    <tr>\n",
       "      <th>2</th>\n",
       "      <td>5888534</td>\n",
       "      <td>695.0</td>\n",
       "      <td>1358429</td>\n",
       "      <td>US</td>\n",
       "      <td>MN</td>\n",
       "      <td>2020-11-21 05:19:03</td>\n",
       "      <td>2020-11-23 00:23:32</td>\n",
       "      <td>NaN</td>\n",
       "      <td>4</td>\n",
       "      <td>1149</td>\n",
       "      <td>...</td>\n",
       "      <td>2018-02-08 07:34:02</td>\n",
       "      <td>True</td>\n",
       "      <td>business_account_3</td>\n",
       "      <td>USPS</td>\n",
       "      <td>2020-11-28 21:50:56</td>\n",
       "      <td>39</td>\n",
       "      <td>Gildan</td>\n",
       "      <td>Sweatshirt</td>\n",
       "      <td>shipment_delivered</td>\n",
       "      <td>1</td>\n",
       "    </tr>\n",
       "    <tr>\n",
       "      <th>3</th>\n",
       "      <td>6484224</td>\n",
       "      <td>193.0</td>\n",
       "      <td>939390</td>\n",
       "      <td>US</td>\n",
       "      <td>AK</td>\n",
       "      <td>2020-10-25 01:39:08</td>\n",
       "      <td>2020-10-26 20:30:53</td>\n",
       "      <td>NaN</td>\n",
       "      <td>1</td>\n",
       "      <td>977</td>\n",
       "      <td>...</td>\n",
       "      <td>2019-04-09 20:02:46</td>\n",
       "      <td>True</td>\n",
       "      <td>business_account_3</td>\n",
       "      <td>USPS</td>\n",
       "      <td>2020-11-02 23:37:54</td>\n",
       "      <td>25</td>\n",
       "      <td>Delta</td>\n",
       "      <td>T-Shirt</td>\n",
       "      <td>shipment_delivered</td>\n",
       "      <td>1</td>\n",
       "    </tr>\n",
       "    <tr>\n",
       "      <th>4</th>\n",
       "      <td>7251033</td>\n",
       "      <td>4.0</td>\n",
       "      <td>1856107</td>\n",
       "      <td>US</td>\n",
       "      <td>PA</td>\n",
       "      <td>2020-10-08 16:35:21</td>\n",
       "      <td>2020-10-10 15:02:47</td>\n",
       "      <td>NaN</td>\n",
       "      <td>1</td>\n",
       "      <td>661</td>\n",
       "      <td>...</td>\n",
       "      <td>2020-07-20 17:04:41</td>\n",
       "      <td>True</td>\n",
       "      <td>business_account_3</td>\n",
       "      <td>UPS</td>\n",
       "      <td>2020-10-15 18:08:37</td>\n",
       "      <td>16</td>\n",
       "      <td>Generic brand</td>\n",
       "      <td>Mug</td>\n",
       "      <td>shipment_delivered</td>\n",
       "      <td>1</td>\n",
       "    </tr>\n",
       "    <tr>\n",
       "      <th>...</th>\n",
       "      <td>...</td>\n",
       "      <td>...</td>\n",
       "      <td>...</td>\n",
       "      <td>...</td>\n",
       "      <td>...</td>\n",
       "      <td>...</td>\n",
       "      <td>...</td>\n",
       "      <td>...</td>\n",
       "      <td>...</td>\n",
       "      <td>...</td>\n",
       "      <td>...</td>\n",
       "      <td>...</td>\n",
       "      <td>...</td>\n",
       "      <td>...</td>\n",
       "      <td>...</td>\n",
       "      <td>...</td>\n",
       "      <td>...</td>\n",
       "      <td>...</td>\n",
       "      <td>...</td>\n",
       "      <td>...</td>\n",
       "      <td>...</td>\n",
       "    </tr>\n",
       "    <tr>\n",
       "      <th>15616</th>\n",
       "      <td>7562898</td>\n",
       "      <td>12.0</td>\n",
       "      <td>2225081</td>\n",
       "      <td>CA</td>\n",
       "      <td>ON</td>\n",
       "      <td>2020-11-05 21:12:29</td>\n",
       "      <td>NaT</td>\n",
       "      <td>NaN</td>\n",
       "      <td>1</td>\n",
       "      <td>0</td>\n",
       "      <td>...</td>\n",
       "      <td>2020-10-29 16:51:47</td>\n",
       "      <td>False</td>\n",
       "      <td>NaN</td>\n",
       "      <td>NaN</td>\n",
       "      <td>NaT</td>\n",
       "      <td>10</td>\n",
       "      <td>Generic brand</td>\n",
       "      <td>Accessories</td>\n",
       "      <td>canceled</td>\n",
       "      <td>10</td>\n",
       "    </tr>\n",
       "    <tr>\n",
       "      <th>15617</th>\n",
       "      <td>7475289</td>\n",
       "      <td>2224.0</td>\n",
       "      <td>2153683</td>\n",
       "      <td>US</td>\n",
       "      <td>CO</td>\n",
       "      <td>2020-11-16 04:11:43</td>\n",
       "      <td>NaT</td>\n",
       "      <td>NaN</td>\n",
       "      <td>1</td>\n",
       "      <td>1447</td>\n",
       "      <td>...</td>\n",
       "      <td>2020-09-30 23:11:41</td>\n",
       "      <td>True</td>\n",
       "      <td>business_account_3</td>\n",
       "      <td>NaN</td>\n",
       "      <td>NaT</td>\n",
       "      <td>16</td>\n",
       "      <td>Sport-Tek</td>\n",
       "      <td>Hats</td>\n",
       "      <td>on-hold</td>\n",
       "      <td>1</td>\n",
       "    </tr>\n",
       "    <tr>\n",
       "      <th>15618</th>\n",
       "      <td>7144356</td>\n",
       "      <td>5.0</td>\n",
       "      <td>1717607</td>\n",
       "      <td>US</td>\n",
       "      <td>CT</td>\n",
       "      <td>2020-12-25 00:08:07</td>\n",
       "      <td>NaT</td>\n",
       "      <td>NaN</td>\n",
       "      <td>1</td>\n",
       "      <td>2187</td>\n",
       "      <td>...</td>\n",
       "      <td>2020-05-20 01:38:41</td>\n",
       "      <td>False</td>\n",
       "      <td>NaN</td>\n",
       "      <td>NaN</td>\n",
       "      <td>NaT</td>\n",
       "      <td>3</td>\n",
       "      <td>Gildan</td>\n",
       "      <td>Hoodie</td>\n",
       "      <td>on-hold</td>\n",
       "      <td>1</td>\n",
       "    </tr>\n",
       "    <tr>\n",
       "      <th>15619</th>\n",
       "      <td>7581194</td>\n",
       "      <td>66.0</td>\n",
       "      <td>2243420</td>\n",
       "      <td>US</td>\n",
       "      <td>IN</td>\n",
       "      <td>2020-11-19 16:43:04</td>\n",
       "      <td>NaT</td>\n",
       "      <td>NaN</td>\n",
       "      <td>4</td>\n",
       "      <td>2187</td>\n",
       "      <td>...</td>\n",
       "      <td>2020-11-05 20:02:09</td>\n",
       "      <td>False</td>\n",
       "      <td>NaN</td>\n",
       "      <td>NaN</td>\n",
       "      <td>NaT</td>\n",
       "      <td>3</td>\n",
       "      <td>Gildan</td>\n",
       "      <td>Hoodie</td>\n",
       "      <td>canceled</td>\n",
       "      <td>1</td>\n",
       "    </tr>\n",
       "    <tr>\n",
       "      <th>15620</th>\n",
       "      <td>7559085</td>\n",
       "      <td>28.0</td>\n",
       "      <td>2216957</td>\n",
       "      <td>CA</td>\n",
       "      <td>QC</td>\n",
       "      <td>2020-11-26 00:33:02</td>\n",
       "      <td>NaT</td>\n",
       "      <td>NaN</td>\n",
       "      <td>4</td>\n",
       "      <td>0</td>\n",
       "      <td>...</td>\n",
       "      <td>2020-10-28 11:10:04</td>\n",
       "      <td>False</td>\n",
       "      <td>NaN</td>\n",
       "      <td>NaN</td>\n",
       "      <td>NaT</td>\n",
       "      <td>29</td>\n",
       "      <td>Gildan</td>\n",
       "      <td>T-Shirt</td>\n",
       "      <td>canceled</td>\n",
       "      <td>1</td>\n",
       "    </tr>\n",
       "  </tbody>\n",
       "</table>\n",
       "<p>15621 rows × 21 columns</p>\n",
       "</div>"
      ],
      "text/plain": [
       "       MERCHANT_ID  ORDER_ID  SHOP_ID ADDRESS_TO_COUNTRY ADDRESS_TO_REGION  \\\n",
       "0          7143578     178.0  2013244                 US                WA   \n",
       "1          7143578     178.0  2013244                 US                WA   \n",
       "2          5888534     695.0  1358429                 US                MN   \n",
       "3          6484224     193.0   939390                 US                AK   \n",
       "4          7251033       4.0  1856107                 US                PA   \n",
       "...            ...       ...      ...                ...               ...   \n",
       "15616      7562898      12.0  2225081                 CA                ON   \n",
       "15617      7475289    2224.0  2153683                 US                CO   \n",
       "15618      7144356       5.0  1717607                 US                CT   \n",
       "15619      7581194      66.0  2243420                 US                IN   \n",
       "15620      7559085      28.0  2216957                 CA                QC   \n",
       "\n",
       "                 ORDER_DT        FULFILLED_DT  REPRINT_FLAG  \\\n",
       "0     2020-10-02 19:30:15 2020-10-20 07:53:06           NaN   \n",
       "1     2020-10-02 19:30:15 2020-10-20 07:53:06           NaN   \n",
       "2     2020-11-21 05:19:03 2020-11-23 00:23:32           NaN   \n",
       "3     2020-10-25 01:39:08 2020-10-26 20:30:53           NaN   \n",
       "4     2020-10-08 16:35:21 2020-10-10 15:02:47           NaN   \n",
       "...                   ...                 ...           ...   \n",
       "15616 2020-11-05 21:12:29                 NaT           NaN   \n",
       "15617 2020-11-16 04:11:43                 NaT           NaN   \n",
       "15618 2020-12-25 00:08:07                 NaT           NaN   \n",
       "15619 2020-11-19 16:43:04                 NaT           NaN   \n",
       "15620 2020-11-26 00:33:02                 NaT           NaN   \n",
       "\n",
       "       SALES_CHANNEL_TYPE_ID  TOTAL_COST  ...  MERCHANT_REGISTERED_DT  \\\n",
       "0                          9        2902  ...     2020-05-19 15:22:57   \n",
       "1                          9        2902  ...     2020-05-19 15:22:57   \n",
       "2                          4        1149  ...     2018-02-08 07:34:02   \n",
       "3                          1         977  ...     2019-04-09 20:02:46   \n",
       "4                          1         661  ...     2020-07-20 17:04:41   \n",
       "...                      ...         ...  ...                     ...   \n",
       "15616                      1           0  ...     2020-10-29 16:51:47   \n",
       "15617                      1        1447  ...     2020-09-30 23:11:41   \n",
       "15618                      1        2187  ...     2020-05-20 01:38:41   \n",
       "15619                      4        2187  ...     2020-11-05 20:02:09   \n",
       "15620                      4           0  ...     2020-10-28 11:10:04   \n",
       "\n",
       "      SUB_IS_ACTIVE_FLAG            SUB_PLAN SHIPMENT_CARRIER  \\\n",
       "0                   True  business_account_3              UPS   \n",
       "1                   True  business_account_3              UPS   \n",
       "2                   True  business_account_3             USPS   \n",
       "3                   True  business_account_3             USPS   \n",
       "4                   True  business_account_3              UPS   \n",
       "...                  ...                 ...              ...   \n",
       "15616              False                 NaN              NaN   \n",
       "15617               True  business_account_3              NaN   \n",
       "15618              False                 NaN              NaN   \n",
       "15619              False                 NaN              NaN   \n",
       "15620              False                 NaN              NaN   \n",
       "\n",
       "      SHIPMENT_DELIVERD_DT PRINT_PROVIDER_ID  PRODUCT_BRAND PRODUCT_TYPE  \\\n",
       "0      2020-10-08 21:07:29                 1  Generic brand          Mug   \n",
       "1      2020-10-08 21:07:29                16  Generic brand          Mug   \n",
       "2      2020-11-28 21:50:56                39         Gildan   Sweatshirt   \n",
       "3      2020-11-02 23:37:54                25          Delta      T-Shirt   \n",
       "4      2020-10-15 18:08:37                16  Generic brand          Mug   \n",
       "...                    ...               ...            ...          ...   \n",
       "15616                  NaT                10  Generic brand  Accessories   \n",
       "15617                  NaT                16      Sport-Tek         Hats   \n",
       "15618                  NaT                 3         Gildan       Hoodie   \n",
       "15619                  NaT                 3         Gildan       Hoodie   \n",
       "15620                  NaT                29         Gildan      T-Shirt   \n",
       "\n",
       "              ITEM_STATUS QUANTITY  \n",
       "0      shipment_delivered        1  \n",
       "1      shipment_delivered        1  \n",
       "2      shipment_delivered        1  \n",
       "3      shipment_delivered        1  \n",
       "4      shipment_delivered        1  \n",
       "...                   ...      ...  \n",
       "15616            canceled       10  \n",
       "15617             on-hold        1  \n",
       "15618             on-hold        1  \n",
       "15619            canceled        1  \n",
       "15620            canceled        1  \n",
       "\n",
       "[15621 rows x 21 columns]"
      ]
     },
     "execution_count": 56,
     "metadata": {},
     "output_type": "execute_result"
    }
   ],
   "source": [
    "printify_df"
   ]
  },
  {
   "cell_type": "code",
   "execution_count": 57,
   "id": "146de900",
   "metadata": {},
   "outputs": [
    {
     "data": {
      "text/plain": [
       "array(['UPS', 'USPS', nan, 'UPS_MAIL_INNOVATIONS', 'DHL', 'GLOBEGISTICS',\n",
       "       'ROYAL_MAIL', 'CANADA_POST', 'unknown', 'ASENDIA', 'RAYAL_MAIL',\n",
       "       'DPD', 'DHL_GERMANY', 'FEDEX', 'ups_', 'DHL_EXPRESS',\n",
       "       'OSM_WORLDWIDE'], dtype=object)"
      ]
     },
     "execution_count": 57,
     "metadata": {},
     "output_type": "execute_result"
    }
   ],
   "source": [
    "printify_df['SHIPMENT_CARRIER'].unique()"
   ]
  },
  {
   "cell_type": "code",
   "execution_count": 58,
   "id": "7f926c42",
   "metadata": {},
   "outputs": [
    {
     "name": "stdout",
     "output_type": "stream",
     "text": [
      "2021-01-26 20:13:23\n",
      "2021-01-31 00:13:23\n"
     ]
    }
   ],
   "source": [
    "max_day = printify_df['SHIPMENT_DELIVERD_DT'].max() + pd.DateOffset(hours=100)\n",
    "print(printify_df['SHIPMENT_DELIVERD_DT'].max())\n",
    "print(max_day)"
   ]
  },
  {
   "cell_type": "code",
   "execution_count": 59,
   "id": "83cf40e4",
   "metadata": {},
   "outputs": [
    {
     "data": {
      "text/html": [
       "<div>\n",
       "<style scoped>\n",
       "    .dataframe tbody tr th:only-of-type {\n",
       "        vertical-align: middle;\n",
       "    }\n",
       "\n",
       "    .dataframe tbody tr th {\n",
       "        vertical-align: top;\n",
       "    }\n",
       "\n",
       "    .dataframe thead th {\n",
       "        text-align: right;\n",
       "    }\n",
       "</style>\n",
       "<table border=\"1\" class=\"dataframe\">\n",
       "  <thead>\n",
       "    <tr style=\"text-align: right;\">\n",
       "      <th></th>\n",
       "      <th>Time_delay_hours</th>\n",
       "    </tr>\n",
       "    <tr>\n",
       "      <th>SHIPMENT_CARRIER</th>\n",
       "      <th></th>\n",
       "    </tr>\n",
       "  </thead>\n",
       "  <tbody>\n",
       "    <tr>\n",
       "      <th>ASENDIA</th>\n",
       "      <td>1551.500000</td>\n",
       "    </tr>\n",
       "    <tr>\n",
       "      <th>CANADA_POST</th>\n",
       "      <td>221.128319</td>\n",
       "    </tr>\n",
       "    <tr>\n",
       "      <th>DHL</th>\n",
       "      <td>102.185259</td>\n",
       "    </tr>\n",
       "    <tr>\n",
       "      <th>DHL_EXPRESS</th>\n",
       "      <td>62.000000</td>\n",
       "    </tr>\n",
       "    <tr>\n",
       "      <th>DHL_GERMANY</th>\n",
       "      <td>1712.506849</td>\n",
       "    </tr>\n",
       "    <tr>\n",
       "      <th>DPD</th>\n",
       "      <td>103.539474</td>\n",
       "    </tr>\n",
       "    <tr>\n",
       "      <th>FEDEX</th>\n",
       "      <td>578.000000</td>\n",
       "    </tr>\n",
       "    <tr>\n",
       "      <th>GLOBEGISTICS</th>\n",
       "      <td>1437.248555</td>\n",
       "    </tr>\n",
       "    <tr>\n",
       "      <th>OSM_WORLDWIDE</th>\n",
       "      <td>141.000000</td>\n",
       "    </tr>\n",
       "    <tr>\n",
       "      <th>RAYAL_MAIL</th>\n",
       "      <td>1772.142857</td>\n",
       "    </tr>\n",
       "    <tr>\n",
       "      <th>ROYAL_MAIL</th>\n",
       "      <td>1515.653846</td>\n",
       "    </tr>\n",
       "    <tr>\n",
       "      <th>UPS</th>\n",
       "      <td>81.632124</td>\n",
       "    </tr>\n",
       "    <tr>\n",
       "      <th>UPS_MAIL_INNOVATIONS</th>\n",
       "      <td>290.249017</td>\n",
       "    </tr>\n",
       "    <tr>\n",
       "      <th>USPS</th>\n",
       "      <td>165.013997</td>\n",
       "    </tr>\n",
       "    <tr>\n",
       "      <th>unknown</th>\n",
       "      <td>1606.512397</td>\n",
       "    </tr>\n",
       "    <tr>\n",
       "      <th>ups_</th>\n",
       "      <td>89.222222</td>\n",
       "    </tr>\n",
       "  </tbody>\n",
       "</table>\n",
       "</div>"
      ],
      "text/plain": [
       "                      Time_delay_hours\n",
       "SHIPMENT_CARRIER                      \n",
       "ASENDIA                    1551.500000\n",
       "CANADA_POST                 221.128319\n",
       "DHL                         102.185259\n",
       "DHL_EXPRESS                  62.000000\n",
       "DHL_GERMANY                1712.506849\n",
       "DPD                         103.539474\n",
       "FEDEX                       578.000000\n",
       "GLOBEGISTICS               1437.248555\n",
       "OSM_WORLDWIDE               141.000000\n",
       "RAYAL_MAIL                 1772.142857\n",
       "ROYAL_MAIL                 1515.653846\n",
       "UPS                          81.632124\n",
       "UPS_MAIL_INNOVATIONS        290.249017\n",
       "USPS                        165.013997\n",
       "unknown                    1606.512397\n",
       "ups_                         89.222222"
      ]
     },
     "execution_count": 59,
     "metadata": {},
     "output_type": "execute_result"
    }
   ],
   "source": [
    "# In the case a shipment is not delivered, deliverly is assumed to take \n",
    "# place in the next 4 days hence the max day value for null deliver date\n",
    "max_day = printify_df['SHIPMENT_DELIVERD_DT'].max() + pd.DateOffset(hours=100)\n",
    "\n",
    "printify_df_temp1 = printify_df[['SHIPMENT_CARRIER', 'SHIPMENT_DELIVERD_DT','FULFILLED_DT']]\n",
    "printify_df_temp1['Time_delay_hours'] = (printify_df['SHIPMENT_DELIVERD_DT'].fillna(max_day) - printify_df['FULFILLED_DT']).astype('timedelta64[h]')\n",
    "\n",
    "shippment_delay = printify_df_temp1[['SHIPMENT_CARRIER', 'Time_delay_hours']].groupby(['SHIPMENT_CARRIER']).mean()\n",
    "shippment_delay"
   ]
  },
  {
   "cell_type": "code",
   "execution_count": 60,
   "id": "77f76418",
   "metadata": {
    "scrolled": true
   },
   "outputs": [
    {
     "data": {
      "text/html": [
       "<div>\n",
       "<style scoped>\n",
       "    .dataframe tbody tr th:only-of-type {\n",
       "        vertical-align: middle;\n",
       "    }\n",
       "\n",
       "    .dataframe tbody tr th {\n",
       "        vertical-align: top;\n",
       "    }\n",
       "\n",
       "    .dataframe thead th {\n",
       "        text-align: right;\n",
       "    }\n",
       "</style>\n",
       "<table border=\"1\" class=\"dataframe\">\n",
       "  <thead>\n",
       "    <tr style=\"text-align: right;\">\n",
       "      <th></th>\n",
       "      <th>MERCHANT_ID</th>\n",
       "      <th>ORDER_ID</th>\n",
       "      <th>SHOP_ID</th>\n",
       "      <th>ADDRESS_TO_COUNTRY</th>\n",
       "      <th>ADDRESS_TO_REGION</th>\n",
       "      <th>ORDER_DT</th>\n",
       "      <th>FULFILLED_DT</th>\n",
       "      <th>REPRINT_FLAG</th>\n",
       "      <th>SALES_CHANNEL_TYPE_ID</th>\n",
       "      <th>TOTAL_COST</th>\n",
       "      <th>...</th>\n",
       "      <th>MERCHANT_REGISTERED_DT</th>\n",
       "      <th>SUB_IS_ACTIVE_FLAG</th>\n",
       "      <th>SUB_PLAN</th>\n",
       "      <th>SHIPMENT_CARRIER</th>\n",
       "      <th>SHIPMENT_DELIVERD_DT</th>\n",
       "      <th>PRINT_PROVIDER_ID</th>\n",
       "      <th>PRODUCT_BRAND</th>\n",
       "      <th>PRODUCT_TYPE</th>\n",
       "      <th>ITEM_STATUS</th>\n",
       "      <th>QUANTITY</th>\n",
       "    </tr>\n",
       "  </thead>\n",
       "  <tbody>\n",
       "    <tr>\n",
       "      <th>35</th>\n",
       "      <td>6948170</td>\n",
       "      <td>7466.0</td>\n",
       "      <td>1468748</td>\n",
       "      <td>DE</td>\n",
       "      <td>RHEINLAND-PFALZ</td>\n",
       "      <td>2020-11-07 04:24:34</td>\n",
       "      <td>2020-11-09 14:00:59</td>\n",
       "      <td>NaN</td>\n",
       "      <td>6</td>\n",
       "      <td>713</td>\n",
       "      <td>...</td>\n",
       "      <td>2019-12-26 07:22:20</td>\n",
       "      <td>True</td>\n",
       "      <td>business_account_3</td>\n",
       "      <td>ROYAL_MAIL</td>\n",
       "      <td>NaT</td>\n",
       "      <td>23</td>\n",
       "      <td>Premium Cases</td>\n",
       "      <td>Phone Case</td>\n",
       "      <td>fulfilled</td>\n",
       "      <td>1</td>\n",
       "    </tr>\n",
       "    <tr>\n",
       "      <th>38</th>\n",
       "      <td>7453498</td>\n",
       "      <td>195.0</td>\n",
       "      <td>2094464</td>\n",
       "      <td>GB</td>\n",
       "      <td>ENG</td>\n",
       "      <td>2020-11-05 15:05:47</td>\n",
       "      <td>2020-11-11 21:56:21</td>\n",
       "      <td>NaN</td>\n",
       "      <td>9</td>\n",
       "      <td>944</td>\n",
       "      <td>...</td>\n",
       "      <td>2020-09-27 14:57:40</td>\n",
       "      <td>True</td>\n",
       "      <td>business_account_3</td>\n",
       "      <td>ROYAL_MAIL</td>\n",
       "      <td>NaT</td>\n",
       "      <td>6</td>\n",
       "      <td>Gildan</td>\n",
       "      <td>T-Shirt</td>\n",
       "      <td>fulfilled</td>\n",
       "      <td>1</td>\n",
       "    </tr>\n",
       "    <tr>\n",
       "      <th>119</th>\n",
       "      <td>6860545</td>\n",
       "      <td>279.0</td>\n",
       "      <td>1366702</td>\n",
       "      <td>GB</td>\n",
       "      <td>SHROPSHIRE</td>\n",
       "      <td>2020-12-04 16:08:49</td>\n",
       "      <td>2020-12-11 22:08:00</td>\n",
       "      <td>NaN</td>\n",
       "      <td>4</td>\n",
       "      <td>1115</td>\n",
       "      <td>...</td>\n",
       "      <td>2019-10-11 15:57:25</td>\n",
       "      <td>True</td>\n",
       "      <td>business_account_3</td>\n",
       "      <td>ROYAL_MAIL</td>\n",
       "      <td>NaT</td>\n",
       "      <td>6</td>\n",
       "      <td>Gildan</td>\n",
       "      <td>T-Shirt</td>\n",
       "      <td>fulfilled</td>\n",
       "      <td>1</td>\n",
       "    </tr>\n",
       "    <tr>\n",
       "      <th>227</th>\n",
       "      <td>6584043</td>\n",
       "      <td>2645.0</td>\n",
       "      <td>1241313</td>\n",
       "      <td>GB</td>\n",
       "      <td>MID GLAMORGAN</td>\n",
       "      <td>2020-12-20 21:52:49</td>\n",
       "      <td>2021-01-05 21:24:25</td>\n",
       "      <td>NaN</td>\n",
       "      <td>4</td>\n",
       "      <td>1731</td>\n",
       "      <td>...</td>\n",
       "      <td>2019-05-12 21:34:43</td>\n",
       "      <td>True</td>\n",
       "      <td>business_account_3</td>\n",
       "      <td>ROYAL_MAIL</td>\n",
       "      <td>NaT</td>\n",
       "      <td>6</td>\n",
       "      <td>AWDIS</td>\n",
       "      <td>Sweatshirt</td>\n",
       "      <td>fulfilled</td>\n",
       "      <td>1</td>\n",
       "    </tr>\n",
       "    <tr>\n",
       "      <th>329</th>\n",
       "      <td>6652929</td>\n",
       "      <td>3554.0</td>\n",
       "      <td>1122627</td>\n",
       "      <td>GB</td>\n",
       "      <td>NOFOLK</td>\n",
       "      <td>2020-10-22 02:32:40</td>\n",
       "      <td>2020-10-26 22:22:39</td>\n",
       "      <td>NaN</td>\n",
       "      <td>4</td>\n",
       "      <td>1148</td>\n",
       "      <td>...</td>\n",
       "      <td>2019-06-06 23:10:51</td>\n",
       "      <td>True</td>\n",
       "      <td>business_account_3</td>\n",
       "      <td>RAYAL_MAIL</td>\n",
       "      <td>NaT</td>\n",
       "      <td>6</td>\n",
       "      <td>Bella+Canvas</td>\n",
       "      <td>T-Shirt</td>\n",
       "      <td>fulfilled</td>\n",
       "      <td>1</td>\n",
       "    </tr>\n",
       "    <tr>\n",
       "      <th>...</th>\n",
       "      <td>...</td>\n",
       "      <td>...</td>\n",
       "      <td>...</td>\n",
       "      <td>...</td>\n",
       "      <td>...</td>\n",
       "      <td>...</td>\n",
       "      <td>...</td>\n",
       "      <td>...</td>\n",
       "      <td>...</td>\n",
       "      <td>...</td>\n",
       "      <td>...</td>\n",
       "      <td>...</td>\n",
       "      <td>...</td>\n",
       "      <td>...</td>\n",
       "      <td>...</td>\n",
       "      <td>...</td>\n",
       "      <td>...</td>\n",
       "      <td>...</td>\n",
       "      <td>...</td>\n",
       "      <td>...</td>\n",
       "      <td>...</td>\n",
       "    </tr>\n",
       "    <tr>\n",
       "      <th>15132</th>\n",
       "      <td>7389523</td>\n",
       "      <td>6.0</td>\n",
       "      <td>2022186</td>\n",
       "      <td>DE</td>\n",
       "      <td>NaN</td>\n",
       "      <td>2020-12-01 15:44:20</td>\n",
       "      <td>2020-12-16 14:10:10</td>\n",
       "      <td>NaN</td>\n",
       "      <td>1</td>\n",
       "      <td>3750</td>\n",
       "      <td>...</td>\n",
       "      <td>2020-09-11 19:38:49</td>\n",
       "      <td>False</td>\n",
       "      <td>NaN</td>\n",
       "      <td>DHL_GERMANY</td>\n",
       "      <td>NaT</td>\n",
       "      <td>26</td>\n",
       "      <td>B&amp;C</td>\n",
       "      <td>Sweatshirt</td>\n",
       "      <td>fulfilled</td>\n",
       "      <td>1</td>\n",
       "    </tr>\n",
       "    <tr>\n",
       "      <th>15231</th>\n",
       "      <td>7291940</td>\n",
       "      <td>2839.0</td>\n",
       "      <td>1906136</td>\n",
       "      <td>DE</td>\n",
       "      <td>NaN</td>\n",
       "      <td>2020-12-16 21:17:03</td>\n",
       "      <td>2020-12-21 02:43:59</td>\n",
       "      <td>NaN</td>\n",
       "      <td>1</td>\n",
       "      <td>1872</td>\n",
       "      <td>...</td>\n",
       "      <td>2020-08-06 23:05:08</td>\n",
       "      <td>True</td>\n",
       "      <td>business_account_3</td>\n",
       "      <td>DHL_GERMANY</td>\n",
       "      <td>NaT</td>\n",
       "      <td>26</td>\n",
       "      <td>AWDIS</td>\n",
       "      <td>Hoodie</td>\n",
       "      <td>fulfilled</td>\n",
       "      <td>1</td>\n",
       "    </tr>\n",
       "    <tr>\n",
       "      <th>15413</th>\n",
       "      <td>6446058</td>\n",
       "      <td>304.0</td>\n",
       "      <td>897609</td>\n",
       "      <td>GB</td>\n",
       "      <td>NaN</td>\n",
       "      <td>2020-12-25 10:23:49</td>\n",
       "      <td>2021-01-04 22:38:38</td>\n",
       "      <td>NaN</td>\n",
       "      <td>4</td>\n",
       "      <td>1354</td>\n",
       "      <td>...</td>\n",
       "      <td>2019-03-25 22:15:11</td>\n",
       "      <td>False</td>\n",
       "      <td>NaN</td>\n",
       "      <td>ROYAL_MAIL</td>\n",
       "      <td>NaT</td>\n",
       "      <td>6</td>\n",
       "      <td>Bella+Canvas</td>\n",
       "      <td>T-Shirt</td>\n",
       "      <td>fulfilled</td>\n",
       "      <td>1</td>\n",
       "    </tr>\n",
       "    <tr>\n",
       "      <th>15452</th>\n",
       "      <td>6999280</td>\n",
       "      <td>16136.0</td>\n",
       "      <td>1533962</td>\n",
       "      <td>GB</td>\n",
       "      <td>ARGYLL</td>\n",
       "      <td>2020-11-18 09:52:06</td>\n",
       "      <td>2020-11-23 21:55:31</td>\n",
       "      <td>NaN</td>\n",
       "      <td>2</td>\n",
       "      <td>1098</td>\n",
       "      <td>...</td>\n",
       "      <td>2020-02-05 03:12:59</td>\n",
       "      <td>True</td>\n",
       "      <td>business_account_3</td>\n",
       "      <td>ROYAL_MAIL</td>\n",
       "      <td>NaT</td>\n",
       "      <td>6</td>\n",
       "      <td>Gildan</td>\n",
       "      <td>T-Shirt</td>\n",
       "      <td>fulfilled</td>\n",
       "      <td>1</td>\n",
       "    </tr>\n",
       "    <tr>\n",
       "      <th>15504</th>\n",
       "      <td>7275044</td>\n",
       "      <td>1108.0</td>\n",
       "      <td>1885776</td>\n",
       "      <td>GB</td>\n",
       "      <td>KENT</td>\n",
       "      <td>2020-12-03 07:55:49</td>\n",
       "      <td>2020-12-10 21:49:07</td>\n",
       "      <td>NaN</td>\n",
       "      <td>4</td>\n",
       "      <td>1146</td>\n",
       "      <td>...</td>\n",
       "      <td>2020-07-31 06:25:57</td>\n",
       "      <td>True</td>\n",
       "      <td>business_account_3</td>\n",
       "      <td>ROYAL_MAIL</td>\n",
       "      <td>NaT</td>\n",
       "      <td>6</td>\n",
       "      <td>Bella+Canvas</td>\n",
       "      <td>T-Shirt</td>\n",
       "      <td>fulfilled</td>\n",
       "      <td>1</td>\n",
       "    </tr>\n",
       "  </tbody>\n",
       "</table>\n",
       "<p>213 rows × 21 columns</p>\n",
       "</div>"
      ],
      "text/plain": [
       "       MERCHANT_ID  ORDER_ID  SHOP_ID ADDRESS_TO_COUNTRY ADDRESS_TO_REGION  \\\n",
       "35         6948170    7466.0  1468748                 DE   RHEINLAND-PFALZ   \n",
       "38         7453498     195.0  2094464                 GB               ENG   \n",
       "119        6860545     279.0  1366702                 GB        SHROPSHIRE   \n",
       "227        6584043    2645.0  1241313                 GB     MID GLAMORGAN   \n",
       "329        6652929    3554.0  1122627                 GB            NOFOLK   \n",
       "...            ...       ...      ...                ...               ...   \n",
       "15132      7389523       6.0  2022186                 DE               NaN   \n",
       "15231      7291940    2839.0  1906136                 DE               NaN   \n",
       "15413      6446058     304.0   897609                 GB               NaN   \n",
       "15452      6999280   16136.0  1533962                 GB            ARGYLL   \n",
       "15504      7275044    1108.0  1885776                 GB              KENT   \n",
       "\n",
       "                 ORDER_DT        FULFILLED_DT  REPRINT_FLAG  \\\n",
       "35    2020-11-07 04:24:34 2020-11-09 14:00:59           NaN   \n",
       "38    2020-11-05 15:05:47 2020-11-11 21:56:21           NaN   \n",
       "119   2020-12-04 16:08:49 2020-12-11 22:08:00           NaN   \n",
       "227   2020-12-20 21:52:49 2021-01-05 21:24:25           NaN   \n",
       "329   2020-10-22 02:32:40 2020-10-26 22:22:39           NaN   \n",
       "...                   ...                 ...           ...   \n",
       "15132 2020-12-01 15:44:20 2020-12-16 14:10:10           NaN   \n",
       "15231 2020-12-16 21:17:03 2020-12-21 02:43:59           NaN   \n",
       "15413 2020-12-25 10:23:49 2021-01-04 22:38:38           NaN   \n",
       "15452 2020-11-18 09:52:06 2020-11-23 21:55:31           NaN   \n",
       "15504 2020-12-03 07:55:49 2020-12-10 21:49:07           NaN   \n",
       "\n",
       "       SALES_CHANNEL_TYPE_ID  TOTAL_COST  ...  MERCHANT_REGISTERED_DT  \\\n",
       "35                         6         713  ...     2019-12-26 07:22:20   \n",
       "38                         9         944  ...     2020-09-27 14:57:40   \n",
       "119                        4        1115  ...     2019-10-11 15:57:25   \n",
       "227                        4        1731  ...     2019-05-12 21:34:43   \n",
       "329                        4        1148  ...     2019-06-06 23:10:51   \n",
       "...                      ...         ...  ...                     ...   \n",
       "15132                      1        3750  ...     2020-09-11 19:38:49   \n",
       "15231                      1        1872  ...     2020-08-06 23:05:08   \n",
       "15413                      4        1354  ...     2019-03-25 22:15:11   \n",
       "15452                      2        1098  ...     2020-02-05 03:12:59   \n",
       "15504                      4        1146  ...     2020-07-31 06:25:57   \n",
       "\n",
       "      SUB_IS_ACTIVE_FLAG            SUB_PLAN SHIPMENT_CARRIER  \\\n",
       "35                  True  business_account_3       ROYAL_MAIL   \n",
       "38                  True  business_account_3       ROYAL_MAIL   \n",
       "119                 True  business_account_3       ROYAL_MAIL   \n",
       "227                 True  business_account_3       ROYAL_MAIL   \n",
       "329                 True  business_account_3       RAYAL_MAIL   \n",
       "...                  ...                 ...              ...   \n",
       "15132              False                 NaN      DHL_GERMANY   \n",
       "15231               True  business_account_3      DHL_GERMANY   \n",
       "15413              False                 NaN       ROYAL_MAIL   \n",
       "15452               True  business_account_3       ROYAL_MAIL   \n",
       "15504               True  business_account_3       ROYAL_MAIL   \n",
       "\n",
       "      SHIPMENT_DELIVERD_DT PRINT_PROVIDER_ID  PRODUCT_BRAND PRODUCT_TYPE  \\\n",
       "35                     NaT                23  Premium Cases   Phone Case   \n",
       "38                     NaT                 6         Gildan      T-Shirt   \n",
       "119                    NaT                 6         Gildan      T-Shirt   \n",
       "227                    NaT                 6          AWDIS   Sweatshirt   \n",
       "329                    NaT                 6   Bella+Canvas      T-Shirt   \n",
       "...                    ...               ...            ...          ...   \n",
       "15132                  NaT                26            B&C   Sweatshirt   \n",
       "15231                  NaT                26          AWDIS       Hoodie   \n",
       "15413                  NaT                 6   Bella+Canvas      T-Shirt   \n",
       "15452                  NaT                 6         Gildan      T-Shirt   \n",
       "15504                  NaT                 6   Bella+Canvas      T-Shirt   \n",
       "\n",
       "      ITEM_STATUS QUANTITY  \n",
       "35      fulfilled        1  \n",
       "38      fulfilled        1  \n",
       "119     fulfilled        1  \n",
       "227     fulfilled        1  \n",
       "329     fulfilled        1  \n",
       "...           ...      ...  \n",
       "15132   fulfilled        1  \n",
       "15231   fulfilled        1  \n",
       "15413   fulfilled        1  \n",
       "15452   fulfilled        1  \n",
       "15504   fulfilled        1  \n",
       "\n",
       "[213 rows x 21 columns]"
      ]
     },
     "execution_count": 60,
     "metadata": {},
     "output_type": "execute_result"
    }
   ],
   "source": [
    "# Why on earth would some carriers have 0.0 delays. Impossible\n",
    "# Solution is to fill in the null values (shipment not delivered) \n",
    "# with the last / max day of entry to be fair to those that delivered\n",
    "printify_df[(printify_df['SHIPMENT_CARRIER'] == 'RAYAL_MAIL') | \n",
    "            (printify_df['SHIPMENT_CARRIER'] == 'ROYAL_MAIL') |\n",
    "            (printify_df['SHIPMENT_CARRIER'] == 'DHL_GERMANY')]"
   ]
  },
  {
   "cell_type": "code",
   "execution_count": 61,
   "id": "7ffc26f2",
   "metadata": {
    "scrolled": true
   },
   "outputs": [
    {
     "data": {
      "text/html": [
       "<div>\n",
       "<style scoped>\n",
       "    .dataframe tbody tr th:only-of-type {\n",
       "        vertical-align: middle;\n",
       "    }\n",
       "\n",
       "    .dataframe tbody tr th {\n",
       "        vertical-align: top;\n",
       "    }\n",
       "\n",
       "    .dataframe thead th {\n",
       "        text-align: right;\n",
       "    }\n",
       "</style>\n",
       "<table border=\"1\" class=\"dataframe\">\n",
       "  <thead>\n",
       "    <tr style=\"text-align: right;\">\n",
       "      <th></th>\n",
       "      <th>Derivered</th>\n",
       "      <th>Canceled</th>\n",
       "    </tr>\n",
       "    <tr>\n",
       "      <th>SHIPMENT_CARRIER</th>\n",
       "      <th></th>\n",
       "      <th></th>\n",
       "    </tr>\n",
       "  </thead>\n",
       "  <tbody>\n",
       "    <tr>\n",
       "      <th>ASENDIA</th>\n",
       "      <td>179</td>\n",
       "      <td>0.0</td>\n",
       "    </tr>\n",
       "    <tr>\n",
       "      <th>CANADA_POST</th>\n",
       "      <td>223</td>\n",
       "      <td>3.0</td>\n",
       "    </tr>\n",
       "    <tr>\n",
       "      <th>DHL</th>\n",
       "      <td>499</td>\n",
       "      <td>1.0</td>\n",
       "    </tr>\n",
       "    <tr>\n",
       "      <th>DHL_EXPRESS</th>\n",
       "      <td>9</td>\n",
       "      <td>0.0</td>\n",
       "    </tr>\n",
       "    <tr>\n",
       "      <th>DHL_GERMANY</th>\n",
       "      <td>73</td>\n",
       "      <td>0.0</td>\n",
       "    </tr>\n",
       "    <tr>\n",
       "      <th>DPD</th>\n",
       "      <td>76</td>\n",
       "      <td>0.0</td>\n",
       "    </tr>\n",
       "    <tr>\n",
       "      <th>FEDEX</th>\n",
       "      <td>2</td>\n",
       "      <td>0.0</td>\n",
       "    </tr>\n",
       "    <tr>\n",
       "      <th>GLOBEGISTICS</th>\n",
       "      <td>346</td>\n",
       "      <td>0.0</td>\n",
       "    </tr>\n",
       "    <tr>\n",
       "      <th>OSM_WORLDWIDE</th>\n",
       "      <td>1</td>\n",
       "      <td>0.0</td>\n",
       "    </tr>\n",
       "    <tr>\n",
       "      <th>RAYAL_MAIL</th>\n",
       "      <td>7</td>\n",
       "      <td>0.0</td>\n",
       "    </tr>\n",
       "    <tr>\n",
       "      <th>ROYAL_MAIL</th>\n",
       "      <td>133</td>\n",
       "      <td>0.0</td>\n",
       "    </tr>\n",
       "    <tr>\n",
       "      <th>UPS</th>\n",
       "      <td>200</td>\n",
       "      <td>1.0</td>\n",
       "    </tr>\n",
       "    <tr>\n",
       "      <th>UPS_MAIL_INNOVATIONS</th>\n",
       "      <td>764</td>\n",
       "      <td>0.0</td>\n",
       "    </tr>\n",
       "    <tr>\n",
       "      <th>USPS</th>\n",
       "      <td>11056</td>\n",
       "      <td>30.0</td>\n",
       "    </tr>\n",
       "    <tr>\n",
       "      <th>unknown</th>\n",
       "      <td>121</td>\n",
       "      <td>0.0</td>\n",
       "    </tr>\n",
       "    <tr>\n",
       "      <th>ups_</th>\n",
       "      <td>9</td>\n",
       "      <td>0.0</td>\n",
       "    </tr>\n",
       "  </tbody>\n",
       "</table>\n",
       "</div>"
      ],
      "text/plain": [
       "                      Derivered  Canceled\n",
       "SHIPMENT_CARRIER                         \n",
       "ASENDIA                     179       0.0\n",
       "CANADA_POST                 223       3.0\n",
       "DHL                         499       1.0\n",
       "DHL_EXPRESS                   9       0.0\n",
       "DHL_GERMANY                  73       0.0\n",
       "DPD                          76       0.0\n",
       "FEDEX                         2       0.0\n",
       "GLOBEGISTICS                346       0.0\n",
       "OSM_WORLDWIDE                 1       0.0\n",
       "RAYAL_MAIL                    7       0.0\n",
       "ROYAL_MAIL                  133       0.0\n",
       "UPS                         200       1.0\n",
       "UPS_MAIL_INNOVATIONS        764       0.0\n",
       "USPS                      11056      30.0\n",
       "unknown                     121       0.0\n",
       "ups_                          9       0.0"
      ]
     },
     "execution_count": 61,
     "metadata": {},
     "output_type": "execute_result"
    }
   ],
   "source": [
    "# Capture the needed columns \n",
    "printify_df_temp = printify_df[['SHIPMENT_CARRIER','ITEM_STATUS']]\n",
    "\n",
    "# If a shipment status faals in this category, it is considered successful\n",
    "# and classified as delivered\n",
    "carrier_delivered = printify_df_temp[(printify_df['ITEM_STATUS'] == 'shipment_delivered') | \n",
    "                                     (printify_df['ITEM_STATUS'] == 'fulfilled') |\n",
    "                                     (printify_df['ITEM_STATUS'] == 'shipment_in_transit') | \n",
    "                                     (printify_df['ITEM_STATUS'] == 'shipment_out_for_delivery') | \n",
    "                                     (printify_df['ITEM_STATUS'] == 'shipment_available_for_pickup') | \n",
    "                                     (printify_df['ITEM_STATUS'] == 'in-production') | \n",
    "                                     (printify_df['ITEM_STATUS'] == 'on-hold') |\n",
    "                                     (printify_df['ITEM_STATUS'] == 'shipment_pre_transit') |\n",
    "                                     (printify_df['ITEM_STATUS'] == None)].groupby(['SHIPMENT_CARRIER']).count()\n",
    "\n",
    "# This are considered canceled on the fault of a shipping carrier\n",
    "# no 'canceled' attribute is counted since that is not a carriers fault.\n",
    "carrier_delivered['Canceled'] = (printify_df_temp[\n",
    "                                                  (printify_df['ITEM_STATUS'] == 'shipment_error') |\n",
    "                                                  (printify_df['ITEM_STATUS'] == 'shipment_cancelled') |\n",
    "                                                  (printify_df['ITEM_STATUS'] == 'shipment_return_to_sender') | \n",
    "                                                  (printify_df['ITEM_STATUS'] == 'shipment_failure')].groupby(['SHIPMENT_CARRIER']).count()).fillna(0)\n",
    "\n",
    "carrier_delivered.rename(columns={'ITEM_STATUS':'Derivered'}, inplace=True)\n",
    "carrier_delivered.fillna(0)"
   ]
  },
  {
   "cell_type": "code",
   "execution_count": 62,
   "id": "b18eeeaf",
   "metadata": {},
   "outputs": [
    {
     "data": {
      "text/html": [
       "<div>\n",
       "<style scoped>\n",
       "    .dataframe tbody tr th:only-of-type {\n",
       "        vertical-align: middle;\n",
       "    }\n",
       "\n",
       "    .dataframe tbody tr th {\n",
       "        vertical-align: top;\n",
       "    }\n",
       "\n",
       "    .dataframe thead th {\n",
       "        text-align: right;\n",
       "    }\n",
       "</style>\n",
       "<table border=\"1\" class=\"dataframe\">\n",
       "  <thead>\n",
       "    <tr style=\"text-align: right;\">\n",
       "      <th></th>\n",
       "      <th>QUANTITY</th>\n",
       "      <th>Shipment_failed</th>\n",
       "    </tr>\n",
       "    <tr>\n",
       "      <th>SHIPMENT_CARRIER</th>\n",
       "      <th></th>\n",
       "      <th></th>\n",
       "    </tr>\n",
       "  </thead>\n",
       "  <tbody>\n",
       "    <tr>\n",
       "      <th>CANADA_POST</th>\n",
       "      <td>3</td>\n",
       "      <td>3</td>\n",
       "    </tr>\n",
       "    <tr>\n",
       "      <th>DHL</th>\n",
       "      <td>1</td>\n",
       "      <td>1</td>\n",
       "    </tr>\n",
       "    <tr>\n",
       "      <th>UPS</th>\n",
       "      <td>1</td>\n",
       "      <td>1</td>\n",
       "    </tr>\n",
       "    <tr>\n",
       "      <th>USPS</th>\n",
       "      <td>30</td>\n",
       "      <td>30</td>\n",
       "    </tr>\n",
       "  </tbody>\n",
       "</table>\n",
       "</div>"
      ],
      "text/plain": [
       "                  QUANTITY  Shipment_failed\n",
       "SHIPMENT_CARRIER                           \n",
       "CANADA_POST              3                3\n",
       "DHL                      1                1\n",
       "UPS                      1                1\n",
       "USPS                    30               30"
      ]
     },
     "execution_count": 62,
     "metadata": {},
     "output_type": "execute_result"
    }
   ],
   "source": [
    "# Interesting case from above where no shipment is delivered yet\n",
    "# This is not used later since it is captured int the canceled column above\n",
    "printify_df_temp = printify_df[['SHIPMENT_CARRIER', 'QUANTITY','ITEM_STATUS']]\n",
    "\n",
    "# This are considered canceled on the fault of a shipping carrier\n",
    "# no 'canceled' attribute is counted since that is not a carriers fault.\n",
    "shipment_failure = printify_df_temp[(printify_df['ITEM_STATUS'] == 'shipment_error') |\n",
    "                                                  (printify_df['ITEM_STATUS'] == 'shipment_cancelled') |\n",
    "                                                  (printify_df['ITEM_STATUS'] == 'shipment_return_to_sender') | \n",
    "                                                  (printify_df['ITEM_STATUS'] == 'shipment_failure')].groupby(['SHIPMENT_CARRIER']).count()\n",
    "\n",
    "shipment_failure.rename(columns={'ITEM_STATUS':'Shipment_failed'}, inplace=True)\n",
    "shipment_failure"
   ]
  },
  {
   "cell_type": "code",
   "execution_count": 63,
   "id": "6648fc73",
   "metadata": {
    "scrolled": true
   },
   "outputs": [
    {
     "data": {
      "text/html": [
       "<div>\n",
       "<style scoped>\n",
       "    .dataframe tbody tr th:only-of-type {\n",
       "        vertical-align: middle;\n",
       "    }\n",
       "\n",
       "    .dataframe tbody tr th {\n",
       "        vertical-align: top;\n",
       "    }\n",
       "\n",
       "    .dataframe thead th {\n",
       "        text-align: right;\n",
       "    }\n",
       "</style>\n",
       "<table border=\"1\" class=\"dataframe\">\n",
       "  <thead>\n",
       "    <tr style=\"text-align: right;\">\n",
       "      <th></th>\n",
       "      <th>QUANTITY</th>\n",
       "      <th>TOTAL_COST</th>\n",
       "      <th>TOTAL_SHIPPING</th>\n",
       "      <th>Cost_per_product_X1000</th>\n",
       "    </tr>\n",
       "    <tr>\n",
       "      <th>SHIPMENT_CARRIER</th>\n",
       "      <th></th>\n",
       "      <th></th>\n",
       "      <th></th>\n",
       "      <th></th>\n",
       "    </tr>\n",
       "  </thead>\n",
       "  <tbody>\n",
       "    <tr>\n",
       "      <th>ASENDIA</th>\n",
       "      <td>181</td>\n",
       "      <td>307732</td>\n",
       "      <td>262208</td>\n",
       "      <td>259.973000</td>\n",
       "    </tr>\n",
       "    <tr>\n",
       "      <th>CANADA_POST</th>\n",
       "      <td>258</td>\n",
       "      <td>518687</td>\n",
       "      <td>227617</td>\n",
       "      <td>215.754163</td>\n",
       "    </tr>\n",
       "    <tr>\n",
       "      <th>DHL</th>\n",
       "      <td>646</td>\n",
       "      <td>1446024</td>\n",
       "      <td>760492</td>\n",
       "      <td>675.588361</td>\n",
       "    </tr>\n",
       "    <tr>\n",
       "      <th>DHL_EXPRESS</th>\n",
       "      <td>10</td>\n",
       "      <td>43230</td>\n",
       "      <td>33380</td>\n",
       "      <td>32.680000</td>\n",
       "    </tr>\n",
       "    <tr>\n",
       "      <th>DHL_GERMANY</th>\n",
       "      <td>74</td>\n",
       "      <td>139338</td>\n",
       "      <td>37459</td>\n",
       "      <td>37.219000</td>\n",
       "    </tr>\n",
       "    <tr>\n",
       "      <th>DPD</th>\n",
       "      <td>79</td>\n",
       "      <td>86126</td>\n",
       "      <td>49360</td>\n",
       "      <td>47.605000</td>\n",
       "    </tr>\n",
       "    <tr>\n",
       "      <th>FEDEX</th>\n",
       "      <td>2</td>\n",
       "      <td>3224</td>\n",
       "      <td>5024</td>\n",
       "      <td>5.024000</td>\n",
       "    </tr>\n",
       "    <tr>\n",
       "      <th>GLOBEGISTICS</th>\n",
       "      <td>356</td>\n",
       "      <td>643736</td>\n",
       "      <td>570460</td>\n",
       "      <td>558.740000</td>\n",
       "    </tr>\n",
       "    <tr>\n",
       "      <th>OSM_WORLDWIDE</th>\n",
       "      <td>1</td>\n",
       "      <td>739</td>\n",
       "      <td>400</td>\n",
       "      <td>0.400000</td>\n",
       "    </tr>\n",
       "    <tr>\n",
       "      <th>RAYAL_MAIL</th>\n",
       "      <td>7</td>\n",
       "      <td>8756</td>\n",
       "      <td>4547</td>\n",
       "      <td>4.547000</td>\n",
       "    </tr>\n",
       "    <tr>\n",
       "      <th>ROYAL_MAIL</th>\n",
       "      <td>134</td>\n",
       "      <td>257258</td>\n",
       "      <td>118928</td>\n",
       "      <td>117.966000</td>\n",
       "    </tr>\n",
       "    <tr>\n",
       "      <th>UPS</th>\n",
       "      <td>229</td>\n",
       "      <td>505548</td>\n",
       "      <td>342440</td>\n",
       "      <td>328.075400</td>\n",
       "    </tr>\n",
       "    <tr>\n",
       "      <th>UPS_MAIL_INNOVATIONS</th>\n",
       "      <td>830</td>\n",
       "      <td>1916194</td>\n",
       "      <td>989639</td>\n",
       "      <td>955.385710</td>\n",
       "    </tr>\n",
       "    <tr>\n",
       "      <th>USPS</th>\n",
       "      <td>11824</td>\n",
       "      <td>22123039</td>\n",
       "      <td>10241931</td>\n",
       "      <td>9864.838624</td>\n",
       "    </tr>\n",
       "    <tr>\n",
       "      <th>unknown</th>\n",
       "      <td>124</td>\n",
       "      <td>99857</td>\n",
       "      <td>107347</td>\n",
       "      <td>103.972000</td>\n",
       "    </tr>\n",
       "    <tr>\n",
       "      <th>ups_</th>\n",
       "      <td>12</td>\n",
       "      <td>12963</td>\n",
       "      <td>11666</td>\n",
       "      <td>10.601000</td>\n",
       "    </tr>\n",
       "  </tbody>\n",
       "</table>\n",
       "</div>"
      ],
      "text/plain": [
       "                      QUANTITY  TOTAL_COST  TOTAL_SHIPPING  \\\n",
       "SHIPMENT_CARRIER                                             \n",
       "ASENDIA                    181      307732          262208   \n",
       "CANADA_POST                258      518687          227617   \n",
       "DHL                        646     1446024          760492   \n",
       "DHL_EXPRESS                 10       43230           33380   \n",
       "DHL_GERMANY                 74      139338           37459   \n",
       "DPD                         79       86126           49360   \n",
       "FEDEX                        2        3224            5024   \n",
       "GLOBEGISTICS               356      643736          570460   \n",
       "OSM_WORLDWIDE                1         739             400   \n",
       "RAYAL_MAIL                   7        8756            4547   \n",
       "ROYAL_MAIL                 134      257258          118928   \n",
       "UPS                        229      505548          342440   \n",
       "UPS_MAIL_INNOVATIONS       830     1916194          989639   \n",
       "USPS                     11824    22123039        10241931   \n",
       "unknown                    124       99857          107347   \n",
       "ups_                        12       12963           11666   \n",
       "\n",
       "                      Cost_per_product_X1000  \n",
       "SHIPMENT_CARRIER                              \n",
       "ASENDIA                           259.973000  \n",
       "CANADA_POST                       215.754163  \n",
       "DHL                               675.588361  \n",
       "DHL_EXPRESS                        32.680000  \n",
       "DHL_GERMANY                        37.219000  \n",
       "DPD                                47.605000  \n",
       "FEDEX                               5.024000  \n",
       "GLOBEGISTICS                      558.740000  \n",
       "OSM_WORLDWIDE                       0.400000  \n",
       "RAYAL_MAIL                          4.547000  \n",
       "ROYAL_MAIL                        117.966000  \n",
       "UPS                               328.075400  \n",
       "UPS_MAIL_INNOVATIONS              955.385710  \n",
       "USPS                             9864.838624  \n",
       "unknown                           103.972000  \n",
       "ups_                               10.601000  "
      ]
     },
     "execution_count": 63,
     "metadata": {},
     "output_type": "execute_result"
    }
   ],
   "source": [
    "# Capture the data needed\n",
    "printify_df_temp1 = printify_df[['SHIPMENT_CARRIER', 'TOTAL_COST','TOTAL_SHIPPING','QUANTITY']]\n",
    "\n",
    "# create a column whose value is the total shipping cost divided by the number of orders delivered \n",
    "printify_df_temp1['Cost_per_product_X1000'] = ((printify_df['TOTAL_SHIPPING'] / printify_df['QUANTITY'])) / 1000\n",
    "\n",
    "# Get the sum of all the columns grouped by the carrier provider\n",
    "shippment_cost = printify_df_temp1[['SHIPMENT_CARRIER', 'QUANTITY', 'TOTAL_COST', 'TOTAL_SHIPPING','Cost_per_product_X1000']].groupby(['SHIPMENT_CARRIER']).sum()\n",
    "shippment_cost"
   ]
  },
  {
   "cell_type": "code",
   "execution_count": 64,
   "id": "a817281c",
   "metadata": {
    "scrolled": true
   },
   "outputs": [
    {
     "data": {
      "text/html": [
       "<div>\n",
       "<style scoped>\n",
       "    .dataframe tbody tr th:only-of-type {\n",
       "        vertical-align: middle;\n",
       "    }\n",
       "\n",
       "    .dataframe tbody tr th {\n",
       "        vertical-align: top;\n",
       "    }\n",
       "\n",
       "    .dataframe thead th {\n",
       "        text-align: right;\n",
       "    }\n",
       "</style>\n",
       "<table border=\"1\" class=\"dataframe\">\n",
       "  <thead>\n",
       "    <tr style=\"text-align: right;\">\n",
       "      <th></th>\n",
       "      <th>Popular_country</th>\n",
       "    </tr>\n",
       "    <tr>\n",
       "      <th>SHIPMENT_CARRIER</th>\n",
       "      <th></th>\n",
       "    </tr>\n",
       "  </thead>\n",
       "  <tbody>\n",
       "    <tr>\n",
       "      <th>ASENDIA</th>\n",
       "      <td>CA</td>\n",
       "    </tr>\n",
       "    <tr>\n",
       "      <th>CANADA_POST</th>\n",
       "      <td>CA</td>\n",
       "    </tr>\n",
       "    <tr>\n",
       "      <th>DHL</th>\n",
       "      <td>US</td>\n",
       "    </tr>\n",
       "    <tr>\n",
       "      <th>DHL_EXPRESS</th>\n",
       "      <td>US</td>\n",
       "    </tr>\n",
       "    <tr>\n",
       "      <th>DHL_GERMANY</th>\n",
       "      <td>DE</td>\n",
       "    </tr>\n",
       "    <tr>\n",
       "      <th>DPD</th>\n",
       "      <td>DE</td>\n",
       "    </tr>\n",
       "    <tr>\n",
       "      <th>FEDEX</th>\n",
       "      <td>US</td>\n",
       "    </tr>\n",
       "    <tr>\n",
       "      <th>GLOBEGISTICS</th>\n",
       "      <td>CA</td>\n",
       "    </tr>\n",
       "    <tr>\n",
       "      <th>OSM_WORLDWIDE</th>\n",
       "      <td>US</td>\n",
       "    </tr>\n",
       "    <tr>\n",
       "      <th>RAYAL_MAIL</th>\n",
       "      <td>GB</td>\n",
       "    </tr>\n",
       "    <tr>\n",
       "      <th>ROYAL_MAIL</th>\n",
       "      <td>GB</td>\n",
       "    </tr>\n",
       "    <tr>\n",
       "      <th>UPS</th>\n",
       "      <td>US</td>\n",
       "    </tr>\n",
       "    <tr>\n",
       "      <th>UPS_MAIL_INNOVATIONS</th>\n",
       "      <td>US</td>\n",
       "    </tr>\n",
       "    <tr>\n",
       "      <th>USPS</th>\n",
       "      <td>US</td>\n",
       "    </tr>\n",
       "    <tr>\n",
       "      <th>unknown</th>\n",
       "      <td>GB</td>\n",
       "    </tr>\n",
       "    <tr>\n",
       "      <th>ups_</th>\n",
       "      <td>US</td>\n",
       "    </tr>\n",
       "  </tbody>\n",
       "</table>\n",
       "</div>"
      ],
      "text/plain": [
       "                     Popular_country\n",
       "SHIPMENT_CARRIER                    \n",
       "ASENDIA                           CA\n",
       "CANADA_POST                       CA\n",
       "DHL                               US\n",
       "DHL_EXPRESS                       US\n",
       "DHL_GERMANY                       DE\n",
       "DPD                               DE\n",
       "FEDEX                             US\n",
       "GLOBEGISTICS                      CA\n",
       "OSM_WORLDWIDE                     US\n",
       "RAYAL_MAIL                        GB\n",
       "ROYAL_MAIL                        GB\n",
       "UPS                               US\n",
       "UPS_MAIL_INNOVATIONS              US\n",
       "USPS                              US\n",
       "unknown                           GB\n",
       "ups_                              US"
      ]
     },
     "execution_count": 64,
     "metadata": {},
     "output_type": "execute_result"
    }
   ],
   "source": [
    "# Get the mode of country column for data grouped for each carrier\n",
    "carrier_poplular_country = printify_df[['SHIPMENT_CARRIER', 'ADDRESS_TO_COUNTRY']].groupby(['SHIPMENT_CARRIER'], sort=True).agg(pd.Series.mode)\n",
    "\n",
    "# Rename columns\n",
    "carrier_poplular_country.rename(columns={'ADDRESS_TO_COUNTRY':'Popular_country'}, inplace=True)\n",
    "carrier_poplular_country"
   ]
  },
  {
   "cell_type": "code",
   "execution_count": 65,
   "id": "d9accd3e",
   "metadata": {},
   "outputs": [
    {
     "data": {
      "text/html": [
       "<div>\n",
       "<style scoped>\n",
       "    .dataframe tbody tr th:only-of-type {\n",
       "        vertical-align: middle;\n",
       "    }\n",
       "\n",
       "    .dataframe tbody tr th {\n",
       "        vertical-align: top;\n",
       "    }\n",
       "\n",
       "    .dataframe thead th {\n",
       "        text-align: right;\n",
       "    }\n",
       "</style>\n",
       "<table border=\"1\" class=\"dataframe\">\n",
       "  <thead>\n",
       "    <tr style=\"text-align: right;\">\n",
       "      <th></th>\n",
       "      <th>Popular_product</th>\n",
       "    </tr>\n",
       "    <tr>\n",
       "      <th>SHIPMENT_CARRIER</th>\n",
       "      <th></th>\n",
       "    </tr>\n",
       "  </thead>\n",
       "  <tbody>\n",
       "    <tr>\n",
       "      <th>ASENDIA</th>\n",
       "      <td>T-Shirt</td>\n",
       "    </tr>\n",
       "    <tr>\n",
       "      <th>CANADA_POST</th>\n",
       "      <td>T-Shirt</td>\n",
       "    </tr>\n",
       "    <tr>\n",
       "      <th>DHL</th>\n",
       "      <td>Mug</td>\n",
       "    </tr>\n",
       "    <tr>\n",
       "      <th>DHL_EXPRESS</th>\n",
       "      <td>Poster</td>\n",
       "    </tr>\n",
       "    <tr>\n",
       "      <th>DHL_GERMANY</th>\n",
       "      <td>T-Shirt</td>\n",
       "    </tr>\n",
       "    <tr>\n",
       "      <th>DPD</th>\n",
       "      <td>Mug</td>\n",
       "    </tr>\n",
       "    <tr>\n",
       "      <th>FEDEX</th>\n",
       "      <td>[All Over Prints, Home Decor]</td>\n",
       "    </tr>\n",
       "    <tr>\n",
       "      <th>GLOBEGISTICS</th>\n",
       "      <td>T-Shirt</td>\n",
       "    </tr>\n",
       "    <tr>\n",
       "      <th>OSM_WORLDWIDE</th>\n",
       "      <td>T-Shirt</td>\n",
       "    </tr>\n",
       "    <tr>\n",
       "      <th>RAYAL_MAIL</th>\n",
       "      <td>T-Shirt</td>\n",
       "    </tr>\n",
       "    <tr>\n",
       "      <th>ROYAL_MAIL</th>\n",
       "      <td>T-Shirt</td>\n",
       "    </tr>\n",
       "    <tr>\n",
       "      <th>UPS</th>\n",
       "      <td>Canvas</td>\n",
       "    </tr>\n",
       "    <tr>\n",
       "      <th>UPS_MAIL_INNOVATIONS</th>\n",
       "      <td>Poster</td>\n",
       "    </tr>\n",
       "    <tr>\n",
       "      <th>USPS</th>\n",
       "      <td>T-Shirt</td>\n",
       "    </tr>\n",
       "    <tr>\n",
       "      <th>unknown</th>\n",
       "      <td>Mug</td>\n",
       "    </tr>\n",
       "    <tr>\n",
       "      <th>ups_</th>\n",
       "      <td>[Canvas, Mug]</td>\n",
       "    </tr>\n",
       "  </tbody>\n",
       "</table>\n",
       "</div>"
      ],
      "text/plain": [
       "                                    Popular_product\n",
       "SHIPMENT_CARRIER                                   \n",
       "ASENDIA                                     T-Shirt\n",
       "CANADA_POST                                 T-Shirt\n",
       "DHL                                             Mug\n",
       "DHL_EXPRESS                                  Poster\n",
       "DHL_GERMANY                                 T-Shirt\n",
       "DPD                                             Mug\n",
       "FEDEX                 [All Over Prints, Home Decor]\n",
       "GLOBEGISTICS                                T-Shirt\n",
       "OSM_WORLDWIDE                               T-Shirt\n",
       "RAYAL_MAIL                                  T-Shirt\n",
       "ROYAL_MAIL                                  T-Shirt\n",
       "UPS                                          Canvas\n",
       "UPS_MAIL_INNOVATIONS                         Poster\n",
       "USPS                                        T-Shirt\n",
       "unknown                                         Mug\n",
       "ups_                                  [Canvas, Mug]"
      ]
     },
     "execution_count": 65,
     "metadata": {},
     "output_type": "execute_result"
    }
   ],
   "source": [
    "# Get the mode of product column for data grouped for each carrier\n",
    "carrier_poplular_product = printify_df[['SHIPMENT_CARRIER', 'PRODUCT_TYPE']].groupby(['SHIPMENT_CARRIER'], sort=True).agg(pd.Series.mode)\n",
    "\n",
    "# Rename columns\n",
    "carrier_poplular_product.rename(columns={'PRODUCT_TYPE':'Popular_product'}, inplace=True)\n",
    "carrier_poplular_product"
   ]
  },
  {
   "cell_type": "code",
   "execution_count": 66,
   "id": "c615f993",
   "metadata": {},
   "outputs": [
    {
     "data": {
      "text/html": [
       "<div>\n",
       "<style scoped>\n",
       "    .dataframe tbody tr th:only-of-type {\n",
       "        vertical-align: middle;\n",
       "    }\n",
       "\n",
       "    .dataframe tbody tr th {\n",
       "        vertical-align: top;\n",
       "    }\n",
       "\n",
       "    .dataframe thead th {\n",
       "        text-align: right;\n",
       "    }\n",
       "</style>\n",
       "<table border=\"1\" class=\"dataframe\">\n",
       "  <thead>\n",
       "    <tr style=\"text-align: right;\">\n",
       "      <th></th>\n",
       "      <th>Popular_printer</th>\n",
       "    </tr>\n",
       "    <tr>\n",
       "      <th>SHIPMENT_CARRIER</th>\n",
       "      <th></th>\n",
       "    </tr>\n",
       "  </thead>\n",
       "  <tbody>\n",
       "    <tr>\n",
       "      <th>ASENDIA</th>\n",
       "      <td>3</td>\n",
       "    </tr>\n",
       "    <tr>\n",
       "      <th>CANADA_POST</th>\n",
       "      <td>41</td>\n",
       "    </tr>\n",
       "    <tr>\n",
       "      <th>DHL</th>\n",
       "      <td>1</td>\n",
       "    </tr>\n",
       "    <tr>\n",
       "      <th>DHL_EXPRESS</th>\n",
       "      <td>36</td>\n",
       "    </tr>\n",
       "    <tr>\n",
       "      <th>DHL_GERMANY</th>\n",
       "      <td>26</td>\n",
       "    </tr>\n",
       "    <tr>\n",
       "      <th>DPD</th>\n",
       "      <td>30</td>\n",
       "    </tr>\n",
       "    <tr>\n",
       "      <th>FEDEX</th>\n",
       "      <td>1</td>\n",
       "    </tr>\n",
       "    <tr>\n",
       "      <th>GLOBEGISTICS</th>\n",
       "      <td>29</td>\n",
       "    </tr>\n",
       "    <tr>\n",
       "      <th>OSM_WORLDWIDE</th>\n",
       "      <td>3</td>\n",
       "    </tr>\n",
       "    <tr>\n",
       "      <th>RAYAL_MAIL</th>\n",
       "      <td>6</td>\n",
       "    </tr>\n",
       "    <tr>\n",
       "      <th>ROYAL_MAIL</th>\n",
       "      <td>6</td>\n",
       "    </tr>\n",
       "    <tr>\n",
       "      <th>UPS</th>\n",
       "      <td>2</td>\n",
       "    </tr>\n",
       "    <tr>\n",
       "      <th>UPS_MAIL_INNOVATIONS</th>\n",
       "      <td>2</td>\n",
       "    </tr>\n",
       "    <tr>\n",
       "      <th>USPS</th>\n",
       "      <td>29</td>\n",
       "    </tr>\n",
       "    <tr>\n",
       "      <th>unknown</th>\n",
       "      <td>9</td>\n",
       "    </tr>\n",
       "    <tr>\n",
       "      <th>ups_</th>\n",
       "      <td>[2, 16]</td>\n",
       "    </tr>\n",
       "  </tbody>\n",
       "</table>\n",
       "</div>"
      ],
      "text/plain": [
       "                     Popular_printer\n",
       "SHIPMENT_CARRIER                    \n",
       "ASENDIA                            3\n",
       "CANADA_POST                       41\n",
       "DHL                                1\n",
       "DHL_EXPRESS                       36\n",
       "DHL_GERMANY                       26\n",
       "DPD                               30\n",
       "FEDEX                              1\n",
       "GLOBEGISTICS                      29\n",
       "OSM_WORLDWIDE                      3\n",
       "RAYAL_MAIL                         6\n",
       "ROYAL_MAIL                         6\n",
       "UPS                                2\n",
       "UPS_MAIL_INNOVATIONS               2\n",
       "USPS                              29\n",
       "unknown                            9\n",
       "ups_                         [2, 16]"
      ]
     },
     "execution_count": 66,
     "metadata": {},
     "output_type": "execute_result"
    }
   ],
   "source": [
    "# Get the mode of print providers column for data grouped for each carrier\n",
    "carrier_poplular_printer = printify_df[['SHIPMENT_CARRIER', 'PRINT_PROVIDER_ID']].groupby(['SHIPMENT_CARRIER'], sort=True).agg(pd.Series.mode)\n",
    "\n",
    "# Rename columns\n",
    "carrier_poplular_printer.rename(columns={'PRINT_PROVIDER_ID':'Popular_printer'}, inplace=True)\n",
    "carrier_poplular_printer"
   ]
  },
  {
   "cell_type": "code",
   "execution_count": 67,
   "id": "3cef0be4",
   "metadata": {},
   "outputs": [
    {
     "data": {
      "text/html": [
       "<div>\n",
       "<style scoped>\n",
       "    .dataframe tbody tr th:only-of-type {\n",
       "        vertical-align: middle;\n",
       "    }\n",
       "\n",
       "    .dataframe tbody tr th {\n",
       "        vertical-align: top;\n",
       "    }\n",
       "\n",
       "    .dataframe thead th {\n",
       "        text-align: right;\n",
       "    }\n",
       "</style>\n",
       "<table border=\"1\" class=\"dataframe\">\n",
       "  <thead>\n",
       "    <tr style=\"text-align: right;\">\n",
       "      <th></th>\n",
       "      <th>Popular_merchant</th>\n",
       "    </tr>\n",
       "    <tr>\n",
       "      <th>SHIPMENT_CARRIER</th>\n",
       "      <th></th>\n",
       "    </tr>\n",
       "  </thead>\n",
       "  <tbody>\n",
       "    <tr>\n",
       "      <th>ASENDIA</th>\n",
       "      <td>7160379</td>\n",
       "    </tr>\n",
       "    <tr>\n",
       "      <th>CANADA_POST</th>\n",
       "      <td>7143681</td>\n",
       "    </tr>\n",
       "    <tr>\n",
       "      <th>DHL</th>\n",
       "      <td>5755049</td>\n",
       "    </tr>\n",
       "    <tr>\n",
       "      <th>DHL_EXPRESS</th>\n",
       "      <td>5755049</td>\n",
       "    </tr>\n",
       "    <tr>\n",
       "      <th>DHL_GERMANY</th>\n",
       "      <td>7156242</td>\n",
       "    </tr>\n",
       "    <tr>\n",
       "      <th>DPD</th>\n",
       "      <td>7019548</td>\n",
       "    </tr>\n",
       "    <tr>\n",
       "      <th>FEDEX</th>\n",
       "      <td>[6062712, 6612042]</td>\n",
       "    </tr>\n",
       "    <tr>\n",
       "      <th>GLOBEGISTICS</th>\n",
       "      <td>6799169</td>\n",
       "    </tr>\n",
       "    <tr>\n",
       "      <th>OSM_WORLDWIDE</th>\n",
       "      <td>6172284</td>\n",
       "    </tr>\n",
       "    <tr>\n",
       "      <th>RAYAL_MAIL</th>\n",
       "      <td>[6144891, 6159039, 6652929, 6999280, 7019548, ...</td>\n",
       "    </tr>\n",
       "    <tr>\n",
       "      <th>ROYAL_MAIL</th>\n",
       "      <td>[6999280, 7453498]</td>\n",
       "    </tr>\n",
       "    <tr>\n",
       "      <th>UPS</th>\n",
       "      <td>7158456</td>\n",
       "    </tr>\n",
       "    <tr>\n",
       "      <th>UPS_MAIL_INNOVATIONS</th>\n",
       "      <td>6852170</td>\n",
       "    </tr>\n",
       "    <tr>\n",
       "      <th>USPS</th>\n",
       "      <td>5755049</td>\n",
       "    </tr>\n",
       "    <tr>\n",
       "      <th>unknown</th>\n",
       "      <td>1819516</td>\n",
       "    </tr>\n",
       "    <tr>\n",
       "      <th>ups_</th>\n",
       "      <td>[5828399, 6284703]</td>\n",
       "    </tr>\n",
       "  </tbody>\n",
       "</table>\n",
       "</div>"
      ],
      "text/plain": [
       "                                                       Popular_merchant\n",
       "SHIPMENT_CARRIER                                                       \n",
       "ASENDIA                                                         7160379\n",
       "CANADA_POST                                                     7143681\n",
       "DHL                                                             5755049\n",
       "DHL_EXPRESS                                                     5755049\n",
       "DHL_GERMANY                                                     7156242\n",
       "DPD                                                             7019548\n",
       "FEDEX                                                [6062712, 6612042]\n",
       "GLOBEGISTICS                                                    6799169\n",
       "OSM_WORLDWIDE                                                   6172284\n",
       "RAYAL_MAIL            [6144891, 6159039, 6652929, 6999280, 7019548, ...\n",
       "ROYAL_MAIL                                           [6999280, 7453498]\n",
       "UPS                                                             7158456\n",
       "UPS_MAIL_INNOVATIONS                                            6852170\n",
       "USPS                                                            5755049\n",
       "unknown                                                         1819516\n",
       "ups_                                                 [5828399, 6284703]"
      ]
     },
     "execution_count": 67,
     "metadata": {},
     "output_type": "execute_result"
    }
   ],
   "source": [
    "# Get the mode of merchants column for data grouped for each carrier\n",
    "carrier_poplular_merchant = printify_df[['SHIPMENT_CARRIER', 'MERCHANT_ID']].groupby(['SHIPMENT_CARRIER'], sort=True).agg(pd.Series.mode)\n",
    "\n",
    "# Rename columns\n",
    "carrier_poplular_merchant.rename(columns={'MERCHANT_ID':'Popular_merchant'}, inplace=True)\n",
    "carrier_poplular_merchant"
   ]
  },
  {
   "cell_type": "code",
   "execution_count": 68,
   "id": "2b6d6163",
   "metadata": {},
   "outputs": [
    {
     "data": {
      "text/html": [
       "<div>\n",
       "<style scoped>\n",
       "    .dataframe tbody tr th:only-of-type {\n",
       "        vertical-align: middle;\n",
       "    }\n",
       "\n",
       "    .dataframe tbody tr th {\n",
       "        vertical-align: top;\n",
       "    }\n",
       "\n",
       "    .dataframe thead th {\n",
       "        text-align: right;\n",
       "    }\n",
       "</style>\n",
       "<table border=\"1\" class=\"dataframe\">\n",
       "  <thead>\n",
       "    <tr style=\"text-align: right;\">\n",
       "      <th></th>\n",
       "      <th>Popular_country</th>\n",
       "      <th>Popular_product</th>\n",
       "      <th>Popular_printer</th>\n",
       "      <th>Popular_merchant</th>\n",
       "    </tr>\n",
       "    <tr>\n",
       "      <th>SHIPMENT_CARRIER</th>\n",
       "      <th></th>\n",
       "      <th></th>\n",
       "      <th></th>\n",
       "      <th></th>\n",
       "    </tr>\n",
       "  </thead>\n",
       "  <tbody>\n",
       "    <tr>\n",
       "      <th>ASENDIA</th>\n",
       "      <td>CA</td>\n",
       "      <td>T-Shirt</td>\n",
       "      <td>3</td>\n",
       "      <td>7160379</td>\n",
       "    </tr>\n",
       "    <tr>\n",
       "      <th>CANADA_POST</th>\n",
       "      <td>CA</td>\n",
       "      <td>T-Shirt</td>\n",
       "      <td>41</td>\n",
       "      <td>7143681</td>\n",
       "    </tr>\n",
       "    <tr>\n",
       "      <th>DHL</th>\n",
       "      <td>US</td>\n",
       "      <td>Mug</td>\n",
       "      <td>1</td>\n",
       "      <td>5755049</td>\n",
       "    </tr>\n",
       "    <tr>\n",
       "      <th>DHL_EXPRESS</th>\n",
       "      <td>US</td>\n",
       "      <td>Poster</td>\n",
       "      <td>36</td>\n",
       "      <td>5755049</td>\n",
       "    </tr>\n",
       "    <tr>\n",
       "      <th>DHL_GERMANY</th>\n",
       "      <td>DE</td>\n",
       "      <td>T-Shirt</td>\n",
       "      <td>26</td>\n",
       "      <td>7156242</td>\n",
       "    </tr>\n",
       "    <tr>\n",
       "      <th>DPD</th>\n",
       "      <td>DE</td>\n",
       "      <td>Mug</td>\n",
       "      <td>30</td>\n",
       "      <td>7019548</td>\n",
       "    </tr>\n",
       "    <tr>\n",
       "      <th>FEDEX</th>\n",
       "      <td>US</td>\n",
       "      <td>[All Over Prints, Home Decor]</td>\n",
       "      <td>1</td>\n",
       "      <td>[6062712, 6612042]</td>\n",
       "    </tr>\n",
       "    <tr>\n",
       "      <th>GLOBEGISTICS</th>\n",
       "      <td>CA</td>\n",
       "      <td>T-Shirt</td>\n",
       "      <td>29</td>\n",
       "      <td>6799169</td>\n",
       "    </tr>\n",
       "    <tr>\n",
       "      <th>OSM_WORLDWIDE</th>\n",
       "      <td>US</td>\n",
       "      <td>T-Shirt</td>\n",
       "      <td>3</td>\n",
       "      <td>6172284</td>\n",
       "    </tr>\n",
       "    <tr>\n",
       "      <th>RAYAL_MAIL</th>\n",
       "      <td>GB</td>\n",
       "      <td>T-Shirt</td>\n",
       "      <td>6</td>\n",
       "      <td>[6144891, 6159039, 6652929, 6999280, 7019548, ...</td>\n",
       "    </tr>\n",
       "    <tr>\n",
       "      <th>ROYAL_MAIL</th>\n",
       "      <td>GB</td>\n",
       "      <td>T-Shirt</td>\n",
       "      <td>6</td>\n",
       "      <td>[6999280, 7453498]</td>\n",
       "    </tr>\n",
       "    <tr>\n",
       "      <th>UPS</th>\n",
       "      <td>US</td>\n",
       "      <td>Canvas</td>\n",
       "      <td>2</td>\n",
       "      <td>7158456</td>\n",
       "    </tr>\n",
       "    <tr>\n",
       "      <th>UPS_MAIL_INNOVATIONS</th>\n",
       "      <td>US</td>\n",
       "      <td>Poster</td>\n",
       "      <td>2</td>\n",
       "      <td>6852170</td>\n",
       "    </tr>\n",
       "    <tr>\n",
       "      <th>USPS</th>\n",
       "      <td>US</td>\n",
       "      <td>T-Shirt</td>\n",
       "      <td>29</td>\n",
       "      <td>5755049</td>\n",
       "    </tr>\n",
       "    <tr>\n",
       "      <th>unknown</th>\n",
       "      <td>GB</td>\n",
       "      <td>Mug</td>\n",
       "      <td>9</td>\n",
       "      <td>1819516</td>\n",
       "    </tr>\n",
       "    <tr>\n",
       "      <th>ups_</th>\n",
       "      <td>US</td>\n",
       "      <td>[Canvas, Mug]</td>\n",
       "      <td>[2, 16]</td>\n",
       "      <td>[5828399, 6284703]</td>\n",
       "    </tr>\n",
       "  </tbody>\n",
       "</table>\n",
       "</div>"
      ],
      "text/plain": [
       "                     Popular_country                Popular_product  \\\n",
       "SHIPMENT_CARRIER                                                      \n",
       "ASENDIA                           CA                        T-Shirt   \n",
       "CANADA_POST                       CA                        T-Shirt   \n",
       "DHL                               US                            Mug   \n",
       "DHL_EXPRESS                       US                         Poster   \n",
       "DHL_GERMANY                       DE                        T-Shirt   \n",
       "DPD                               DE                            Mug   \n",
       "FEDEX                             US  [All Over Prints, Home Decor]   \n",
       "GLOBEGISTICS                      CA                        T-Shirt   \n",
       "OSM_WORLDWIDE                     US                        T-Shirt   \n",
       "RAYAL_MAIL                        GB                        T-Shirt   \n",
       "ROYAL_MAIL                        GB                        T-Shirt   \n",
       "UPS                               US                         Canvas   \n",
       "UPS_MAIL_INNOVATIONS              US                         Poster   \n",
       "USPS                              US                        T-Shirt   \n",
       "unknown                           GB                            Mug   \n",
       "ups_                              US                  [Canvas, Mug]   \n",
       "\n",
       "                     Popular_printer  \\\n",
       "SHIPMENT_CARRIER                       \n",
       "ASENDIA                            3   \n",
       "CANADA_POST                       41   \n",
       "DHL                                1   \n",
       "DHL_EXPRESS                       36   \n",
       "DHL_GERMANY                       26   \n",
       "DPD                               30   \n",
       "FEDEX                              1   \n",
       "GLOBEGISTICS                      29   \n",
       "OSM_WORLDWIDE                      3   \n",
       "RAYAL_MAIL                         6   \n",
       "ROYAL_MAIL                         6   \n",
       "UPS                                2   \n",
       "UPS_MAIL_INNOVATIONS               2   \n",
       "USPS                              29   \n",
       "unknown                            9   \n",
       "ups_                         [2, 16]   \n",
       "\n",
       "                                                       Popular_merchant  \n",
       "SHIPMENT_CARRIER                                                         \n",
       "ASENDIA                                                         7160379  \n",
       "CANADA_POST                                                     7143681  \n",
       "DHL                                                             5755049  \n",
       "DHL_EXPRESS                                                     5755049  \n",
       "DHL_GERMANY                                                     7156242  \n",
       "DPD                                                             7019548  \n",
       "FEDEX                                                [6062712, 6612042]  \n",
       "GLOBEGISTICS                                                    6799169  \n",
       "OSM_WORLDWIDE                                                   6172284  \n",
       "RAYAL_MAIL            [6144891, 6159039, 6652929, 6999280, 7019548, ...  \n",
       "ROYAL_MAIL                                           [6999280, 7453498]  \n",
       "UPS                                                             7158456  \n",
       "UPS_MAIL_INNOVATIONS                                            6852170  \n",
       "USPS                                                            5755049  \n",
       "unknown                                                         1819516  \n",
       "ups_                                                 [5828399, 6284703]  "
      ]
     },
     "execution_count": 68,
     "metadata": {},
     "output_type": "execute_result"
    }
   ],
   "source": [
    "# Join the popular traits before joining with teh rest\n",
    "carrier_poplulars1 =  pd.merge(carrier_poplular_country, carrier_poplular_product, on=['SHIPMENT_CARRIER'])\n",
    "carrier_poplulars2 =  pd.merge(carrier_poplulars1, carrier_poplular_printer, on=['SHIPMENT_CARRIER'])\n",
    "carrier_poplulars =  pd.merge(carrier_poplulars2, carrier_poplular_merchant, on=['SHIPMENT_CARRIER'])\n",
    "carrier_poplulars"
   ]
  },
  {
   "cell_type": "markdown",
   "id": "1652ab83",
   "metadata": {},
   "source": [
    "# Shipping Carriers Performance Metrics"
   ]
  },
  {
   "cell_type": "code",
   "execution_count": 69,
   "id": "70e52beb",
   "metadata": {
    "scrolled": true
   },
   "outputs": [
    {
     "data": {
      "text/html": [
       "<div>\n",
       "<style scoped>\n",
       "    .dataframe tbody tr th:only-of-type {\n",
       "        vertical-align: middle;\n",
       "    }\n",
       "\n",
       "    .dataframe tbody tr th {\n",
       "        vertical-align: top;\n",
       "    }\n",
       "\n",
       "    .dataframe thead th {\n",
       "        text-align: right;\n",
       "    }\n",
       "</style>\n",
       "<table border=\"1\" class=\"dataframe\">\n",
       "  <thead>\n",
       "    <tr style=\"text-align: right;\">\n",
       "      <th></th>\n",
       "      <th>Time_delay_hours</th>\n",
       "      <th>Derivered</th>\n",
       "      <th>Canceled</th>\n",
       "      <th>QUANTITY</th>\n",
       "      <th>TOTAL_COST</th>\n",
       "      <th>TOTAL_SHIPPING</th>\n",
       "      <th>Cost_per_product_X1000</th>\n",
       "      <th>Popular_country</th>\n",
       "      <th>Popular_product</th>\n",
       "      <th>Popular_printer</th>\n",
       "      <th>Popular_merchant</th>\n",
       "    </tr>\n",
       "    <tr>\n",
       "      <th>SHIPMENT_CARRIER</th>\n",
       "      <th></th>\n",
       "      <th></th>\n",
       "      <th></th>\n",
       "      <th></th>\n",
       "      <th></th>\n",
       "      <th></th>\n",
       "      <th></th>\n",
       "      <th></th>\n",
       "      <th></th>\n",
       "      <th></th>\n",
       "      <th></th>\n",
       "    </tr>\n",
       "  </thead>\n",
       "  <tbody>\n",
       "    <tr>\n",
       "      <th>ASENDIA</th>\n",
       "      <td>1551.500000</td>\n",
       "      <td>179</td>\n",
       "      <td>NaN</td>\n",
       "      <td>181</td>\n",
       "      <td>307732</td>\n",
       "      <td>262208</td>\n",
       "      <td>259.973000</td>\n",
       "      <td>CA</td>\n",
       "      <td>T-Shirt</td>\n",
       "      <td>3</td>\n",
       "      <td>7160379</td>\n",
       "    </tr>\n",
       "    <tr>\n",
       "      <th>CANADA_POST</th>\n",
       "      <td>221.128319</td>\n",
       "      <td>223</td>\n",
       "      <td>3.0</td>\n",
       "      <td>258</td>\n",
       "      <td>518687</td>\n",
       "      <td>227617</td>\n",
       "      <td>215.754163</td>\n",
       "      <td>CA</td>\n",
       "      <td>T-Shirt</td>\n",
       "      <td>41</td>\n",
       "      <td>7143681</td>\n",
       "    </tr>\n",
       "    <tr>\n",
       "      <th>DHL</th>\n",
       "      <td>102.185259</td>\n",
       "      <td>499</td>\n",
       "      <td>1.0</td>\n",
       "      <td>646</td>\n",
       "      <td>1446024</td>\n",
       "      <td>760492</td>\n",
       "      <td>675.588361</td>\n",
       "      <td>US</td>\n",
       "      <td>Mug</td>\n",
       "      <td>1</td>\n",
       "      <td>5755049</td>\n",
       "    </tr>\n",
       "    <tr>\n",
       "      <th>DHL_EXPRESS</th>\n",
       "      <td>62.000000</td>\n",
       "      <td>9</td>\n",
       "      <td>NaN</td>\n",
       "      <td>10</td>\n",
       "      <td>43230</td>\n",
       "      <td>33380</td>\n",
       "      <td>32.680000</td>\n",
       "      <td>US</td>\n",
       "      <td>Poster</td>\n",
       "      <td>36</td>\n",
       "      <td>5755049</td>\n",
       "    </tr>\n",
       "    <tr>\n",
       "      <th>DHL_GERMANY</th>\n",
       "      <td>1712.506849</td>\n",
       "      <td>73</td>\n",
       "      <td>NaN</td>\n",
       "      <td>74</td>\n",
       "      <td>139338</td>\n",
       "      <td>37459</td>\n",
       "      <td>37.219000</td>\n",
       "      <td>DE</td>\n",
       "      <td>T-Shirt</td>\n",
       "      <td>26</td>\n",
       "      <td>7156242</td>\n",
       "    </tr>\n",
       "    <tr>\n",
       "      <th>DPD</th>\n",
       "      <td>103.539474</td>\n",
       "      <td>76</td>\n",
       "      <td>NaN</td>\n",
       "      <td>79</td>\n",
       "      <td>86126</td>\n",
       "      <td>49360</td>\n",
       "      <td>47.605000</td>\n",
       "      <td>DE</td>\n",
       "      <td>Mug</td>\n",
       "      <td>30</td>\n",
       "      <td>7019548</td>\n",
       "    </tr>\n",
       "    <tr>\n",
       "      <th>FEDEX</th>\n",
       "      <td>578.000000</td>\n",
       "      <td>2</td>\n",
       "      <td>NaN</td>\n",
       "      <td>2</td>\n",
       "      <td>3224</td>\n",
       "      <td>5024</td>\n",
       "      <td>5.024000</td>\n",
       "      <td>US</td>\n",
       "      <td>[All Over Prints, Home Decor]</td>\n",
       "      <td>1</td>\n",
       "      <td>[6062712, 6612042]</td>\n",
       "    </tr>\n",
       "    <tr>\n",
       "      <th>GLOBEGISTICS</th>\n",
       "      <td>1437.248555</td>\n",
       "      <td>346</td>\n",
       "      <td>NaN</td>\n",
       "      <td>356</td>\n",
       "      <td>643736</td>\n",
       "      <td>570460</td>\n",
       "      <td>558.740000</td>\n",
       "      <td>CA</td>\n",
       "      <td>T-Shirt</td>\n",
       "      <td>29</td>\n",
       "      <td>6799169</td>\n",
       "    </tr>\n",
       "    <tr>\n",
       "      <th>OSM_WORLDWIDE</th>\n",
       "      <td>141.000000</td>\n",
       "      <td>1</td>\n",
       "      <td>NaN</td>\n",
       "      <td>1</td>\n",
       "      <td>739</td>\n",
       "      <td>400</td>\n",
       "      <td>0.400000</td>\n",
       "      <td>US</td>\n",
       "      <td>T-Shirt</td>\n",
       "      <td>3</td>\n",
       "      <td>6172284</td>\n",
       "    </tr>\n",
       "    <tr>\n",
       "      <th>RAYAL_MAIL</th>\n",
       "      <td>1772.142857</td>\n",
       "      <td>7</td>\n",
       "      <td>NaN</td>\n",
       "      <td>7</td>\n",
       "      <td>8756</td>\n",
       "      <td>4547</td>\n",
       "      <td>4.547000</td>\n",
       "      <td>GB</td>\n",
       "      <td>T-Shirt</td>\n",
       "      <td>6</td>\n",
       "      <td>[6144891, 6159039, 6652929, 6999280, 7019548, ...</td>\n",
       "    </tr>\n",
       "    <tr>\n",
       "      <th>ROYAL_MAIL</th>\n",
       "      <td>1515.653846</td>\n",
       "      <td>133</td>\n",
       "      <td>NaN</td>\n",
       "      <td>134</td>\n",
       "      <td>257258</td>\n",
       "      <td>118928</td>\n",
       "      <td>117.966000</td>\n",
       "      <td>GB</td>\n",
       "      <td>T-Shirt</td>\n",
       "      <td>6</td>\n",
       "      <td>[6999280, 7453498]</td>\n",
       "    </tr>\n",
       "    <tr>\n",
       "      <th>UPS</th>\n",
       "      <td>81.632124</td>\n",
       "      <td>200</td>\n",
       "      <td>1.0</td>\n",
       "      <td>229</td>\n",
       "      <td>505548</td>\n",
       "      <td>342440</td>\n",
       "      <td>328.075400</td>\n",
       "      <td>US</td>\n",
       "      <td>Canvas</td>\n",
       "      <td>2</td>\n",
       "      <td>7158456</td>\n",
       "    </tr>\n",
       "    <tr>\n",
       "      <th>UPS_MAIL_INNOVATIONS</th>\n",
       "      <td>290.249017</td>\n",
       "      <td>764</td>\n",
       "      <td>NaN</td>\n",
       "      <td>830</td>\n",
       "      <td>1916194</td>\n",
       "      <td>989639</td>\n",
       "      <td>955.385710</td>\n",
       "      <td>US</td>\n",
       "      <td>Poster</td>\n",
       "      <td>2</td>\n",
       "      <td>6852170</td>\n",
       "    </tr>\n",
       "    <tr>\n",
       "      <th>USPS</th>\n",
       "      <td>165.013997</td>\n",
       "      <td>11056</td>\n",
       "      <td>30.0</td>\n",
       "      <td>11824</td>\n",
       "      <td>22123039</td>\n",
       "      <td>10241931</td>\n",
       "      <td>9864.838624</td>\n",
       "      <td>US</td>\n",
       "      <td>T-Shirt</td>\n",
       "      <td>29</td>\n",
       "      <td>5755049</td>\n",
       "    </tr>\n",
       "    <tr>\n",
       "      <th>unknown</th>\n",
       "      <td>1606.512397</td>\n",
       "      <td>121</td>\n",
       "      <td>NaN</td>\n",
       "      <td>124</td>\n",
       "      <td>99857</td>\n",
       "      <td>107347</td>\n",
       "      <td>103.972000</td>\n",
       "      <td>GB</td>\n",
       "      <td>Mug</td>\n",
       "      <td>9</td>\n",
       "      <td>1819516</td>\n",
       "    </tr>\n",
       "    <tr>\n",
       "      <th>ups_</th>\n",
       "      <td>89.222222</td>\n",
       "      <td>9</td>\n",
       "      <td>NaN</td>\n",
       "      <td>12</td>\n",
       "      <td>12963</td>\n",
       "      <td>11666</td>\n",
       "      <td>10.601000</td>\n",
       "      <td>US</td>\n",
       "      <td>[Canvas, Mug]</td>\n",
       "      <td>[2, 16]</td>\n",
       "      <td>[5828399, 6284703]</td>\n",
       "    </tr>\n",
       "  </tbody>\n",
       "</table>\n",
       "</div>"
      ],
      "text/plain": [
       "                      Time_delay_hours  Derivered  Canceled  QUANTITY  \\\n",
       "SHIPMENT_CARRIER                                                        \n",
       "ASENDIA                    1551.500000        179       NaN       181   \n",
       "CANADA_POST                 221.128319        223       3.0       258   \n",
       "DHL                         102.185259        499       1.0       646   \n",
       "DHL_EXPRESS                  62.000000          9       NaN        10   \n",
       "DHL_GERMANY                1712.506849         73       NaN        74   \n",
       "DPD                         103.539474         76       NaN        79   \n",
       "FEDEX                       578.000000          2       NaN         2   \n",
       "GLOBEGISTICS               1437.248555        346       NaN       356   \n",
       "OSM_WORLDWIDE               141.000000          1       NaN         1   \n",
       "RAYAL_MAIL                 1772.142857          7       NaN         7   \n",
       "ROYAL_MAIL                 1515.653846        133       NaN       134   \n",
       "UPS                          81.632124        200       1.0       229   \n",
       "UPS_MAIL_INNOVATIONS        290.249017        764       NaN       830   \n",
       "USPS                        165.013997      11056      30.0     11824   \n",
       "unknown                    1606.512397        121       NaN       124   \n",
       "ups_                         89.222222          9       NaN        12   \n",
       "\n",
       "                      TOTAL_COST  TOTAL_SHIPPING  Cost_per_product_X1000  \\\n",
       "SHIPMENT_CARRIER                                                           \n",
       "ASENDIA                   307732          262208              259.973000   \n",
       "CANADA_POST               518687          227617              215.754163   \n",
       "DHL                      1446024          760492              675.588361   \n",
       "DHL_EXPRESS                43230           33380               32.680000   \n",
       "DHL_GERMANY               139338           37459               37.219000   \n",
       "DPD                        86126           49360               47.605000   \n",
       "FEDEX                       3224            5024                5.024000   \n",
       "GLOBEGISTICS              643736          570460              558.740000   \n",
       "OSM_WORLDWIDE                739             400                0.400000   \n",
       "RAYAL_MAIL                  8756            4547                4.547000   \n",
       "ROYAL_MAIL                257258          118928              117.966000   \n",
       "UPS                       505548          342440              328.075400   \n",
       "UPS_MAIL_INNOVATIONS     1916194          989639              955.385710   \n",
       "USPS                    22123039        10241931             9864.838624   \n",
       "unknown                    99857          107347              103.972000   \n",
       "ups_                       12963           11666               10.601000   \n",
       "\n",
       "                     Popular_country                Popular_product  \\\n",
       "SHIPMENT_CARRIER                                                      \n",
       "ASENDIA                           CA                        T-Shirt   \n",
       "CANADA_POST                       CA                        T-Shirt   \n",
       "DHL                               US                            Mug   \n",
       "DHL_EXPRESS                       US                         Poster   \n",
       "DHL_GERMANY                       DE                        T-Shirt   \n",
       "DPD                               DE                            Mug   \n",
       "FEDEX                             US  [All Over Prints, Home Decor]   \n",
       "GLOBEGISTICS                      CA                        T-Shirt   \n",
       "OSM_WORLDWIDE                     US                        T-Shirt   \n",
       "RAYAL_MAIL                        GB                        T-Shirt   \n",
       "ROYAL_MAIL                        GB                        T-Shirt   \n",
       "UPS                               US                         Canvas   \n",
       "UPS_MAIL_INNOVATIONS              US                         Poster   \n",
       "USPS                              US                        T-Shirt   \n",
       "unknown                           GB                            Mug   \n",
       "ups_                              US                  [Canvas, Mug]   \n",
       "\n",
       "                     Popular_printer  \\\n",
       "SHIPMENT_CARRIER                       \n",
       "ASENDIA                            3   \n",
       "CANADA_POST                       41   \n",
       "DHL                                1   \n",
       "DHL_EXPRESS                       36   \n",
       "DHL_GERMANY                       26   \n",
       "DPD                               30   \n",
       "FEDEX                              1   \n",
       "GLOBEGISTICS                      29   \n",
       "OSM_WORLDWIDE                      3   \n",
       "RAYAL_MAIL                         6   \n",
       "ROYAL_MAIL                         6   \n",
       "UPS                                2   \n",
       "UPS_MAIL_INNOVATIONS               2   \n",
       "USPS                              29   \n",
       "unknown                            9   \n",
       "ups_                         [2, 16]   \n",
       "\n",
       "                                                       Popular_merchant  \n",
       "SHIPMENT_CARRIER                                                         \n",
       "ASENDIA                                                         7160379  \n",
       "CANADA_POST                                                     7143681  \n",
       "DHL                                                             5755049  \n",
       "DHL_EXPRESS                                                     5755049  \n",
       "DHL_GERMANY                                                     7156242  \n",
       "DPD                                                             7019548  \n",
       "FEDEX                                                [6062712, 6612042]  \n",
       "GLOBEGISTICS                                                    6799169  \n",
       "OSM_WORLDWIDE                                                   6172284  \n",
       "RAYAL_MAIL            [6144891, 6159039, 6652929, 6999280, 7019548, ...  \n",
       "ROYAL_MAIL                                           [6999280, 7453498]  \n",
       "UPS                                                             7158456  \n",
       "UPS_MAIL_INNOVATIONS                                            6852170  \n",
       "USPS                                                            5755049  \n",
       "unknown                                                         1819516  \n",
       "ups_                                                 [5828399, 6284703]  "
      ]
     },
     "execution_count": 69,
     "metadata": {},
     "output_type": "execute_result"
    }
   ],
   "source": [
    "# Merge the individual printer performance into one df \n",
    "# Merge was preffered over concat due to precision and ability\n",
    "# to specify the collumn to merge on like in SQL\n",
    "# Thus, not very clean code here, but very optimal as others would\n",
    "# need to sort first\n",
    "\n",
    "# Merge shipment delay with orders delivered df\n",
    "carrier_perf1 = pd.merge(shippment_delay, carrier_delivered, on=['SHIPMENT_CARRIER'])\n",
    "\n",
    "# join previous with fiscal matters df\n",
    "carrier_perf2 = pd.merge(carrier_perf1, shippment_cost, on=['SHIPMENT_CARRIER'])\n",
    "\n",
    "# join the popular traits for each carrier\n",
    "carrier_perf = pd.merge(carrier_perf2, carrier_poplulars, on=['SHIPMENT_CARRIER'])\n",
    "\n",
    "carrier_perf"
   ]
  },
  {
   "cell_type": "code",
   "execution_count": 70,
   "id": "dc542d60",
   "metadata": {
    "scrolled": true
   },
   "outputs": [
    {
     "data": {
      "text/html": [
       "<div>\n",
       "<style scoped>\n",
       "    .dataframe tbody tr th:only-of-type {\n",
       "        vertical-align: middle;\n",
       "    }\n",
       "\n",
       "    .dataframe tbody tr th {\n",
       "        vertical-align: top;\n",
       "    }\n",
       "\n",
       "    .dataframe thead th {\n",
       "        text-align: right;\n",
       "    }\n",
       "</style>\n",
       "<table border=\"1\" class=\"dataframe\">\n",
       "  <thead>\n",
       "    <tr style=\"text-align: right;\">\n",
       "      <th></th>\n",
       "      <th>Time_delay_hours</th>\n",
       "      <th>Derivered</th>\n",
       "      <th>Canceled</th>\n",
       "      <th>QUANTITY</th>\n",
       "      <th>TOTAL_COST</th>\n",
       "      <th>TOTAL_SHIPPING</th>\n",
       "      <th>Cost_per_product_X1000</th>\n",
       "    </tr>\n",
       "  </thead>\n",
       "  <tbody>\n",
       "    <tr>\n",
       "      <th>count</th>\n",
       "      <td>16.000000</td>\n",
       "      <td>16.000000</td>\n",
       "      <td>4.000000</td>\n",
       "      <td>16.000000</td>\n",
       "      <td>1.600000e+01</td>\n",
       "      <td>1.600000e+01</td>\n",
       "      <td>16.000000</td>\n",
       "    </tr>\n",
       "    <tr>\n",
       "      <th>mean</th>\n",
       "      <td>714.345932</td>\n",
       "      <td>856.125000</td>\n",
       "      <td>8.750000</td>\n",
       "      <td>922.937500</td>\n",
       "      <td>1.757028e+06</td>\n",
       "      <td>8.601811e+05</td>\n",
       "      <td>826.148079</td>\n",
       "    </tr>\n",
       "    <tr>\n",
       "      <th>std</th>\n",
       "      <td>721.730331</td>\n",
       "      <td>2727.951243</td>\n",
       "      <td>14.198005</td>\n",
       "      <td>2916.710738</td>\n",
       "      <td>5.458547e+06</td>\n",
       "      <td>2.519396e+06</td>\n",
       "      <td>2426.622563</td>\n",
       "    </tr>\n",
       "    <tr>\n",
       "      <th>min</th>\n",
       "      <td>62.000000</td>\n",
       "      <td>1.000000</td>\n",
       "      <td>1.000000</td>\n",
       "      <td>1.000000</td>\n",
       "      <td>7.390000e+02</td>\n",
       "      <td>4.000000e+02</td>\n",
       "      <td>0.400000</td>\n",
       "    </tr>\n",
       "    <tr>\n",
       "      <th>25%</th>\n",
       "      <td>103.200920</td>\n",
       "      <td>9.000000</td>\n",
       "      <td>1.000000</td>\n",
       "      <td>11.500000</td>\n",
       "      <td>3.566325e+04</td>\n",
       "      <td>2.795150e+04</td>\n",
       "      <td>27.160250</td>\n",
       "    </tr>\n",
       "    <tr>\n",
       "      <th>50%</th>\n",
       "      <td>255.688668</td>\n",
       "      <td>127.000000</td>\n",
       "      <td>2.000000</td>\n",
       "      <td>129.000000</td>\n",
       "      <td>1.982980e+05</td>\n",
       "      <td>1.131375e+05</td>\n",
       "      <td>110.969000</td>\n",
       "    </tr>\n",
       "    <tr>\n",
       "      <th>75%</th>\n",
       "      <td>1524.615385</td>\n",
       "      <td>253.750000</td>\n",
       "      <td>9.750000</td>\n",
       "      <td>282.500000</td>\n",
       "      <td>5.499492e+05</td>\n",
       "      <td>3.994450e+05</td>\n",
       "      <td>385.741550</td>\n",
       "    </tr>\n",
       "    <tr>\n",
       "      <th>max</th>\n",
       "      <td>1772.142857</td>\n",
       "      <td>11056.000000</td>\n",
       "      <td>30.000000</td>\n",
       "      <td>11824.000000</td>\n",
       "      <td>2.212304e+07</td>\n",
       "      <td>1.024193e+07</td>\n",
       "      <td>9864.838624</td>\n",
       "    </tr>\n",
       "  </tbody>\n",
       "</table>\n",
       "</div>"
      ],
      "text/plain": [
       "       Time_delay_hours     Derivered   Canceled      QUANTITY    TOTAL_COST  \\\n",
       "count         16.000000     16.000000   4.000000     16.000000  1.600000e+01   \n",
       "mean         714.345932    856.125000   8.750000    922.937500  1.757028e+06   \n",
       "std          721.730331   2727.951243  14.198005   2916.710738  5.458547e+06   \n",
       "min           62.000000      1.000000   1.000000      1.000000  7.390000e+02   \n",
       "25%          103.200920      9.000000   1.000000     11.500000  3.566325e+04   \n",
       "50%          255.688668    127.000000   2.000000    129.000000  1.982980e+05   \n",
       "75%         1524.615385    253.750000   9.750000    282.500000  5.499492e+05   \n",
       "max         1772.142857  11056.000000  30.000000  11824.000000  2.212304e+07   \n",
       "\n",
       "       TOTAL_SHIPPING  Cost_per_product_X1000  \n",
       "count    1.600000e+01               16.000000  \n",
       "mean     8.601811e+05              826.148079  \n",
       "std      2.519396e+06             2426.622563  \n",
       "min      4.000000e+02                0.400000  \n",
       "25%      2.795150e+04               27.160250  \n",
       "50%      1.131375e+05              110.969000  \n",
       "75%      3.994450e+05              385.741550  \n",
       "max      1.024193e+07             9864.838624  "
      ]
     },
     "execution_count": 70,
     "metadata": {},
     "output_type": "execute_result"
    }
   ],
   "source": [
    "carrier_perf.describe()"
   ]
  },
  {
   "cell_type": "markdown",
   "id": "52c112e7",
   "metadata": {},
   "source": [
    "# Shipping carriers Success Metric\n",
    "    - bundling_ratio is the ability of a carrier to bundle more than one shipment orders during delivery. On average it is given by the total sum of all orders delivered and the number of recorded deliveries. If for every order, there was a trip to deliver, this ratio will be 1 hence no effect on the success metrics of the carrier. \n",
    "The success metric is given by successful orders delivered i.e. (derivered - canceled) orders multiplied by the bundling ratio. All that will be divided by the sum of shipment cost per product and delay time since these are inversly proportional to success of a carrier."
   ]
  },
  {
   "cell_type": "code",
   "execution_count": 71,
   "id": "d0046ec9",
   "metadata": {},
   "outputs": [
    {
     "data": {
      "text/html": [
       "<div>\n",
       "<style scoped>\n",
       "    .dataframe tbody tr th:only-of-type {\n",
       "        vertical-align: middle;\n",
       "    }\n",
       "\n",
       "    .dataframe tbody tr th {\n",
       "        vertical-align: top;\n",
       "    }\n",
       "\n",
       "    .dataframe thead th {\n",
       "        text-align: right;\n",
       "    }\n",
       "</style>\n",
       "<table border=\"1\" class=\"dataframe\">\n",
       "  <thead>\n",
       "    <tr style=\"text-align: right;\">\n",
       "      <th></th>\n",
       "      <th>Time_delay_hours</th>\n",
       "      <th>Derivered</th>\n",
       "      <th>Canceled</th>\n",
       "      <th>QUANTITY</th>\n",
       "      <th>TOTAL_COST</th>\n",
       "      <th>TOTAL_SHIPPING</th>\n",
       "      <th>Cost_per_product_X1000</th>\n",
       "      <th>Popular_country</th>\n",
       "      <th>Popular_product</th>\n",
       "      <th>Popular_printer</th>\n",
       "      <th>Popular_merchant</th>\n",
       "      <th>Success_factor</th>\n",
       "    </tr>\n",
       "    <tr>\n",
       "      <th>SHIPMENT_CARRIER</th>\n",
       "      <th></th>\n",
       "      <th></th>\n",
       "      <th></th>\n",
       "      <th></th>\n",
       "      <th></th>\n",
       "      <th></th>\n",
       "      <th></th>\n",
       "      <th></th>\n",
       "      <th></th>\n",
       "      <th></th>\n",
       "      <th></th>\n",
       "      <th></th>\n",
       "    </tr>\n",
       "  </thead>\n",
       "  <tbody>\n",
       "    <tr>\n",
       "      <th>USPS</th>\n",
       "      <td>165.013997</td>\n",
       "      <td>11056</td>\n",
       "      <td>30.0</td>\n",
       "      <td>11824</td>\n",
       "      <td>22123039</td>\n",
       "      <td>10241931</td>\n",
       "      <td>9864.838624</td>\n",
       "      <td>US</td>\n",
       "      <td>T-Shirt</td>\n",
       "      <td>29</td>\n",
       "      <td>5755049</td>\n",
       "      <td>5894.050494</td>\n",
       "    </tr>\n",
       "    <tr>\n",
       "      <th>UPS_MAIL_INNOVATIONS</th>\n",
       "      <td>290.249017</td>\n",
       "      <td>764</td>\n",
       "      <td>NaN</td>\n",
       "      <td>830</td>\n",
       "      <td>1916194</td>\n",
       "      <td>989639</td>\n",
       "      <td>955.385710</td>\n",
       "      <td>US</td>\n",
       "      <td>Poster</td>\n",
       "      <td>2</td>\n",
       "      <td>6852170</td>\n",
       "      <td>536.281251</td>\n",
       "    </tr>\n",
       "    <tr>\n",
       "      <th>DHL</th>\n",
       "      <td>102.185259</td>\n",
       "      <td>499</td>\n",
       "      <td>1.0</td>\n",
       "      <td>646</td>\n",
       "      <td>1446024</td>\n",
       "      <td>760492</td>\n",
       "      <td>675.588361</td>\n",
       "      <td>US</td>\n",
       "      <td>Mug</td>\n",
       "      <td>1</td>\n",
       "      <td>5755049</td>\n",
       "      <td>446.031233</td>\n",
       "    </tr>\n",
       "    <tr>\n",
       "      <th>GLOBEGISTICS</th>\n",
       "      <td>1437.248555</td>\n",
       "      <td>346</td>\n",
       "      <td>NaN</td>\n",
       "      <td>356</td>\n",
       "      <td>643736</td>\n",
       "      <td>570460</td>\n",
       "      <td>558.740000</td>\n",
       "      <td>CA</td>\n",
       "      <td>T-Shirt</td>\n",
       "      <td>29</td>\n",
       "      <td>6799169</td>\n",
       "      <td>215.747243</td>\n",
       "    </tr>\n",
       "    <tr>\n",
       "      <th>CANADA_POST</th>\n",
       "      <td>221.128319</td>\n",
       "      <td>223</td>\n",
       "      <td>3.0</td>\n",
       "      <td>258</td>\n",
       "      <td>518687</td>\n",
       "      <td>227617</td>\n",
       "      <td>215.754163</td>\n",
       "      <td>CA</td>\n",
       "      <td>T-Shirt</td>\n",
       "      <td>41</td>\n",
       "      <td>7143681</td>\n",
       "      <td>192.798483</td>\n",
       "    </tr>\n",
       "    <tr>\n",
       "      <th>UPS</th>\n",
       "      <td>81.632124</td>\n",
       "      <td>200</td>\n",
       "      <td>1.0</td>\n",
       "      <td>229</td>\n",
       "      <td>505548</td>\n",
       "      <td>342440</td>\n",
       "      <td>328.075400</td>\n",
       "      <td>US</td>\n",
       "      <td>Canvas</td>\n",
       "      <td>2</td>\n",
       "      <td>7158456</td>\n",
       "      <td>174.436190</td>\n",
       "    </tr>\n",
       "    <tr>\n",
       "      <th>ASENDIA</th>\n",
       "      <td>1551.500000</td>\n",
       "      <td>179</td>\n",
       "      <td>NaN</td>\n",
       "      <td>181</td>\n",
       "      <td>307732</td>\n",
       "      <td>262208</td>\n",
       "      <td>259.973000</td>\n",
       "      <td>CA</td>\n",
       "      <td>T-Shirt</td>\n",
       "      <td>3</td>\n",
       "      <td>7160379</td>\n",
       "      <td>111.110024</td>\n",
       "    </tr>\n",
       "    <tr>\n",
       "      <th>ROYAL_MAIL</th>\n",
       "      <td>1515.653846</td>\n",
       "      <td>133</td>\n",
       "      <td>NaN</td>\n",
       "      <td>134</td>\n",
       "      <td>257258</td>\n",
       "      <td>118928</td>\n",
       "      <td>117.966000</td>\n",
       "      <td>GB</td>\n",
       "      <td>T-Shirt</td>\n",
       "      <td>6</td>\n",
       "      <td>[6999280, 7453498]</td>\n",
       "      <td>83.407222</td>\n",
       "    </tr>\n",
       "    <tr>\n",
       "      <th>unknown</th>\n",
       "      <td>1606.512397</td>\n",
       "      <td>121</td>\n",
       "      <td>NaN</td>\n",
       "      <td>124</td>\n",
       "      <td>99857</td>\n",
       "      <td>107347</td>\n",
       "      <td>103.972000</td>\n",
       "      <td>GB</td>\n",
       "      <td>Mug</td>\n",
       "      <td>9</td>\n",
       "      <td>1819516</td>\n",
       "      <td>76.706113</td>\n",
       "    </tr>\n",
       "    <tr>\n",
       "      <th>DPD</th>\n",
       "      <td>103.539474</td>\n",
       "      <td>76</td>\n",
       "      <td>NaN</td>\n",
       "      <td>79</td>\n",
       "      <td>86126</td>\n",
       "      <td>49360</td>\n",
       "      <td>47.605000</td>\n",
       "      <td>DE</td>\n",
       "      <td>Mug</td>\n",
       "      <td>30</td>\n",
       "      <td>7019548</td>\n",
       "      <td>72.497275</td>\n",
       "    </tr>\n",
       "    <tr>\n",
       "      <th>DHL_GERMANY</th>\n",
       "      <td>1712.506849</td>\n",
       "      <td>73</td>\n",
       "      <td>NaN</td>\n",
       "      <td>74</td>\n",
       "      <td>139338</td>\n",
       "      <td>37459</td>\n",
       "      <td>37.219000</td>\n",
       "      <td>DE</td>\n",
       "      <td>T-Shirt</td>\n",
       "      <td>26</td>\n",
       "      <td>7156242</td>\n",
       "      <td>45.637178</td>\n",
       "    </tr>\n",
       "    <tr>\n",
       "      <th>ups_</th>\n",
       "      <td>89.222222</td>\n",
       "      <td>9</td>\n",
       "      <td>NaN</td>\n",
       "      <td>12</td>\n",
       "      <td>12963</td>\n",
       "      <td>11666</td>\n",
       "      <td>10.601000</td>\n",
       "      <td>US</td>\n",
       "      <td>[Canvas, Mug]</td>\n",
       "      <td>[2, 16]</td>\n",
       "      <td>[5828399, 6284703]</td>\n",
       "      <td>12.004612</td>\n",
       "    </tr>\n",
       "    <tr>\n",
       "      <th>DHL_EXPRESS</th>\n",
       "      <td>62.000000</td>\n",
       "      <td>9</td>\n",
       "      <td>NaN</td>\n",
       "      <td>10</td>\n",
       "      <td>43230</td>\n",
       "      <td>33380</td>\n",
       "      <td>32.680000</td>\n",
       "      <td>US</td>\n",
       "      <td>Poster</td>\n",
       "      <td>36</td>\n",
       "      <td>5755049</td>\n",
       "      <td>10.120135</td>\n",
       "    </tr>\n",
       "    <tr>\n",
       "      <th>RAYAL_MAIL</th>\n",
       "      <td>1772.142857</td>\n",
       "      <td>7</td>\n",
       "      <td>NaN</td>\n",
       "      <td>7</td>\n",
       "      <td>8756</td>\n",
       "      <td>4547</td>\n",
       "      <td>4.547000</td>\n",
       "      <td>GB</td>\n",
       "      <td>T-Shirt</td>\n",
       "      <td>6</td>\n",
       "      <td>[6144891, 6159039, 6652929, 6999280, 7019548, ...</td>\n",
       "      <td>4.308207</td>\n",
       "    </tr>\n",
       "    <tr>\n",
       "      <th>FEDEX</th>\n",
       "      <td>578.000000</td>\n",
       "      <td>2</td>\n",
       "      <td>NaN</td>\n",
       "      <td>2</td>\n",
       "      <td>3224</td>\n",
       "      <td>5024</td>\n",
       "      <td>5.024000</td>\n",
       "      <td>US</td>\n",
       "      <td>[All Over Prints, Home Decor]</td>\n",
       "      <td>1</td>\n",
       "      <td>[6062712, 6612042]</td>\n",
       "      <td>1.446296</td>\n",
       "    </tr>\n",
       "    <tr>\n",
       "      <th>OSM_WORLDWIDE</th>\n",
       "      <td>141.000000</td>\n",
       "      <td>1</td>\n",
       "      <td>NaN</td>\n",
       "      <td>1</td>\n",
       "      <td>739</td>\n",
       "      <td>400</td>\n",
       "      <td>0.400000</td>\n",
       "      <td>US</td>\n",
       "      <td>T-Shirt</td>\n",
       "      <td>3</td>\n",
       "      <td>6172284</td>\n",
       "      <td>0.930038</td>\n",
       "    </tr>\n",
       "  </tbody>\n",
       "</table>\n",
       "</div>"
      ],
      "text/plain": [
       "                      Time_delay_hours  Derivered  Canceled  QUANTITY  \\\n",
       "SHIPMENT_CARRIER                                                        \n",
       "USPS                        165.013997      11056      30.0     11824   \n",
       "UPS_MAIL_INNOVATIONS        290.249017        764       NaN       830   \n",
       "DHL                         102.185259        499       1.0       646   \n",
       "GLOBEGISTICS               1437.248555        346       NaN       356   \n",
       "CANADA_POST                 221.128319        223       3.0       258   \n",
       "UPS                          81.632124        200       1.0       229   \n",
       "ASENDIA                    1551.500000        179       NaN       181   \n",
       "ROYAL_MAIL                 1515.653846        133       NaN       134   \n",
       "unknown                    1606.512397        121       NaN       124   \n",
       "DPD                         103.539474         76       NaN        79   \n",
       "DHL_GERMANY                1712.506849         73       NaN        74   \n",
       "ups_                         89.222222          9       NaN        12   \n",
       "DHL_EXPRESS                  62.000000          9       NaN        10   \n",
       "RAYAL_MAIL                 1772.142857          7       NaN         7   \n",
       "FEDEX                       578.000000          2       NaN         2   \n",
       "OSM_WORLDWIDE               141.000000          1       NaN         1   \n",
       "\n",
       "                      TOTAL_COST  TOTAL_SHIPPING  Cost_per_product_X1000  \\\n",
       "SHIPMENT_CARRIER                                                           \n",
       "USPS                    22123039        10241931             9864.838624   \n",
       "UPS_MAIL_INNOVATIONS     1916194          989639              955.385710   \n",
       "DHL                      1446024          760492              675.588361   \n",
       "GLOBEGISTICS              643736          570460              558.740000   \n",
       "CANADA_POST               518687          227617              215.754163   \n",
       "UPS                       505548          342440              328.075400   \n",
       "ASENDIA                   307732          262208              259.973000   \n",
       "ROYAL_MAIL                257258          118928              117.966000   \n",
       "unknown                    99857          107347              103.972000   \n",
       "DPD                        86126           49360               47.605000   \n",
       "DHL_GERMANY               139338           37459               37.219000   \n",
       "ups_                       12963           11666               10.601000   \n",
       "DHL_EXPRESS                43230           33380               32.680000   \n",
       "RAYAL_MAIL                  8756            4547                4.547000   \n",
       "FEDEX                       3224            5024                5.024000   \n",
       "OSM_WORLDWIDE                739             400                0.400000   \n",
       "\n",
       "                     Popular_country                Popular_product  \\\n",
       "SHIPMENT_CARRIER                                                      \n",
       "USPS                              US                        T-Shirt   \n",
       "UPS_MAIL_INNOVATIONS              US                         Poster   \n",
       "DHL                               US                            Mug   \n",
       "GLOBEGISTICS                      CA                        T-Shirt   \n",
       "CANADA_POST                       CA                        T-Shirt   \n",
       "UPS                               US                         Canvas   \n",
       "ASENDIA                           CA                        T-Shirt   \n",
       "ROYAL_MAIL                        GB                        T-Shirt   \n",
       "unknown                           GB                            Mug   \n",
       "DPD                               DE                            Mug   \n",
       "DHL_GERMANY                       DE                        T-Shirt   \n",
       "ups_                              US                  [Canvas, Mug]   \n",
       "DHL_EXPRESS                       US                         Poster   \n",
       "RAYAL_MAIL                        GB                        T-Shirt   \n",
       "FEDEX                             US  [All Over Prints, Home Decor]   \n",
       "OSM_WORLDWIDE                     US                        T-Shirt   \n",
       "\n",
       "                     Popular_printer  \\\n",
       "SHIPMENT_CARRIER                       \n",
       "USPS                              29   \n",
       "UPS_MAIL_INNOVATIONS               2   \n",
       "DHL                                1   \n",
       "GLOBEGISTICS                      29   \n",
       "CANADA_POST                       41   \n",
       "UPS                                2   \n",
       "ASENDIA                            3   \n",
       "ROYAL_MAIL                         6   \n",
       "unknown                            9   \n",
       "DPD                               30   \n",
       "DHL_GERMANY                       26   \n",
       "ups_                         [2, 16]   \n",
       "DHL_EXPRESS                       36   \n",
       "RAYAL_MAIL                         6   \n",
       "FEDEX                              1   \n",
       "OSM_WORLDWIDE                      3   \n",
       "\n",
       "                                                       Popular_merchant  \\\n",
       "SHIPMENT_CARRIER                                                          \n",
       "USPS                                                            5755049   \n",
       "UPS_MAIL_INNOVATIONS                                            6852170   \n",
       "DHL                                                             5755049   \n",
       "GLOBEGISTICS                                                    6799169   \n",
       "CANADA_POST                                                     7143681   \n",
       "UPS                                                             7158456   \n",
       "ASENDIA                                                         7160379   \n",
       "ROYAL_MAIL                                           [6999280, 7453498]   \n",
       "unknown                                                         1819516   \n",
       "DPD                                                             7019548   \n",
       "DHL_GERMANY                                                     7156242   \n",
       "ups_                                                 [5828399, 6284703]   \n",
       "DHL_EXPRESS                                                     5755049   \n",
       "RAYAL_MAIL            [6144891, 6159039, 6652929, 6999280, 7019548, ...   \n",
       "FEDEX                                                [6062712, 6612042]   \n",
       "OSM_WORLDWIDE                                                   6172284   \n",
       "\n",
       "                      Success_factor  \n",
       "SHIPMENT_CARRIER                      \n",
       "USPS                     5894.050494  \n",
       "UPS_MAIL_INNOVATIONS      536.281251  \n",
       "DHL                       446.031233  \n",
       "GLOBEGISTICS              215.747243  \n",
       "CANADA_POST               192.798483  \n",
       "UPS                       174.436190  \n",
       "ASENDIA                   111.110024  \n",
       "ROYAL_MAIL                 83.407222  \n",
       "unknown                    76.706113  \n",
       "DPD                        72.497275  \n",
       "DHL_GERMANY                45.637178  \n",
       "ups_                       12.004612  \n",
       "DHL_EXPRESS                10.120135  \n",
       "RAYAL_MAIL                  4.308207  \n",
       "FEDEX                       1.446296  \n",
       "OSM_WORLDWIDE               0.930038  "
      ]
     },
     "execution_count": 71,
     "metadata": {},
     "output_type": "execute_result"
    }
   ],
   "source": [
    "bundling_ratio = carrier_perf['QUANTITY'] / carrier_perf['Derivered'].fillna(0)\n",
    "carrier_perf['Success_factor'] = ((((carrier_perf['Derivered'].fillna(0) - carrier_perf['Canceled'].fillna(0))*2)* bundling_ratio) /\n",
    "                 np.log10(carrier_perf['Cost_per_product_X1000'] + carrier_perf['Time_delay_hours'])) \n",
    "carrier_perf.sort_values(['Success_factor'], ascending=False, inplace=True)\n",
    "carrier_perf"
   ]
  },
  {
   "cell_type": "code",
   "execution_count": null,
   "id": "2d8657d4",
   "metadata": {},
   "outputs": [],
   "source": []
  },
  {
   "cell_type": "markdown",
   "id": "2be3bbf4",
   "metadata": {},
   "source": [
    "## How other metrics correlate with sucess factor"
   ]
  },
  {
   "cell_type": "code",
   "execution_count": 72,
   "id": "38dc34d3",
   "metadata": {},
   "outputs": [
    {
     "data": {
      "text/plain": [
       "0.9996082997851286"
      ]
     },
     "execution_count": 72,
     "metadata": {},
     "output_type": "execute_result"
    }
   ],
   "source": [
    "carrier_perf['Success_factor'].corr(carrier_perf['QUANTITY'])"
   ]
  },
  {
   "cell_type": "code",
   "execution_count": 73,
   "id": "46f1fbbb",
   "metadata": {},
   "outputs": [
    {
     "data": {
      "application/vnd.plotly.v1+json": {
       "config": {
        "plotlyServerURL": "https://plot.ly"
       },
       "data": [
        {
         "hovertemplate": "Derivered=%{x}<br>Success_factor=%{y}<br>TOTAL_COST=%{marker.size}<extra></extra>",
         "legendgroup": "",
         "marker": {
          "color": "#636efa",
          "size": [
           22123039,
           1916194,
           1446024,
           643736,
           518687,
           505548,
           307732,
           257258,
           99857,
           86126,
           139338,
           12963,
           43230,
           8756,
           3224,
           739
          ],
          "sizemode": "area",
          "sizeref": 55307.5975,
          "symbol": "circle"
         },
         "mode": "markers",
         "name": "",
         "orientation": "v",
         "showlegend": false,
         "type": "scatter",
         "x": [
          11056,
          764,
          499,
          346,
          223,
          200,
          179,
          133,
          121,
          76,
          73,
          9,
          9,
          7,
          2,
          1
         ],
         "xaxis": "x",
         "y": [
          5894.050493846037,
          536.2812507350536,
          446.031233156386,
          215.74724298828855,
          192.79848325597797,
          174.43618978779156,
          111.1100243861572,
          83.40722235911949,
          76.70611290146847,
          72.49727457685727,
          45.637178155076626,
          12.004612265238247,
          10.120134859661587,
          4.308207141058029,
          1.4462955571075597,
          0.9300381544439129
         ],
         "yaxis": "y"
        },
        {
         "hovertemplate": "<b>OLS trendline</b><br>Success_factor = 0.530833 * Derivered + 37.8851<br>R<sup>2</sup>=0.998713<br><br>Derivered=%{x}<br>Success_factor=%{y} <b>(trend)</b><extra></extra>",
         "legendgroup": "",
         "marker": {
          "color": "#636efa",
          "symbol": "circle"
         },
         "mode": "lines",
         "name": "",
         "showlegend": false,
         "type": "scatter",
         "x": [
          1,
          2,
          7,
          9,
          9,
          73,
          76,
          121,
          133,
          179,
          200,
          223,
          346,
          499,
          764,
          11056
         ],
         "xaxis": "x",
         "y": [
          38.41592222463683,
          38.94675523432339,
          41.6009202827562,
          42.66258630212932,
          42.66258630212932,
          76.63589892206923,
          78.22839795112891,
          102.11588338702417,
          108.4858795032629,
          132.9041979488447,
          144.0516911522625,
          156.2608503750534,
          221.5533105665004,
          302.7707610485443,
          443.4415086154829,
          5906.77484430957
         ],
         "yaxis": "y"
        }
       ],
       "layout": {
        "legend": {
         "itemsizing": "constant",
         "tracegroupgap": 0
        },
        "template": {
         "data": {
          "bar": [
           {
            "error_x": {
             "color": "#2a3f5f"
            },
            "error_y": {
             "color": "#2a3f5f"
            },
            "marker": {
             "line": {
              "color": "#E5ECF6",
              "width": 0.5
             },
             "pattern": {
              "fillmode": "overlay",
              "size": 10,
              "solidity": 0.2
             }
            },
            "type": "bar"
           }
          ],
          "barpolar": [
           {
            "marker": {
             "line": {
              "color": "#E5ECF6",
              "width": 0.5
             },
             "pattern": {
              "fillmode": "overlay",
              "size": 10,
              "solidity": 0.2
             }
            },
            "type": "barpolar"
           }
          ],
          "carpet": [
           {
            "aaxis": {
             "endlinecolor": "#2a3f5f",
             "gridcolor": "white",
             "linecolor": "white",
             "minorgridcolor": "white",
             "startlinecolor": "#2a3f5f"
            },
            "baxis": {
             "endlinecolor": "#2a3f5f",
             "gridcolor": "white",
             "linecolor": "white",
             "minorgridcolor": "white",
             "startlinecolor": "#2a3f5f"
            },
            "type": "carpet"
           }
          ],
          "choropleth": [
           {
            "colorbar": {
             "outlinewidth": 0,
             "ticks": ""
            },
            "type": "choropleth"
           }
          ],
          "contour": [
           {
            "colorbar": {
             "outlinewidth": 0,
             "ticks": ""
            },
            "colorscale": [
             [
              0,
              "#0d0887"
             ],
             [
              0.1111111111111111,
              "#46039f"
             ],
             [
              0.2222222222222222,
              "#7201a8"
             ],
             [
              0.3333333333333333,
              "#9c179e"
             ],
             [
              0.4444444444444444,
              "#bd3786"
             ],
             [
              0.5555555555555556,
              "#d8576b"
             ],
             [
              0.6666666666666666,
              "#ed7953"
             ],
             [
              0.7777777777777778,
              "#fb9f3a"
             ],
             [
              0.8888888888888888,
              "#fdca26"
             ],
             [
              1,
              "#f0f921"
             ]
            ],
            "type": "contour"
           }
          ],
          "contourcarpet": [
           {
            "colorbar": {
             "outlinewidth": 0,
             "ticks": ""
            },
            "type": "contourcarpet"
           }
          ],
          "heatmap": [
           {
            "colorbar": {
             "outlinewidth": 0,
             "ticks": ""
            },
            "colorscale": [
             [
              0,
              "#0d0887"
             ],
             [
              0.1111111111111111,
              "#46039f"
             ],
             [
              0.2222222222222222,
              "#7201a8"
             ],
             [
              0.3333333333333333,
              "#9c179e"
             ],
             [
              0.4444444444444444,
              "#bd3786"
             ],
             [
              0.5555555555555556,
              "#d8576b"
             ],
             [
              0.6666666666666666,
              "#ed7953"
             ],
             [
              0.7777777777777778,
              "#fb9f3a"
             ],
             [
              0.8888888888888888,
              "#fdca26"
             ],
             [
              1,
              "#f0f921"
             ]
            ],
            "type": "heatmap"
           }
          ],
          "heatmapgl": [
           {
            "colorbar": {
             "outlinewidth": 0,
             "ticks": ""
            },
            "colorscale": [
             [
              0,
              "#0d0887"
             ],
             [
              0.1111111111111111,
              "#46039f"
             ],
             [
              0.2222222222222222,
              "#7201a8"
             ],
             [
              0.3333333333333333,
              "#9c179e"
             ],
             [
              0.4444444444444444,
              "#bd3786"
             ],
             [
              0.5555555555555556,
              "#d8576b"
             ],
             [
              0.6666666666666666,
              "#ed7953"
             ],
             [
              0.7777777777777778,
              "#fb9f3a"
             ],
             [
              0.8888888888888888,
              "#fdca26"
             ],
             [
              1,
              "#f0f921"
             ]
            ],
            "type": "heatmapgl"
           }
          ],
          "histogram": [
           {
            "marker": {
             "pattern": {
              "fillmode": "overlay",
              "size": 10,
              "solidity": 0.2
             }
            },
            "type": "histogram"
           }
          ],
          "histogram2d": [
           {
            "colorbar": {
             "outlinewidth": 0,
             "ticks": ""
            },
            "colorscale": [
             [
              0,
              "#0d0887"
             ],
             [
              0.1111111111111111,
              "#46039f"
             ],
             [
              0.2222222222222222,
              "#7201a8"
             ],
             [
              0.3333333333333333,
              "#9c179e"
             ],
             [
              0.4444444444444444,
              "#bd3786"
             ],
             [
              0.5555555555555556,
              "#d8576b"
             ],
             [
              0.6666666666666666,
              "#ed7953"
             ],
             [
              0.7777777777777778,
              "#fb9f3a"
             ],
             [
              0.8888888888888888,
              "#fdca26"
             ],
             [
              1,
              "#f0f921"
             ]
            ],
            "type": "histogram2d"
           }
          ],
          "histogram2dcontour": [
           {
            "colorbar": {
             "outlinewidth": 0,
             "ticks": ""
            },
            "colorscale": [
             [
              0,
              "#0d0887"
             ],
             [
              0.1111111111111111,
              "#46039f"
             ],
             [
              0.2222222222222222,
              "#7201a8"
             ],
             [
              0.3333333333333333,
              "#9c179e"
             ],
             [
              0.4444444444444444,
              "#bd3786"
             ],
             [
              0.5555555555555556,
              "#d8576b"
             ],
             [
              0.6666666666666666,
              "#ed7953"
             ],
             [
              0.7777777777777778,
              "#fb9f3a"
             ],
             [
              0.8888888888888888,
              "#fdca26"
             ],
             [
              1,
              "#f0f921"
             ]
            ],
            "type": "histogram2dcontour"
           }
          ],
          "mesh3d": [
           {
            "colorbar": {
             "outlinewidth": 0,
             "ticks": ""
            },
            "type": "mesh3d"
           }
          ],
          "parcoords": [
           {
            "line": {
             "colorbar": {
              "outlinewidth": 0,
              "ticks": ""
             }
            },
            "type": "parcoords"
           }
          ],
          "pie": [
           {
            "automargin": true,
            "type": "pie"
           }
          ],
          "scatter": [
           {
            "marker": {
             "colorbar": {
              "outlinewidth": 0,
              "ticks": ""
             }
            },
            "type": "scatter"
           }
          ],
          "scatter3d": [
           {
            "line": {
             "colorbar": {
              "outlinewidth": 0,
              "ticks": ""
             }
            },
            "marker": {
             "colorbar": {
              "outlinewidth": 0,
              "ticks": ""
             }
            },
            "type": "scatter3d"
           }
          ],
          "scattercarpet": [
           {
            "marker": {
             "colorbar": {
              "outlinewidth": 0,
              "ticks": ""
             }
            },
            "type": "scattercarpet"
           }
          ],
          "scattergeo": [
           {
            "marker": {
             "colorbar": {
              "outlinewidth": 0,
              "ticks": ""
             }
            },
            "type": "scattergeo"
           }
          ],
          "scattergl": [
           {
            "marker": {
             "colorbar": {
              "outlinewidth": 0,
              "ticks": ""
             }
            },
            "type": "scattergl"
           }
          ],
          "scattermapbox": [
           {
            "marker": {
             "colorbar": {
              "outlinewidth": 0,
              "ticks": ""
             }
            },
            "type": "scattermapbox"
           }
          ],
          "scatterpolar": [
           {
            "marker": {
             "colorbar": {
              "outlinewidth": 0,
              "ticks": ""
             }
            },
            "type": "scatterpolar"
           }
          ],
          "scatterpolargl": [
           {
            "marker": {
             "colorbar": {
              "outlinewidth": 0,
              "ticks": ""
             }
            },
            "type": "scatterpolargl"
           }
          ],
          "scatterternary": [
           {
            "marker": {
             "colorbar": {
              "outlinewidth": 0,
              "ticks": ""
             }
            },
            "type": "scatterternary"
           }
          ],
          "surface": [
           {
            "colorbar": {
             "outlinewidth": 0,
             "ticks": ""
            },
            "colorscale": [
             [
              0,
              "#0d0887"
             ],
             [
              0.1111111111111111,
              "#46039f"
             ],
             [
              0.2222222222222222,
              "#7201a8"
             ],
             [
              0.3333333333333333,
              "#9c179e"
             ],
             [
              0.4444444444444444,
              "#bd3786"
             ],
             [
              0.5555555555555556,
              "#d8576b"
             ],
             [
              0.6666666666666666,
              "#ed7953"
             ],
             [
              0.7777777777777778,
              "#fb9f3a"
             ],
             [
              0.8888888888888888,
              "#fdca26"
             ],
             [
              1,
              "#f0f921"
             ]
            ],
            "type": "surface"
           }
          ],
          "table": [
           {
            "cells": {
             "fill": {
              "color": "#EBF0F8"
             },
             "line": {
              "color": "white"
             }
            },
            "header": {
             "fill": {
              "color": "#C8D4E3"
             },
             "line": {
              "color": "white"
             }
            },
            "type": "table"
           }
          ]
         },
         "layout": {
          "annotationdefaults": {
           "arrowcolor": "#2a3f5f",
           "arrowhead": 0,
           "arrowwidth": 1
          },
          "autotypenumbers": "strict",
          "coloraxis": {
           "colorbar": {
            "outlinewidth": 0,
            "ticks": ""
           }
          },
          "colorscale": {
           "diverging": [
            [
             0,
             "#8e0152"
            ],
            [
             0.1,
             "#c51b7d"
            ],
            [
             0.2,
             "#de77ae"
            ],
            [
             0.3,
             "#f1b6da"
            ],
            [
             0.4,
             "#fde0ef"
            ],
            [
             0.5,
             "#f7f7f7"
            ],
            [
             0.6,
             "#e6f5d0"
            ],
            [
             0.7,
             "#b8e186"
            ],
            [
             0.8,
             "#7fbc41"
            ],
            [
             0.9,
             "#4d9221"
            ],
            [
             1,
             "#276419"
            ]
           ],
           "sequential": [
            [
             0,
             "#0d0887"
            ],
            [
             0.1111111111111111,
             "#46039f"
            ],
            [
             0.2222222222222222,
             "#7201a8"
            ],
            [
             0.3333333333333333,
             "#9c179e"
            ],
            [
             0.4444444444444444,
             "#bd3786"
            ],
            [
             0.5555555555555556,
             "#d8576b"
            ],
            [
             0.6666666666666666,
             "#ed7953"
            ],
            [
             0.7777777777777778,
             "#fb9f3a"
            ],
            [
             0.8888888888888888,
             "#fdca26"
            ],
            [
             1,
             "#f0f921"
            ]
           ],
           "sequentialminus": [
            [
             0,
             "#0d0887"
            ],
            [
             0.1111111111111111,
             "#46039f"
            ],
            [
             0.2222222222222222,
             "#7201a8"
            ],
            [
             0.3333333333333333,
             "#9c179e"
            ],
            [
             0.4444444444444444,
             "#bd3786"
            ],
            [
             0.5555555555555556,
             "#d8576b"
            ],
            [
             0.6666666666666666,
             "#ed7953"
            ],
            [
             0.7777777777777778,
             "#fb9f3a"
            ],
            [
             0.8888888888888888,
             "#fdca26"
            ],
            [
             1,
             "#f0f921"
            ]
           ]
          },
          "colorway": [
           "#636efa",
           "#EF553B",
           "#00cc96",
           "#ab63fa",
           "#FFA15A",
           "#19d3f3",
           "#FF6692",
           "#B6E880",
           "#FF97FF",
           "#FECB52"
          ],
          "font": {
           "color": "#2a3f5f"
          },
          "geo": {
           "bgcolor": "white",
           "lakecolor": "white",
           "landcolor": "#E5ECF6",
           "showlakes": true,
           "showland": true,
           "subunitcolor": "white"
          },
          "hoverlabel": {
           "align": "left"
          },
          "hovermode": "closest",
          "mapbox": {
           "style": "light"
          },
          "paper_bgcolor": "white",
          "plot_bgcolor": "#E5ECF6",
          "polar": {
           "angularaxis": {
            "gridcolor": "white",
            "linecolor": "white",
            "ticks": ""
           },
           "bgcolor": "#E5ECF6",
           "radialaxis": {
            "gridcolor": "white",
            "linecolor": "white",
            "ticks": ""
           }
          },
          "scene": {
           "xaxis": {
            "backgroundcolor": "#E5ECF6",
            "gridcolor": "white",
            "gridwidth": 2,
            "linecolor": "white",
            "showbackground": true,
            "ticks": "",
            "zerolinecolor": "white"
           },
           "yaxis": {
            "backgroundcolor": "#E5ECF6",
            "gridcolor": "white",
            "gridwidth": 2,
            "linecolor": "white",
            "showbackground": true,
            "ticks": "",
            "zerolinecolor": "white"
           },
           "zaxis": {
            "backgroundcolor": "#E5ECF6",
            "gridcolor": "white",
            "gridwidth": 2,
            "linecolor": "white",
            "showbackground": true,
            "ticks": "",
            "zerolinecolor": "white"
           }
          },
          "shapedefaults": {
           "line": {
            "color": "#2a3f5f"
           }
          },
          "ternary": {
           "aaxis": {
            "gridcolor": "white",
            "linecolor": "white",
            "ticks": ""
           },
           "baxis": {
            "gridcolor": "white",
            "linecolor": "white",
            "ticks": ""
           },
           "bgcolor": "#E5ECF6",
           "caxis": {
            "gridcolor": "white",
            "linecolor": "white",
            "ticks": ""
           }
          },
          "title": {
           "x": 0.05
          },
          "xaxis": {
           "automargin": true,
           "gridcolor": "white",
           "linecolor": "white",
           "ticks": "",
           "title": {
            "standoff": 15
           },
           "zerolinecolor": "white",
           "zerolinewidth": 2
          },
          "yaxis": {
           "automargin": true,
           "gridcolor": "white",
           "linecolor": "white",
           "ticks": "",
           "title": {
            "standoff": 15
           },
           "zerolinecolor": "white",
           "zerolinewidth": 2
          }
         }
        },
        "title": {
         "text": "Carrier success vs total number of delivered orders"
        },
        "xaxis": {
         "anchor": "y",
         "domain": [
          0,
          1
         ],
         "title": {
          "text": "Derivered"
         }
        },
        "yaxis": {
         "anchor": "x",
         "domain": [
          0,
          1
         ],
         "title": {
          "text": "Success_factor"
         }
        }
       }
      },
      "text/html": [
       "<div>                            <div id=\"d8e51dd5-1f85-4e0d-86f5-6cf9512b08cb\" class=\"plotly-graph-div\" style=\"height:525px; width:100%;\"></div>            <script type=\"text/javascript\">                require([\"plotly\"], function(Plotly) {                    window.PLOTLYENV=window.PLOTLYENV || {};                                    if (document.getElementById(\"d8e51dd5-1f85-4e0d-86f5-6cf9512b08cb\")) {                    Plotly.newPlot(                        \"d8e51dd5-1f85-4e0d-86f5-6cf9512b08cb\",                        [{\"hovertemplate\":\"Derivered=%{x}<br>Success_factor=%{y}<br>TOTAL_COST=%{marker.size}<extra></extra>\",\"legendgroup\":\"\",\"marker\":{\"color\":\"#636efa\",\"size\":[22123039,1916194,1446024,643736,518687,505548,307732,257258,99857,86126,139338,12963,43230,8756,3224,739],\"sizemode\":\"area\",\"sizeref\":55307.5975,\"symbol\":\"circle\"},\"mode\":\"markers\",\"name\":\"\",\"orientation\":\"v\",\"showlegend\":false,\"x\":[11056,764,499,346,223,200,179,133,121,76,73,9,9,7,2,1],\"xaxis\":\"x\",\"y\":[5894.050493846037,536.2812507350536,446.031233156386,215.74724298828855,192.79848325597797,174.43618978779156,111.1100243861572,83.40722235911949,76.70611290146847,72.49727457685727,45.637178155076626,12.004612265238247,10.120134859661587,4.308207141058029,1.4462955571075597,0.9300381544439129],\"yaxis\":\"y\",\"type\":\"scatter\"},{\"hovertemplate\":\"<b>OLS trendline</b><br>Success_factor = 0.530833 * Derivered + 37.8851<br>R<sup>2</sup>=0.998713<br><br>Derivered=%{x}<br>Success_factor=%{y} <b>(trend)</b><extra></extra>\",\"legendgroup\":\"\",\"marker\":{\"color\":\"#636efa\",\"symbol\":\"circle\"},\"mode\":\"lines\",\"name\":\"\",\"showlegend\":false,\"x\":[1,2,7,9,9,73,76,121,133,179,200,223,346,499,764,11056],\"xaxis\":\"x\",\"y\":[38.41592222463683,38.94675523432339,41.6009202827562,42.66258630212932,42.66258630212932,76.63589892206923,78.22839795112891,102.11588338702417,108.4858795032629,132.9041979488447,144.0516911522625,156.2608503750534,221.5533105665004,302.7707610485443,443.4415086154829,5906.77484430957],\"yaxis\":\"y\",\"type\":\"scatter\"}],                        {\"template\":{\"data\":{\"bar\":[{\"error_x\":{\"color\":\"#2a3f5f\"},\"error_y\":{\"color\":\"#2a3f5f\"},\"marker\":{\"line\":{\"color\":\"#E5ECF6\",\"width\":0.5},\"pattern\":{\"fillmode\":\"overlay\",\"size\":10,\"solidity\":0.2}},\"type\":\"bar\"}],\"barpolar\":[{\"marker\":{\"line\":{\"color\":\"#E5ECF6\",\"width\":0.5},\"pattern\":{\"fillmode\":\"overlay\",\"size\":10,\"solidity\":0.2}},\"type\":\"barpolar\"}],\"carpet\":[{\"aaxis\":{\"endlinecolor\":\"#2a3f5f\",\"gridcolor\":\"white\",\"linecolor\":\"white\",\"minorgridcolor\":\"white\",\"startlinecolor\":\"#2a3f5f\"},\"baxis\":{\"endlinecolor\":\"#2a3f5f\",\"gridcolor\":\"white\",\"linecolor\":\"white\",\"minorgridcolor\":\"white\",\"startlinecolor\":\"#2a3f5f\"},\"type\":\"carpet\"}],\"choropleth\":[{\"colorbar\":{\"outlinewidth\":0,\"ticks\":\"\"},\"type\":\"choropleth\"}],\"contour\":[{\"colorbar\":{\"outlinewidth\":0,\"ticks\":\"\"},\"colorscale\":[[0.0,\"#0d0887\"],[0.1111111111111111,\"#46039f\"],[0.2222222222222222,\"#7201a8\"],[0.3333333333333333,\"#9c179e\"],[0.4444444444444444,\"#bd3786\"],[0.5555555555555556,\"#d8576b\"],[0.6666666666666666,\"#ed7953\"],[0.7777777777777778,\"#fb9f3a\"],[0.8888888888888888,\"#fdca26\"],[1.0,\"#f0f921\"]],\"type\":\"contour\"}],\"contourcarpet\":[{\"colorbar\":{\"outlinewidth\":0,\"ticks\":\"\"},\"type\":\"contourcarpet\"}],\"heatmap\":[{\"colorbar\":{\"outlinewidth\":0,\"ticks\":\"\"},\"colorscale\":[[0.0,\"#0d0887\"],[0.1111111111111111,\"#46039f\"],[0.2222222222222222,\"#7201a8\"],[0.3333333333333333,\"#9c179e\"],[0.4444444444444444,\"#bd3786\"],[0.5555555555555556,\"#d8576b\"],[0.6666666666666666,\"#ed7953\"],[0.7777777777777778,\"#fb9f3a\"],[0.8888888888888888,\"#fdca26\"],[1.0,\"#f0f921\"]],\"type\":\"heatmap\"}],\"heatmapgl\":[{\"colorbar\":{\"outlinewidth\":0,\"ticks\":\"\"},\"colorscale\":[[0.0,\"#0d0887\"],[0.1111111111111111,\"#46039f\"],[0.2222222222222222,\"#7201a8\"],[0.3333333333333333,\"#9c179e\"],[0.4444444444444444,\"#bd3786\"],[0.5555555555555556,\"#d8576b\"],[0.6666666666666666,\"#ed7953\"],[0.7777777777777778,\"#fb9f3a\"],[0.8888888888888888,\"#fdca26\"],[1.0,\"#f0f921\"]],\"type\":\"heatmapgl\"}],\"histogram\":[{\"marker\":{\"pattern\":{\"fillmode\":\"overlay\",\"size\":10,\"solidity\":0.2}},\"type\":\"histogram\"}],\"histogram2d\":[{\"colorbar\":{\"outlinewidth\":0,\"ticks\":\"\"},\"colorscale\":[[0.0,\"#0d0887\"],[0.1111111111111111,\"#46039f\"],[0.2222222222222222,\"#7201a8\"],[0.3333333333333333,\"#9c179e\"],[0.4444444444444444,\"#bd3786\"],[0.5555555555555556,\"#d8576b\"],[0.6666666666666666,\"#ed7953\"],[0.7777777777777778,\"#fb9f3a\"],[0.8888888888888888,\"#fdca26\"],[1.0,\"#f0f921\"]],\"type\":\"histogram2d\"}],\"histogram2dcontour\":[{\"colorbar\":{\"outlinewidth\":0,\"ticks\":\"\"},\"colorscale\":[[0.0,\"#0d0887\"],[0.1111111111111111,\"#46039f\"],[0.2222222222222222,\"#7201a8\"],[0.3333333333333333,\"#9c179e\"],[0.4444444444444444,\"#bd3786\"],[0.5555555555555556,\"#d8576b\"],[0.6666666666666666,\"#ed7953\"],[0.7777777777777778,\"#fb9f3a\"],[0.8888888888888888,\"#fdca26\"],[1.0,\"#f0f921\"]],\"type\":\"histogram2dcontour\"}],\"mesh3d\":[{\"colorbar\":{\"outlinewidth\":0,\"ticks\":\"\"},\"type\":\"mesh3d\"}],\"parcoords\":[{\"line\":{\"colorbar\":{\"outlinewidth\":0,\"ticks\":\"\"}},\"type\":\"parcoords\"}],\"pie\":[{\"automargin\":true,\"type\":\"pie\"}],\"scatter\":[{\"marker\":{\"colorbar\":{\"outlinewidth\":0,\"ticks\":\"\"}},\"type\":\"scatter\"}],\"scatter3d\":[{\"line\":{\"colorbar\":{\"outlinewidth\":0,\"ticks\":\"\"}},\"marker\":{\"colorbar\":{\"outlinewidth\":0,\"ticks\":\"\"}},\"type\":\"scatter3d\"}],\"scattercarpet\":[{\"marker\":{\"colorbar\":{\"outlinewidth\":0,\"ticks\":\"\"}},\"type\":\"scattercarpet\"}],\"scattergeo\":[{\"marker\":{\"colorbar\":{\"outlinewidth\":0,\"ticks\":\"\"}},\"type\":\"scattergeo\"}],\"scattergl\":[{\"marker\":{\"colorbar\":{\"outlinewidth\":0,\"ticks\":\"\"}},\"type\":\"scattergl\"}],\"scattermapbox\":[{\"marker\":{\"colorbar\":{\"outlinewidth\":0,\"ticks\":\"\"}},\"type\":\"scattermapbox\"}],\"scatterpolar\":[{\"marker\":{\"colorbar\":{\"outlinewidth\":0,\"ticks\":\"\"}},\"type\":\"scatterpolar\"}],\"scatterpolargl\":[{\"marker\":{\"colorbar\":{\"outlinewidth\":0,\"ticks\":\"\"}},\"type\":\"scatterpolargl\"}],\"scatterternary\":[{\"marker\":{\"colorbar\":{\"outlinewidth\":0,\"ticks\":\"\"}},\"type\":\"scatterternary\"}],\"surface\":[{\"colorbar\":{\"outlinewidth\":0,\"ticks\":\"\"},\"colorscale\":[[0.0,\"#0d0887\"],[0.1111111111111111,\"#46039f\"],[0.2222222222222222,\"#7201a8\"],[0.3333333333333333,\"#9c179e\"],[0.4444444444444444,\"#bd3786\"],[0.5555555555555556,\"#d8576b\"],[0.6666666666666666,\"#ed7953\"],[0.7777777777777778,\"#fb9f3a\"],[0.8888888888888888,\"#fdca26\"],[1.0,\"#f0f921\"]],\"type\":\"surface\"}],\"table\":[{\"cells\":{\"fill\":{\"color\":\"#EBF0F8\"},\"line\":{\"color\":\"white\"}},\"header\":{\"fill\":{\"color\":\"#C8D4E3\"},\"line\":{\"color\":\"white\"}},\"type\":\"table\"}]},\"layout\":{\"annotationdefaults\":{\"arrowcolor\":\"#2a3f5f\",\"arrowhead\":0,\"arrowwidth\":1},\"autotypenumbers\":\"strict\",\"coloraxis\":{\"colorbar\":{\"outlinewidth\":0,\"ticks\":\"\"}},\"colorscale\":{\"diverging\":[[0,\"#8e0152\"],[0.1,\"#c51b7d\"],[0.2,\"#de77ae\"],[0.3,\"#f1b6da\"],[0.4,\"#fde0ef\"],[0.5,\"#f7f7f7\"],[0.6,\"#e6f5d0\"],[0.7,\"#b8e186\"],[0.8,\"#7fbc41\"],[0.9,\"#4d9221\"],[1,\"#276419\"]],\"sequential\":[[0.0,\"#0d0887\"],[0.1111111111111111,\"#46039f\"],[0.2222222222222222,\"#7201a8\"],[0.3333333333333333,\"#9c179e\"],[0.4444444444444444,\"#bd3786\"],[0.5555555555555556,\"#d8576b\"],[0.6666666666666666,\"#ed7953\"],[0.7777777777777778,\"#fb9f3a\"],[0.8888888888888888,\"#fdca26\"],[1.0,\"#f0f921\"]],\"sequentialminus\":[[0.0,\"#0d0887\"],[0.1111111111111111,\"#46039f\"],[0.2222222222222222,\"#7201a8\"],[0.3333333333333333,\"#9c179e\"],[0.4444444444444444,\"#bd3786\"],[0.5555555555555556,\"#d8576b\"],[0.6666666666666666,\"#ed7953\"],[0.7777777777777778,\"#fb9f3a\"],[0.8888888888888888,\"#fdca26\"],[1.0,\"#f0f921\"]]},\"colorway\":[\"#636efa\",\"#EF553B\",\"#00cc96\",\"#ab63fa\",\"#FFA15A\",\"#19d3f3\",\"#FF6692\",\"#B6E880\",\"#FF97FF\",\"#FECB52\"],\"font\":{\"color\":\"#2a3f5f\"},\"geo\":{\"bgcolor\":\"white\",\"lakecolor\":\"white\",\"landcolor\":\"#E5ECF6\",\"showlakes\":true,\"showland\":true,\"subunitcolor\":\"white\"},\"hoverlabel\":{\"align\":\"left\"},\"hovermode\":\"closest\",\"mapbox\":{\"style\":\"light\"},\"paper_bgcolor\":\"white\",\"plot_bgcolor\":\"#E5ECF6\",\"polar\":{\"angularaxis\":{\"gridcolor\":\"white\",\"linecolor\":\"white\",\"ticks\":\"\"},\"bgcolor\":\"#E5ECF6\",\"radialaxis\":{\"gridcolor\":\"white\",\"linecolor\":\"white\",\"ticks\":\"\"}},\"scene\":{\"xaxis\":{\"backgroundcolor\":\"#E5ECF6\",\"gridcolor\":\"white\",\"gridwidth\":2,\"linecolor\":\"white\",\"showbackground\":true,\"ticks\":\"\",\"zerolinecolor\":\"white\"},\"yaxis\":{\"backgroundcolor\":\"#E5ECF6\",\"gridcolor\":\"white\",\"gridwidth\":2,\"linecolor\":\"white\",\"showbackground\":true,\"ticks\":\"\",\"zerolinecolor\":\"white\"},\"zaxis\":{\"backgroundcolor\":\"#E5ECF6\",\"gridcolor\":\"white\",\"gridwidth\":2,\"linecolor\":\"white\",\"showbackground\":true,\"ticks\":\"\",\"zerolinecolor\":\"white\"}},\"shapedefaults\":{\"line\":{\"color\":\"#2a3f5f\"}},\"ternary\":{\"aaxis\":{\"gridcolor\":\"white\",\"linecolor\":\"white\",\"ticks\":\"\"},\"baxis\":{\"gridcolor\":\"white\",\"linecolor\":\"white\",\"ticks\":\"\"},\"bgcolor\":\"#E5ECF6\",\"caxis\":{\"gridcolor\":\"white\",\"linecolor\":\"white\",\"ticks\":\"\"}},\"title\":{\"x\":0.05},\"xaxis\":{\"automargin\":true,\"gridcolor\":\"white\",\"linecolor\":\"white\",\"ticks\":\"\",\"title\":{\"standoff\":15},\"zerolinecolor\":\"white\",\"zerolinewidth\":2},\"yaxis\":{\"automargin\":true,\"gridcolor\":\"white\",\"linecolor\":\"white\",\"ticks\":\"\",\"title\":{\"standoff\":15},\"zerolinecolor\":\"white\",\"zerolinewidth\":2}}},\"xaxis\":{\"anchor\":\"y\",\"domain\":[0.0,1.0],\"title\":{\"text\":\"Derivered\"}},\"yaxis\":{\"anchor\":\"x\",\"domain\":[0.0,1.0],\"title\":{\"text\":\"Success_factor\"}},\"legend\":{\"tracegroupgap\":0,\"itemsizing\":\"constant\"},\"title\":{\"text\":\"Carrier success vs total number of delivered orders\"}},                        {\"responsive\": true}                    ).then(function(){\n",
       "                            \n",
       "var gd = document.getElementById('d8e51dd5-1f85-4e0d-86f5-6cf9512b08cb');\n",
       "var x = new MutationObserver(function (mutations, observer) {{\n",
       "        var display = window.getComputedStyle(gd).display;\n",
       "        if (!display || display === 'none') {{\n",
       "            console.log([gd, 'removed!']);\n",
       "            Plotly.purge(gd);\n",
       "            observer.disconnect();\n",
       "        }}\n",
       "}});\n",
       "\n",
       "// Listen for the removal of the full notebook cells\n",
       "var notebookContainer = gd.closest('#notebook-container');\n",
       "if (notebookContainer) {{\n",
       "    x.observe(notebookContainer, {childList: true});\n",
       "}}\n",
       "\n",
       "// Listen for the clearing of the current output cell\n",
       "var outputEl = gd.closest('.output');\n",
       "if (outputEl) {{\n",
       "    x.observe(outputEl, {childList: true});\n",
       "}}\n",
       "\n",
       "                        })                };                });            </script>        </div>"
      ]
     },
     "metadata": {},
     "output_type": "display_data"
    }
   ],
   "source": [
    "# using plotly express to plot an interactive scatter plot\n",
    "fig = px.scatter(carrier_perf, x=\"Derivered\", y=\"Success_factor\", \n",
    "                 trendline=\"ols\", size=\"TOTAL_COST\",\n",
    "                 title='Carrier success vs total number of delivered orders')\n",
    "fig.show()"
   ]
  },
  {
   "cell_type": "code",
   "execution_count": 74,
   "id": "99e0aaed",
   "metadata": {},
   "outputs": [
    {
     "data": {
      "text/plain": [
       "-0.22748017642042379"
      ]
     },
     "execution_count": 74,
     "metadata": {},
     "output_type": "execute_result"
    }
   ],
   "source": [
    "carrier_perf['Success_factor'].corr(carrier_perf['Time_delay_hours'])"
   ]
  },
  {
   "cell_type": "code",
   "execution_count": 75,
   "id": "9eb184d7",
   "metadata": {},
   "outputs": [
    {
     "data": {
      "application/vnd.plotly.v1+json": {
       "config": {
        "plotlyServerURL": "https://plot.ly"
       },
       "data": [
        {
         "hovertemplate": "Time_delay_hours=%{x}<br>Success_factor=%{y}<br>TOTAL_COST=%{marker.size}<extra></extra>",
         "legendgroup": "",
         "marker": {
          "color": "#636efa",
          "size": [
           22123039,
           1916194,
           1446024,
           643736,
           518687,
           505548,
           307732,
           257258,
           99857,
           86126,
           139338,
           12963,
           43230,
           8756,
           3224,
           739
          ],
          "sizemode": "area",
          "sizeref": 55307.5975,
          "symbol": "circle"
         },
         "mode": "markers",
         "name": "",
         "orientation": "v",
         "showlegend": false,
         "type": "scatter",
         "x": [
          165.01399674914214,
          290.2490170380079,
          102.18525896414343,
          1437.2485549132948,
          221.1283185840708,
          81.6321243523316,
          1551.5,
          1515.6538461538462,
          1606.5123966942149,
          103.53947368421052,
          1712.5068493150684,
          89.22222222222223,
          62,
          1772.142857142857,
          578,
          141
         ],
         "xaxis": "x",
         "y": [
          5894.050493846037,
          536.2812507350536,
          446.031233156386,
          215.74724298828855,
          192.79848325597797,
          174.43618978779156,
          111.1100243861572,
          83.40722235911949,
          76.70611290146847,
          72.49727457685727,
          45.637178155076626,
          12.004612265238247,
          10.120134859661587,
          4.308207141058029,
          1.4462955571075597,
          0.9300381544439129
         ],
         "yaxis": "y"
        },
        {
         "hovertemplate": "<b>OLS trendline</b><br>Success_factor = -0.456712 * Time_delay_hours + 818.595<br>R<sup>2</sup>=0.051747<br><br>Time_delay_hours=%{x}<br>Success_factor=%{y} <b>(trend)</b><extra></extra>",
         "legendgroup": "",
         "marker": {
          "color": "#636efa",
          "symbol": "circle"
         },
         "mode": "lines",
         "name": "",
         "showlegend": false,
         "type": "scatter",
         "x": [
          62,
          81.6321243523316,
          89.22222222222223,
          102.18525896414343,
          103.53947368421052,
          141,
          165.01399674914214,
          221.1283185840708,
          290.2490170380079,
          578,
          1437.2485549132948,
          1515.6538461538462,
          1551.5,
          1606.5123966942149,
          1712.5068493150684,
          1772.142857142857
         ],
         "xaxis": "x",
         "y": [
          790.2789895508852,
          781.3127545122919,
          777.8462625399504,
          771.9258826485006,
          771.3073959654025,
          754.1987083069074,
          743.2312177182869,
          717.6031099509538,
          686.0348284319889,
          554.6153804130048,
          162.18589282119217,
          126.37722245441898,
          110.00583875461996,
          84.88099388585351,
          36.47201083696905,
          9.23550533450475
         ],
         "yaxis": "y"
        }
       ],
       "layout": {
        "legend": {
         "itemsizing": "constant",
         "tracegroupgap": 0
        },
        "template": {
         "data": {
          "bar": [
           {
            "error_x": {
             "color": "#2a3f5f"
            },
            "error_y": {
             "color": "#2a3f5f"
            },
            "marker": {
             "line": {
              "color": "#E5ECF6",
              "width": 0.5
             },
             "pattern": {
              "fillmode": "overlay",
              "size": 10,
              "solidity": 0.2
             }
            },
            "type": "bar"
           }
          ],
          "barpolar": [
           {
            "marker": {
             "line": {
              "color": "#E5ECF6",
              "width": 0.5
             },
             "pattern": {
              "fillmode": "overlay",
              "size": 10,
              "solidity": 0.2
             }
            },
            "type": "barpolar"
           }
          ],
          "carpet": [
           {
            "aaxis": {
             "endlinecolor": "#2a3f5f",
             "gridcolor": "white",
             "linecolor": "white",
             "minorgridcolor": "white",
             "startlinecolor": "#2a3f5f"
            },
            "baxis": {
             "endlinecolor": "#2a3f5f",
             "gridcolor": "white",
             "linecolor": "white",
             "minorgridcolor": "white",
             "startlinecolor": "#2a3f5f"
            },
            "type": "carpet"
           }
          ],
          "choropleth": [
           {
            "colorbar": {
             "outlinewidth": 0,
             "ticks": ""
            },
            "type": "choropleth"
           }
          ],
          "contour": [
           {
            "colorbar": {
             "outlinewidth": 0,
             "ticks": ""
            },
            "colorscale": [
             [
              0,
              "#0d0887"
             ],
             [
              0.1111111111111111,
              "#46039f"
             ],
             [
              0.2222222222222222,
              "#7201a8"
             ],
             [
              0.3333333333333333,
              "#9c179e"
             ],
             [
              0.4444444444444444,
              "#bd3786"
             ],
             [
              0.5555555555555556,
              "#d8576b"
             ],
             [
              0.6666666666666666,
              "#ed7953"
             ],
             [
              0.7777777777777778,
              "#fb9f3a"
             ],
             [
              0.8888888888888888,
              "#fdca26"
             ],
             [
              1,
              "#f0f921"
             ]
            ],
            "type": "contour"
           }
          ],
          "contourcarpet": [
           {
            "colorbar": {
             "outlinewidth": 0,
             "ticks": ""
            },
            "type": "contourcarpet"
           }
          ],
          "heatmap": [
           {
            "colorbar": {
             "outlinewidth": 0,
             "ticks": ""
            },
            "colorscale": [
             [
              0,
              "#0d0887"
             ],
             [
              0.1111111111111111,
              "#46039f"
             ],
             [
              0.2222222222222222,
              "#7201a8"
             ],
             [
              0.3333333333333333,
              "#9c179e"
             ],
             [
              0.4444444444444444,
              "#bd3786"
             ],
             [
              0.5555555555555556,
              "#d8576b"
             ],
             [
              0.6666666666666666,
              "#ed7953"
             ],
             [
              0.7777777777777778,
              "#fb9f3a"
             ],
             [
              0.8888888888888888,
              "#fdca26"
             ],
             [
              1,
              "#f0f921"
             ]
            ],
            "type": "heatmap"
           }
          ],
          "heatmapgl": [
           {
            "colorbar": {
             "outlinewidth": 0,
             "ticks": ""
            },
            "colorscale": [
             [
              0,
              "#0d0887"
             ],
             [
              0.1111111111111111,
              "#46039f"
             ],
             [
              0.2222222222222222,
              "#7201a8"
             ],
             [
              0.3333333333333333,
              "#9c179e"
             ],
             [
              0.4444444444444444,
              "#bd3786"
             ],
             [
              0.5555555555555556,
              "#d8576b"
             ],
             [
              0.6666666666666666,
              "#ed7953"
             ],
             [
              0.7777777777777778,
              "#fb9f3a"
             ],
             [
              0.8888888888888888,
              "#fdca26"
             ],
             [
              1,
              "#f0f921"
             ]
            ],
            "type": "heatmapgl"
           }
          ],
          "histogram": [
           {
            "marker": {
             "pattern": {
              "fillmode": "overlay",
              "size": 10,
              "solidity": 0.2
             }
            },
            "type": "histogram"
           }
          ],
          "histogram2d": [
           {
            "colorbar": {
             "outlinewidth": 0,
             "ticks": ""
            },
            "colorscale": [
             [
              0,
              "#0d0887"
             ],
             [
              0.1111111111111111,
              "#46039f"
             ],
             [
              0.2222222222222222,
              "#7201a8"
             ],
             [
              0.3333333333333333,
              "#9c179e"
             ],
             [
              0.4444444444444444,
              "#bd3786"
             ],
             [
              0.5555555555555556,
              "#d8576b"
             ],
             [
              0.6666666666666666,
              "#ed7953"
             ],
             [
              0.7777777777777778,
              "#fb9f3a"
             ],
             [
              0.8888888888888888,
              "#fdca26"
             ],
             [
              1,
              "#f0f921"
             ]
            ],
            "type": "histogram2d"
           }
          ],
          "histogram2dcontour": [
           {
            "colorbar": {
             "outlinewidth": 0,
             "ticks": ""
            },
            "colorscale": [
             [
              0,
              "#0d0887"
             ],
             [
              0.1111111111111111,
              "#46039f"
             ],
             [
              0.2222222222222222,
              "#7201a8"
             ],
             [
              0.3333333333333333,
              "#9c179e"
             ],
             [
              0.4444444444444444,
              "#bd3786"
             ],
             [
              0.5555555555555556,
              "#d8576b"
             ],
             [
              0.6666666666666666,
              "#ed7953"
             ],
             [
              0.7777777777777778,
              "#fb9f3a"
             ],
             [
              0.8888888888888888,
              "#fdca26"
             ],
             [
              1,
              "#f0f921"
             ]
            ],
            "type": "histogram2dcontour"
           }
          ],
          "mesh3d": [
           {
            "colorbar": {
             "outlinewidth": 0,
             "ticks": ""
            },
            "type": "mesh3d"
           }
          ],
          "parcoords": [
           {
            "line": {
             "colorbar": {
              "outlinewidth": 0,
              "ticks": ""
             }
            },
            "type": "parcoords"
           }
          ],
          "pie": [
           {
            "automargin": true,
            "type": "pie"
           }
          ],
          "scatter": [
           {
            "marker": {
             "colorbar": {
              "outlinewidth": 0,
              "ticks": ""
             }
            },
            "type": "scatter"
           }
          ],
          "scatter3d": [
           {
            "line": {
             "colorbar": {
              "outlinewidth": 0,
              "ticks": ""
             }
            },
            "marker": {
             "colorbar": {
              "outlinewidth": 0,
              "ticks": ""
             }
            },
            "type": "scatter3d"
           }
          ],
          "scattercarpet": [
           {
            "marker": {
             "colorbar": {
              "outlinewidth": 0,
              "ticks": ""
             }
            },
            "type": "scattercarpet"
           }
          ],
          "scattergeo": [
           {
            "marker": {
             "colorbar": {
              "outlinewidth": 0,
              "ticks": ""
             }
            },
            "type": "scattergeo"
           }
          ],
          "scattergl": [
           {
            "marker": {
             "colorbar": {
              "outlinewidth": 0,
              "ticks": ""
             }
            },
            "type": "scattergl"
           }
          ],
          "scattermapbox": [
           {
            "marker": {
             "colorbar": {
              "outlinewidth": 0,
              "ticks": ""
             }
            },
            "type": "scattermapbox"
           }
          ],
          "scatterpolar": [
           {
            "marker": {
             "colorbar": {
              "outlinewidth": 0,
              "ticks": ""
             }
            },
            "type": "scatterpolar"
           }
          ],
          "scatterpolargl": [
           {
            "marker": {
             "colorbar": {
              "outlinewidth": 0,
              "ticks": ""
             }
            },
            "type": "scatterpolargl"
           }
          ],
          "scatterternary": [
           {
            "marker": {
             "colorbar": {
              "outlinewidth": 0,
              "ticks": ""
             }
            },
            "type": "scatterternary"
           }
          ],
          "surface": [
           {
            "colorbar": {
             "outlinewidth": 0,
             "ticks": ""
            },
            "colorscale": [
             [
              0,
              "#0d0887"
             ],
             [
              0.1111111111111111,
              "#46039f"
             ],
             [
              0.2222222222222222,
              "#7201a8"
             ],
             [
              0.3333333333333333,
              "#9c179e"
             ],
             [
              0.4444444444444444,
              "#bd3786"
             ],
             [
              0.5555555555555556,
              "#d8576b"
             ],
             [
              0.6666666666666666,
              "#ed7953"
             ],
             [
              0.7777777777777778,
              "#fb9f3a"
             ],
             [
              0.8888888888888888,
              "#fdca26"
             ],
             [
              1,
              "#f0f921"
             ]
            ],
            "type": "surface"
           }
          ],
          "table": [
           {
            "cells": {
             "fill": {
              "color": "#EBF0F8"
             },
             "line": {
              "color": "white"
             }
            },
            "header": {
             "fill": {
              "color": "#C8D4E3"
             },
             "line": {
              "color": "white"
             }
            },
            "type": "table"
           }
          ]
         },
         "layout": {
          "annotationdefaults": {
           "arrowcolor": "#2a3f5f",
           "arrowhead": 0,
           "arrowwidth": 1
          },
          "autotypenumbers": "strict",
          "coloraxis": {
           "colorbar": {
            "outlinewidth": 0,
            "ticks": ""
           }
          },
          "colorscale": {
           "diverging": [
            [
             0,
             "#8e0152"
            ],
            [
             0.1,
             "#c51b7d"
            ],
            [
             0.2,
             "#de77ae"
            ],
            [
             0.3,
             "#f1b6da"
            ],
            [
             0.4,
             "#fde0ef"
            ],
            [
             0.5,
             "#f7f7f7"
            ],
            [
             0.6,
             "#e6f5d0"
            ],
            [
             0.7,
             "#b8e186"
            ],
            [
             0.8,
             "#7fbc41"
            ],
            [
             0.9,
             "#4d9221"
            ],
            [
             1,
             "#276419"
            ]
           ],
           "sequential": [
            [
             0,
             "#0d0887"
            ],
            [
             0.1111111111111111,
             "#46039f"
            ],
            [
             0.2222222222222222,
             "#7201a8"
            ],
            [
             0.3333333333333333,
             "#9c179e"
            ],
            [
             0.4444444444444444,
             "#bd3786"
            ],
            [
             0.5555555555555556,
             "#d8576b"
            ],
            [
             0.6666666666666666,
             "#ed7953"
            ],
            [
             0.7777777777777778,
             "#fb9f3a"
            ],
            [
             0.8888888888888888,
             "#fdca26"
            ],
            [
             1,
             "#f0f921"
            ]
           ],
           "sequentialminus": [
            [
             0,
             "#0d0887"
            ],
            [
             0.1111111111111111,
             "#46039f"
            ],
            [
             0.2222222222222222,
             "#7201a8"
            ],
            [
             0.3333333333333333,
             "#9c179e"
            ],
            [
             0.4444444444444444,
             "#bd3786"
            ],
            [
             0.5555555555555556,
             "#d8576b"
            ],
            [
             0.6666666666666666,
             "#ed7953"
            ],
            [
             0.7777777777777778,
             "#fb9f3a"
            ],
            [
             0.8888888888888888,
             "#fdca26"
            ],
            [
             1,
             "#f0f921"
            ]
           ]
          },
          "colorway": [
           "#636efa",
           "#EF553B",
           "#00cc96",
           "#ab63fa",
           "#FFA15A",
           "#19d3f3",
           "#FF6692",
           "#B6E880",
           "#FF97FF",
           "#FECB52"
          ],
          "font": {
           "color": "#2a3f5f"
          },
          "geo": {
           "bgcolor": "white",
           "lakecolor": "white",
           "landcolor": "#E5ECF6",
           "showlakes": true,
           "showland": true,
           "subunitcolor": "white"
          },
          "hoverlabel": {
           "align": "left"
          },
          "hovermode": "closest",
          "mapbox": {
           "style": "light"
          },
          "paper_bgcolor": "white",
          "plot_bgcolor": "#E5ECF6",
          "polar": {
           "angularaxis": {
            "gridcolor": "white",
            "linecolor": "white",
            "ticks": ""
           },
           "bgcolor": "#E5ECF6",
           "radialaxis": {
            "gridcolor": "white",
            "linecolor": "white",
            "ticks": ""
           }
          },
          "scene": {
           "xaxis": {
            "backgroundcolor": "#E5ECF6",
            "gridcolor": "white",
            "gridwidth": 2,
            "linecolor": "white",
            "showbackground": true,
            "ticks": "",
            "zerolinecolor": "white"
           },
           "yaxis": {
            "backgroundcolor": "#E5ECF6",
            "gridcolor": "white",
            "gridwidth": 2,
            "linecolor": "white",
            "showbackground": true,
            "ticks": "",
            "zerolinecolor": "white"
           },
           "zaxis": {
            "backgroundcolor": "#E5ECF6",
            "gridcolor": "white",
            "gridwidth": 2,
            "linecolor": "white",
            "showbackground": true,
            "ticks": "",
            "zerolinecolor": "white"
           }
          },
          "shapedefaults": {
           "line": {
            "color": "#2a3f5f"
           }
          },
          "ternary": {
           "aaxis": {
            "gridcolor": "white",
            "linecolor": "white",
            "ticks": ""
           },
           "baxis": {
            "gridcolor": "white",
            "linecolor": "white",
            "ticks": ""
           },
           "bgcolor": "#E5ECF6",
           "caxis": {
            "gridcolor": "white",
            "linecolor": "white",
            "ticks": ""
           }
          },
          "title": {
           "x": 0.05
          },
          "xaxis": {
           "automargin": true,
           "gridcolor": "white",
           "linecolor": "white",
           "ticks": "",
           "title": {
            "standoff": 15
           },
           "zerolinecolor": "white",
           "zerolinewidth": 2
          },
          "yaxis": {
           "automargin": true,
           "gridcolor": "white",
           "linecolor": "white",
           "ticks": "",
           "title": {
            "standoff": 15
           },
           "zerolinecolor": "white",
           "zerolinewidth": 2
          }
         }
        },
        "title": {
         "text": "Carrier sucess vs time delay before deliverly"
        },
        "xaxis": {
         "anchor": "y",
         "domain": [
          0,
          1
         ],
         "title": {
          "text": "Time_delay_hours"
         }
        },
        "yaxis": {
         "anchor": "x",
         "domain": [
          0,
          1
         ],
         "title": {
          "text": "Success_factor"
         }
        }
       }
      },
      "text/html": [
       "<div>                            <div id=\"9576a94f-e785-4e85-8254-c2e8ce42f161\" class=\"plotly-graph-div\" style=\"height:525px; width:100%;\"></div>            <script type=\"text/javascript\">                require([\"plotly\"], function(Plotly) {                    window.PLOTLYENV=window.PLOTLYENV || {};                                    if (document.getElementById(\"9576a94f-e785-4e85-8254-c2e8ce42f161\")) {                    Plotly.newPlot(                        \"9576a94f-e785-4e85-8254-c2e8ce42f161\",                        [{\"hovertemplate\":\"Time_delay_hours=%{x}<br>Success_factor=%{y}<br>TOTAL_COST=%{marker.size}<extra></extra>\",\"legendgroup\":\"\",\"marker\":{\"color\":\"#636efa\",\"size\":[22123039,1916194,1446024,643736,518687,505548,307732,257258,99857,86126,139338,12963,43230,8756,3224,739],\"sizemode\":\"area\",\"sizeref\":55307.5975,\"symbol\":\"circle\"},\"mode\":\"markers\",\"name\":\"\",\"orientation\":\"v\",\"showlegend\":false,\"x\":[165.01399674914214,290.2490170380079,102.18525896414343,1437.2485549132948,221.1283185840708,81.6321243523316,1551.5,1515.6538461538462,1606.5123966942149,103.53947368421052,1712.5068493150684,89.22222222222223,62.0,1772.142857142857,578.0,141.0],\"xaxis\":\"x\",\"y\":[5894.050493846037,536.2812507350536,446.031233156386,215.74724298828855,192.79848325597797,174.43618978779156,111.1100243861572,83.40722235911949,76.70611290146847,72.49727457685727,45.637178155076626,12.004612265238247,10.120134859661587,4.308207141058029,1.4462955571075597,0.9300381544439129],\"yaxis\":\"y\",\"type\":\"scatter\"},{\"hovertemplate\":\"<b>OLS trendline</b><br>Success_factor = -0.456712 * Time_delay_hours + 818.595<br>R<sup>2</sup>=0.051747<br><br>Time_delay_hours=%{x}<br>Success_factor=%{y} <b>(trend)</b><extra></extra>\",\"legendgroup\":\"\",\"marker\":{\"color\":\"#636efa\",\"symbol\":\"circle\"},\"mode\":\"lines\",\"name\":\"\",\"showlegend\":false,\"x\":[62.0,81.6321243523316,89.22222222222223,102.18525896414343,103.53947368421052,141.0,165.01399674914214,221.1283185840708,290.2490170380079,578.0,1437.2485549132948,1515.6538461538462,1551.5,1606.5123966942149,1712.5068493150684,1772.142857142857],\"xaxis\":\"x\",\"y\":[790.2789895508852,781.3127545122919,777.8462625399504,771.9258826485006,771.3073959654025,754.1987083069074,743.2312177182869,717.6031099509538,686.0348284319889,554.6153804130048,162.18589282119217,126.37722245441898,110.00583875461996,84.88099388585351,36.47201083696905,9.23550533450475],\"yaxis\":\"y\",\"type\":\"scatter\"}],                        {\"template\":{\"data\":{\"bar\":[{\"error_x\":{\"color\":\"#2a3f5f\"},\"error_y\":{\"color\":\"#2a3f5f\"},\"marker\":{\"line\":{\"color\":\"#E5ECF6\",\"width\":0.5},\"pattern\":{\"fillmode\":\"overlay\",\"size\":10,\"solidity\":0.2}},\"type\":\"bar\"}],\"barpolar\":[{\"marker\":{\"line\":{\"color\":\"#E5ECF6\",\"width\":0.5},\"pattern\":{\"fillmode\":\"overlay\",\"size\":10,\"solidity\":0.2}},\"type\":\"barpolar\"}],\"carpet\":[{\"aaxis\":{\"endlinecolor\":\"#2a3f5f\",\"gridcolor\":\"white\",\"linecolor\":\"white\",\"minorgridcolor\":\"white\",\"startlinecolor\":\"#2a3f5f\"},\"baxis\":{\"endlinecolor\":\"#2a3f5f\",\"gridcolor\":\"white\",\"linecolor\":\"white\",\"minorgridcolor\":\"white\",\"startlinecolor\":\"#2a3f5f\"},\"type\":\"carpet\"}],\"choropleth\":[{\"colorbar\":{\"outlinewidth\":0,\"ticks\":\"\"},\"type\":\"choropleth\"}],\"contour\":[{\"colorbar\":{\"outlinewidth\":0,\"ticks\":\"\"},\"colorscale\":[[0.0,\"#0d0887\"],[0.1111111111111111,\"#46039f\"],[0.2222222222222222,\"#7201a8\"],[0.3333333333333333,\"#9c179e\"],[0.4444444444444444,\"#bd3786\"],[0.5555555555555556,\"#d8576b\"],[0.6666666666666666,\"#ed7953\"],[0.7777777777777778,\"#fb9f3a\"],[0.8888888888888888,\"#fdca26\"],[1.0,\"#f0f921\"]],\"type\":\"contour\"}],\"contourcarpet\":[{\"colorbar\":{\"outlinewidth\":0,\"ticks\":\"\"},\"type\":\"contourcarpet\"}],\"heatmap\":[{\"colorbar\":{\"outlinewidth\":0,\"ticks\":\"\"},\"colorscale\":[[0.0,\"#0d0887\"],[0.1111111111111111,\"#46039f\"],[0.2222222222222222,\"#7201a8\"],[0.3333333333333333,\"#9c179e\"],[0.4444444444444444,\"#bd3786\"],[0.5555555555555556,\"#d8576b\"],[0.6666666666666666,\"#ed7953\"],[0.7777777777777778,\"#fb9f3a\"],[0.8888888888888888,\"#fdca26\"],[1.0,\"#f0f921\"]],\"type\":\"heatmap\"}],\"heatmapgl\":[{\"colorbar\":{\"outlinewidth\":0,\"ticks\":\"\"},\"colorscale\":[[0.0,\"#0d0887\"],[0.1111111111111111,\"#46039f\"],[0.2222222222222222,\"#7201a8\"],[0.3333333333333333,\"#9c179e\"],[0.4444444444444444,\"#bd3786\"],[0.5555555555555556,\"#d8576b\"],[0.6666666666666666,\"#ed7953\"],[0.7777777777777778,\"#fb9f3a\"],[0.8888888888888888,\"#fdca26\"],[1.0,\"#f0f921\"]],\"type\":\"heatmapgl\"}],\"histogram\":[{\"marker\":{\"pattern\":{\"fillmode\":\"overlay\",\"size\":10,\"solidity\":0.2}},\"type\":\"histogram\"}],\"histogram2d\":[{\"colorbar\":{\"outlinewidth\":0,\"ticks\":\"\"},\"colorscale\":[[0.0,\"#0d0887\"],[0.1111111111111111,\"#46039f\"],[0.2222222222222222,\"#7201a8\"],[0.3333333333333333,\"#9c179e\"],[0.4444444444444444,\"#bd3786\"],[0.5555555555555556,\"#d8576b\"],[0.6666666666666666,\"#ed7953\"],[0.7777777777777778,\"#fb9f3a\"],[0.8888888888888888,\"#fdca26\"],[1.0,\"#f0f921\"]],\"type\":\"histogram2d\"}],\"histogram2dcontour\":[{\"colorbar\":{\"outlinewidth\":0,\"ticks\":\"\"},\"colorscale\":[[0.0,\"#0d0887\"],[0.1111111111111111,\"#46039f\"],[0.2222222222222222,\"#7201a8\"],[0.3333333333333333,\"#9c179e\"],[0.4444444444444444,\"#bd3786\"],[0.5555555555555556,\"#d8576b\"],[0.6666666666666666,\"#ed7953\"],[0.7777777777777778,\"#fb9f3a\"],[0.8888888888888888,\"#fdca26\"],[1.0,\"#f0f921\"]],\"type\":\"histogram2dcontour\"}],\"mesh3d\":[{\"colorbar\":{\"outlinewidth\":0,\"ticks\":\"\"},\"type\":\"mesh3d\"}],\"parcoords\":[{\"line\":{\"colorbar\":{\"outlinewidth\":0,\"ticks\":\"\"}},\"type\":\"parcoords\"}],\"pie\":[{\"automargin\":true,\"type\":\"pie\"}],\"scatter\":[{\"marker\":{\"colorbar\":{\"outlinewidth\":0,\"ticks\":\"\"}},\"type\":\"scatter\"}],\"scatter3d\":[{\"line\":{\"colorbar\":{\"outlinewidth\":0,\"ticks\":\"\"}},\"marker\":{\"colorbar\":{\"outlinewidth\":0,\"ticks\":\"\"}},\"type\":\"scatter3d\"}],\"scattercarpet\":[{\"marker\":{\"colorbar\":{\"outlinewidth\":0,\"ticks\":\"\"}},\"type\":\"scattercarpet\"}],\"scattergeo\":[{\"marker\":{\"colorbar\":{\"outlinewidth\":0,\"ticks\":\"\"}},\"type\":\"scattergeo\"}],\"scattergl\":[{\"marker\":{\"colorbar\":{\"outlinewidth\":0,\"ticks\":\"\"}},\"type\":\"scattergl\"}],\"scattermapbox\":[{\"marker\":{\"colorbar\":{\"outlinewidth\":0,\"ticks\":\"\"}},\"type\":\"scattermapbox\"}],\"scatterpolar\":[{\"marker\":{\"colorbar\":{\"outlinewidth\":0,\"ticks\":\"\"}},\"type\":\"scatterpolar\"}],\"scatterpolargl\":[{\"marker\":{\"colorbar\":{\"outlinewidth\":0,\"ticks\":\"\"}},\"type\":\"scatterpolargl\"}],\"scatterternary\":[{\"marker\":{\"colorbar\":{\"outlinewidth\":0,\"ticks\":\"\"}},\"type\":\"scatterternary\"}],\"surface\":[{\"colorbar\":{\"outlinewidth\":0,\"ticks\":\"\"},\"colorscale\":[[0.0,\"#0d0887\"],[0.1111111111111111,\"#46039f\"],[0.2222222222222222,\"#7201a8\"],[0.3333333333333333,\"#9c179e\"],[0.4444444444444444,\"#bd3786\"],[0.5555555555555556,\"#d8576b\"],[0.6666666666666666,\"#ed7953\"],[0.7777777777777778,\"#fb9f3a\"],[0.8888888888888888,\"#fdca26\"],[1.0,\"#f0f921\"]],\"type\":\"surface\"}],\"table\":[{\"cells\":{\"fill\":{\"color\":\"#EBF0F8\"},\"line\":{\"color\":\"white\"}},\"header\":{\"fill\":{\"color\":\"#C8D4E3\"},\"line\":{\"color\":\"white\"}},\"type\":\"table\"}]},\"layout\":{\"annotationdefaults\":{\"arrowcolor\":\"#2a3f5f\",\"arrowhead\":0,\"arrowwidth\":1},\"autotypenumbers\":\"strict\",\"coloraxis\":{\"colorbar\":{\"outlinewidth\":0,\"ticks\":\"\"}},\"colorscale\":{\"diverging\":[[0,\"#8e0152\"],[0.1,\"#c51b7d\"],[0.2,\"#de77ae\"],[0.3,\"#f1b6da\"],[0.4,\"#fde0ef\"],[0.5,\"#f7f7f7\"],[0.6,\"#e6f5d0\"],[0.7,\"#b8e186\"],[0.8,\"#7fbc41\"],[0.9,\"#4d9221\"],[1,\"#276419\"]],\"sequential\":[[0.0,\"#0d0887\"],[0.1111111111111111,\"#46039f\"],[0.2222222222222222,\"#7201a8\"],[0.3333333333333333,\"#9c179e\"],[0.4444444444444444,\"#bd3786\"],[0.5555555555555556,\"#d8576b\"],[0.6666666666666666,\"#ed7953\"],[0.7777777777777778,\"#fb9f3a\"],[0.8888888888888888,\"#fdca26\"],[1.0,\"#f0f921\"]],\"sequentialminus\":[[0.0,\"#0d0887\"],[0.1111111111111111,\"#46039f\"],[0.2222222222222222,\"#7201a8\"],[0.3333333333333333,\"#9c179e\"],[0.4444444444444444,\"#bd3786\"],[0.5555555555555556,\"#d8576b\"],[0.6666666666666666,\"#ed7953\"],[0.7777777777777778,\"#fb9f3a\"],[0.8888888888888888,\"#fdca26\"],[1.0,\"#f0f921\"]]},\"colorway\":[\"#636efa\",\"#EF553B\",\"#00cc96\",\"#ab63fa\",\"#FFA15A\",\"#19d3f3\",\"#FF6692\",\"#B6E880\",\"#FF97FF\",\"#FECB52\"],\"font\":{\"color\":\"#2a3f5f\"},\"geo\":{\"bgcolor\":\"white\",\"lakecolor\":\"white\",\"landcolor\":\"#E5ECF6\",\"showlakes\":true,\"showland\":true,\"subunitcolor\":\"white\"},\"hoverlabel\":{\"align\":\"left\"},\"hovermode\":\"closest\",\"mapbox\":{\"style\":\"light\"},\"paper_bgcolor\":\"white\",\"plot_bgcolor\":\"#E5ECF6\",\"polar\":{\"angularaxis\":{\"gridcolor\":\"white\",\"linecolor\":\"white\",\"ticks\":\"\"},\"bgcolor\":\"#E5ECF6\",\"radialaxis\":{\"gridcolor\":\"white\",\"linecolor\":\"white\",\"ticks\":\"\"}},\"scene\":{\"xaxis\":{\"backgroundcolor\":\"#E5ECF6\",\"gridcolor\":\"white\",\"gridwidth\":2,\"linecolor\":\"white\",\"showbackground\":true,\"ticks\":\"\",\"zerolinecolor\":\"white\"},\"yaxis\":{\"backgroundcolor\":\"#E5ECF6\",\"gridcolor\":\"white\",\"gridwidth\":2,\"linecolor\":\"white\",\"showbackground\":true,\"ticks\":\"\",\"zerolinecolor\":\"white\"},\"zaxis\":{\"backgroundcolor\":\"#E5ECF6\",\"gridcolor\":\"white\",\"gridwidth\":2,\"linecolor\":\"white\",\"showbackground\":true,\"ticks\":\"\",\"zerolinecolor\":\"white\"}},\"shapedefaults\":{\"line\":{\"color\":\"#2a3f5f\"}},\"ternary\":{\"aaxis\":{\"gridcolor\":\"white\",\"linecolor\":\"white\",\"ticks\":\"\"},\"baxis\":{\"gridcolor\":\"white\",\"linecolor\":\"white\",\"ticks\":\"\"},\"bgcolor\":\"#E5ECF6\",\"caxis\":{\"gridcolor\":\"white\",\"linecolor\":\"white\",\"ticks\":\"\"}},\"title\":{\"x\":0.05},\"xaxis\":{\"automargin\":true,\"gridcolor\":\"white\",\"linecolor\":\"white\",\"ticks\":\"\",\"title\":{\"standoff\":15},\"zerolinecolor\":\"white\",\"zerolinewidth\":2},\"yaxis\":{\"automargin\":true,\"gridcolor\":\"white\",\"linecolor\":\"white\",\"ticks\":\"\",\"title\":{\"standoff\":15},\"zerolinecolor\":\"white\",\"zerolinewidth\":2}}},\"xaxis\":{\"anchor\":\"y\",\"domain\":[0.0,1.0],\"title\":{\"text\":\"Time_delay_hours\"}},\"yaxis\":{\"anchor\":\"x\",\"domain\":[0.0,1.0],\"title\":{\"text\":\"Success_factor\"}},\"legend\":{\"tracegroupgap\":0,\"itemsizing\":\"constant\"},\"title\":{\"text\":\"Carrier sucess vs time delay before deliverly\"}},                        {\"responsive\": true}                    ).then(function(){\n",
       "                            \n",
       "var gd = document.getElementById('9576a94f-e785-4e85-8254-c2e8ce42f161');\n",
       "var x = new MutationObserver(function (mutations, observer) {{\n",
       "        var display = window.getComputedStyle(gd).display;\n",
       "        if (!display || display === 'none') {{\n",
       "            console.log([gd, 'removed!']);\n",
       "            Plotly.purge(gd);\n",
       "            observer.disconnect();\n",
       "        }}\n",
       "}});\n",
       "\n",
       "// Listen for the removal of the full notebook cells\n",
       "var notebookContainer = gd.closest('#notebook-container');\n",
       "if (notebookContainer) {{\n",
       "    x.observe(notebookContainer, {childList: true});\n",
       "}}\n",
       "\n",
       "// Listen for the clearing of the current output cell\n",
       "var outputEl = gd.closest('.output');\n",
       "if (outputEl) {{\n",
       "    x.observe(outputEl, {childList: true});\n",
       "}}\n",
       "\n",
       "                        })                };                });            </script>        </div>"
      ]
     },
     "metadata": {},
     "output_type": "display_data"
    }
   ],
   "source": [
    "# using plotly express to plot an interactive scatter plot\n",
    "fig = px.scatter(carrier_perf, x=\"Time_delay_hours\", y=\"Success_factor\", \n",
    "                 trendline=\"ols\", size=\"TOTAL_COST\", \n",
    "                 title='Carrier sucess vs time delay before deliverly')\n",
    "fig.show()"
   ]
  },
  {
   "cell_type": "markdown",
   "id": "2f863f63",
   "metadata": {},
   "source": [
    "# What are the top two shipping carriers? "
   ]
  },
  {
   "cell_type": "markdown",
   "id": "4a4e6d0f",
   "metadata": {},
   "source": [
    "### They are:\n",
    "- UPS_MAIL_INNOVATIONS\n",
    "- USPS"
   ]
  },
  {
   "cell_type": "markdown",
   "id": "38a80f16",
   "metadata": {},
   "source": [
    "# Why should or shouldn’t we try to use those two for all orders?\n"
   ]
  },
  {
   "cell_type": "code",
   "execution_count": 76,
   "id": "a1162645",
   "metadata": {},
   "outputs": [
    {
     "data": {
      "application/vnd.plotly.v1+json": {
       "config": {
        "plotlyServerURL": "https://plot.ly"
       },
       "data": [
        {
         "domain": {
          "x": [
           0,
           1
          ],
          "y": [
           0,
           1
          ]
         },
         "hole": 0.3,
         "hovertemplate": "SHIPMENT_CARRIER=%{label}<br>QUANTITY=%{value}<extra></extra>",
         "labels": [
          "USPS",
          "UPS_MAIL_INNOVATIONS",
          "DHL",
          "GLOBEGISTICS",
          "CANADA_POST",
          "UPS",
          "ASENDIA",
          "ROYAL_MAIL",
          "unknown",
          "DPD",
          "DHL_GERMANY",
          "ups_",
          "DHL_EXPRESS",
          "RAYAL_MAIL",
          "FEDEX",
          "OSM_WORLDWIDE"
         ],
         "legendgroup": "",
         "name": "",
         "showlegend": true,
         "textinfo": "percent+label",
         "textposition": "inside",
         "type": "pie",
         "values": [
          11824,
          830,
          646,
          356,
          258,
          229,
          181,
          134,
          124,
          79,
          74,
          12,
          10,
          7,
          2,
          1
         ]
        }
       ],
       "layout": {
        "legend": {
         "tracegroupgap": 0
        },
        "template": {
         "data": {
          "bar": [
           {
            "error_x": {
             "color": "#2a3f5f"
            },
            "error_y": {
             "color": "#2a3f5f"
            },
            "marker": {
             "line": {
              "color": "#E5ECF6",
              "width": 0.5
             },
             "pattern": {
              "fillmode": "overlay",
              "size": 10,
              "solidity": 0.2
             }
            },
            "type": "bar"
           }
          ],
          "barpolar": [
           {
            "marker": {
             "line": {
              "color": "#E5ECF6",
              "width": 0.5
             },
             "pattern": {
              "fillmode": "overlay",
              "size": 10,
              "solidity": 0.2
             }
            },
            "type": "barpolar"
           }
          ],
          "carpet": [
           {
            "aaxis": {
             "endlinecolor": "#2a3f5f",
             "gridcolor": "white",
             "linecolor": "white",
             "minorgridcolor": "white",
             "startlinecolor": "#2a3f5f"
            },
            "baxis": {
             "endlinecolor": "#2a3f5f",
             "gridcolor": "white",
             "linecolor": "white",
             "minorgridcolor": "white",
             "startlinecolor": "#2a3f5f"
            },
            "type": "carpet"
           }
          ],
          "choropleth": [
           {
            "colorbar": {
             "outlinewidth": 0,
             "ticks": ""
            },
            "type": "choropleth"
           }
          ],
          "contour": [
           {
            "colorbar": {
             "outlinewidth": 0,
             "ticks": ""
            },
            "colorscale": [
             [
              0,
              "#0d0887"
             ],
             [
              0.1111111111111111,
              "#46039f"
             ],
             [
              0.2222222222222222,
              "#7201a8"
             ],
             [
              0.3333333333333333,
              "#9c179e"
             ],
             [
              0.4444444444444444,
              "#bd3786"
             ],
             [
              0.5555555555555556,
              "#d8576b"
             ],
             [
              0.6666666666666666,
              "#ed7953"
             ],
             [
              0.7777777777777778,
              "#fb9f3a"
             ],
             [
              0.8888888888888888,
              "#fdca26"
             ],
             [
              1,
              "#f0f921"
             ]
            ],
            "type": "contour"
           }
          ],
          "contourcarpet": [
           {
            "colorbar": {
             "outlinewidth": 0,
             "ticks": ""
            },
            "type": "contourcarpet"
           }
          ],
          "heatmap": [
           {
            "colorbar": {
             "outlinewidth": 0,
             "ticks": ""
            },
            "colorscale": [
             [
              0,
              "#0d0887"
             ],
             [
              0.1111111111111111,
              "#46039f"
             ],
             [
              0.2222222222222222,
              "#7201a8"
             ],
             [
              0.3333333333333333,
              "#9c179e"
             ],
             [
              0.4444444444444444,
              "#bd3786"
             ],
             [
              0.5555555555555556,
              "#d8576b"
             ],
             [
              0.6666666666666666,
              "#ed7953"
             ],
             [
              0.7777777777777778,
              "#fb9f3a"
             ],
             [
              0.8888888888888888,
              "#fdca26"
             ],
             [
              1,
              "#f0f921"
             ]
            ],
            "type": "heatmap"
           }
          ],
          "heatmapgl": [
           {
            "colorbar": {
             "outlinewidth": 0,
             "ticks": ""
            },
            "colorscale": [
             [
              0,
              "#0d0887"
             ],
             [
              0.1111111111111111,
              "#46039f"
             ],
             [
              0.2222222222222222,
              "#7201a8"
             ],
             [
              0.3333333333333333,
              "#9c179e"
             ],
             [
              0.4444444444444444,
              "#bd3786"
             ],
             [
              0.5555555555555556,
              "#d8576b"
             ],
             [
              0.6666666666666666,
              "#ed7953"
             ],
             [
              0.7777777777777778,
              "#fb9f3a"
             ],
             [
              0.8888888888888888,
              "#fdca26"
             ],
             [
              1,
              "#f0f921"
             ]
            ],
            "type": "heatmapgl"
           }
          ],
          "histogram": [
           {
            "marker": {
             "pattern": {
              "fillmode": "overlay",
              "size": 10,
              "solidity": 0.2
             }
            },
            "type": "histogram"
           }
          ],
          "histogram2d": [
           {
            "colorbar": {
             "outlinewidth": 0,
             "ticks": ""
            },
            "colorscale": [
             [
              0,
              "#0d0887"
             ],
             [
              0.1111111111111111,
              "#46039f"
             ],
             [
              0.2222222222222222,
              "#7201a8"
             ],
             [
              0.3333333333333333,
              "#9c179e"
             ],
             [
              0.4444444444444444,
              "#bd3786"
             ],
             [
              0.5555555555555556,
              "#d8576b"
             ],
             [
              0.6666666666666666,
              "#ed7953"
             ],
             [
              0.7777777777777778,
              "#fb9f3a"
             ],
             [
              0.8888888888888888,
              "#fdca26"
             ],
             [
              1,
              "#f0f921"
             ]
            ],
            "type": "histogram2d"
           }
          ],
          "histogram2dcontour": [
           {
            "colorbar": {
             "outlinewidth": 0,
             "ticks": ""
            },
            "colorscale": [
             [
              0,
              "#0d0887"
             ],
             [
              0.1111111111111111,
              "#46039f"
             ],
             [
              0.2222222222222222,
              "#7201a8"
             ],
             [
              0.3333333333333333,
              "#9c179e"
             ],
             [
              0.4444444444444444,
              "#bd3786"
             ],
             [
              0.5555555555555556,
              "#d8576b"
             ],
             [
              0.6666666666666666,
              "#ed7953"
             ],
             [
              0.7777777777777778,
              "#fb9f3a"
             ],
             [
              0.8888888888888888,
              "#fdca26"
             ],
             [
              1,
              "#f0f921"
             ]
            ],
            "type": "histogram2dcontour"
           }
          ],
          "mesh3d": [
           {
            "colorbar": {
             "outlinewidth": 0,
             "ticks": ""
            },
            "type": "mesh3d"
           }
          ],
          "parcoords": [
           {
            "line": {
             "colorbar": {
              "outlinewidth": 0,
              "ticks": ""
             }
            },
            "type": "parcoords"
           }
          ],
          "pie": [
           {
            "automargin": true,
            "type": "pie"
           }
          ],
          "scatter": [
           {
            "marker": {
             "colorbar": {
              "outlinewidth": 0,
              "ticks": ""
             }
            },
            "type": "scatter"
           }
          ],
          "scatter3d": [
           {
            "line": {
             "colorbar": {
              "outlinewidth": 0,
              "ticks": ""
             }
            },
            "marker": {
             "colorbar": {
              "outlinewidth": 0,
              "ticks": ""
             }
            },
            "type": "scatter3d"
           }
          ],
          "scattercarpet": [
           {
            "marker": {
             "colorbar": {
              "outlinewidth": 0,
              "ticks": ""
             }
            },
            "type": "scattercarpet"
           }
          ],
          "scattergeo": [
           {
            "marker": {
             "colorbar": {
              "outlinewidth": 0,
              "ticks": ""
             }
            },
            "type": "scattergeo"
           }
          ],
          "scattergl": [
           {
            "marker": {
             "colorbar": {
              "outlinewidth": 0,
              "ticks": ""
             }
            },
            "type": "scattergl"
           }
          ],
          "scattermapbox": [
           {
            "marker": {
             "colorbar": {
              "outlinewidth": 0,
              "ticks": ""
             }
            },
            "type": "scattermapbox"
           }
          ],
          "scatterpolar": [
           {
            "marker": {
             "colorbar": {
              "outlinewidth": 0,
              "ticks": ""
             }
            },
            "type": "scatterpolar"
           }
          ],
          "scatterpolargl": [
           {
            "marker": {
             "colorbar": {
              "outlinewidth": 0,
              "ticks": ""
             }
            },
            "type": "scatterpolargl"
           }
          ],
          "scatterternary": [
           {
            "marker": {
             "colorbar": {
              "outlinewidth": 0,
              "ticks": ""
             }
            },
            "type": "scatterternary"
           }
          ],
          "surface": [
           {
            "colorbar": {
             "outlinewidth": 0,
             "ticks": ""
            },
            "colorscale": [
             [
              0,
              "#0d0887"
             ],
             [
              0.1111111111111111,
              "#46039f"
             ],
             [
              0.2222222222222222,
              "#7201a8"
             ],
             [
              0.3333333333333333,
              "#9c179e"
             ],
             [
              0.4444444444444444,
              "#bd3786"
             ],
             [
              0.5555555555555556,
              "#d8576b"
             ],
             [
              0.6666666666666666,
              "#ed7953"
             ],
             [
              0.7777777777777778,
              "#fb9f3a"
             ],
             [
              0.8888888888888888,
              "#fdca26"
             ],
             [
              1,
              "#f0f921"
             ]
            ],
            "type": "surface"
           }
          ],
          "table": [
           {
            "cells": {
             "fill": {
              "color": "#EBF0F8"
             },
             "line": {
              "color": "white"
             }
            },
            "header": {
             "fill": {
              "color": "#C8D4E3"
             },
             "line": {
              "color": "white"
             }
            },
            "type": "table"
           }
          ]
         },
         "layout": {
          "annotationdefaults": {
           "arrowcolor": "#2a3f5f",
           "arrowhead": 0,
           "arrowwidth": 1
          },
          "autotypenumbers": "strict",
          "coloraxis": {
           "colorbar": {
            "outlinewidth": 0,
            "ticks": ""
           }
          },
          "colorscale": {
           "diverging": [
            [
             0,
             "#8e0152"
            ],
            [
             0.1,
             "#c51b7d"
            ],
            [
             0.2,
             "#de77ae"
            ],
            [
             0.3,
             "#f1b6da"
            ],
            [
             0.4,
             "#fde0ef"
            ],
            [
             0.5,
             "#f7f7f7"
            ],
            [
             0.6,
             "#e6f5d0"
            ],
            [
             0.7,
             "#b8e186"
            ],
            [
             0.8,
             "#7fbc41"
            ],
            [
             0.9,
             "#4d9221"
            ],
            [
             1,
             "#276419"
            ]
           ],
           "sequential": [
            [
             0,
             "#0d0887"
            ],
            [
             0.1111111111111111,
             "#46039f"
            ],
            [
             0.2222222222222222,
             "#7201a8"
            ],
            [
             0.3333333333333333,
             "#9c179e"
            ],
            [
             0.4444444444444444,
             "#bd3786"
            ],
            [
             0.5555555555555556,
             "#d8576b"
            ],
            [
             0.6666666666666666,
             "#ed7953"
            ],
            [
             0.7777777777777778,
             "#fb9f3a"
            ],
            [
             0.8888888888888888,
             "#fdca26"
            ],
            [
             1,
             "#f0f921"
            ]
           ],
           "sequentialminus": [
            [
             0,
             "#0d0887"
            ],
            [
             0.1111111111111111,
             "#46039f"
            ],
            [
             0.2222222222222222,
             "#7201a8"
            ],
            [
             0.3333333333333333,
             "#9c179e"
            ],
            [
             0.4444444444444444,
             "#bd3786"
            ],
            [
             0.5555555555555556,
             "#d8576b"
            ],
            [
             0.6666666666666666,
             "#ed7953"
            ],
            [
             0.7777777777777778,
             "#fb9f3a"
            ],
            [
             0.8888888888888888,
             "#fdca26"
            ],
            [
             1,
             "#f0f921"
            ]
           ]
          },
          "colorway": [
           "#636efa",
           "#EF553B",
           "#00cc96",
           "#ab63fa",
           "#FFA15A",
           "#19d3f3",
           "#FF6692",
           "#B6E880",
           "#FF97FF",
           "#FECB52"
          ],
          "font": {
           "color": "#2a3f5f"
          },
          "geo": {
           "bgcolor": "white",
           "lakecolor": "white",
           "landcolor": "#E5ECF6",
           "showlakes": true,
           "showland": true,
           "subunitcolor": "white"
          },
          "hoverlabel": {
           "align": "left"
          },
          "hovermode": "closest",
          "mapbox": {
           "style": "light"
          },
          "paper_bgcolor": "white",
          "plot_bgcolor": "#E5ECF6",
          "polar": {
           "angularaxis": {
            "gridcolor": "white",
            "linecolor": "white",
            "ticks": ""
           },
           "bgcolor": "#E5ECF6",
           "radialaxis": {
            "gridcolor": "white",
            "linecolor": "white",
            "ticks": ""
           }
          },
          "scene": {
           "xaxis": {
            "backgroundcolor": "#E5ECF6",
            "gridcolor": "white",
            "gridwidth": 2,
            "linecolor": "white",
            "showbackground": true,
            "ticks": "",
            "zerolinecolor": "white"
           },
           "yaxis": {
            "backgroundcolor": "#E5ECF6",
            "gridcolor": "white",
            "gridwidth": 2,
            "linecolor": "white",
            "showbackground": true,
            "ticks": "",
            "zerolinecolor": "white"
           },
           "zaxis": {
            "backgroundcolor": "#E5ECF6",
            "gridcolor": "white",
            "gridwidth": 2,
            "linecolor": "white",
            "showbackground": true,
            "ticks": "",
            "zerolinecolor": "white"
           }
          },
          "shapedefaults": {
           "line": {
            "color": "#2a3f5f"
           }
          },
          "ternary": {
           "aaxis": {
            "gridcolor": "white",
            "linecolor": "white",
            "ticks": ""
           },
           "baxis": {
            "gridcolor": "white",
            "linecolor": "white",
            "ticks": ""
           },
           "bgcolor": "#E5ECF6",
           "caxis": {
            "gridcolor": "white",
            "linecolor": "white",
            "ticks": ""
           }
          },
          "title": {
           "x": 0.05
          },
          "xaxis": {
           "automargin": true,
           "gridcolor": "white",
           "linecolor": "white",
           "ticks": "",
           "title": {
            "standoff": 15
           },
           "zerolinecolor": "white",
           "zerolinewidth": 2
          },
          "yaxis": {
           "automargin": true,
           "gridcolor": "white",
           "linecolor": "white",
           "ticks": "",
           "title": {
            "standoff": 15
           },
           "zerolinecolor": "white",
           "zerolinewidth": 2
          }
         }
        },
        "title": {
         "text": "Shipping Carrier quantity delivered comparison"
        }
       }
      },
      "text/html": [
       "<div>                            <div id=\"c8fa891f-0a97-4e56-a406-e5762e685492\" class=\"plotly-graph-div\" style=\"height:525px; width:100%;\"></div>            <script type=\"text/javascript\">                require([\"plotly\"], function(Plotly) {                    window.PLOTLYENV=window.PLOTLYENV || {};                                    if (document.getElementById(\"c8fa891f-0a97-4e56-a406-e5762e685492\")) {                    Plotly.newPlot(                        \"c8fa891f-0a97-4e56-a406-e5762e685492\",                        [{\"domain\":{\"x\":[0.0,1.0],\"y\":[0.0,1.0]},\"hole\":0.3,\"hovertemplate\":\"SHIPMENT_CARRIER=%{label}<br>QUANTITY=%{value}<extra></extra>\",\"labels\":[\"USPS\",\"UPS_MAIL_INNOVATIONS\",\"DHL\",\"GLOBEGISTICS\",\"CANADA_POST\",\"UPS\",\"ASENDIA\",\"ROYAL_MAIL\",\"unknown\",\"DPD\",\"DHL_GERMANY\",\"ups_\",\"DHL_EXPRESS\",\"RAYAL_MAIL\",\"FEDEX\",\"OSM_WORLDWIDE\"],\"legendgroup\":\"\",\"name\":\"\",\"showlegend\":true,\"values\":[11824,830,646,356,258,229,181,134,124,79,74,12,10,7,2,1],\"type\":\"pie\",\"textinfo\":\"percent+label\",\"textposition\":\"inside\"}],                        {\"template\":{\"data\":{\"bar\":[{\"error_x\":{\"color\":\"#2a3f5f\"},\"error_y\":{\"color\":\"#2a3f5f\"},\"marker\":{\"line\":{\"color\":\"#E5ECF6\",\"width\":0.5},\"pattern\":{\"fillmode\":\"overlay\",\"size\":10,\"solidity\":0.2}},\"type\":\"bar\"}],\"barpolar\":[{\"marker\":{\"line\":{\"color\":\"#E5ECF6\",\"width\":0.5},\"pattern\":{\"fillmode\":\"overlay\",\"size\":10,\"solidity\":0.2}},\"type\":\"barpolar\"}],\"carpet\":[{\"aaxis\":{\"endlinecolor\":\"#2a3f5f\",\"gridcolor\":\"white\",\"linecolor\":\"white\",\"minorgridcolor\":\"white\",\"startlinecolor\":\"#2a3f5f\"},\"baxis\":{\"endlinecolor\":\"#2a3f5f\",\"gridcolor\":\"white\",\"linecolor\":\"white\",\"minorgridcolor\":\"white\",\"startlinecolor\":\"#2a3f5f\"},\"type\":\"carpet\"}],\"choropleth\":[{\"colorbar\":{\"outlinewidth\":0,\"ticks\":\"\"},\"type\":\"choropleth\"}],\"contour\":[{\"colorbar\":{\"outlinewidth\":0,\"ticks\":\"\"},\"colorscale\":[[0.0,\"#0d0887\"],[0.1111111111111111,\"#46039f\"],[0.2222222222222222,\"#7201a8\"],[0.3333333333333333,\"#9c179e\"],[0.4444444444444444,\"#bd3786\"],[0.5555555555555556,\"#d8576b\"],[0.6666666666666666,\"#ed7953\"],[0.7777777777777778,\"#fb9f3a\"],[0.8888888888888888,\"#fdca26\"],[1.0,\"#f0f921\"]],\"type\":\"contour\"}],\"contourcarpet\":[{\"colorbar\":{\"outlinewidth\":0,\"ticks\":\"\"},\"type\":\"contourcarpet\"}],\"heatmap\":[{\"colorbar\":{\"outlinewidth\":0,\"ticks\":\"\"},\"colorscale\":[[0.0,\"#0d0887\"],[0.1111111111111111,\"#46039f\"],[0.2222222222222222,\"#7201a8\"],[0.3333333333333333,\"#9c179e\"],[0.4444444444444444,\"#bd3786\"],[0.5555555555555556,\"#d8576b\"],[0.6666666666666666,\"#ed7953\"],[0.7777777777777778,\"#fb9f3a\"],[0.8888888888888888,\"#fdca26\"],[1.0,\"#f0f921\"]],\"type\":\"heatmap\"}],\"heatmapgl\":[{\"colorbar\":{\"outlinewidth\":0,\"ticks\":\"\"},\"colorscale\":[[0.0,\"#0d0887\"],[0.1111111111111111,\"#46039f\"],[0.2222222222222222,\"#7201a8\"],[0.3333333333333333,\"#9c179e\"],[0.4444444444444444,\"#bd3786\"],[0.5555555555555556,\"#d8576b\"],[0.6666666666666666,\"#ed7953\"],[0.7777777777777778,\"#fb9f3a\"],[0.8888888888888888,\"#fdca26\"],[1.0,\"#f0f921\"]],\"type\":\"heatmapgl\"}],\"histogram\":[{\"marker\":{\"pattern\":{\"fillmode\":\"overlay\",\"size\":10,\"solidity\":0.2}},\"type\":\"histogram\"}],\"histogram2d\":[{\"colorbar\":{\"outlinewidth\":0,\"ticks\":\"\"},\"colorscale\":[[0.0,\"#0d0887\"],[0.1111111111111111,\"#46039f\"],[0.2222222222222222,\"#7201a8\"],[0.3333333333333333,\"#9c179e\"],[0.4444444444444444,\"#bd3786\"],[0.5555555555555556,\"#d8576b\"],[0.6666666666666666,\"#ed7953\"],[0.7777777777777778,\"#fb9f3a\"],[0.8888888888888888,\"#fdca26\"],[1.0,\"#f0f921\"]],\"type\":\"histogram2d\"}],\"histogram2dcontour\":[{\"colorbar\":{\"outlinewidth\":0,\"ticks\":\"\"},\"colorscale\":[[0.0,\"#0d0887\"],[0.1111111111111111,\"#46039f\"],[0.2222222222222222,\"#7201a8\"],[0.3333333333333333,\"#9c179e\"],[0.4444444444444444,\"#bd3786\"],[0.5555555555555556,\"#d8576b\"],[0.6666666666666666,\"#ed7953\"],[0.7777777777777778,\"#fb9f3a\"],[0.8888888888888888,\"#fdca26\"],[1.0,\"#f0f921\"]],\"type\":\"histogram2dcontour\"}],\"mesh3d\":[{\"colorbar\":{\"outlinewidth\":0,\"ticks\":\"\"},\"type\":\"mesh3d\"}],\"parcoords\":[{\"line\":{\"colorbar\":{\"outlinewidth\":0,\"ticks\":\"\"}},\"type\":\"parcoords\"}],\"pie\":[{\"automargin\":true,\"type\":\"pie\"}],\"scatter\":[{\"marker\":{\"colorbar\":{\"outlinewidth\":0,\"ticks\":\"\"}},\"type\":\"scatter\"}],\"scatter3d\":[{\"line\":{\"colorbar\":{\"outlinewidth\":0,\"ticks\":\"\"}},\"marker\":{\"colorbar\":{\"outlinewidth\":0,\"ticks\":\"\"}},\"type\":\"scatter3d\"}],\"scattercarpet\":[{\"marker\":{\"colorbar\":{\"outlinewidth\":0,\"ticks\":\"\"}},\"type\":\"scattercarpet\"}],\"scattergeo\":[{\"marker\":{\"colorbar\":{\"outlinewidth\":0,\"ticks\":\"\"}},\"type\":\"scattergeo\"}],\"scattergl\":[{\"marker\":{\"colorbar\":{\"outlinewidth\":0,\"ticks\":\"\"}},\"type\":\"scattergl\"}],\"scattermapbox\":[{\"marker\":{\"colorbar\":{\"outlinewidth\":0,\"ticks\":\"\"}},\"type\":\"scattermapbox\"}],\"scatterpolar\":[{\"marker\":{\"colorbar\":{\"outlinewidth\":0,\"ticks\":\"\"}},\"type\":\"scatterpolar\"}],\"scatterpolargl\":[{\"marker\":{\"colorbar\":{\"outlinewidth\":0,\"ticks\":\"\"}},\"type\":\"scatterpolargl\"}],\"scatterternary\":[{\"marker\":{\"colorbar\":{\"outlinewidth\":0,\"ticks\":\"\"}},\"type\":\"scatterternary\"}],\"surface\":[{\"colorbar\":{\"outlinewidth\":0,\"ticks\":\"\"},\"colorscale\":[[0.0,\"#0d0887\"],[0.1111111111111111,\"#46039f\"],[0.2222222222222222,\"#7201a8\"],[0.3333333333333333,\"#9c179e\"],[0.4444444444444444,\"#bd3786\"],[0.5555555555555556,\"#d8576b\"],[0.6666666666666666,\"#ed7953\"],[0.7777777777777778,\"#fb9f3a\"],[0.8888888888888888,\"#fdca26\"],[1.0,\"#f0f921\"]],\"type\":\"surface\"}],\"table\":[{\"cells\":{\"fill\":{\"color\":\"#EBF0F8\"},\"line\":{\"color\":\"white\"}},\"header\":{\"fill\":{\"color\":\"#C8D4E3\"},\"line\":{\"color\":\"white\"}},\"type\":\"table\"}]},\"layout\":{\"annotationdefaults\":{\"arrowcolor\":\"#2a3f5f\",\"arrowhead\":0,\"arrowwidth\":1},\"autotypenumbers\":\"strict\",\"coloraxis\":{\"colorbar\":{\"outlinewidth\":0,\"ticks\":\"\"}},\"colorscale\":{\"diverging\":[[0,\"#8e0152\"],[0.1,\"#c51b7d\"],[0.2,\"#de77ae\"],[0.3,\"#f1b6da\"],[0.4,\"#fde0ef\"],[0.5,\"#f7f7f7\"],[0.6,\"#e6f5d0\"],[0.7,\"#b8e186\"],[0.8,\"#7fbc41\"],[0.9,\"#4d9221\"],[1,\"#276419\"]],\"sequential\":[[0.0,\"#0d0887\"],[0.1111111111111111,\"#46039f\"],[0.2222222222222222,\"#7201a8\"],[0.3333333333333333,\"#9c179e\"],[0.4444444444444444,\"#bd3786\"],[0.5555555555555556,\"#d8576b\"],[0.6666666666666666,\"#ed7953\"],[0.7777777777777778,\"#fb9f3a\"],[0.8888888888888888,\"#fdca26\"],[1.0,\"#f0f921\"]],\"sequentialminus\":[[0.0,\"#0d0887\"],[0.1111111111111111,\"#46039f\"],[0.2222222222222222,\"#7201a8\"],[0.3333333333333333,\"#9c179e\"],[0.4444444444444444,\"#bd3786\"],[0.5555555555555556,\"#d8576b\"],[0.6666666666666666,\"#ed7953\"],[0.7777777777777778,\"#fb9f3a\"],[0.8888888888888888,\"#fdca26\"],[1.0,\"#f0f921\"]]},\"colorway\":[\"#636efa\",\"#EF553B\",\"#00cc96\",\"#ab63fa\",\"#FFA15A\",\"#19d3f3\",\"#FF6692\",\"#B6E880\",\"#FF97FF\",\"#FECB52\"],\"font\":{\"color\":\"#2a3f5f\"},\"geo\":{\"bgcolor\":\"white\",\"lakecolor\":\"white\",\"landcolor\":\"#E5ECF6\",\"showlakes\":true,\"showland\":true,\"subunitcolor\":\"white\"},\"hoverlabel\":{\"align\":\"left\"},\"hovermode\":\"closest\",\"mapbox\":{\"style\":\"light\"},\"paper_bgcolor\":\"white\",\"plot_bgcolor\":\"#E5ECF6\",\"polar\":{\"angularaxis\":{\"gridcolor\":\"white\",\"linecolor\":\"white\",\"ticks\":\"\"},\"bgcolor\":\"#E5ECF6\",\"radialaxis\":{\"gridcolor\":\"white\",\"linecolor\":\"white\",\"ticks\":\"\"}},\"scene\":{\"xaxis\":{\"backgroundcolor\":\"#E5ECF6\",\"gridcolor\":\"white\",\"gridwidth\":2,\"linecolor\":\"white\",\"showbackground\":true,\"ticks\":\"\",\"zerolinecolor\":\"white\"},\"yaxis\":{\"backgroundcolor\":\"#E5ECF6\",\"gridcolor\":\"white\",\"gridwidth\":2,\"linecolor\":\"white\",\"showbackground\":true,\"ticks\":\"\",\"zerolinecolor\":\"white\"},\"zaxis\":{\"backgroundcolor\":\"#E5ECF6\",\"gridcolor\":\"white\",\"gridwidth\":2,\"linecolor\":\"white\",\"showbackground\":true,\"ticks\":\"\",\"zerolinecolor\":\"white\"}},\"shapedefaults\":{\"line\":{\"color\":\"#2a3f5f\"}},\"ternary\":{\"aaxis\":{\"gridcolor\":\"white\",\"linecolor\":\"white\",\"ticks\":\"\"},\"baxis\":{\"gridcolor\":\"white\",\"linecolor\":\"white\",\"ticks\":\"\"},\"bgcolor\":\"#E5ECF6\",\"caxis\":{\"gridcolor\":\"white\",\"linecolor\":\"white\",\"ticks\":\"\"}},\"title\":{\"x\":0.05},\"xaxis\":{\"automargin\":true,\"gridcolor\":\"white\",\"linecolor\":\"white\",\"ticks\":\"\",\"title\":{\"standoff\":15},\"zerolinecolor\":\"white\",\"zerolinewidth\":2},\"yaxis\":{\"automargin\":true,\"gridcolor\":\"white\",\"linecolor\":\"white\",\"ticks\":\"\",\"title\":{\"standoff\":15},\"zerolinecolor\":\"white\",\"zerolinewidth\":2}}},\"legend\":{\"tracegroupgap\":0},\"title\":{\"text\":\"Shipping Carrier quantity delivered comparison\"}},                        {\"responsive\": true}                    ).then(function(){\n",
       "                            \n",
       "var gd = document.getElementById('c8fa891f-0a97-4e56-a406-e5762e685492');\n",
       "var x = new MutationObserver(function (mutations, observer) {{\n",
       "        var display = window.getComputedStyle(gd).display;\n",
       "        if (!display || display === 'none') {{\n",
       "            console.log([gd, 'removed!']);\n",
       "            Plotly.purge(gd);\n",
       "            observer.disconnect();\n",
       "        }}\n",
       "}});\n",
       "\n",
       "// Listen for the removal of the full notebook cells\n",
       "var notebookContainer = gd.closest('#notebook-container');\n",
       "if (notebookContainer) {{\n",
       "    x.observe(notebookContainer, {childList: true});\n",
       "}}\n",
       "\n",
       "// Listen for the clearing of the current output cell\n",
       "var outputEl = gd.closest('.output');\n",
       "if (outputEl) {{\n",
       "    x.observe(outputEl, {childList: true});\n",
       "}}\n",
       "\n",
       "                        })                };                });            </script>        </div>"
      ]
     },
     "metadata": {},
     "output_type": "display_data"
    }
   ],
   "source": [
    "tr = carrier_perf\n",
    "val = carrier_perf['QUANTITY']\n",
    "\n",
    "fig = px.pie(tr, values=val, names=tr.index, title='Shipping Carrier quantity delivered comparison', hole=0.3)\n",
    "fig.update_traces(textposition='inside', textinfo='percent+label')\n",
    "\n",
    "fig.show()"
   ]
  },
  {
   "cell_type": "code",
   "execution_count": 77,
   "id": "395385a9",
   "metadata": {},
   "outputs": [
    {
     "name": "stdout",
     "output_type": "stream",
     "text": [
      "Top two orders delivered is 86.28996933858957% of the total orders delivered\n",
      "Top two total revenue is 85.51098230460232% of the total quantity\n"
     ]
    }
   ],
   "source": [
    "print(f\"Top two orders delivered is {(carrier_perf.iloc[:2,1].sum() / carrier_perf['Derivered'].sum()) * 100}% of the total orders delivered\")\n",
    "print(f\"Top two total revenue is {(carrier_perf.iloc[:2,4].sum() / carrier_perf['TOTAL_COST'].sum()) * 100}% of the total quantity\")"
   ]
  },
  {
   "cell_type": "markdown",
   "id": "5749695f",
   "metadata": {},
   "source": [
    "From the above finding, using the two most successful carriers is the most optimal strategy. \n",
    "# However ...\n",
    "from the following crucial info below\n"
   ]
  },
  {
   "cell_type": "code",
   "execution_count": 78,
   "id": "4854fb12",
   "metadata": {},
   "outputs": [
    {
     "data": {
      "text/html": [
       "<div>\n",
       "<style scoped>\n",
       "    .dataframe tbody tr th:only-of-type {\n",
       "        vertical-align: middle;\n",
       "    }\n",
       "\n",
       "    .dataframe tbody tr th {\n",
       "        vertical-align: top;\n",
       "    }\n",
       "\n",
       "    .dataframe thead th {\n",
       "        text-align: right;\n",
       "    }\n",
       "</style>\n",
       "<table border=\"1\" class=\"dataframe\">\n",
       "  <thead>\n",
       "    <tr style=\"text-align: right;\">\n",
       "      <th></th>\n",
       "      <th>Time_delay_hours</th>\n",
       "      <th>Derivered</th>\n",
       "      <th>Canceled</th>\n",
       "      <th>QUANTITY</th>\n",
       "      <th>TOTAL_COST</th>\n",
       "      <th>TOTAL_SHIPPING</th>\n",
       "      <th>Cost_per_product_X1000</th>\n",
       "      <th>Popular_country</th>\n",
       "      <th>Popular_product</th>\n",
       "      <th>Popular_printer</th>\n",
       "      <th>Popular_merchant</th>\n",
       "      <th>Success_factor</th>\n",
       "    </tr>\n",
       "    <tr>\n",
       "      <th>SHIPMENT_CARRIER</th>\n",
       "      <th></th>\n",
       "      <th></th>\n",
       "      <th></th>\n",
       "      <th></th>\n",
       "      <th></th>\n",
       "      <th></th>\n",
       "      <th></th>\n",
       "      <th></th>\n",
       "      <th></th>\n",
       "      <th></th>\n",
       "      <th></th>\n",
       "      <th></th>\n",
       "    </tr>\n",
       "  </thead>\n",
       "  <tbody>\n",
       "    <tr>\n",
       "      <th>USPS</th>\n",
       "      <td>165.013997</td>\n",
       "      <td>11056</td>\n",
       "      <td>30.0</td>\n",
       "      <td>11824</td>\n",
       "      <td>22123039</td>\n",
       "      <td>10241931</td>\n",
       "      <td>9864.838624</td>\n",
       "      <td>US</td>\n",
       "      <td>T-Shirt</td>\n",
       "      <td>29</td>\n",
       "      <td>5755049</td>\n",
       "      <td>5894.050494</td>\n",
       "    </tr>\n",
       "    <tr>\n",
       "      <th>UPS_MAIL_INNOVATIONS</th>\n",
       "      <td>290.249017</td>\n",
       "      <td>764</td>\n",
       "      <td>NaN</td>\n",
       "      <td>830</td>\n",
       "      <td>1916194</td>\n",
       "      <td>989639</td>\n",
       "      <td>955.385710</td>\n",
       "      <td>US</td>\n",
       "      <td>Poster</td>\n",
       "      <td>2</td>\n",
       "      <td>6852170</td>\n",
       "      <td>536.281251</td>\n",
       "    </tr>\n",
       "  </tbody>\n",
       "</table>\n",
       "</div>"
      ],
      "text/plain": [
       "                      Time_delay_hours  Derivered  Canceled  QUANTITY  \\\n",
       "SHIPMENT_CARRIER                                                        \n",
       "USPS                        165.013997      11056      30.0     11824   \n",
       "UPS_MAIL_INNOVATIONS        290.249017        764       NaN       830   \n",
       "\n",
       "                      TOTAL_COST  TOTAL_SHIPPING  Cost_per_product_X1000  \\\n",
       "SHIPMENT_CARRIER                                                           \n",
       "USPS                    22123039        10241931             9864.838624   \n",
       "UPS_MAIL_INNOVATIONS     1916194          989639              955.385710   \n",
       "\n",
       "                     Popular_country Popular_product Popular_printer  \\\n",
       "SHIPMENT_CARRIER                                                       \n",
       "USPS                              US         T-Shirt              29   \n",
       "UPS_MAIL_INNOVATIONS              US          Poster               2   \n",
       "\n",
       "                     Popular_merchant  Success_factor  \n",
       "SHIPMENT_CARRIER                                       \n",
       "USPS                          5755049     5894.050494  \n",
       "UPS_MAIL_INNOVATIONS          6852170      536.281251  "
      ]
     },
     "execution_count": 78,
     "metadata": {},
     "output_type": "execute_result"
    }
   ],
   "source": [
    "# Best two\n",
    "carrier_perf.iloc[:2]"
   ]
  },
  {
   "cell_type": "markdown",
   "id": "710b251e",
   "metadata": {},
   "source": [
    "### The top two carriers mostly:\n",
    "- Deliver to the United States Printify market\n",
    "- Deliver T-shirts and posters\n",
    "- Delver for print providers 29 and 2\n",
    "- Deliver orders for merchant 5755049 and 6852170"
   ]
  },
  {
   "cell_type": "markdown",
   "id": "243eacc5",
   "metadata": {},
   "source": [
    "# USPS and UPS_MAIL_INNOVATIONS might be the best but other carriers also play a crucial role in the business model of printify.\n",
    "# Many carrier services increase the geological penetration of printify, making more products available for the customers, and making the print providers more successful which is an advantage to Printify.\n",
    "# Its not a coincidence that US is the biggest market for Printify and the two most successful carriers mostly offer their services there.\n",
    "# A balance should be struck to make all the factors operate at an optimum level i.e. Increase reach to many countries, delivering many orders, delivering many different products in the catalogue, and serving many merchants / print providers."
   ]
  },
  {
   "cell_type": "code",
   "execution_count": null,
   "id": "8c2f948e",
   "metadata": {},
   "outputs": [],
   "source": []
  }
 ],
 "metadata": {
  "kernelspec": {
   "display_name": "Python 3",
   "language": "python",
   "name": "python3"
  },
  "language_info": {
   "codemirror_mode": {
    "name": "ipython",
    "version": 3
   },
   "file_extension": ".py",
   "mimetype": "text/x-python",
   "name": "python",
   "nbconvert_exporter": "python",
   "pygments_lexer": "ipython3",
   "version": "3.8.8"
  }
 },
 "nbformat": 4,
 "nbformat_minor": 5
}
