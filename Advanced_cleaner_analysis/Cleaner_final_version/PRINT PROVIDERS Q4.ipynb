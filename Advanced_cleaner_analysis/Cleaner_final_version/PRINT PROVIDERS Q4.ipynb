{
 "cells": [
  {
   "cell_type": "markdown",
   "id": "fbb972d4",
   "metadata": {},
   "source": [
    "# Depedencies"
   ]
  },
  {
   "cell_type": "code",
   "execution_count": 48,
   "id": "a529713c",
   "metadata": {},
   "outputs": [],
   "source": [
    "import pandas as pd\n",
    "import numpy as np\n",
    "import time\n",
    "import collections\n",
    "import plotly.graph_objects as go\n",
    "import plotly.express as px\n",
    "import math\n",
    "import seaborn as sn"
   ]
  },
  {
   "cell_type": "markdown",
   "id": "3fdd4f0a",
   "metadata": {},
   "source": [
    "# Import the Data from the excel"
   ]
  },
  {
   "cell_type": "code",
   "execution_count": 49,
   "id": "a5877140",
   "metadata": {
    "scrolled": true
   },
   "outputs": [
    {
     "data": {
      "text/html": [
       "<div>\n",
       "<style scoped>\n",
       "    .dataframe tbody tr th:only-of-type {\n",
       "        vertical-align: middle;\n",
       "    }\n",
       "\n",
       "    .dataframe tbody tr th {\n",
       "        vertical-align: top;\n",
       "    }\n",
       "\n",
       "    .dataframe thead th {\n",
       "        text-align: right;\n",
       "    }\n",
       "</style>\n",
       "<table border=\"1\" class=\"dataframe\">\n",
       "  <thead>\n",
       "    <tr style=\"text-align: right;\">\n",
       "      <th></th>\n",
       "      <th>MERCHANT_ID</th>\n",
       "      <th>ORDER_ID</th>\n",
       "      <th>SHOP_ID</th>\n",
       "      <th>ADDRESS_TO_COUNTRY</th>\n",
       "      <th>ADDRESS_TO_REGION</th>\n",
       "      <th>ORDER_DT</th>\n",
       "      <th>FULFILLED_DT</th>\n",
       "      <th>REPRINT_FLAG</th>\n",
       "      <th>SALES_CHANNEL_TYPE_ID</th>\n",
       "      <th>TOTAL_COST</th>\n",
       "      <th>TOTAL_SHIPPING</th>\n",
       "      <th>MERCHANT_REGISTERED_DT</th>\n",
       "      <th>SUB_IS_ACTIVE_FLAG</th>\n",
       "      <th>SUB_PLAN</th>\n",
       "      <th>SHIPMENT_CARRIER</th>\n",
       "      <th>SHIPMENT_DELIVERD_DT</th>\n",
       "    </tr>\n",
       "  </thead>\n",
       "  <tbody>\n",
       "    <tr>\n",
       "      <th>0</th>\n",
       "      <td>7143578</td>\n",
       "      <td>2013244.178</td>\n",
       "      <td>2013244</td>\n",
       "      <td>US</td>\n",
       "      <td>WA</td>\n",
       "      <td>2020-10-02 19:30:15</td>\n",
       "      <td>2020-10-20 07:53:06</td>\n",
       "      <td>NaN</td>\n",
       "      <td>9</td>\n",
       "      <td>2902</td>\n",
       "      <td>2200</td>\n",
       "      <td>2020-05-19 15:22:57</td>\n",
       "      <td>True</td>\n",
       "      <td>business_account_3</td>\n",
       "      <td>UPS</td>\n",
       "      <td>2020-10-08 21:07:29</td>\n",
       "    </tr>\n",
       "    <tr>\n",
       "      <th>1</th>\n",
       "      <td>5888534</td>\n",
       "      <td>1358429.695</td>\n",
       "      <td>1358429</td>\n",
       "      <td>US</td>\n",
       "      <td>MN</td>\n",
       "      <td>2020-11-21 05:19:03</td>\n",
       "      <td>2020-11-23 00:23:32</td>\n",
       "      <td>NaN</td>\n",
       "      <td>4</td>\n",
       "      <td>1149</td>\n",
       "      <td>924</td>\n",
       "      <td>2018-02-08 07:34:02</td>\n",
       "      <td>True</td>\n",
       "      <td>business_account_3</td>\n",
       "      <td>USPS</td>\n",
       "      <td>2020-11-28 21:50:56</td>\n",
       "    </tr>\n",
       "    <tr>\n",
       "      <th>2</th>\n",
       "      <td>6484224</td>\n",
       "      <td>939390.193</td>\n",
       "      <td>939390</td>\n",
       "      <td>US</td>\n",
       "      <td>AK</td>\n",
       "      <td>2020-10-25 01:39:08</td>\n",
       "      <td>2020-10-26 20:30:53</td>\n",
       "      <td>NaN</td>\n",
       "      <td>1</td>\n",
       "      <td>977</td>\n",
       "      <td>400</td>\n",
       "      <td>2019-04-09 20:02:46</td>\n",
       "      <td>True</td>\n",
       "      <td>business_account_3</td>\n",
       "      <td>USPS</td>\n",
       "      <td>2020-11-02 23:37:54</td>\n",
       "    </tr>\n",
       "    <tr>\n",
       "      <th>3</th>\n",
       "      <td>7251033</td>\n",
       "      <td>1856107.400</td>\n",
       "      <td>1856107</td>\n",
       "      <td>US</td>\n",
       "      <td>PA</td>\n",
       "      <td>2020-10-08 16:35:21</td>\n",
       "      <td>2020-10-10 15:02:47</td>\n",
       "      <td>NaN</td>\n",
       "      <td>1</td>\n",
       "      <td>661</td>\n",
       "      <td>800</td>\n",
       "      <td>2020-07-20 17:04:41</td>\n",
       "      <td>True</td>\n",
       "      <td>business_account_3</td>\n",
       "      <td>UPS</td>\n",
       "      <td>2020-10-15 18:08:37</td>\n",
       "    </tr>\n",
       "    <tr>\n",
       "      <th>4</th>\n",
       "      <td>7241488</td>\n",
       "      <td>1843904.400</td>\n",
       "      <td>1843904</td>\n",
       "      <td>US</td>\n",
       "      <td>CO</td>\n",
       "      <td>2020-11-17 19:30:10</td>\n",
       "      <td>2020-11-18 03:45:25</td>\n",
       "      <td>NaN</td>\n",
       "      <td>2</td>\n",
       "      <td>719</td>\n",
       "      <td>424</td>\n",
       "      <td>2020-07-15 18:47:51</td>\n",
       "      <td>True</td>\n",
       "      <td>business_account_3</td>\n",
       "      <td>USPS</td>\n",
       "      <td>2020-11-24 00:44:56</td>\n",
       "    </tr>\n",
       "  </tbody>\n",
       "</table>\n",
       "</div>"
      ],
      "text/plain": [
       "   MERCHANT_ID     ORDER_ID  SHOP_ID ADDRESS_TO_COUNTRY ADDRESS_TO_REGION  \\\n",
       "0      7143578  2013244.178  2013244                 US                WA   \n",
       "1      5888534  1358429.695  1358429                 US                MN   \n",
       "2      6484224   939390.193   939390                 US                AK   \n",
       "3      7251033  1856107.400  1856107                 US                PA   \n",
       "4      7241488  1843904.400  1843904                 US                CO   \n",
       "\n",
       "             ORDER_DT        FULFILLED_DT  REPRINT_FLAG  \\\n",
       "0 2020-10-02 19:30:15 2020-10-20 07:53:06           NaN   \n",
       "1 2020-11-21 05:19:03 2020-11-23 00:23:32           NaN   \n",
       "2 2020-10-25 01:39:08 2020-10-26 20:30:53           NaN   \n",
       "3 2020-10-08 16:35:21 2020-10-10 15:02:47           NaN   \n",
       "4 2020-11-17 19:30:10 2020-11-18 03:45:25           NaN   \n",
       "\n",
       "   SALES_CHANNEL_TYPE_ID  TOTAL_COST  TOTAL_SHIPPING MERCHANT_REGISTERED_DT  \\\n",
       "0                      9        2902            2200    2020-05-19 15:22:57   \n",
       "1                      4        1149             924    2018-02-08 07:34:02   \n",
       "2                      1         977             400    2019-04-09 20:02:46   \n",
       "3                      1         661             800    2020-07-20 17:04:41   \n",
       "4                      2         719             424    2020-07-15 18:47:51   \n",
       "\n",
       "   SUB_IS_ACTIVE_FLAG            SUB_PLAN SHIPMENT_CARRIER  \\\n",
       "0                True  business_account_3              UPS   \n",
       "1                True  business_account_3             USPS   \n",
       "2                True  business_account_3             USPS   \n",
       "3                True  business_account_3              UPS   \n",
       "4                True  business_account_3             USPS   \n",
       "\n",
       "  SHIPMENT_DELIVERD_DT  \n",
       "0  2020-10-08 21:07:29  \n",
       "1  2020-11-28 21:50:56  \n",
       "2  2020-11-02 23:37:54  \n",
       "3  2020-10-15 18:08:37  \n",
       "4  2020-11-24 00:44:56  "
      ]
     },
     "execution_count": 49,
     "metadata": {},
     "output_type": "execute_result"
    }
   ],
   "source": [
    "# Read the printify products excel file into pandas dataframe\n",
    "orders = pd.read_excel('Printify_Data_Analyst_homework.xlsx', sheet_name = 'Orders')\n",
    "orders.head()"
   ]
  },
  {
   "cell_type": "code",
   "execution_count": 50,
   "id": "6c1767bf",
   "metadata": {
    "scrolled": true
   },
   "outputs": [
    {
     "name": "stdout",
     "output_type": "stream",
     "text": [
      "<class 'pandas.core.frame.DataFrame'>\n",
      "RangeIndex: 13506 entries, 0 to 13505\n",
      "Data columns (total 16 columns):\n",
      " #   Column                  Non-Null Count  Dtype         \n",
      "---  ------                  --------------  -----         \n",
      " 0   MERCHANT_ID             13506 non-null  int64         \n",
      " 1   ORDER_ID                13506 non-null  float64       \n",
      " 2   SHOP_ID                 13506 non-null  int64         \n",
      " 3   ADDRESS_TO_COUNTRY      13505 non-null  object        \n",
      " 4   ADDRESS_TO_REGION       12930 non-null  object        \n",
      " 5   ORDER_DT                13506 non-null  datetime64[ns]\n",
      " 6   FULFILLED_DT            12637 non-null  datetime64[ns]\n",
      " 7   REPRINT_FLAG            103 non-null    float64       \n",
      " 8   SALES_CHANNEL_TYPE_ID   13506 non-null  int64         \n",
      " 9   TOTAL_COST              13506 non-null  int64         \n",
      " 10  TOTAL_SHIPPING          13506 non-null  int64         \n",
      " 11  MERCHANT_REGISTERED_DT  13506 non-null  datetime64[ns]\n",
      " 12  SUB_IS_ACTIVE_FLAG      13506 non-null  bool          \n",
      " 13  SUB_PLAN                9897 non-null   object        \n",
      " 14  SHIPMENT_CARRIER        11833 non-null  object        \n",
      " 15  SHIPMENT_DELIVERD_DT    10912 non-null  datetime64[ns]\n",
      "dtypes: bool(1), datetime64[ns](4), float64(2), int64(5), object(4)\n",
      "memory usage: 1.6+ MB\n"
     ]
    }
   ],
   "source": [
    "orders.info()"
   ]
  },
  {
   "cell_type": "code",
   "execution_count": 51,
   "id": "20715b66",
   "metadata": {
    "scrolled": true
   },
   "outputs": [
    {
     "data": {
      "text/html": [
       "<div>\n",
       "<style scoped>\n",
       "    .dataframe tbody tr th:only-of-type {\n",
       "        vertical-align: middle;\n",
       "    }\n",
       "\n",
       "    .dataframe tbody tr th {\n",
       "        vertical-align: top;\n",
       "    }\n",
       "\n",
       "    .dataframe thead th {\n",
       "        text-align: right;\n",
       "    }\n",
       "</style>\n",
       "<table border=\"1\" class=\"dataframe\">\n",
       "  <thead>\n",
       "    <tr style=\"text-align: right;\">\n",
       "      <th></th>\n",
       "      <th>ORDER_ID</th>\n",
       "      <th>PRINT_PROVIDER_ID</th>\n",
       "      <th>PRODUCT_BRAND</th>\n",
       "      <th>PRODUCT_TYPE</th>\n",
       "      <th>ITEM_STATUS</th>\n",
       "      <th>QUANTITY</th>\n",
       "    </tr>\n",
       "  </thead>\n",
       "  <tbody>\n",
       "    <tr>\n",
       "      <th>0</th>\n",
       "      <td>1.750015e+06</td>\n",
       "      <td>30</td>\n",
       "      <td>Generic brand</td>\n",
       "      <td>Mug</td>\n",
       "      <td>on-hold</td>\n",
       "      <td>3</td>\n",
       "    </tr>\n",
       "    <tr>\n",
       "      <th>1</th>\n",
       "      <td>1.750015e+06</td>\n",
       "      <td>30</td>\n",
       "      <td>Generic brand</td>\n",
       "      <td>Mug</td>\n",
       "      <td>on-hold</td>\n",
       "      <td>2</td>\n",
       "    </tr>\n",
       "    <tr>\n",
       "      <th>2</th>\n",
       "      <td>1.225155e+06</td>\n",
       "      <td>16</td>\n",
       "      <td>Gildan</td>\n",
       "      <td>Kids clothes</td>\n",
       "      <td>shipment_delivered</td>\n",
       "      <td>1</td>\n",
       "    </tr>\n",
       "    <tr>\n",
       "      <th>3</th>\n",
       "      <td>1.828891e+06</td>\n",
       "      <td>39</td>\n",
       "      <td>Bella+Canvas</td>\n",
       "      <td>T-Shirt</td>\n",
       "      <td>shipment_delivered</td>\n",
       "      <td>1</td>\n",
       "    </tr>\n",
       "    <tr>\n",
       "      <th>4</th>\n",
       "      <td>1.847848e+06</td>\n",
       "      <td>10</td>\n",
       "      <td>Generic brand</td>\n",
       "      <td>Accessories</td>\n",
       "      <td>shipment_delivered</td>\n",
       "      <td>1</td>\n",
       "    </tr>\n",
       "    <tr>\n",
       "      <th>5</th>\n",
       "      <td>1.750016e+06</td>\n",
       "      <td>30</td>\n",
       "      <td>Generic brand</td>\n",
       "      <td>Mug</td>\n",
       "      <td>on-hold</td>\n",
       "      <td>1</td>\n",
       "    </tr>\n",
       "    <tr>\n",
       "      <th>6</th>\n",
       "      <td>4.668482e+05</td>\n",
       "      <td>10</td>\n",
       "      <td>Generic brand</td>\n",
       "      <td>Bags</td>\n",
       "      <td>shipment_delivered</td>\n",
       "      <td>1</td>\n",
       "    </tr>\n",
       "    <tr>\n",
       "      <th>7</th>\n",
       "      <td>1.569960e+06</td>\n",
       "      <td>45</td>\n",
       "      <td>Gildan</td>\n",
       "      <td>Sweatshirt</td>\n",
       "      <td>fulfilled</td>\n",
       "      <td>1</td>\n",
       "    </tr>\n",
       "    <tr>\n",
       "      <th>8</th>\n",
       "      <td>2.004430e+06</td>\n",
       "      <td>29</td>\n",
       "      <td>Gildan</td>\n",
       "      <td>Sweatshirt</td>\n",
       "      <td>shipment_delivered</td>\n",
       "      <td>1</td>\n",
       "    </tr>\n",
       "    <tr>\n",
       "      <th>9</th>\n",
       "      <td>2.255664e+05</td>\n",
       "      <td>25</td>\n",
       "      <td>Bella+Canvas</td>\n",
       "      <td>T-Shirt</td>\n",
       "      <td>shipment_delivered</td>\n",
       "      <td>1</td>\n",
       "    </tr>\n",
       "    <tr>\n",
       "      <th>10</th>\n",
       "      <td>1.750016e+06</td>\n",
       "      <td>30</td>\n",
       "      <td>Generic brand</td>\n",
       "      <td>Mug</td>\n",
       "      <td>on-hold</td>\n",
       "      <td>1</td>\n",
       "    </tr>\n",
       "    <tr>\n",
       "      <th>11</th>\n",
       "      <td>1.750016e+06</td>\n",
       "      <td>30</td>\n",
       "      <td>Generic brand</td>\n",
       "      <td>Mug</td>\n",
       "      <td>on-hold</td>\n",
       "      <td>1</td>\n",
       "    </tr>\n",
       "    <tr>\n",
       "      <th>12</th>\n",
       "      <td>1.750016e+06</td>\n",
       "      <td>30</td>\n",
       "      <td>Generic brand</td>\n",
       "      <td>Mug</td>\n",
       "      <td>on-hold</td>\n",
       "      <td>1</td>\n",
       "    </tr>\n",
       "    <tr>\n",
       "      <th>13</th>\n",
       "      <td>2.797993e+05</td>\n",
       "      <td>25</td>\n",
       "      <td>Bella+Canvas</td>\n",
       "      <td>T-Shirt</td>\n",
       "      <td>shipment_out_for_delivery</td>\n",
       "      <td>1</td>\n",
       "    </tr>\n",
       "    <tr>\n",
       "      <th>14</th>\n",
       "      <td>2.797993e+05</td>\n",
       "      <td>25</td>\n",
       "      <td>Bella+Canvas</td>\n",
       "      <td>T-Shirt</td>\n",
       "      <td>shipment_out_for_delivery</td>\n",
       "      <td>1</td>\n",
       "    </tr>\n",
       "    <tr>\n",
       "      <th>15</th>\n",
       "      <td>2.797993e+05</td>\n",
       "      <td>25</td>\n",
       "      <td>Bella+Canvas</td>\n",
       "      <td>T-Shirt</td>\n",
       "      <td>shipment_out_for_delivery</td>\n",
       "      <td>1</td>\n",
       "    </tr>\n",
       "    <tr>\n",
       "      <th>16</th>\n",
       "      <td>2.797993e+05</td>\n",
       "      <td>25</td>\n",
       "      <td>Bella+Canvas</td>\n",
       "      <td>T-Shirt</td>\n",
       "      <td>shipment_out_for_delivery</td>\n",
       "      <td>1</td>\n",
       "    </tr>\n",
       "    <tr>\n",
       "      <th>17</th>\n",
       "      <td>2.797993e+05</td>\n",
       "      <td>25</td>\n",
       "      <td>Bella+Canvas</td>\n",
       "      <td>T-Shirt</td>\n",
       "      <td>shipment_out_for_delivery</td>\n",
       "      <td>1</td>\n",
       "    </tr>\n",
       "    <tr>\n",
       "      <th>18</th>\n",
       "      <td>1.898294e+06</td>\n",
       "      <td>29</td>\n",
       "      <td>Bella+Canvas</td>\n",
       "      <td>T-Shirt</td>\n",
       "      <td>shipment_delivered</td>\n",
       "      <td>1</td>\n",
       "    </tr>\n",
       "    <tr>\n",
       "      <th>19</th>\n",
       "      <td>1.898294e+06</td>\n",
       "      <td>3</td>\n",
       "      <td>Bella+Canvas</td>\n",
       "      <td>Long-sleeve</td>\n",
       "      <td>shipment_delivered</td>\n",
       "      <td>1</td>\n",
       "    </tr>\n",
       "  </tbody>\n",
       "</table>\n",
       "</div>"
      ],
      "text/plain": [
       "        ORDER_ID  PRINT_PROVIDER_ID  PRODUCT_BRAND  PRODUCT_TYPE  \\\n",
       "0   1.750015e+06                 30  Generic brand           Mug   \n",
       "1   1.750015e+06                 30  Generic brand           Mug   \n",
       "2   1.225155e+06                 16         Gildan  Kids clothes   \n",
       "3   1.828891e+06                 39   Bella+Canvas       T-Shirt   \n",
       "4   1.847848e+06                 10  Generic brand   Accessories   \n",
       "5   1.750016e+06                 30  Generic brand           Mug   \n",
       "6   4.668482e+05                 10  Generic brand          Bags   \n",
       "7   1.569960e+06                 45         Gildan    Sweatshirt   \n",
       "8   2.004430e+06                 29         Gildan    Sweatshirt   \n",
       "9   2.255664e+05                 25   Bella+Canvas       T-Shirt   \n",
       "10  1.750016e+06                 30  Generic brand           Mug   \n",
       "11  1.750016e+06                 30  Generic brand           Mug   \n",
       "12  1.750016e+06                 30  Generic brand           Mug   \n",
       "13  2.797993e+05                 25   Bella+Canvas       T-Shirt   \n",
       "14  2.797993e+05                 25   Bella+Canvas       T-Shirt   \n",
       "15  2.797993e+05                 25   Bella+Canvas       T-Shirt   \n",
       "16  2.797993e+05                 25   Bella+Canvas       T-Shirt   \n",
       "17  2.797993e+05                 25   Bella+Canvas       T-Shirt   \n",
       "18  1.898294e+06                 29   Bella+Canvas       T-Shirt   \n",
       "19  1.898294e+06                  3   Bella+Canvas   Long-sleeve   \n",
       "\n",
       "                  ITEM_STATUS  QUANTITY  \n",
       "0                     on-hold         3  \n",
       "1                     on-hold         2  \n",
       "2          shipment_delivered         1  \n",
       "3          shipment_delivered         1  \n",
       "4          shipment_delivered         1  \n",
       "5                     on-hold         1  \n",
       "6          shipment_delivered         1  \n",
       "7                   fulfilled         1  \n",
       "8          shipment_delivered         1  \n",
       "9          shipment_delivered         1  \n",
       "10                    on-hold         1  \n",
       "11                    on-hold         1  \n",
       "12                    on-hold         1  \n",
       "13  shipment_out_for_delivery         1  \n",
       "14  shipment_out_for_delivery         1  \n",
       "15  shipment_out_for_delivery         1  \n",
       "16  shipment_out_for_delivery         1  \n",
       "17  shipment_out_for_delivery         1  \n",
       "18         shipment_delivered         1  \n",
       "19         shipment_delivered         1  "
      ]
     },
     "execution_count": 51,
     "metadata": {},
     "output_type": "execute_result"
    }
   ],
   "source": [
    "# Read the printify products excel file into pandas dataframe\n",
    "new_line_items = pd.read_excel('Printify_Data_Analyst_homework.xlsx', sheet_name = 'Line items')\n",
    "new_line_items.head(20)"
   ]
  },
  {
   "cell_type": "code",
   "execution_count": 52,
   "id": "8a59a90b",
   "metadata": {},
   "outputs": [
    {
     "name": "stdout",
     "output_type": "stream",
     "text": [
      "<class 'pandas.core.frame.DataFrame'>\n",
      "RangeIndex: 57583 entries, 0 to 57582\n",
      "Data columns (total 6 columns):\n",
      " #   Column             Non-Null Count  Dtype  \n",
      "---  ------             --------------  -----  \n",
      " 0   ORDER_ID           57583 non-null  float64\n",
      " 1   PRINT_PROVIDER_ID  57583 non-null  int64  \n",
      " 2   PRODUCT_BRAND      57583 non-null  object \n",
      " 3   PRODUCT_TYPE       57583 non-null  object \n",
      " 4   ITEM_STATUS        57583 non-null  object \n",
      " 5   QUANTITY           57583 non-null  int64  \n",
      "dtypes: float64(1), int64(2), object(3)\n",
      "memory usage: 2.6+ MB\n"
     ]
    }
   ],
   "source": [
    "new_line_items.info()"
   ]
  },
  {
   "cell_type": "markdown",
   "id": "f7f7cbd3",
   "metadata": {},
   "source": [
    "# Clean The data\n",
    "\n",
    "## line_items cleaning"
   ]
  },
  {
   "cell_type": "code",
   "execution_count": 53,
   "id": "3d7ac07e",
   "metadata": {
    "scrolled": true
   },
   "outputs": [
    {
     "data": {
      "text/html": [
       "<div>\n",
       "<style scoped>\n",
       "    .dataframe tbody tr th:only-of-type {\n",
       "        vertical-align: middle;\n",
       "    }\n",
       "\n",
       "    .dataframe tbody tr th {\n",
       "        vertical-align: top;\n",
       "    }\n",
       "\n",
       "    .dataframe thead th {\n",
       "        text-align: right;\n",
       "    }\n",
       "</style>\n",
       "<table border=\"1\" class=\"dataframe\">\n",
       "  <thead>\n",
       "    <tr style=\"text-align: right;\">\n",
       "      <th></th>\n",
       "      <th>ORDER_ID</th>\n",
       "      <th>PRINT_PROVIDER_ID</th>\n",
       "      <th>PRODUCT_BRAND</th>\n",
       "      <th>PRODUCT_TYPE</th>\n",
       "      <th>ITEM_STATUS</th>\n",
       "      <th>QUANTITY</th>\n",
       "    </tr>\n",
       "  </thead>\n",
       "  <tbody>\n",
       "    <tr>\n",
       "      <th>0</th>\n",
       "      <td>1.750015e+06</td>\n",
       "      <td>30</td>\n",
       "      <td>Generic brand</td>\n",
       "      <td>Mug</td>\n",
       "      <td>on-hold</td>\n",
       "      <td>3</td>\n",
       "    </tr>\n",
       "    <tr>\n",
       "      <th>1</th>\n",
       "      <td>1.750015e+06</td>\n",
       "      <td>30</td>\n",
       "      <td>Generic brand</td>\n",
       "      <td>Mug</td>\n",
       "      <td>on-hold</td>\n",
       "      <td>2</td>\n",
       "    </tr>\n",
       "    <tr>\n",
       "      <th>2</th>\n",
       "      <td>1.225155e+06</td>\n",
       "      <td>16</td>\n",
       "      <td>Gildan</td>\n",
       "      <td>Kids clothes</td>\n",
       "      <td>shipment_delivered</td>\n",
       "      <td>1</td>\n",
       "    </tr>\n",
       "    <tr>\n",
       "      <th>3</th>\n",
       "      <td>1.828891e+06</td>\n",
       "      <td>39</td>\n",
       "      <td>Bella+Canvas</td>\n",
       "      <td>T-Shirt</td>\n",
       "      <td>shipment_delivered</td>\n",
       "      <td>1</td>\n",
       "    </tr>\n",
       "    <tr>\n",
       "      <th>4</th>\n",
       "      <td>1.847848e+06</td>\n",
       "      <td>10</td>\n",
       "      <td>Generic brand</td>\n",
       "      <td>Accessories</td>\n",
       "      <td>shipment_delivered</td>\n",
       "      <td>1</td>\n",
       "    </tr>\n",
       "    <tr>\n",
       "      <th>...</th>\n",
       "      <td>...</td>\n",
       "      <td>...</td>\n",
       "      <td>...</td>\n",
       "      <td>...</td>\n",
       "      <td>...</td>\n",
       "      <td>...</td>\n",
       "    </tr>\n",
       "    <tr>\n",
       "      <th>15616</th>\n",
       "      <td>1.735807e+06</td>\n",
       "      <td>2</td>\n",
       "      <td>Generic brand</td>\n",
       "      <td>Canvas</td>\n",
       "      <td>shipment_delivered</td>\n",
       "      <td>1</td>\n",
       "    </tr>\n",
       "    <tr>\n",
       "      <th>15617</th>\n",
       "      <td>1.732949e+06</td>\n",
       "      <td>26</td>\n",
       "      <td>Gildan</td>\n",
       "      <td>T-Shirt</td>\n",
       "      <td>fulfilled</td>\n",
       "      <td>1</td>\n",
       "    </tr>\n",
       "    <tr>\n",
       "      <th>15618</th>\n",
       "      <td>1.449381e+06</td>\n",
       "      <td>29</td>\n",
       "      <td>Gildan</td>\n",
       "      <td>Sweatshirt</td>\n",
       "      <td>shipment_out_for_delivery</td>\n",
       "      <td>1</td>\n",
       "    </tr>\n",
       "    <tr>\n",
       "      <th>15619</th>\n",
       "      <td>1.735807e+06</td>\n",
       "      <td>48</td>\n",
       "      <td>Generic brand</td>\n",
       "      <td>Mug</td>\n",
       "      <td>shipment_delivered</td>\n",
       "      <td>1</td>\n",
       "    </tr>\n",
       "    <tr>\n",
       "      <th>15620</th>\n",
       "      <td>1.735807e+06</td>\n",
       "      <td>2</td>\n",
       "      <td>Generic brand</td>\n",
       "      <td>Canvas</td>\n",
       "      <td>shipment_delivered</td>\n",
       "      <td>1</td>\n",
       "    </tr>\n",
       "  </tbody>\n",
       "</table>\n",
       "<p>15621 rows × 6 columns</p>\n",
       "</div>"
      ],
      "text/plain": [
       "           ORDER_ID  PRINT_PROVIDER_ID  PRODUCT_BRAND  PRODUCT_TYPE  \\\n",
       "0      1.750015e+06                 30  Generic brand           Mug   \n",
       "1      1.750015e+06                 30  Generic brand           Mug   \n",
       "2      1.225155e+06                 16         Gildan  Kids clothes   \n",
       "3      1.828891e+06                 39   Bella+Canvas       T-Shirt   \n",
       "4      1.847848e+06                 10  Generic brand   Accessories   \n",
       "...             ...                ...            ...           ...   \n",
       "15616  1.735807e+06                  2  Generic brand        Canvas   \n",
       "15617  1.732949e+06                 26         Gildan       T-Shirt   \n",
       "15618  1.449381e+06                 29         Gildan    Sweatshirt   \n",
       "15619  1.735807e+06                 48  Generic brand           Mug   \n",
       "15620  1.735807e+06                  2  Generic brand        Canvas   \n",
       "\n",
       "                     ITEM_STATUS  QUANTITY  \n",
       "0                        on-hold         3  \n",
       "1                        on-hold         2  \n",
       "2             shipment_delivered         1  \n",
       "3             shipment_delivered         1  \n",
       "4             shipment_delivered         1  \n",
       "...                          ...       ...  \n",
       "15616         shipment_delivered         1  \n",
       "15617                  fulfilled         1  \n",
       "15618  shipment_out_for_delivery         1  \n",
       "15619         shipment_delivered         1  \n",
       "15620         shipment_delivered         1  \n",
       "\n",
       "[15621 rows x 6 columns]"
      ]
     },
     "execution_count": 53,
     "metadata": {},
     "output_type": "execute_result"
    }
   ],
   "source": [
    "# Remove duplicates \n",
    "line_items = new_line_items.drop_duplicates(subset=['ORDER_ID', 'PRINT_PROVIDER_ID', 'PRODUCT_BRAND', 'PRODUCT_TYPE', 'ITEM_STATUS'])\n",
    "\n",
    "# DOn't remove orders with similar characteristics except quantity\n",
    "#line_items = new_line_items.drop_duplicates(subset=['ORDER_ID', 'PRINT_PROVIDER_ID', 'PRODUCT_BRAND', 'PRODUCT_TYPE', 'ITEM_STATUS', 'QUANTITY'])\n",
    "line_items.reset_index(drop=True, inplace=True)\n",
    "line_items"
   ]
  },
  {
   "cell_type": "code",
   "execution_count": null,
   "id": "5038ab02",
   "metadata": {},
   "outputs": [],
   "source": []
  },
  {
   "cell_type": "markdown",
   "id": "3e6d1aa8",
   "metadata": {},
   "source": [
    "## Orders cleaning"
   ]
  },
  {
   "cell_type": "code",
   "execution_count": 54,
   "id": "b0000788",
   "metadata": {
    "scrolled": true
   },
   "outputs": [
    {
     "data": {
      "text/html": [
       "<div>\n",
       "<style scoped>\n",
       "    .dataframe tbody tr th:only-of-type {\n",
       "        vertical-align: middle;\n",
       "    }\n",
       "\n",
       "    .dataframe tbody tr th {\n",
       "        vertical-align: top;\n",
       "    }\n",
       "\n",
       "    .dataframe thead th {\n",
       "        text-align: right;\n",
       "    }\n",
       "</style>\n",
       "<table border=\"1\" class=\"dataframe\">\n",
       "  <thead>\n",
       "    <tr style=\"text-align: right;\">\n",
       "      <th></th>\n",
       "      <th>MERCHANT_ID</th>\n",
       "      <th>ORDER_ID</th>\n",
       "      <th>SHOP_ID</th>\n",
       "      <th>ADDRESS_TO_COUNTRY</th>\n",
       "      <th>ADDRESS_TO_REGION</th>\n",
       "      <th>ORDER_DT</th>\n",
       "      <th>FULFILLED_DT</th>\n",
       "      <th>REPRINT_FLAG</th>\n",
       "      <th>SALES_CHANNEL_TYPE_ID</th>\n",
       "      <th>TOTAL_COST</th>\n",
       "      <th>TOTAL_SHIPPING</th>\n",
       "      <th>MERCHANT_REGISTERED_DT</th>\n",
       "      <th>SUB_IS_ACTIVE_FLAG</th>\n",
       "      <th>SUB_PLAN</th>\n",
       "      <th>SHIPMENT_CARRIER</th>\n",
       "      <th>SHIPMENT_DELIVERD_DT</th>\n",
       "    </tr>\n",
       "  </thead>\n",
       "  <tbody>\n",
       "    <tr>\n",
       "      <th>537</th>\n",
       "      <td>5868230</td>\n",
       "      <td>3.635962e+05</td>\n",
       "      <td>363596</td>\n",
       "      <td>US</td>\n",
       "      <td>VI</td>\n",
       "      <td>2020-11-18 19:36:02</td>\n",
       "      <td>2020-11-19 15:23:46</td>\n",
       "      <td>NaN</td>\n",
       "      <td>2</td>\n",
       "      <td>9533</td>\n",
       "      <td>2616</td>\n",
       "      <td>2018-01-16 11:29:38</td>\n",
       "      <td>True</td>\n",
       "      <td>business_account_3</td>\n",
       "      <td>USPS</td>\n",
       "      <td>2020-11-24 17:34:42</td>\n",
       "    </tr>\n",
       "    <tr>\n",
       "      <th>538</th>\n",
       "      <td>5868230</td>\n",
       "      <td>3.635962e+05</td>\n",
       "      <td>363596</td>\n",
       "      <td>US</td>\n",
       "      <td>VI</td>\n",
       "      <td>2020-11-18 19:36:02</td>\n",
       "      <td>2020-11-19 15:23:46</td>\n",
       "      <td>NaN</td>\n",
       "      <td>2</td>\n",
       "      <td>9533</td>\n",
       "      <td>2616</td>\n",
       "      <td>2018-01-16 11:29:38</td>\n",
       "      <td>True</td>\n",
       "      <td>business_account_3</td>\n",
       "      <td>USPS</td>\n",
       "      <td>2020-11-28 16:51:06</td>\n",
       "    </tr>\n",
       "    <tr>\n",
       "      <th>5436</th>\n",
       "      <td>6118692</td>\n",
       "      <td>5.160665e+05</td>\n",
       "      <td>516066</td>\n",
       "      <td>US</td>\n",
       "      <td>MD</td>\n",
       "      <td>2020-10-11 04:30:55</td>\n",
       "      <td>2020-10-13 01:11:15</td>\n",
       "      <td>NaN</td>\n",
       "      <td>1</td>\n",
       "      <td>1979</td>\n",
       "      <td>850</td>\n",
       "      <td>2018-09-13 12:23:50</td>\n",
       "      <td>True</td>\n",
       "      <td>business_account_3</td>\n",
       "      <td>USPS</td>\n",
       "      <td>2020-10-16 19:44:40</td>\n",
       "    </tr>\n",
       "    <tr>\n",
       "      <th>5437</th>\n",
       "      <td>6118692</td>\n",
       "      <td>5.160665e+05</td>\n",
       "      <td>516066</td>\n",
       "      <td>US</td>\n",
       "      <td>MD</td>\n",
       "      <td>2020-10-11 04:30:55</td>\n",
       "      <td>2020-10-13 01:11:15</td>\n",
       "      <td>NaN</td>\n",
       "      <td>1</td>\n",
       "      <td>1979</td>\n",
       "      <td>850</td>\n",
       "      <td>2018-09-13 12:23:50</td>\n",
       "      <td>True</td>\n",
       "      <td>business_account_3</td>\n",
       "      <td>UPS_MAIL_INNOVATIONS</td>\n",
       "      <td>2020-10-19 19:21:56</td>\n",
       "    </tr>\n",
       "    <tr>\n",
       "      <th>13</th>\n",
       "      <td>6314037</td>\n",
       "      <td>7.521543e+05</td>\n",
       "      <td>752154</td>\n",
       "      <td>US</td>\n",
       "      <td>WA</td>\n",
       "      <td>2020-10-03 13:05:53</td>\n",
       "      <td>2020-10-07 20:20:59</td>\n",
       "      <td>NaN</td>\n",
       "      <td>2</td>\n",
       "      <td>14732</td>\n",
       "      <td>3884</td>\n",
       "      <td>2019-01-25 17:38:56</td>\n",
       "      <td>False</td>\n",
       "      <td>business_account_3</td>\n",
       "      <td>USPS</td>\n",
       "      <td>2020-10-09 21:38:49</td>\n",
       "    </tr>\n",
       "    <tr>\n",
       "      <th>14</th>\n",
       "      <td>6314037</td>\n",
       "      <td>7.521543e+05</td>\n",
       "      <td>752154</td>\n",
       "      <td>US</td>\n",
       "      <td>WA</td>\n",
       "      <td>2020-10-03 13:05:53</td>\n",
       "      <td>2020-10-07 20:20:59</td>\n",
       "      <td>NaN</td>\n",
       "      <td>2</td>\n",
       "      <td>14732</td>\n",
       "      <td>3884</td>\n",
       "      <td>2019-01-25 17:38:56</td>\n",
       "      <td>False</td>\n",
       "      <td>business_account_3</td>\n",
       "      <td>NaN</td>\n",
       "      <td>NaT</td>\n",
       "    </tr>\n",
       "    <tr>\n",
       "      <th>7502</th>\n",
       "      <td>7016547</td>\n",
       "      <td>1.555863e+06</td>\n",
       "      <td>1555863</td>\n",
       "      <td>US</td>\n",
       "      <td>TX</td>\n",
       "      <td>2020-10-29 22:10:53</td>\n",
       "      <td>2020-11-02 18:07:59</td>\n",
       "      <td>NaN</td>\n",
       "      <td>1</td>\n",
       "      <td>167</td>\n",
       "      <td>350</td>\n",
       "      <td>2020-02-17 23:36:26</td>\n",
       "      <td>True</td>\n",
       "      <td>business_account_3</td>\n",
       "      <td>USPS</td>\n",
       "      <td>2020-11-05 20:05:27</td>\n",
       "    </tr>\n",
       "    <tr>\n",
       "      <th>5285</th>\n",
       "      <td>7016547</td>\n",
       "      <td>1.555863e+06</td>\n",
       "      <td>1555863</td>\n",
       "      <td>US</td>\n",
       "      <td>LA</td>\n",
       "      <td>2020-10-11 01:33:06</td>\n",
       "      <td>2020-10-14 21:42:00</td>\n",
       "      <td>NaN</td>\n",
       "      <td>1</td>\n",
       "      <td>103</td>\n",
       "      <td>350</td>\n",
       "      <td>2020-02-17 23:36:26</td>\n",
       "      <td>True</td>\n",
       "      <td>business_account_3</td>\n",
       "      <td>NaN</td>\n",
       "      <td>NaT</td>\n",
       "    </tr>\n",
       "    <tr>\n",
       "      <th>6069</th>\n",
       "      <td>7223323</td>\n",
       "      <td>1.820693e+06</td>\n",
       "      <td>1820693</td>\n",
       "      <td>US</td>\n",
       "      <td>SC</td>\n",
       "      <td>2020-11-04 04:20:21</td>\n",
       "      <td>2020-11-09 18:34:04</td>\n",
       "      <td>NaN</td>\n",
       "      <td>3</td>\n",
       "      <td>6855</td>\n",
       "      <td>2624</td>\n",
       "      <td>2020-07-06 19:27:58</td>\n",
       "      <td>True</td>\n",
       "      <td>business_account_3</td>\n",
       "      <td>USPS</td>\n",
       "      <td>2020-11-09 22:02:28</td>\n",
       "    </tr>\n",
       "    <tr>\n",
       "      <th>6070</th>\n",
       "      <td>7223323</td>\n",
       "      <td>1.820693e+06</td>\n",
       "      <td>1820693</td>\n",
       "      <td>US</td>\n",
       "      <td>SC</td>\n",
       "      <td>2020-11-04 04:20:21</td>\n",
       "      <td>2020-11-09 18:34:04</td>\n",
       "      <td>NaN</td>\n",
       "      <td>3</td>\n",
       "      <td>6855</td>\n",
       "      <td>2624</td>\n",
       "      <td>2020-07-06 19:27:58</td>\n",
       "      <td>True</td>\n",
       "      <td>business_account_3</td>\n",
       "      <td>USPS</td>\n",
       "      <td>2020-11-13 20:28:54</td>\n",
       "    </tr>\n",
       "    <tr>\n",
       "      <th>9320</th>\n",
       "      <td>7368224</td>\n",
       "      <td>1.996849e+06</td>\n",
       "      <td>1996849</td>\n",
       "      <td>US</td>\n",
       "      <td>MD</td>\n",
       "      <td>2020-11-13 21:20:55</td>\n",
       "      <td>2020-11-15 15:34:18</td>\n",
       "      <td>NaN</td>\n",
       "      <td>4</td>\n",
       "      <td>1070</td>\n",
       "      <td>524</td>\n",
       "      <td>2020-09-03 16:42:53</td>\n",
       "      <td>True</td>\n",
       "      <td>business_account_3</td>\n",
       "      <td>USPS</td>\n",
       "      <td>2020-11-18 21:06:22</td>\n",
       "    </tr>\n",
       "    <tr>\n",
       "      <th>8099</th>\n",
       "      <td>7368224</td>\n",
       "      <td>1.996849e+06</td>\n",
       "      <td>1996849</td>\n",
       "      <td>US</td>\n",
       "      <td>NC</td>\n",
       "      <td>2020-12-27 12:42:36</td>\n",
       "      <td>2020-12-29 22:49:17</td>\n",
       "      <td>NaN</td>\n",
       "      <td>4</td>\n",
       "      <td>491</td>\n",
       "      <td>424</td>\n",
       "      <td>2020-09-03 16:42:53</td>\n",
       "      <td>True</td>\n",
       "      <td>business_account_3</td>\n",
       "      <td>USPS</td>\n",
       "      <td>2021-01-08 18:39:25</td>\n",
       "    </tr>\n",
       "    <tr>\n",
       "      <th>10989</th>\n",
       "      <td>7383862</td>\n",
       "      <td>2.015444e+06</td>\n",
       "      <td>2015444</td>\n",
       "      <td>US</td>\n",
       "      <td>PA</td>\n",
       "      <td>2020-12-24 13:53:24</td>\n",
       "      <td>2021-01-21 23:56:17</td>\n",
       "      <td>NaN</td>\n",
       "      <td>2</td>\n",
       "      <td>28172</td>\n",
       "      <td>7480</td>\n",
       "      <td>2020-09-09 21:25:29</td>\n",
       "      <td>True</td>\n",
       "      <td>business_account_3</td>\n",
       "      <td>USPS</td>\n",
       "      <td>2021-01-11 16:36:38</td>\n",
       "    </tr>\n",
       "    <tr>\n",
       "      <th>10990</th>\n",
       "      <td>7383862</td>\n",
       "      <td>2.015444e+06</td>\n",
       "      <td>2015444</td>\n",
       "      <td>US</td>\n",
       "      <td>PA</td>\n",
       "      <td>2020-12-24 13:53:24</td>\n",
       "      <td>2021-01-21 23:56:17</td>\n",
       "      <td>NaN</td>\n",
       "      <td>2</td>\n",
       "      <td>28172</td>\n",
       "      <td>7480</td>\n",
       "      <td>2020-09-09 21:25:29</td>\n",
       "      <td>True</td>\n",
       "      <td>business_account_3</td>\n",
       "      <td>USPS</td>\n",
       "      <td>NaT</td>\n",
       "    </tr>\n",
       "    <tr>\n",
       "      <th>1535</th>\n",
       "      <td>7439351</td>\n",
       "      <td>2.078441e+06</td>\n",
       "      <td>2078441</td>\n",
       "      <td>US</td>\n",
       "      <td>IA</td>\n",
       "      <td>2020-10-03 21:37:34</td>\n",
       "      <td>2020-10-20 08:02:12</td>\n",
       "      <td>NaN</td>\n",
       "      <td>2</td>\n",
       "      <td>3664</td>\n",
       "      <td>1700</td>\n",
       "      <td>2020-09-23 23:42:43</td>\n",
       "      <td>False</td>\n",
       "      <td>NaN</td>\n",
       "      <td>USPS</td>\n",
       "      <td>2020-10-20 08:11:09</td>\n",
       "    </tr>\n",
       "    <tr>\n",
       "      <th>1534</th>\n",
       "      <td>7439351</td>\n",
       "      <td>2.078441e+06</td>\n",
       "      <td>2078441</td>\n",
       "      <td>US</td>\n",
       "      <td>IA</td>\n",
       "      <td>2020-10-03 21:37:34</td>\n",
       "      <td>2020-10-20 08:02:12</td>\n",
       "      <td>NaN</td>\n",
       "      <td>2</td>\n",
       "      <td>3664</td>\n",
       "      <td>1700</td>\n",
       "      <td>2020-09-23 23:42:43</td>\n",
       "      <td>False</td>\n",
       "      <td>NaN</td>\n",
       "      <td>USPS</td>\n",
       "      <td>2020-10-08 19:47:38</td>\n",
       "    </tr>\n",
       "    <tr>\n",
       "      <th>7321</th>\n",
       "      <td>7476675</td>\n",
       "      <td>2.119858e+06</td>\n",
       "      <td>2119857</td>\n",
       "      <td>US</td>\n",
       "      <td>OH</td>\n",
       "      <td>2020-11-25 07:39:40</td>\n",
       "      <td>2020-11-26 20:37:35</td>\n",
       "      <td>NaN</td>\n",
       "      <td>4</td>\n",
       "      <td>609</td>\n",
       "      <td>424</td>\n",
       "      <td>2020-10-01 08:44:55</td>\n",
       "      <td>False</td>\n",
       "      <td>NaN</td>\n",
       "      <td>USPS</td>\n",
       "      <td>2020-12-08 16:33:58</td>\n",
       "    </tr>\n",
       "    <tr>\n",
       "      <th>12579</th>\n",
       "      <td>7476675</td>\n",
       "      <td>2.119858e+06</td>\n",
       "      <td>2119857</td>\n",
       "      <td>US</td>\n",
       "      <td>TX</td>\n",
       "      <td>2020-10-28 18:46:53</td>\n",
       "      <td>2020-10-29 18:58:29</td>\n",
       "      <td>NaN</td>\n",
       "      <td>4</td>\n",
       "      <td>739</td>\n",
       "      <td>400</td>\n",
       "      <td>2020-10-01 08:44:55</td>\n",
       "      <td>False</td>\n",
       "      <td>NaN</td>\n",
       "      <td>USPS</td>\n",
       "      <td>2020-11-02 19:33:48</td>\n",
       "    </tr>\n",
       "    <tr>\n",
       "      <th>5851</th>\n",
       "      <td>7559003</td>\n",
       "      <td>2.229889e+06</td>\n",
       "      <td>2229889</td>\n",
       "      <td>FR</td>\n",
       "      <td>NaN</td>\n",
       "      <td>2020-11-12 01:43:43</td>\n",
       "      <td>2020-11-21 08:40:59</td>\n",
       "      <td>NaN</td>\n",
       "      <td>6</td>\n",
       "      <td>478</td>\n",
       "      <td>800</td>\n",
       "      <td>2020-10-28 09:58:01</td>\n",
       "      <td>True</td>\n",
       "      <td>business_account_3</td>\n",
       "      <td>unknown</td>\n",
       "      <td>NaT</td>\n",
       "    </tr>\n",
       "    <tr>\n",
       "      <th>4722</th>\n",
       "      <td>7559003</td>\n",
       "      <td>2.229889e+06</td>\n",
       "      <td>2229889</td>\n",
       "      <td>FR</td>\n",
       "      <td>NaN</td>\n",
       "      <td>2020-12-03 02:27:39</td>\n",
       "      <td>2020-12-09 17:15:58</td>\n",
       "      <td>NaN</td>\n",
       "      <td>6</td>\n",
       "      <td>333</td>\n",
       "      <td>1000</td>\n",
       "      <td>2020-10-28 09:58:01</td>\n",
       "      <td>True</td>\n",
       "      <td>business_account_3</td>\n",
       "      <td>NaN</td>\n",
       "      <td>NaT</td>\n",
       "    </tr>\n",
       "    <tr>\n",
       "      <th>10478</th>\n",
       "      <td>7572140</td>\n",
       "      <td>2.232641e+06</td>\n",
       "      <td>2232640</td>\n",
       "      <td>US</td>\n",
       "      <td>IN</td>\n",
       "      <td>2020-12-07 18:36:13</td>\n",
       "      <td>NaT</td>\n",
       "      <td>NaN</td>\n",
       "      <td>2</td>\n",
       "      <td>0</td>\n",
       "      <td>0</td>\n",
       "      <td>2020-11-02 15:41:56</td>\n",
       "      <td>True</td>\n",
       "      <td>business_account_3</td>\n",
       "      <td>NaN</td>\n",
       "      <td>NaT</td>\n",
       "    </tr>\n",
       "    <tr>\n",
       "      <th>10479</th>\n",
       "      <td>7572140</td>\n",
       "      <td>2.232641e+06</td>\n",
       "      <td>2232640</td>\n",
       "      <td>US</td>\n",
       "      <td>IN</td>\n",
       "      <td>2020-11-05 18:13:25</td>\n",
       "      <td>NaT</td>\n",
       "      <td>NaN</td>\n",
       "      <td>2</td>\n",
       "      <td>0</td>\n",
       "      <td>0</td>\n",
       "      <td>2020-11-02 15:41:56</td>\n",
       "      <td>True</td>\n",
       "      <td>business_account_3</td>\n",
       "      <td>NaN</td>\n",
       "      <td>NaT</td>\n",
       "    </tr>\n",
       "  </tbody>\n",
       "</table>\n",
       "</div>"
      ],
      "text/plain": [
       "       MERCHANT_ID      ORDER_ID  SHOP_ID ADDRESS_TO_COUNTRY  \\\n",
       "537        5868230  3.635962e+05   363596                 US   \n",
       "538        5868230  3.635962e+05   363596                 US   \n",
       "5436       6118692  5.160665e+05   516066                 US   \n",
       "5437       6118692  5.160665e+05   516066                 US   \n",
       "13         6314037  7.521543e+05   752154                 US   \n",
       "14         6314037  7.521543e+05   752154                 US   \n",
       "7502       7016547  1.555863e+06  1555863                 US   \n",
       "5285       7016547  1.555863e+06  1555863                 US   \n",
       "6069       7223323  1.820693e+06  1820693                 US   \n",
       "6070       7223323  1.820693e+06  1820693                 US   \n",
       "9320       7368224  1.996849e+06  1996849                 US   \n",
       "8099       7368224  1.996849e+06  1996849                 US   \n",
       "10989      7383862  2.015444e+06  2015444                 US   \n",
       "10990      7383862  2.015444e+06  2015444                 US   \n",
       "1535       7439351  2.078441e+06  2078441                 US   \n",
       "1534       7439351  2.078441e+06  2078441                 US   \n",
       "7321       7476675  2.119858e+06  2119857                 US   \n",
       "12579      7476675  2.119858e+06  2119857                 US   \n",
       "5851       7559003  2.229889e+06  2229889                 FR   \n",
       "4722       7559003  2.229889e+06  2229889                 FR   \n",
       "10478      7572140  2.232641e+06  2232640                 US   \n",
       "10479      7572140  2.232641e+06  2232640                 US   \n",
       "\n",
       "      ADDRESS_TO_REGION            ORDER_DT        FULFILLED_DT  REPRINT_FLAG  \\\n",
       "537                  VI 2020-11-18 19:36:02 2020-11-19 15:23:46           NaN   \n",
       "538                  VI 2020-11-18 19:36:02 2020-11-19 15:23:46           NaN   \n",
       "5436                 MD 2020-10-11 04:30:55 2020-10-13 01:11:15           NaN   \n",
       "5437                 MD 2020-10-11 04:30:55 2020-10-13 01:11:15           NaN   \n",
       "13                   WA 2020-10-03 13:05:53 2020-10-07 20:20:59           NaN   \n",
       "14                   WA 2020-10-03 13:05:53 2020-10-07 20:20:59           NaN   \n",
       "7502                 TX 2020-10-29 22:10:53 2020-11-02 18:07:59           NaN   \n",
       "5285                 LA 2020-10-11 01:33:06 2020-10-14 21:42:00           NaN   \n",
       "6069                 SC 2020-11-04 04:20:21 2020-11-09 18:34:04           NaN   \n",
       "6070                 SC 2020-11-04 04:20:21 2020-11-09 18:34:04           NaN   \n",
       "9320                 MD 2020-11-13 21:20:55 2020-11-15 15:34:18           NaN   \n",
       "8099                 NC 2020-12-27 12:42:36 2020-12-29 22:49:17           NaN   \n",
       "10989                PA 2020-12-24 13:53:24 2021-01-21 23:56:17           NaN   \n",
       "10990                PA 2020-12-24 13:53:24 2021-01-21 23:56:17           NaN   \n",
       "1535                 IA 2020-10-03 21:37:34 2020-10-20 08:02:12           NaN   \n",
       "1534                 IA 2020-10-03 21:37:34 2020-10-20 08:02:12           NaN   \n",
       "7321                 OH 2020-11-25 07:39:40 2020-11-26 20:37:35           NaN   \n",
       "12579                TX 2020-10-28 18:46:53 2020-10-29 18:58:29           NaN   \n",
       "5851                NaN 2020-11-12 01:43:43 2020-11-21 08:40:59           NaN   \n",
       "4722                NaN 2020-12-03 02:27:39 2020-12-09 17:15:58           NaN   \n",
       "10478                IN 2020-12-07 18:36:13                 NaT           NaN   \n",
       "10479                IN 2020-11-05 18:13:25                 NaT           NaN   \n",
       "\n",
       "       SALES_CHANNEL_TYPE_ID  TOTAL_COST  TOTAL_SHIPPING  \\\n",
       "537                        2        9533            2616   \n",
       "538                        2        9533            2616   \n",
       "5436                       1        1979             850   \n",
       "5437                       1        1979             850   \n",
       "13                         2       14732            3884   \n",
       "14                         2       14732            3884   \n",
       "7502                       1         167             350   \n",
       "5285                       1         103             350   \n",
       "6069                       3        6855            2624   \n",
       "6070                       3        6855            2624   \n",
       "9320                       4        1070             524   \n",
       "8099                       4         491             424   \n",
       "10989                      2       28172            7480   \n",
       "10990                      2       28172            7480   \n",
       "1535                       2        3664            1700   \n",
       "1534                       2        3664            1700   \n",
       "7321                       4         609             424   \n",
       "12579                      4         739             400   \n",
       "5851                       6         478             800   \n",
       "4722                       6         333            1000   \n",
       "10478                      2           0               0   \n",
       "10479                      2           0               0   \n",
       "\n",
       "      MERCHANT_REGISTERED_DT  SUB_IS_ACTIVE_FLAG            SUB_PLAN  \\\n",
       "537      2018-01-16 11:29:38                True  business_account_3   \n",
       "538      2018-01-16 11:29:38                True  business_account_3   \n",
       "5436     2018-09-13 12:23:50                True  business_account_3   \n",
       "5437     2018-09-13 12:23:50                True  business_account_3   \n",
       "13       2019-01-25 17:38:56               False  business_account_3   \n",
       "14       2019-01-25 17:38:56               False  business_account_3   \n",
       "7502     2020-02-17 23:36:26                True  business_account_3   \n",
       "5285     2020-02-17 23:36:26                True  business_account_3   \n",
       "6069     2020-07-06 19:27:58                True  business_account_3   \n",
       "6070     2020-07-06 19:27:58                True  business_account_3   \n",
       "9320     2020-09-03 16:42:53                True  business_account_3   \n",
       "8099     2020-09-03 16:42:53                True  business_account_3   \n",
       "10989    2020-09-09 21:25:29                True  business_account_3   \n",
       "10990    2020-09-09 21:25:29                True  business_account_3   \n",
       "1535     2020-09-23 23:42:43               False                 NaN   \n",
       "1534     2020-09-23 23:42:43               False                 NaN   \n",
       "7321     2020-10-01 08:44:55               False                 NaN   \n",
       "12579    2020-10-01 08:44:55               False                 NaN   \n",
       "5851     2020-10-28 09:58:01                True  business_account_3   \n",
       "4722     2020-10-28 09:58:01                True  business_account_3   \n",
       "10478    2020-11-02 15:41:56                True  business_account_3   \n",
       "10479    2020-11-02 15:41:56                True  business_account_3   \n",
       "\n",
       "           SHIPMENT_CARRIER SHIPMENT_DELIVERD_DT  \n",
       "537                    USPS  2020-11-24 17:34:42  \n",
       "538                    USPS  2020-11-28 16:51:06  \n",
       "5436                   USPS  2020-10-16 19:44:40  \n",
       "5437   UPS_MAIL_INNOVATIONS  2020-10-19 19:21:56  \n",
       "13                     USPS  2020-10-09 21:38:49  \n",
       "14                      NaN                  NaT  \n",
       "7502                   USPS  2020-11-05 20:05:27  \n",
       "5285                    NaN                  NaT  \n",
       "6069                   USPS  2020-11-09 22:02:28  \n",
       "6070                   USPS  2020-11-13 20:28:54  \n",
       "9320                   USPS  2020-11-18 21:06:22  \n",
       "8099                   USPS  2021-01-08 18:39:25  \n",
       "10989                  USPS  2021-01-11 16:36:38  \n",
       "10990                  USPS                  NaT  \n",
       "1535                   USPS  2020-10-20 08:11:09  \n",
       "1534                   USPS  2020-10-08 19:47:38  \n",
       "7321                   USPS  2020-12-08 16:33:58  \n",
       "12579                  USPS  2020-11-02 19:33:48  \n",
       "5851                unknown                  NaT  \n",
       "4722                    NaN                  NaT  \n",
       "10478                   NaN                  NaT  \n",
       "10479                   NaN                  NaT  "
      ]
     },
     "execution_count": 54,
     "metadata": {},
     "output_type": "execute_result"
    }
   ],
   "source": [
    "# First rows encounter with duplicated order_id \n",
    "duplicate_orders1 = orders[orders['ORDER_ID'].duplicated(keep='last')]\n",
    "duplicate_orders1\n",
    "\n",
    "# Second rows encounter with duplicated order_id \n",
    "duplicate_orders2 = orders[orders['ORDER_ID'].duplicated(keep='first')]\n",
    "duplicate_orders2\n",
    "\n",
    "# Combine the duplicated rows into one dataframe for closer comparison\n",
    "duplicates = pd.concat([duplicate_orders1, duplicate_orders2]).sort_values(by=['MERCHANT_ID'])\n",
    "duplicates"
   ]
  },
  {
   "cell_type": "code",
   "execution_count": 55,
   "id": "f741dcfc",
   "metadata": {},
   "outputs": [],
   "source": [
    "# Drop duplicates of merchant id and order id\n",
    "orders.drop_duplicates(subset=['MERCHANT_ID', 'ORDER_ID'], \n",
    "                               inplace=True, keep='last')"
   ]
  },
  {
   "cell_type": "code",
   "execution_count": 56,
   "id": "eb997700",
   "metadata": {},
   "outputs": [],
   "source": [
    "# Not complete in removing the errors\n",
    "orders.drop_duplicates(subset=['MERCHANT_ID', 'ORDER_ID', \n",
    "                               'SHOP_ID', 'ADDRESS_TO_COUNTRY', \n",
    "                               'ADDRESS_TO_REGION','ORDER_DT',\n",
    "                               'FULFILLED_DT','REPRINT_FLAG',\n",
    "                               'SALES_CHANNEL_TYPE_ID',\n",
    "                               'TOTAL_COST','TOTAL_SHIPPING',\n",
    "                               'MERCHANT_REGISTERED_DT',\n",
    "                               'SUB_IS_ACTIVE_FLAG','SUB_PLAN', \n",
    "                               'SHIPMENT_CARRIER'], inplace=True,\n",
    "                                  keep='last')\n",
    "orders.reset_index(drop=True, inplace=True)"
   ]
  },
  {
   "cell_type": "code",
   "execution_count": 57,
   "id": "79e9b2ae",
   "metadata": {
    "scrolled": true
   },
   "outputs": [
    {
     "data": {
      "text/html": [
       "<div>\n",
       "<style scoped>\n",
       "    .dataframe tbody tr th:only-of-type {\n",
       "        vertical-align: middle;\n",
       "    }\n",
       "\n",
       "    .dataframe tbody tr th {\n",
       "        vertical-align: top;\n",
       "    }\n",
       "\n",
       "    .dataframe thead th {\n",
       "        text-align: right;\n",
       "    }\n",
       "</style>\n",
       "<table border=\"1\" class=\"dataframe\">\n",
       "  <thead>\n",
       "    <tr style=\"text-align: right;\">\n",
       "      <th></th>\n",
       "      <th>MERCHANT_ID</th>\n",
       "      <th>ORDER_ID</th>\n",
       "      <th>SHOP_ID</th>\n",
       "      <th>ADDRESS_TO_COUNTRY</th>\n",
       "      <th>ADDRESS_TO_REGION</th>\n",
       "      <th>ORDER_DT</th>\n",
       "      <th>FULFILLED_DT</th>\n",
       "      <th>REPRINT_FLAG</th>\n",
       "      <th>SALES_CHANNEL_TYPE_ID</th>\n",
       "      <th>TOTAL_COST</th>\n",
       "      <th>TOTAL_SHIPPING</th>\n",
       "      <th>MERCHANT_REGISTERED_DT</th>\n",
       "      <th>SUB_IS_ACTIVE_FLAG</th>\n",
       "      <th>SUB_PLAN</th>\n",
       "      <th>SHIPMENT_CARRIER</th>\n",
       "      <th>SHIPMENT_DELIVERD_DT</th>\n",
       "    </tr>\n",
       "  </thead>\n",
       "  <tbody>\n",
       "    <tr>\n",
       "      <th>0</th>\n",
       "      <td>7143578</td>\n",
       "      <td>2.013244e+06</td>\n",
       "      <td>2013244</td>\n",
       "      <td>US</td>\n",
       "      <td>WA</td>\n",
       "      <td>2020-10-02 19:30:15</td>\n",
       "      <td>2020-10-20 07:53:06</td>\n",
       "      <td>NaN</td>\n",
       "      <td>9</td>\n",
       "      <td>2902</td>\n",
       "      <td>2200</td>\n",
       "      <td>2020-05-19 15:22:57</td>\n",
       "      <td>True</td>\n",
       "      <td>business_account_3</td>\n",
       "      <td>UPS</td>\n",
       "      <td>2020-10-08 21:07:29</td>\n",
       "    </tr>\n",
       "    <tr>\n",
       "      <th>1</th>\n",
       "      <td>5888534</td>\n",
       "      <td>1.358430e+06</td>\n",
       "      <td>1358429</td>\n",
       "      <td>US</td>\n",
       "      <td>MN</td>\n",
       "      <td>2020-11-21 05:19:03</td>\n",
       "      <td>2020-11-23 00:23:32</td>\n",
       "      <td>NaN</td>\n",
       "      <td>4</td>\n",
       "      <td>1149</td>\n",
       "      <td>924</td>\n",
       "      <td>2018-02-08 07:34:02</td>\n",
       "      <td>True</td>\n",
       "      <td>business_account_3</td>\n",
       "      <td>USPS</td>\n",
       "      <td>2020-11-28 21:50:56</td>\n",
       "    </tr>\n",
       "    <tr>\n",
       "      <th>2</th>\n",
       "      <td>6484224</td>\n",
       "      <td>9.393902e+05</td>\n",
       "      <td>939390</td>\n",
       "      <td>US</td>\n",
       "      <td>AK</td>\n",
       "      <td>2020-10-25 01:39:08</td>\n",
       "      <td>2020-10-26 20:30:53</td>\n",
       "      <td>NaN</td>\n",
       "      <td>1</td>\n",
       "      <td>977</td>\n",
       "      <td>400</td>\n",
       "      <td>2019-04-09 20:02:46</td>\n",
       "      <td>True</td>\n",
       "      <td>business_account_3</td>\n",
       "      <td>USPS</td>\n",
       "      <td>2020-11-02 23:37:54</td>\n",
       "    </tr>\n",
       "    <tr>\n",
       "      <th>3</th>\n",
       "      <td>7251033</td>\n",
       "      <td>1.856107e+06</td>\n",
       "      <td>1856107</td>\n",
       "      <td>US</td>\n",
       "      <td>PA</td>\n",
       "      <td>2020-10-08 16:35:21</td>\n",
       "      <td>2020-10-10 15:02:47</td>\n",
       "      <td>NaN</td>\n",
       "      <td>1</td>\n",
       "      <td>661</td>\n",
       "      <td>800</td>\n",
       "      <td>2020-07-20 17:04:41</td>\n",
       "      <td>True</td>\n",
       "      <td>business_account_3</td>\n",
       "      <td>UPS</td>\n",
       "      <td>2020-10-15 18:08:37</td>\n",
       "    </tr>\n",
       "    <tr>\n",
       "      <th>4</th>\n",
       "      <td>7241488</td>\n",
       "      <td>1.843904e+06</td>\n",
       "      <td>1843904</td>\n",
       "      <td>US</td>\n",
       "      <td>CO</td>\n",
       "      <td>2020-11-17 19:30:10</td>\n",
       "      <td>2020-11-18 03:45:25</td>\n",
       "      <td>NaN</td>\n",
       "      <td>2</td>\n",
       "      <td>719</td>\n",
       "      <td>424</td>\n",
       "      <td>2020-07-15 18:47:51</td>\n",
       "      <td>True</td>\n",
       "      <td>business_account_3</td>\n",
       "      <td>USPS</td>\n",
       "      <td>2020-11-24 00:44:56</td>\n",
       "    </tr>\n",
       "    <tr>\n",
       "      <th>...</th>\n",
       "      <td>...</td>\n",
       "      <td>...</td>\n",
       "      <td>...</td>\n",
       "      <td>...</td>\n",
       "      <td>...</td>\n",
       "      <td>...</td>\n",
       "      <td>...</td>\n",
       "      <td>...</td>\n",
       "      <td>...</td>\n",
       "      <td>...</td>\n",
       "      <td>...</td>\n",
       "      <td>...</td>\n",
       "      <td>...</td>\n",
       "      <td>...</td>\n",
       "      <td>...</td>\n",
       "      <td>...</td>\n",
       "    </tr>\n",
       "    <tr>\n",
       "      <th>13490</th>\n",
       "      <td>7562898</td>\n",
       "      <td>2.225081e+06</td>\n",
       "      <td>2225081</td>\n",
       "      <td>CA</td>\n",
       "      <td>ON</td>\n",
       "      <td>2020-11-05 21:12:29</td>\n",
       "      <td>NaT</td>\n",
       "      <td>NaN</td>\n",
       "      <td>1</td>\n",
       "      <td>0</td>\n",
       "      <td>0</td>\n",
       "      <td>2020-10-29 16:51:47</td>\n",
       "      <td>False</td>\n",
       "      <td>NaN</td>\n",
       "      <td>NaN</td>\n",
       "      <td>NaT</td>\n",
       "    </tr>\n",
       "    <tr>\n",
       "      <th>13491</th>\n",
       "      <td>7475289</td>\n",
       "      <td>2.153683e+06</td>\n",
       "      <td>2153683</td>\n",
       "      <td>US</td>\n",
       "      <td>CO</td>\n",
       "      <td>2020-11-16 04:11:43</td>\n",
       "      <td>NaT</td>\n",
       "      <td>NaN</td>\n",
       "      <td>1</td>\n",
       "      <td>1447</td>\n",
       "      <td>474</td>\n",
       "      <td>2020-09-30 23:11:41</td>\n",
       "      <td>True</td>\n",
       "      <td>business_account_3</td>\n",
       "      <td>NaN</td>\n",
       "      <td>NaT</td>\n",
       "    </tr>\n",
       "    <tr>\n",
       "      <th>13492</th>\n",
       "      <td>7144356</td>\n",
       "      <td>1.717608e+06</td>\n",
       "      <td>1717607</td>\n",
       "      <td>US</td>\n",
       "      <td>CT</td>\n",
       "      <td>2020-12-25 00:08:07</td>\n",
       "      <td>NaT</td>\n",
       "      <td>NaN</td>\n",
       "      <td>1</td>\n",
       "      <td>2187</td>\n",
       "      <td>824</td>\n",
       "      <td>2020-05-20 01:38:41</td>\n",
       "      <td>False</td>\n",
       "      <td>NaN</td>\n",
       "      <td>NaN</td>\n",
       "      <td>NaT</td>\n",
       "    </tr>\n",
       "    <tr>\n",
       "      <th>13493</th>\n",
       "      <td>7581194</td>\n",
       "      <td>2.243421e+06</td>\n",
       "      <td>2243420</td>\n",
       "      <td>US</td>\n",
       "      <td>IN</td>\n",
       "      <td>2020-11-19 16:43:04</td>\n",
       "      <td>NaT</td>\n",
       "      <td>NaN</td>\n",
       "      <td>4</td>\n",
       "      <td>2187</td>\n",
       "      <td>824</td>\n",
       "      <td>2020-11-05 20:02:09</td>\n",
       "      <td>False</td>\n",
       "      <td>NaN</td>\n",
       "      <td>NaN</td>\n",
       "      <td>NaT</td>\n",
       "    </tr>\n",
       "    <tr>\n",
       "      <th>13494</th>\n",
       "      <td>7559085</td>\n",
       "      <td>2.216957e+06</td>\n",
       "      <td>2216957</td>\n",
       "      <td>CA</td>\n",
       "      <td>QC</td>\n",
       "      <td>2020-11-26 00:33:02</td>\n",
       "      <td>NaT</td>\n",
       "      <td>NaN</td>\n",
       "      <td>4</td>\n",
       "      <td>0</td>\n",
       "      <td>0</td>\n",
       "      <td>2020-10-28 11:10:04</td>\n",
       "      <td>False</td>\n",
       "      <td>NaN</td>\n",
       "      <td>NaN</td>\n",
       "      <td>NaT</td>\n",
       "    </tr>\n",
       "  </tbody>\n",
       "</table>\n",
       "<p>13495 rows × 16 columns</p>\n",
       "</div>"
      ],
      "text/plain": [
       "       MERCHANT_ID      ORDER_ID  SHOP_ID ADDRESS_TO_COUNTRY  \\\n",
       "0          7143578  2.013244e+06  2013244                 US   \n",
       "1          5888534  1.358430e+06  1358429                 US   \n",
       "2          6484224  9.393902e+05   939390                 US   \n",
       "3          7251033  1.856107e+06  1856107                 US   \n",
       "4          7241488  1.843904e+06  1843904                 US   \n",
       "...            ...           ...      ...                ...   \n",
       "13490      7562898  2.225081e+06  2225081                 CA   \n",
       "13491      7475289  2.153683e+06  2153683                 US   \n",
       "13492      7144356  1.717608e+06  1717607                 US   \n",
       "13493      7581194  2.243421e+06  2243420                 US   \n",
       "13494      7559085  2.216957e+06  2216957                 CA   \n",
       "\n",
       "      ADDRESS_TO_REGION            ORDER_DT        FULFILLED_DT  REPRINT_FLAG  \\\n",
       "0                    WA 2020-10-02 19:30:15 2020-10-20 07:53:06           NaN   \n",
       "1                    MN 2020-11-21 05:19:03 2020-11-23 00:23:32           NaN   \n",
       "2                    AK 2020-10-25 01:39:08 2020-10-26 20:30:53           NaN   \n",
       "3                    PA 2020-10-08 16:35:21 2020-10-10 15:02:47           NaN   \n",
       "4                    CO 2020-11-17 19:30:10 2020-11-18 03:45:25           NaN   \n",
       "...                 ...                 ...                 ...           ...   \n",
       "13490                ON 2020-11-05 21:12:29                 NaT           NaN   \n",
       "13491                CO 2020-11-16 04:11:43                 NaT           NaN   \n",
       "13492                CT 2020-12-25 00:08:07                 NaT           NaN   \n",
       "13493                IN 2020-11-19 16:43:04                 NaT           NaN   \n",
       "13494                QC 2020-11-26 00:33:02                 NaT           NaN   \n",
       "\n",
       "       SALES_CHANNEL_TYPE_ID  TOTAL_COST  TOTAL_SHIPPING  \\\n",
       "0                          9        2902            2200   \n",
       "1                          4        1149             924   \n",
       "2                          1         977             400   \n",
       "3                          1         661             800   \n",
       "4                          2         719             424   \n",
       "...                      ...         ...             ...   \n",
       "13490                      1           0               0   \n",
       "13491                      1        1447             474   \n",
       "13492                      1        2187             824   \n",
       "13493                      4        2187             824   \n",
       "13494                      4           0               0   \n",
       "\n",
       "      MERCHANT_REGISTERED_DT  SUB_IS_ACTIVE_FLAG            SUB_PLAN  \\\n",
       "0        2020-05-19 15:22:57                True  business_account_3   \n",
       "1        2018-02-08 07:34:02                True  business_account_3   \n",
       "2        2019-04-09 20:02:46                True  business_account_3   \n",
       "3        2020-07-20 17:04:41                True  business_account_3   \n",
       "4        2020-07-15 18:47:51                True  business_account_3   \n",
       "...                      ...                 ...                 ...   \n",
       "13490    2020-10-29 16:51:47               False                 NaN   \n",
       "13491    2020-09-30 23:11:41                True  business_account_3   \n",
       "13492    2020-05-20 01:38:41               False                 NaN   \n",
       "13493    2020-11-05 20:02:09               False                 NaN   \n",
       "13494    2020-10-28 11:10:04               False                 NaN   \n",
       "\n",
       "      SHIPMENT_CARRIER SHIPMENT_DELIVERD_DT  \n",
       "0                  UPS  2020-10-08 21:07:29  \n",
       "1                 USPS  2020-11-28 21:50:56  \n",
       "2                 USPS  2020-11-02 23:37:54  \n",
       "3                  UPS  2020-10-15 18:08:37  \n",
       "4                 USPS  2020-11-24 00:44:56  \n",
       "...                ...                  ...  \n",
       "13490              NaN                  NaT  \n",
       "13491              NaN                  NaT  \n",
       "13492              NaN                  NaT  \n",
       "13493              NaN                  NaT  \n",
       "13494              NaN                  NaT  \n",
       "\n",
       "[13495 rows x 16 columns]"
      ]
     },
     "execution_count": 57,
     "metadata": {},
     "output_type": "execute_result"
    }
   ],
   "source": [
    "orders"
   ]
  },
  {
   "cell_type": "markdown",
   "id": "d56e9432",
   "metadata": {},
   "source": [
    "## Prepare for Joining"
   ]
  },
  {
   "cell_type": "code",
   "execution_count": 58,
   "id": "b5f85c08",
   "metadata": {
    "scrolled": true
   },
   "outputs": [
    {
     "data": {
      "text/html": [
       "<div>\n",
       "<style scoped>\n",
       "    .dataframe tbody tr th:only-of-type {\n",
       "        vertical-align: middle;\n",
       "    }\n",
       "\n",
       "    .dataframe tbody tr th {\n",
       "        vertical-align: top;\n",
       "    }\n",
       "\n",
       "    .dataframe thead th {\n",
       "        text-align: right;\n",
       "    }\n",
       "</style>\n",
       "<table border=\"1\" class=\"dataframe\">\n",
       "  <thead>\n",
       "    <tr style=\"text-align: right;\">\n",
       "      <th></th>\n",
       "      <th>MERCHANT_ID</th>\n",
       "      <th>ORDER_ID</th>\n",
       "      <th>SHOP_ID</th>\n",
       "      <th>ADDRESS_TO_COUNTRY</th>\n",
       "      <th>ADDRESS_TO_REGION</th>\n",
       "      <th>ORDER_DT</th>\n",
       "      <th>FULFILLED_DT</th>\n",
       "      <th>REPRINT_FLAG</th>\n",
       "      <th>SALES_CHANNEL_TYPE_ID</th>\n",
       "      <th>TOTAL_COST</th>\n",
       "      <th>TOTAL_SHIPPING</th>\n",
       "      <th>MERCHANT_REGISTERED_DT</th>\n",
       "      <th>SUB_IS_ACTIVE_FLAG</th>\n",
       "      <th>SUB_PLAN</th>\n",
       "      <th>SHIPMENT_CARRIER</th>\n",
       "      <th>SHIPMENT_DELIVERD_DT</th>\n",
       "    </tr>\n",
       "  </thead>\n",
       "  <tbody>\n",
       "    <tr>\n",
       "      <th>0</th>\n",
       "      <td>7143578</td>\n",
       "      <td>178.0</td>\n",
       "      <td>2013244</td>\n",
       "      <td>US</td>\n",
       "      <td>WA</td>\n",
       "      <td>2020-10-02 19:30:15</td>\n",
       "      <td>2020-10-20 07:53:06</td>\n",
       "      <td>NaN</td>\n",
       "      <td>9</td>\n",
       "      <td>2902</td>\n",
       "      <td>2200</td>\n",
       "      <td>2020-05-19 15:22:57</td>\n",
       "      <td>True</td>\n",
       "      <td>business_account_3</td>\n",
       "      <td>UPS</td>\n",
       "      <td>2020-10-08 21:07:29</td>\n",
       "    </tr>\n",
       "    <tr>\n",
       "      <th>1</th>\n",
       "      <td>5888534</td>\n",
       "      <td>695.0</td>\n",
       "      <td>1358429</td>\n",
       "      <td>US</td>\n",
       "      <td>MN</td>\n",
       "      <td>2020-11-21 05:19:03</td>\n",
       "      <td>2020-11-23 00:23:32</td>\n",
       "      <td>NaN</td>\n",
       "      <td>4</td>\n",
       "      <td>1149</td>\n",
       "      <td>924</td>\n",
       "      <td>2018-02-08 07:34:02</td>\n",
       "      <td>True</td>\n",
       "      <td>business_account_3</td>\n",
       "      <td>USPS</td>\n",
       "      <td>2020-11-28 21:50:56</td>\n",
       "    </tr>\n",
       "    <tr>\n",
       "      <th>2</th>\n",
       "      <td>6484224</td>\n",
       "      <td>193.0</td>\n",
       "      <td>939390</td>\n",
       "      <td>US</td>\n",
       "      <td>AK</td>\n",
       "      <td>2020-10-25 01:39:08</td>\n",
       "      <td>2020-10-26 20:30:53</td>\n",
       "      <td>NaN</td>\n",
       "      <td>1</td>\n",
       "      <td>977</td>\n",
       "      <td>400</td>\n",
       "      <td>2019-04-09 20:02:46</td>\n",
       "      <td>True</td>\n",
       "      <td>business_account_3</td>\n",
       "      <td>USPS</td>\n",
       "      <td>2020-11-02 23:37:54</td>\n",
       "    </tr>\n",
       "    <tr>\n",
       "      <th>3</th>\n",
       "      <td>7251033</td>\n",
       "      <td>4.0</td>\n",
       "      <td>1856107</td>\n",
       "      <td>US</td>\n",
       "      <td>PA</td>\n",
       "      <td>2020-10-08 16:35:21</td>\n",
       "      <td>2020-10-10 15:02:47</td>\n",
       "      <td>NaN</td>\n",
       "      <td>1</td>\n",
       "      <td>661</td>\n",
       "      <td>800</td>\n",
       "      <td>2020-07-20 17:04:41</td>\n",
       "      <td>True</td>\n",
       "      <td>business_account_3</td>\n",
       "      <td>UPS</td>\n",
       "      <td>2020-10-15 18:08:37</td>\n",
       "    </tr>\n",
       "    <tr>\n",
       "      <th>4</th>\n",
       "      <td>7241488</td>\n",
       "      <td>4.0</td>\n",
       "      <td>1843904</td>\n",
       "      <td>US</td>\n",
       "      <td>CO</td>\n",
       "      <td>2020-11-17 19:30:10</td>\n",
       "      <td>2020-11-18 03:45:25</td>\n",
       "      <td>NaN</td>\n",
       "      <td>2</td>\n",
       "      <td>719</td>\n",
       "      <td>424</td>\n",
       "      <td>2020-07-15 18:47:51</td>\n",
       "      <td>True</td>\n",
       "      <td>business_account_3</td>\n",
       "      <td>USPS</td>\n",
       "      <td>2020-11-24 00:44:56</td>\n",
       "    </tr>\n",
       "    <tr>\n",
       "      <th>...</th>\n",
       "      <td>...</td>\n",
       "      <td>...</td>\n",
       "      <td>...</td>\n",
       "      <td>...</td>\n",
       "      <td>...</td>\n",
       "      <td>...</td>\n",
       "      <td>...</td>\n",
       "      <td>...</td>\n",
       "      <td>...</td>\n",
       "      <td>...</td>\n",
       "      <td>...</td>\n",
       "      <td>...</td>\n",
       "      <td>...</td>\n",
       "      <td>...</td>\n",
       "      <td>...</td>\n",
       "      <td>...</td>\n",
       "    </tr>\n",
       "    <tr>\n",
       "      <th>13490</th>\n",
       "      <td>7562898</td>\n",
       "      <td>12.0</td>\n",
       "      <td>2225081</td>\n",
       "      <td>CA</td>\n",
       "      <td>ON</td>\n",
       "      <td>2020-11-05 21:12:29</td>\n",
       "      <td>NaT</td>\n",
       "      <td>NaN</td>\n",
       "      <td>1</td>\n",
       "      <td>0</td>\n",
       "      <td>0</td>\n",
       "      <td>2020-10-29 16:51:47</td>\n",
       "      <td>False</td>\n",
       "      <td>NaN</td>\n",
       "      <td>NaN</td>\n",
       "      <td>NaT</td>\n",
       "    </tr>\n",
       "    <tr>\n",
       "      <th>13491</th>\n",
       "      <td>7475289</td>\n",
       "      <td>2224.0</td>\n",
       "      <td>2153683</td>\n",
       "      <td>US</td>\n",
       "      <td>CO</td>\n",
       "      <td>2020-11-16 04:11:43</td>\n",
       "      <td>NaT</td>\n",
       "      <td>NaN</td>\n",
       "      <td>1</td>\n",
       "      <td>1447</td>\n",
       "      <td>474</td>\n",
       "      <td>2020-09-30 23:11:41</td>\n",
       "      <td>True</td>\n",
       "      <td>business_account_3</td>\n",
       "      <td>NaN</td>\n",
       "      <td>NaT</td>\n",
       "    </tr>\n",
       "    <tr>\n",
       "      <th>13492</th>\n",
       "      <td>7144356</td>\n",
       "      <td>5.0</td>\n",
       "      <td>1717607</td>\n",
       "      <td>US</td>\n",
       "      <td>CT</td>\n",
       "      <td>2020-12-25 00:08:07</td>\n",
       "      <td>NaT</td>\n",
       "      <td>NaN</td>\n",
       "      <td>1</td>\n",
       "      <td>2187</td>\n",
       "      <td>824</td>\n",
       "      <td>2020-05-20 01:38:41</td>\n",
       "      <td>False</td>\n",
       "      <td>NaN</td>\n",
       "      <td>NaN</td>\n",
       "      <td>NaT</td>\n",
       "    </tr>\n",
       "    <tr>\n",
       "      <th>13493</th>\n",
       "      <td>7581194</td>\n",
       "      <td>66.0</td>\n",
       "      <td>2243420</td>\n",
       "      <td>US</td>\n",
       "      <td>IN</td>\n",
       "      <td>2020-11-19 16:43:04</td>\n",
       "      <td>NaT</td>\n",
       "      <td>NaN</td>\n",
       "      <td>4</td>\n",
       "      <td>2187</td>\n",
       "      <td>824</td>\n",
       "      <td>2020-11-05 20:02:09</td>\n",
       "      <td>False</td>\n",
       "      <td>NaN</td>\n",
       "      <td>NaN</td>\n",
       "      <td>NaT</td>\n",
       "    </tr>\n",
       "    <tr>\n",
       "      <th>13494</th>\n",
       "      <td>7559085</td>\n",
       "      <td>28.0</td>\n",
       "      <td>2216957</td>\n",
       "      <td>CA</td>\n",
       "      <td>QC</td>\n",
       "      <td>2020-11-26 00:33:02</td>\n",
       "      <td>NaT</td>\n",
       "      <td>NaN</td>\n",
       "      <td>4</td>\n",
       "      <td>0</td>\n",
       "      <td>0</td>\n",
       "      <td>2020-10-28 11:10:04</td>\n",
       "      <td>False</td>\n",
       "      <td>NaN</td>\n",
       "      <td>NaN</td>\n",
       "      <td>NaT</td>\n",
       "    </tr>\n",
       "  </tbody>\n",
       "</table>\n",
       "<p>13495 rows × 16 columns</p>\n",
       "</div>"
      ],
      "text/plain": [
       "       MERCHANT_ID  ORDER_ID  SHOP_ID ADDRESS_TO_COUNTRY ADDRESS_TO_REGION  \\\n",
       "0          7143578     178.0  2013244                 US                WA   \n",
       "1          5888534     695.0  1358429                 US                MN   \n",
       "2          6484224     193.0   939390                 US                AK   \n",
       "3          7251033       4.0  1856107                 US                PA   \n",
       "4          7241488       4.0  1843904                 US                CO   \n",
       "...            ...       ...      ...                ...               ...   \n",
       "13490      7562898      12.0  2225081                 CA                ON   \n",
       "13491      7475289    2224.0  2153683                 US                CO   \n",
       "13492      7144356       5.0  1717607                 US                CT   \n",
       "13493      7581194      66.0  2243420                 US                IN   \n",
       "13494      7559085      28.0  2216957                 CA                QC   \n",
       "\n",
       "                 ORDER_DT        FULFILLED_DT  REPRINT_FLAG  \\\n",
       "0     2020-10-02 19:30:15 2020-10-20 07:53:06           NaN   \n",
       "1     2020-11-21 05:19:03 2020-11-23 00:23:32           NaN   \n",
       "2     2020-10-25 01:39:08 2020-10-26 20:30:53           NaN   \n",
       "3     2020-10-08 16:35:21 2020-10-10 15:02:47           NaN   \n",
       "4     2020-11-17 19:30:10 2020-11-18 03:45:25           NaN   \n",
       "...                   ...                 ...           ...   \n",
       "13490 2020-11-05 21:12:29                 NaT           NaN   \n",
       "13491 2020-11-16 04:11:43                 NaT           NaN   \n",
       "13492 2020-12-25 00:08:07                 NaT           NaN   \n",
       "13493 2020-11-19 16:43:04                 NaT           NaN   \n",
       "13494 2020-11-26 00:33:02                 NaT           NaN   \n",
       "\n",
       "       SALES_CHANNEL_TYPE_ID  TOTAL_COST  TOTAL_SHIPPING  \\\n",
       "0                          9        2902            2200   \n",
       "1                          4        1149             924   \n",
       "2                          1         977             400   \n",
       "3                          1         661             800   \n",
       "4                          2         719             424   \n",
       "...                      ...         ...             ...   \n",
       "13490                      1           0               0   \n",
       "13491                      1        1447             474   \n",
       "13492                      1        2187             824   \n",
       "13493                      4        2187             824   \n",
       "13494                      4           0               0   \n",
       "\n",
       "      MERCHANT_REGISTERED_DT  SUB_IS_ACTIVE_FLAG            SUB_PLAN  \\\n",
       "0        2020-05-19 15:22:57                True  business_account_3   \n",
       "1        2018-02-08 07:34:02                True  business_account_3   \n",
       "2        2019-04-09 20:02:46                True  business_account_3   \n",
       "3        2020-07-20 17:04:41                True  business_account_3   \n",
       "4        2020-07-15 18:47:51                True  business_account_3   \n",
       "...                      ...                 ...                 ...   \n",
       "13490    2020-10-29 16:51:47               False                 NaN   \n",
       "13491    2020-09-30 23:11:41                True  business_account_3   \n",
       "13492    2020-05-20 01:38:41               False                 NaN   \n",
       "13493    2020-11-05 20:02:09               False                 NaN   \n",
       "13494    2020-10-28 11:10:04               False                 NaN   \n",
       "\n",
       "      SHIPMENT_CARRIER SHIPMENT_DELIVERD_DT  \n",
       "0                  UPS  2020-10-08 21:07:29  \n",
       "1                 USPS  2020-11-28 21:50:56  \n",
       "2                 USPS  2020-11-02 23:37:54  \n",
       "3                  UPS  2020-10-15 18:08:37  \n",
       "4                 USPS  2020-11-24 00:44:56  \n",
       "...                ...                  ...  \n",
       "13490              NaN                  NaT  \n",
       "13491              NaN                  NaT  \n",
       "13492              NaN                  NaT  \n",
       "13493              NaN                  NaT  \n",
       "13494              NaN                  NaT  \n",
       "\n",
       "[13495 rows x 16 columns]"
      ]
     },
     "execution_count": 58,
     "metadata": {},
     "output_type": "execute_result"
    }
   ],
   "source": [
    "# Iteratively, mutate the order id to remove the shop id in the number\n",
    "# The order id was concatenated with shop id using a dot making seem like\n",
    "# a floating data type\n",
    "for i in range(len(orders['ORDER_ID'])):\n",
    "    \n",
    "    # We convert the order id to string, split into 2 from where the dot is\n",
    "    # The right from the dot section is shop id and left is order id\n",
    "    order = str(orders.loc[i]['ORDER_ID']).split(\".\")\n",
    "    \n",
    "    # At same location, put the order id only, we already have the shop id on the dataset\n",
    "    orders.at[i, 'ORDER_ID'] = int(order[-1])\n",
    "orders"
   ]
  },
  {
   "cell_type": "code",
   "execution_count": 59,
   "id": "57c4c018",
   "metadata": {
    "scrolled": true
   },
   "outputs": [
    {
     "data": {
      "text/html": [
       "<div>\n",
       "<style scoped>\n",
       "    .dataframe tbody tr th:only-of-type {\n",
       "        vertical-align: middle;\n",
       "    }\n",
       "\n",
       "    .dataframe tbody tr th {\n",
       "        vertical-align: top;\n",
       "    }\n",
       "\n",
       "    .dataframe thead th {\n",
       "        text-align: right;\n",
       "    }\n",
       "</style>\n",
       "<table border=\"1\" class=\"dataframe\">\n",
       "  <thead>\n",
       "    <tr style=\"text-align: right;\">\n",
       "      <th></th>\n",
       "      <th>ORDER_ID</th>\n",
       "      <th>PRINT_PROVIDER_ID</th>\n",
       "      <th>PRODUCT_BRAND</th>\n",
       "      <th>PRODUCT_TYPE</th>\n",
       "      <th>ITEM_STATUS</th>\n",
       "      <th>QUANTITY</th>\n",
       "      <th>SHOP_ID</th>\n",
       "    </tr>\n",
       "  </thead>\n",
       "  <tbody>\n",
       "    <tr>\n",
       "      <th>0</th>\n",
       "      <td>15208.0</td>\n",
       "      <td>30</td>\n",
       "      <td>Generic brand</td>\n",
       "      <td>Mug</td>\n",
       "      <td>on-hold</td>\n",
       "      <td>3</td>\n",
       "      <td>1750015.0</td>\n",
       "    </tr>\n",
       "    <tr>\n",
       "      <th>1</th>\n",
       "      <td>12357.0</td>\n",
       "      <td>30</td>\n",
       "      <td>Generic brand</td>\n",
       "      <td>Mug</td>\n",
       "      <td>on-hold</td>\n",
       "      <td>2</td>\n",
       "      <td>1750015.0</td>\n",
       "    </tr>\n",
       "    <tr>\n",
       "      <th>2</th>\n",
       "      <td>10081.0</td>\n",
       "      <td>16</td>\n",
       "      <td>Gildan</td>\n",
       "      <td>Kids clothes</td>\n",
       "      <td>shipment_delivered</td>\n",
       "      <td>1</td>\n",
       "      <td>1225155.0</td>\n",
       "    </tr>\n",
       "    <tr>\n",
       "      <th>3</th>\n",
       "      <td>707.0</td>\n",
       "      <td>39</td>\n",
       "      <td>Bella+Canvas</td>\n",
       "      <td>T-Shirt</td>\n",
       "      <td>shipment_delivered</td>\n",
       "      <td>1</td>\n",
       "      <td>1828890.0</td>\n",
       "    </tr>\n",
       "    <tr>\n",
       "      <th>4</th>\n",
       "      <td>55.0</td>\n",
       "      <td>10</td>\n",
       "      <td>Generic brand</td>\n",
       "      <td>Accessories</td>\n",
       "      <td>shipment_delivered</td>\n",
       "      <td>1</td>\n",
       "      <td>1847847.0</td>\n",
       "    </tr>\n",
       "    <tr>\n",
       "      <th>...</th>\n",
       "      <td>...</td>\n",
       "      <td>...</td>\n",
       "      <td>...</td>\n",
       "      <td>...</td>\n",
       "      <td>...</td>\n",
       "      <td>...</td>\n",
       "      <td>...</td>\n",
       "    </tr>\n",
       "    <tr>\n",
       "      <th>15616</th>\n",
       "      <td>1367.0</td>\n",
       "      <td>2</td>\n",
       "      <td>Generic brand</td>\n",
       "      <td>Canvas</td>\n",
       "      <td>shipment_delivered</td>\n",
       "      <td>1</td>\n",
       "      <td>1735807.0</td>\n",
       "    </tr>\n",
       "    <tr>\n",
       "      <th>15617</th>\n",
       "      <td>7852.0</td>\n",
       "      <td>26</td>\n",
       "      <td>Gildan</td>\n",
       "      <td>T-Shirt</td>\n",
       "      <td>fulfilled</td>\n",
       "      <td>1</td>\n",
       "      <td>1732948.0</td>\n",
       "    </tr>\n",
       "    <tr>\n",
       "      <th>15618</th>\n",
       "      <td>11854.0</td>\n",
       "      <td>29</td>\n",
       "      <td>Gildan</td>\n",
       "      <td>Sweatshirt</td>\n",
       "      <td>shipment_out_for_delivery</td>\n",
       "      <td>1</td>\n",
       "      <td>1449381.0</td>\n",
       "    </tr>\n",
       "    <tr>\n",
       "      <th>15619</th>\n",
       "      <td>2759.0</td>\n",
       "      <td>48</td>\n",
       "      <td>Generic brand</td>\n",
       "      <td>Mug</td>\n",
       "      <td>shipment_delivered</td>\n",
       "      <td>1</td>\n",
       "      <td>1735807.0</td>\n",
       "    </tr>\n",
       "    <tr>\n",
       "      <th>15620</th>\n",
       "      <td>2759.0</td>\n",
       "      <td>2</td>\n",
       "      <td>Generic brand</td>\n",
       "      <td>Canvas</td>\n",
       "      <td>shipment_delivered</td>\n",
       "      <td>1</td>\n",
       "      <td>1735807.0</td>\n",
       "    </tr>\n",
       "  </tbody>\n",
       "</table>\n",
       "<p>15621 rows × 7 columns</p>\n",
       "</div>"
      ],
      "text/plain": [
       "       ORDER_ID  PRINT_PROVIDER_ID  PRODUCT_BRAND  PRODUCT_TYPE  \\\n",
       "0       15208.0                 30  Generic brand           Mug   \n",
       "1       12357.0                 30  Generic brand           Mug   \n",
       "2       10081.0                 16         Gildan  Kids clothes   \n",
       "3         707.0                 39   Bella+Canvas       T-Shirt   \n",
       "4          55.0                 10  Generic brand   Accessories   \n",
       "...         ...                ...            ...           ...   \n",
       "15616    1367.0                  2  Generic brand        Canvas   \n",
       "15617    7852.0                 26         Gildan       T-Shirt   \n",
       "15618   11854.0                 29         Gildan    Sweatshirt   \n",
       "15619    2759.0                 48  Generic brand           Mug   \n",
       "15620    2759.0                  2  Generic brand        Canvas   \n",
       "\n",
       "                     ITEM_STATUS  QUANTITY    SHOP_ID  \n",
       "0                        on-hold         3  1750015.0  \n",
       "1                        on-hold         2  1750015.0  \n",
       "2             shipment_delivered         1  1225155.0  \n",
       "3             shipment_delivered         1  1828890.0  \n",
       "4             shipment_delivered         1  1847847.0  \n",
       "...                          ...       ...        ...  \n",
       "15616         shipment_delivered         1  1735807.0  \n",
       "15617                  fulfilled         1  1732948.0  \n",
       "15618  shipment_out_for_delivery         1  1449381.0  \n",
       "15619         shipment_delivered         1  1735807.0  \n",
       "15620         shipment_delivered         1  1735807.0  \n",
       "\n",
       "[15621 rows x 7 columns]"
      ]
     },
     "execution_count": 59,
     "metadata": {},
     "output_type": "execute_result"
    }
   ],
   "source": [
    "pd.options.mode.chained_assignment = None  # default='warn'\n",
    "for i in range(len(line_items['ORDER_ID'])):\n",
    "    \n",
    "    # Split at the dot and get shop id (right) and order id (left)\n",
    "    order = str(line_items.loc[i]['ORDER_ID']).split(\".\")\n",
    "    \n",
    "    # At same location insert the order id\n",
    "    line_items.at[i, 'ORDER_ID'] = int(order[-1])\n",
    "    \n",
    "    # Add another column called shop id and add the right part\n",
    "    # using this (shop_id) is the only way to join the data right\n",
    "    line_items.at[i,'SHOP_ID'] = int(order[0])\n",
    "line_items"
   ]
  },
  {
   "cell_type": "markdown",
   "id": "9bdd6a05",
   "metadata": {},
   "source": [
    "# Join the Data"
   ]
  },
  {
   "cell_type": "code",
   "execution_count": 60,
   "id": "d16c2a84",
   "metadata": {},
   "outputs": [],
   "source": [
    "# Join the two dataframes to form one where each merchant is \n",
    "# Matched with all their orders and shops\n",
    "printify_df = pd.merge(orders, line_items, how=\"inner\", on=['ORDER_ID','SHOP_ID'])"
   ]
  },
  {
   "cell_type": "code",
   "execution_count": 61,
   "id": "87b8c4e7",
   "metadata": {
    "scrolled": true
   },
   "outputs": [
    {
     "data": {
      "text/html": [
       "<div>\n",
       "<style scoped>\n",
       "    .dataframe tbody tr th:only-of-type {\n",
       "        vertical-align: middle;\n",
       "    }\n",
       "\n",
       "    .dataframe tbody tr th {\n",
       "        vertical-align: top;\n",
       "    }\n",
       "\n",
       "    .dataframe thead th {\n",
       "        text-align: right;\n",
       "    }\n",
       "</style>\n",
       "<table border=\"1\" class=\"dataframe\">\n",
       "  <thead>\n",
       "    <tr style=\"text-align: right;\">\n",
       "      <th></th>\n",
       "      <th>MERCHANT_ID</th>\n",
       "      <th>ORDER_ID</th>\n",
       "      <th>SHOP_ID</th>\n",
       "      <th>ADDRESS_TO_COUNTRY</th>\n",
       "      <th>ADDRESS_TO_REGION</th>\n",
       "      <th>ORDER_DT</th>\n",
       "      <th>FULFILLED_DT</th>\n",
       "      <th>REPRINT_FLAG</th>\n",
       "      <th>SALES_CHANNEL_TYPE_ID</th>\n",
       "      <th>TOTAL_COST</th>\n",
       "      <th>...</th>\n",
       "      <th>MERCHANT_REGISTERED_DT</th>\n",
       "      <th>SUB_IS_ACTIVE_FLAG</th>\n",
       "      <th>SUB_PLAN</th>\n",
       "      <th>SHIPMENT_CARRIER</th>\n",
       "      <th>SHIPMENT_DELIVERD_DT</th>\n",
       "      <th>PRINT_PROVIDER_ID</th>\n",
       "      <th>PRODUCT_BRAND</th>\n",
       "      <th>PRODUCT_TYPE</th>\n",
       "      <th>ITEM_STATUS</th>\n",
       "      <th>QUANTITY</th>\n",
       "    </tr>\n",
       "  </thead>\n",
       "  <tbody>\n",
       "    <tr>\n",
       "      <th>0</th>\n",
       "      <td>7143578</td>\n",
       "      <td>178.0</td>\n",
       "      <td>2013244</td>\n",
       "      <td>US</td>\n",
       "      <td>WA</td>\n",
       "      <td>2020-10-02 19:30:15</td>\n",
       "      <td>2020-10-20 07:53:06</td>\n",
       "      <td>NaN</td>\n",
       "      <td>9</td>\n",
       "      <td>2902</td>\n",
       "      <td>...</td>\n",
       "      <td>2020-05-19 15:22:57</td>\n",
       "      <td>True</td>\n",
       "      <td>business_account_3</td>\n",
       "      <td>UPS</td>\n",
       "      <td>2020-10-08 21:07:29</td>\n",
       "      <td>1</td>\n",
       "      <td>Generic brand</td>\n",
       "      <td>Mug</td>\n",
       "      <td>shipment_delivered</td>\n",
       "      <td>1</td>\n",
       "    </tr>\n",
       "    <tr>\n",
       "      <th>1</th>\n",
       "      <td>7143578</td>\n",
       "      <td>178.0</td>\n",
       "      <td>2013244</td>\n",
       "      <td>US</td>\n",
       "      <td>WA</td>\n",
       "      <td>2020-10-02 19:30:15</td>\n",
       "      <td>2020-10-20 07:53:06</td>\n",
       "      <td>NaN</td>\n",
       "      <td>9</td>\n",
       "      <td>2902</td>\n",
       "      <td>...</td>\n",
       "      <td>2020-05-19 15:22:57</td>\n",
       "      <td>True</td>\n",
       "      <td>business_account_3</td>\n",
       "      <td>UPS</td>\n",
       "      <td>2020-10-08 21:07:29</td>\n",
       "      <td>16</td>\n",
       "      <td>Generic brand</td>\n",
       "      <td>Mug</td>\n",
       "      <td>shipment_delivered</td>\n",
       "      <td>1</td>\n",
       "    </tr>\n",
       "    <tr>\n",
       "      <th>2</th>\n",
       "      <td>5888534</td>\n",
       "      <td>695.0</td>\n",
       "      <td>1358429</td>\n",
       "      <td>US</td>\n",
       "      <td>MN</td>\n",
       "      <td>2020-11-21 05:19:03</td>\n",
       "      <td>2020-11-23 00:23:32</td>\n",
       "      <td>NaN</td>\n",
       "      <td>4</td>\n",
       "      <td>1149</td>\n",
       "      <td>...</td>\n",
       "      <td>2018-02-08 07:34:02</td>\n",
       "      <td>True</td>\n",
       "      <td>business_account_3</td>\n",
       "      <td>USPS</td>\n",
       "      <td>2020-11-28 21:50:56</td>\n",
       "      <td>39</td>\n",
       "      <td>Gildan</td>\n",
       "      <td>Sweatshirt</td>\n",
       "      <td>shipment_delivered</td>\n",
       "      <td>1</td>\n",
       "    </tr>\n",
       "    <tr>\n",
       "      <th>3</th>\n",
       "      <td>6484224</td>\n",
       "      <td>193.0</td>\n",
       "      <td>939390</td>\n",
       "      <td>US</td>\n",
       "      <td>AK</td>\n",
       "      <td>2020-10-25 01:39:08</td>\n",
       "      <td>2020-10-26 20:30:53</td>\n",
       "      <td>NaN</td>\n",
       "      <td>1</td>\n",
       "      <td>977</td>\n",
       "      <td>...</td>\n",
       "      <td>2019-04-09 20:02:46</td>\n",
       "      <td>True</td>\n",
       "      <td>business_account_3</td>\n",
       "      <td>USPS</td>\n",
       "      <td>2020-11-02 23:37:54</td>\n",
       "      <td>25</td>\n",
       "      <td>Delta</td>\n",
       "      <td>T-Shirt</td>\n",
       "      <td>shipment_delivered</td>\n",
       "      <td>1</td>\n",
       "    </tr>\n",
       "    <tr>\n",
       "      <th>4</th>\n",
       "      <td>7251033</td>\n",
       "      <td>4.0</td>\n",
       "      <td>1856107</td>\n",
       "      <td>US</td>\n",
       "      <td>PA</td>\n",
       "      <td>2020-10-08 16:35:21</td>\n",
       "      <td>2020-10-10 15:02:47</td>\n",
       "      <td>NaN</td>\n",
       "      <td>1</td>\n",
       "      <td>661</td>\n",
       "      <td>...</td>\n",
       "      <td>2020-07-20 17:04:41</td>\n",
       "      <td>True</td>\n",
       "      <td>business_account_3</td>\n",
       "      <td>UPS</td>\n",
       "      <td>2020-10-15 18:08:37</td>\n",
       "      <td>16</td>\n",
       "      <td>Generic brand</td>\n",
       "      <td>Mug</td>\n",
       "      <td>shipment_delivered</td>\n",
       "      <td>1</td>\n",
       "    </tr>\n",
       "    <tr>\n",
       "      <th>...</th>\n",
       "      <td>...</td>\n",
       "      <td>...</td>\n",
       "      <td>...</td>\n",
       "      <td>...</td>\n",
       "      <td>...</td>\n",
       "      <td>...</td>\n",
       "      <td>...</td>\n",
       "      <td>...</td>\n",
       "      <td>...</td>\n",
       "      <td>...</td>\n",
       "      <td>...</td>\n",
       "      <td>...</td>\n",
       "      <td>...</td>\n",
       "      <td>...</td>\n",
       "      <td>...</td>\n",
       "      <td>...</td>\n",
       "      <td>...</td>\n",
       "      <td>...</td>\n",
       "      <td>...</td>\n",
       "      <td>...</td>\n",
       "      <td>...</td>\n",
       "    </tr>\n",
       "    <tr>\n",
       "      <th>15616</th>\n",
       "      <td>7562898</td>\n",
       "      <td>12.0</td>\n",
       "      <td>2225081</td>\n",
       "      <td>CA</td>\n",
       "      <td>ON</td>\n",
       "      <td>2020-11-05 21:12:29</td>\n",
       "      <td>NaT</td>\n",
       "      <td>NaN</td>\n",
       "      <td>1</td>\n",
       "      <td>0</td>\n",
       "      <td>...</td>\n",
       "      <td>2020-10-29 16:51:47</td>\n",
       "      <td>False</td>\n",
       "      <td>NaN</td>\n",
       "      <td>NaN</td>\n",
       "      <td>NaT</td>\n",
       "      <td>10</td>\n",
       "      <td>Generic brand</td>\n",
       "      <td>Accessories</td>\n",
       "      <td>canceled</td>\n",
       "      <td>10</td>\n",
       "    </tr>\n",
       "    <tr>\n",
       "      <th>15617</th>\n",
       "      <td>7475289</td>\n",
       "      <td>2224.0</td>\n",
       "      <td>2153683</td>\n",
       "      <td>US</td>\n",
       "      <td>CO</td>\n",
       "      <td>2020-11-16 04:11:43</td>\n",
       "      <td>NaT</td>\n",
       "      <td>NaN</td>\n",
       "      <td>1</td>\n",
       "      <td>1447</td>\n",
       "      <td>...</td>\n",
       "      <td>2020-09-30 23:11:41</td>\n",
       "      <td>True</td>\n",
       "      <td>business_account_3</td>\n",
       "      <td>NaN</td>\n",
       "      <td>NaT</td>\n",
       "      <td>16</td>\n",
       "      <td>Sport-Tek</td>\n",
       "      <td>Hats</td>\n",
       "      <td>on-hold</td>\n",
       "      <td>1</td>\n",
       "    </tr>\n",
       "    <tr>\n",
       "      <th>15618</th>\n",
       "      <td>7144356</td>\n",
       "      <td>5.0</td>\n",
       "      <td>1717607</td>\n",
       "      <td>US</td>\n",
       "      <td>CT</td>\n",
       "      <td>2020-12-25 00:08:07</td>\n",
       "      <td>NaT</td>\n",
       "      <td>NaN</td>\n",
       "      <td>1</td>\n",
       "      <td>2187</td>\n",
       "      <td>...</td>\n",
       "      <td>2020-05-20 01:38:41</td>\n",
       "      <td>False</td>\n",
       "      <td>NaN</td>\n",
       "      <td>NaN</td>\n",
       "      <td>NaT</td>\n",
       "      <td>3</td>\n",
       "      <td>Gildan</td>\n",
       "      <td>Hoodie</td>\n",
       "      <td>on-hold</td>\n",
       "      <td>1</td>\n",
       "    </tr>\n",
       "    <tr>\n",
       "      <th>15619</th>\n",
       "      <td>7581194</td>\n",
       "      <td>66.0</td>\n",
       "      <td>2243420</td>\n",
       "      <td>US</td>\n",
       "      <td>IN</td>\n",
       "      <td>2020-11-19 16:43:04</td>\n",
       "      <td>NaT</td>\n",
       "      <td>NaN</td>\n",
       "      <td>4</td>\n",
       "      <td>2187</td>\n",
       "      <td>...</td>\n",
       "      <td>2020-11-05 20:02:09</td>\n",
       "      <td>False</td>\n",
       "      <td>NaN</td>\n",
       "      <td>NaN</td>\n",
       "      <td>NaT</td>\n",
       "      <td>3</td>\n",
       "      <td>Gildan</td>\n",
       "      <td>Hoodie</td>\n",
       "      <td>canceled</td>\n",
       "      <td>1</td>\n",
       "    </tr>\n",
       "    <tr>\n",
       "      <th>15620</th>\n",
       "      <td>7559085</td>\n",
       "      <td>28.0</td>\n",
       "      <td>2216957</td>\n",
       "      <td>CA</td>\n",
       "      <td>QC</td>\n",
       "      <td>2020-11-26 00:33:02</td>\n",
       "      <td>NaT</td>\n",
       "      <td>NaN</td>\n",
       "      <td>4</td>\n",
       "      <td>0</td>\n",
       "      <td>...</td>\n",
       "      <td>2020-10-28 11:10:04</td>\n",
       "      <td>False</td>\n",
       "      <td>NaN</td>\n",
       "      <td>NaN</td>\n",
       "      <td>NaT</td>\n",
       "      <td>29</td>\n",
       "      <td>Gildan</td>\n",
       "      <td>T-Shirt</td>\n",
       "      <td>canceled</td>\n",
       "      <td>1</td>\n",
       "    </tr>\n",
       "  </tbody>\n",
       "</table>\n",
       "<p>15621 rows × 21 columns</p>\n",
       "</div>"
      ],
      "text/plain": [
       "       MERCHANT_ID  ORDER_ID  SHOP_ID ADDRESS_TO_COUNTRY ADDRESS_TO_REGION  \\\n",
       "0          7143578     178.0  2013244                 US                WA   \n",
       "1          7143578     178.0  2013244                 US                WA   \n",
       "2          5888534     695.0  1358429                 US                MN   \n",
       "3          6484224     193.0   939390                 US                AK   \n",
       "4          7251033       4.0  1856107                 US                PA   \n",
       "...            ...       ...      ...                ...               ...   \n",
       "15616      7562898      12.0  2225081                 CA                ON   \n",
       "15617      7475289    2224.0  2153683                 US                CO   \n",
       "15618      7144356       5.0  1717607                 US                CT   \n",
       "15619      7581194      66.0  2243420                 US                IN   \n",
       "15620      7559085      28.0  2216957                 CA                QC   \n",
       "\n",
       "                 ORDER_DT        FULFILLED_DT  REPRINT_FLAG  \\\n",
       "0     2020-10-02 19:30:15 2020-10-20 07:53:06           NaN   \n",
       "1     2020-10-02 19:30:15 2020-10-20 07:53:06           NaN   \n",
       "2     2020-11-21 05:19:03 2020-11-23 00:23:32           NaN   \n",
       "3     2020-10-25 01:39:08 2020-10-26 20:30:53           NaN   \n",
       "4     2020-10-08 16:35:21 2020-10-10 15:02:47           NaN   \n",
       "...                   ...                 ...           ...   \n",
       "15616 2020-11-05 21:12:29                 NaT           NaN   \n",
       "15617 2020-11-16 04:11:43                 NaT           NaN   \n",
       "15618 2020-12-25 00:08:07                 NaT           NaN   \n",
       "15619 2020-11-19 16:43:04                 NaT           NaN   \n",
       "15620 2020-11-26 00:33:02                 NaT           NaN   \n",
       "\n",
       "       SALES_CHANNEL_TYPE_ID  TOTAL_COST  ...  MERCHANT_REGISTERED_DT  \\\n",
       "0                          9        2902  ...     2020-05-19 15:22:57   \n",
       "1                          9        2902  ...     2020-05-19 15:22:57   \n",
       "2                          4        1149  ...     2018-02-08 07:34:02   \n",
       "3                          1         977  ...     2019-04-09 20:02:46   \n",
       "4                          1         661  ...     2020-07-20 17:04:41   \n",
       "...                      ...         ...  ...                     ...   \n",
       "15616                      1           0  ...     2020-10-29 16:51:47   \n",
       "15617                      1        1447  ...     2020-09-30 23:11:41   \n",
       "15618                      1        2187  ...     2020-05-20 01:38:41   \n",
       "15619                      4        2187  ...     2020-11-05 20:02:09   \n",
       "15620                      4           0  ...     2020-10-28 11:10:04   \n",
       "\n",
       "      SUB_IS_ACTIVE_FLAG            SUB_PLAN SHIPMENT_CARRIER  \\\n",
       "0                   True  business_account_3              UPS   \n",
       "1                   True  business_account_3              UPS   \n",
       "2                   True  business_account_3             USPS   \n",
       "3                   True  business_account_3             USPS   \n",
       "4                   True  business_account_3              UPS   \n",
       "...                  ...                 ...              ...   \n",
       "15616              False                 NaN              NaN   \n",
       "15617               True  business_account_3              NaN   \n",
       "15618              False                 NaN              NaN   \n",
       "15619              False                 NaN              NaN   \n",
       "15620              False                 NaN              NaN   \n",
       "\n",
       "      SHIPMENT_DELIVERD_DT PRINT_PROVIDER_ID  PRODUCT_BRAND PRODUCT_TYPE  \\\n",
       "0      2020-10-08 21:07:29                 1  Generic brand          Mug   \n",
       "1      2020-10-08 21:07:29                16  Generic brand          Mug   \n",
       "2      2020-11-28 21:50:56                39         Gildan   Sweatshirt   \n",
       "3      2020-11-02 23:37:54                25          Delta      T-Shirt   \n",
       "4      2020-10-15 18:08:37                16  Generic brand          Mug   \n",
       "...                    ...               ...            ...          ...   \n",
       "15616                  NaT                10  Generic brand  Accessories   \n",
       "15617                  NaT                16      Sport-Tek         Hats   \n",
       "15618                  NaT                 3         Gildan       Hoodie   \n",
       "15619                  NaT                 3         Gildan       Hoodie   \n",
       "15620                  NaT                29         Gildan      T-Shirt   \n",
       "\n",
       "              ITEM_STATUS QUANTITY  \n",
       "0      shipment_delivered        1  \n",
       "1      shipment_delivered        1  \n",
       "2      shipment_delivered        1  \n",
       "3      shipment_delivered        1  \n",
       "4      shipment_delivered        1  \n",
       "...                   ...      ...  \n",
       "15616            canceled       10  \n",
       "15617             on-hold        1  \n",
       "15618             on-hold        1  \n",
       "15619            canceled        1  \n",
       "15620            canceled        1  \n",
       "\n",
       "[15621 rows x 21 columns]"
      ]
     },
     "execution_count": 61,
     "metadata": {},
     "output_type": "execute_result"
    }
   ],
   "source": [
    "printify_df"
   ]
  },
  {
   "cell_type": "code",
   "execution_count": 62,
   "id": "402022d1",
   "metadata": {},
   "outputs": [
    {
     "name": "stdout",
     "output_type": "stream",
     "text": [
      "<class 'pandas.core.frame.DataFrame'>\n",
      "Int64Index: 15621 entries, 0 to 15620\n",
      "Data columns (total 21 columns):\n",
      " #   Column                  Non-Null Count  Dtype         \n",
      "---  ------                  --------------  -----         \n",
      " 0   MERCHANT_ID             15621 non-null  int64         \n",
      " 1   ORDER_ID                15621 non-null  float64       \n",
      " 2   SHOP_ID                 15621 non-null  int64         \n",
      " 3   ADDRESS_TO_COUNTRY      15620 non-null  object        \n",
      " 4   ADDRESS_TO_REGION       15009 non-null  object        \n",
      " 5   ORDER_DT                15621 non-null  datetime64[ns]\n",
      " 6   FULFILLED_DT            14651 non-null  datetime64[ns]\n",
      " 7   REPRINT_FLAG            108 non-null    float64       \n",
      " 8   SALES_CHANNEL_TYPE_ID   15621 non-null  int64         \n",
      " 9   TOTAL_COST              15621 non-null  int64         \n",
      " 10  TOTAL_SHIPPING          15621 non-null  int64         \n",
      " 11  MERCHANT_REGISTERED_DT  15621 non-null  datetime64[ns]\n",
      " 12  SUB_IS_ACTIVE_FLAG      15621 non-null  bool          \n",
      " 13  SUB_PLAN                11336 non-null  object        \n",
      " 14  SHIPMENT_CARRIER        13774 non-null  object        \n",
      " 15  SHIPMENT_DELIVERD_DT    12699 non-null  datetime64[ns]\n",
      " 16  PRINT_PROVIDER_ID       15621 non-null  int64         \n",
      " 17  PRODUCT_BRAND           15621 non-null  object        \n",
      " 18  PRODUCT_TYPE            15621 non-null  object        \n",
      " 19  ITEM_STATUS             15621 non-null  object        \n",
      " 20  QUANTITY                15621 non-null  int64         \n",
      "dtypes: bool(1), datetime64[ns](4), float64(2), int64(7), object(7)\n",
      "memory usage: 2.5+ MB\n"
     ]
    }
   ],
   "source": [
    "printify_df.info()"
   ]
  },
  {
   "cell_type": "markdown",
   "id": "8cb48b15",
   "metadata": {},
   "source": [
    "# Printers Performance Metrics"
   ]
  },
  {
   "cell_type": "code",
   "execution_count": 63,
   "id": "7f926c42",
   "metadata": {},
   "outputs": [
    {
     "name": "stdout",
     "output_type": "stream",
     "text": [
      "2021-01-26 20:13:23\n",
      "2021-01-31 00:13:23\n"
     ]
    }
   ],
   "source": [
    "# Date offsetting\n",
    "max_day = printify_df['SHIPMENT_DELIVERD_DT'].max() + pd.DateOffset(hours=100)\n",
    "print(printify_df['SHIPMENT_DELIVERD_DT'].max())\n",
    "print(max_day)"
   ]
  },
  {
   "cell_type": "code",
   "execution_count": 64,
   "id": "83cf40e4",
   "metadata": {
    "scrolled": true
   },
   "outputs": [
    {
     "data": {
      "text/html": [
       "<div>\n",
       "<style scoped>\n",
       "    .dataframe tbody tr th:only-of-type {\n",
       "        vertical-align: middle;\n",
       "    }\n",
       "\n",
       "    .dataframe tbody tr th {\n",
       "        vertical-align: top;\n",
       "    }\n",
       "\n",
       "    .dataframe thead th {\n",
       "        text-align: right;\n",
       "    }\n",
       "</style>\n",
       "<table border=\"1\" class=\"dataframe\">\n",
       "  <thead>\n",
       "    <tr style=\"text-align: right;\">\n",
       "      <th></th>\n",
       "      <th>Time_delay_hours</th>\n",
       "    </tr>\n",
       "    <tr>\n",
       "      <th>PRINT_PROVIDER_ID</th>\n",
       "      <th></th>\n",
       "    </tr>\n",
       "  </thead>\n",
       "  <tbody>\n",
       "    <tr>\n",
       "      <th>1</th>\n",
       "      <td>175.976900</td>\n",
       "    </tr>\n",
       "    <tr>\n",
       "      <th>2</th>\n",
       "      <td>199.278557</td>\n",
       "    </tr>\n",
       "    <tr>\n",
       "      <th>3</th>\n",
       "      <td>215.475799</td>\n",
       "    </tr>\n",
       "    <tr>\n",
       "      <th>6</th>\n",
       "      <td>293.689394</td>\n",
       "    </tr>\n",
       "    <tr>\n",
       "      <th>7</th>\n",
       "      <td>52.769231</td>\n",
       "    </tr>\n",
       "    <tr>\n",
       "      <th>8</th>\n",
       "      <td>981.000000</td>\n",
       "    </tr>\n",
       "    <tr>\n",
       "      <th>9</th>\n",
       "      <td>204.800000</td>\n",
       "    </tr>\n",
       "    <tr>\n",
       "      <th>10</th>\n",
       "      <td>181.475077</td>\n",
       "    </tr>\n",
       "    <tr>\n",
       "      <th>14</th>\n",
       "      <td>819.203390</td>\n",
       "    </tr>\n",
       "    <tr>\n",
       "      <th>16</th>\n",
       "      <td>248.983713</td>\n",
       "    </tr>\n",
       "    <tr>\n",
       "      <th>23</th>\n",
       "      <td>291.158192</td>\n",
       "    </tr>\n",
       "    <tr>\n",
       "      <th>25</th>\n",
       "      <td>182.034286</td>\n",
       "    </tr>\n",
       "    <tr>\n",
       "      <th>26</th>\n",
       "      <td>307.625731</td>\n",
       "    </tr>\n",
       "    <tr>\n",
       "      <th>27</th>\n",
       "      <td>282.484211</td>\n",
       "    </tr>\n",
       "    <tr>\n",
       "      <th>28</th>\n",
       "      <td>129.105263</td>\n",
       "    </tr>\n",
       "    <tr>\n",
       "      <th>29</th>\n",
       "      <td>147.984587</td>\n",
       "    </tr>\n",
       "    <tr>\n",
       "      <th>30</th>\n",
       "      <td>397.594059</td>\n",
       "    </tr>\n",
       "    <tr>\n",
       "      <th>33</th>\n",
       "      <td>304.220339</td>\n",
       "    </tr>\n",
       "    <tr>\n",
       "      <th>34</th>\n",
       "      <td>359.656250</td>\n",
       "    </tr>\n",
       "    <tr>\n",
       "      <th>36</th>\n",
       "      <td>229.600000</td>\n",
       "    </tr>\n",
       "    <tr>\n",
       "      <th>37</th>\n",
       "      <td>153.411765</td>\n",
       "    </tr>\n",
       "    <tr>\n",
       "      <th>38</th>\n",
       "      <td>337.560000</td>\n",
       "    </tr>\n",
       "    <tr>\n",
       "      <th>39</th>\n",
       "      <td>278.034483</td>\n",
       "    </tr>\n",
       "    <tr>\n",
       "      <th>40</th>\n",
       "      <td>438.727273</td>\n",
       "    </tr>\n",
       "    <tr>\n",
       "      <th>41</th>\n",
       "      <td>249.261538</td>\n",
       "    </tr>\n",
       "    <tr>\n",
       "      <th>42</th>\n",
       "      <td>363.359788</td>\n",
       "    </tr>\n",
       "    <tr>\n",
       "      <th>43</th>\n",
       "      <td>207.025478</td>\n",
       "    </tr>\n",
       "    <tr>\n",
       "      <th>44</th>\n",
       "      <td>531.220588</td>\n",
       "    </tr>\n",
       "    <tr>\n",
       "      <th>45</th>\n",
       "      <td>261.330317</td>\n",
       "    </tr>\n",
       "    <tr>\n",
       "      <th>46</th>\n",
       "      <td>559.666667</td>\n",
       "    </tr>\n",
       "    <tr>\n",
       "      <th>47</th>\n",
       "      <td>303.000000</td>\n",
       "    </tr>\n",
       "    <tr>\n",
       "      <th>48</th>\n",
       "      <td>273.952381</td>\n",
       "    </tr>\n",
       "    <tr>\n",
       "      <th>49</th>\n",
       "      <td>2886.000000</td>\n",
       "    </tr>\n",
       "    <tr>\n",
       "      <th>51</th>\n",
       "      <td>334.517241</td>\n",
       "    </tr>\n",
       "    <tr>\n",
       "      <th>52</th>\n",
       "      <td>269.350746</td>\n",
       "    </tr>\n",
       "    <tr>\n",
       "      <th>54</th>\n",
       "      <td>393.882353</td>\n",
       "    </tr>\n",
       "    <tr>\n",
       "      <th>59</th>\n",
       "      <td>559.050926</td>\n",
       "    </tr>\n",
       "    <tr>\n",
       "      <th>65</th>\n",
       "      <td>337.818182</td>\n",
       "    </tr>\n",
       "    <tr>\n",
       "      <th>70</th>\n",
       "      <td>323.600000</td>\n",
       "    </tr>\n",
       "  </tbody>\n",
       "</table>\n",
       "</div>"
      ],
      "text/plain": [
       "                   Time_delay_hours\n",
       "PRINT_PROVIDER_ID                  \n",
       "1                        175.976900\n",
       "2                        199.278557\n",
       "3                        215.475799\n",
       "6                        293.689394\n",
       "7                         52.769231\n",
       "8                        981.000000\n",
       "9                        204.800000\n",
       "10                       181.475077\n",
       "14                       819.203390\n",
       "16                       248.983713\n",
       "23                       291.158192\n",
       "25                       182.034286\n",
       "26                       307.625731\n",
       "27                       282.484211\n",
       "28                       129.105263\n",
       "29                       147.984587\n",
       "30                       397.594059\n",
       "33                       304.220339\n",
       "34                       359.656250\n",
       "36                       229.600000\n",
       "37                       153.411765\n",
       "38                       337.560000\n",
       "39                       278.034483\n",
       "40                       438.727273\n",
       "41                       249.261538\n",
       "42                       363.359788\n",
       "43                       207.025478\n",
       "44                       531.220588\n",
       "45                       261.330317\n",
       "46                       559.666667\n",
       "47                       303.000000\n",
       "48                       273.952381\n",
       "49                      2886.000000\n",
       "51                       334.517241\n",
       "52                       269.350746\n",
       "54                       393.882353\n",
       "59                       559.050926\n",
       "65                       337.818182\n",
       "70                       323.600000"
      ]
     },
     "execution_count": 64,
     "metadata": {},
     "output_type": "execute_result"
    }
   ],
   "source": [
    "# In the case a shipment is not delivered, deliverly is assumed to take \n",
    "# place in the next 4 days hence the max day value for null deliver date\n",
    "max_day = printify_df['FULFILLED_DT'].max() + pd.DateOffset(hours=72)\n",
    "\n",
    "# Capture the necessary columns\n",
    "printify_df_temp1 = printify_df[['PRINT_PROVIDER_ID', 'ORDER_DT','FULFILLED_DT']]\n",
    "\n",
    "# For each order, calculate the time delay by the printer\n",
    "printify_df_temp1['Time_delay_hours'] = (printify_df['FULFILLED_DT'].fillna(max_day) - printify_df['ORDER_DT']).astype('timedelta64[h]')\n",
    "\n",
    "# For each printer, get the mean delay in an order\n",
    "printer_delay = printify_df_temp1[['PRINT_PROVIDER_ID', 'Time_delay_hours']].groupby(['PRINT_PROVIDER_ID']).mean()\n",
    "printer_delay"
   ]
  },
  {
   "cell_type": "code",
   "execution_count": 65,
   "id": "2d8657d4",
   "metadata": {
    "scrolled": true
   },
   "outputs": [
    {
     "data": {
      "text/html": [
       "<div>\n",
       "<style scoped>\n",
       "    .dataframe tbody tr th:only-of-type {\n",
       "        vertical-align: middle;\n",
       "    }\n",
       "\n",
       "    .dataframe tbody tr th {\n",
       "        vertical-align: top;\n",
       "    }\n",
       "\n",
       "    .dataframe thead th {\n",
       "        text-align: right;\n",
       "    }\n",
       "</style>\n",
       "<table border=\"1\" class=\"dataframe\">\n",
       "  <thead>\n",
       "    <tr style=\"text-align: right;\">\n",
       "      <th></th>\n",
       "      <th>Total_printed_orders</th>\n",
       "    </tr>\n",
       "    <tr>\n",
       "      <th>PRINT_PROVIDER_ID</th>\n",
       "      <th></th>\n",
       "    </tr>\n",
       "  </thead>\n",
       "  <tbody>\n",
       "    <tr>\n",
       "      <th>1</th>\n",
       "      <td>1629</td>\n",
       "    </tr>\n",
       "    <tr>\n",
       "      <th>2</th>\n",
       "      <td>528</td>\n",
       "    </tr>\n",
       "    <tr>\n",
       "      <th>3</th>\n",
       "      <td>2240</td>\n",
       "    </tr>\n",
       "    <tr>\n",
       "      <th>6</th>\n",
       "      <td>132</td>\n",
       "    </tr>\n",
       "    <tr>\n",
       "      <th>7</th>\n",
       "      <td>13</td>\n",
       "    </tr>\n",
       "    <tr>\n",
       "      <th>8</th>\n",
       "      <td>1</td>\n",
       "    </tr>\n",
       "    <tr>\n",
       "      <th>9</th>\n",
       "      <td>73</td>\n",
       "    </tr>\n",
       "    <tr>\n",
       "      <th>10</th>\n",
       "      <td>1854</td>\n",
       "    </tr>\n",
       "    <tr>\n",
       "      <th>14</th>\n",
       "      <td>59</td>\n",
       "    </tr>\n",
       "    <tr>\n",
       "      <th>16</th>\n",
       "      <td>1339</td>\n",
       "    </tr>\n",
       "    <tr>\n",
       "      <th>23</th>\n",
       "      <td>177</td>\n",
       "    </tr>\n",
       "    <tr>\n",
       "      <th>25</th>\n",
       "      <td>357</td>\n",
       "    </tr>\n",
       "    <tr>\n",
       "      <th>26</th>\n",
       "      <td>272</td>\n",
       "    </tr>\n",
       "    <tr>\n",
       "      <th>27</th>\n",
       "      <td>98</td>\n",
       "    </tr>\n",
       "    <tr>\n",
       "      <th>28</th>\n",
       "      <td>83</td>\n",
       "    </tr>\n",
       "    <tr>\n",
       "      <th>29</th>\n",
       "      <td>3925</td>\n",
       "    </tr>\n",
       "    <tr>\n",
       "      <th>30</th>\n",
       "      <td>339</td>\n",
       "    </tr>\n",
       "    <tr>\n",
       "      <th>33</th>\n",
       "      <td>143</td>\n",
       "    </tr>\n",
       "    <tr>\n",
       "      <th>34</th>\n",
       "      <td>32</td>\n",
       "    </tr>\n",
       "    <tr>\n",
       "      <th>36</th>\n",
       "      <td>15</td>\n",
       "    </tr>\n",
       "    <tr>\n",
       "      <th>37</th>\n",
       "      <td>34</td>\n",
       "    </tr>\n",
       "    <tr>\n",
       "      <th>38</th>\n",
       "      <td>28</td>\n",
       "    </tr>\n",
       "    <tr>\n",
       "      <th>39</th>\n",
       "      <td>1157</td>\n",
       "    </tr>\n",
       "    <tr>\n",
       "      <th>40</th>\n",
       "      <td>22</td>\n",
       "    </tr>\n",
       "    <tr>\n",
       "      <th>41</th>\n",
       "      <td>530</td>\n",
       "    </tr>\n",
       "    <tr>\n",
       "      <th>42</th>\n",
       "      <td>195</td>\n",
       "    </tr>\n",
       "    <tr>\n",
       "      <th>43</th>\n",
       "      <td>165</td>\n",
       "    </tr>\n",
       "    <tr>\n",
       "      <th>44</th>\n",
       "      <td>141</td>\n",
       "    </tr>\n",
       "    <tr>\n",
       "      <th>45</th>\n",
       "      <td>452</td>\n",
       "    </tr>\n",
       "    <tr>\n",
       "      <th>46</th>\n",
       "      <td>3</td>\n",
       "    </tr>\n",
       "    <tr>\n",
       "      <th>47</th>\n",
       "      <td>14</td>\n",
       "    </tr>\n",
       "    <tr>\n",
       "      <th>48</th>\n",
       "      <td>272</td>\n",
       "    </tr>\n",
       "    <tr>\n",
       "      <th>49</th>\n",
       "      <td>1</td>\n",
       "    </tr>\n",
       "    <tr>\n",
       "      <th>51</th>\n",
       "      <td>80</td>\n",
       "    </tr>\n",
       "    <tr>\n",
       "      <th>52</th>\n",
       "      <td>134</td>\n",
       "    </tr>\n",
       "    <tr>\n",
       "      <th>54</th>\n",
       "      <td>17</td>\n",
       "    </tr>\n",
       "    <tr>\n",
       "      <th>59</th>\n",
       "      <td>327</td>\n",
       "    </tr>\n",
       "    <tr>\n",
       "      <th>65</th>\n",
       "      <td>26</td>\n",
       "    </tr>\n",
       "    <tr>\n",
       "      <th>70</th>\n",
       "      <td>10</td>\n",
       "    </tr>\n",
       "  </tbody>\n",
       "</table>\n",
       "</div>"
      ],
      "text/plain": [
       "                   Total_printed_orders\n",
       "PRINT_PROVIDER_ID                      \n",
       "1                                  1629\n",
       "2                                   528\n",
       "3                                  2240\n",
       "6                                   132\n",
       "7                                    13\n",
       "8                                     1\n",
       "9                                    73\n",
       "10                                 1854\n",
       "14                                   59\n",
       "16                                 1339\n",
       "23                                  177\n",
       "25                                  357\n",
       "26                                  272\n",
       "27                                   98\n",
       "28                                   83\n",
       "29                                 3925\n",
       "30                                  339\n",
       "33                                  143\n",
       "34                                   32\n",
       "36                                   15\n",
       "37                                   34\n",
       "38                                   28\n",
       "39                                 1157\n",
       "40                                   22\n",
       "41                                  530\n",
       "42                                  195\n",
       "43                                  165\n",
       "44                                  141\n",
       "45                                  452\n",
       "46                                    3\n",
       "47                                   14\n",
       "48                                  272\n",
       "49                                    1\n",
       "51                                   80\n",
       "52                                  134\n",
       "54                                   17\n",
       "59                                  327\n",
       "65                                   26\n",
       "70                                   10"
      ]
     },
     "execution_count": 65,
     "metadata": {},
     "output_type": "execute_result"
    }
   ],
   "source": [
    "# Get the sum of all products sold, it should be more or equal for each printers total orders\n",
    "total_orders_printed = printify_df[['PRINT_PROVIDER_ID', 'QUANTITY']].groupby(['PRINT_PROVIDER_ID']).sum()\n",
    "\n",
    "# Rename columns\n",
    "total_orders_printed.rename(columns={'QUANTITY':'Total_printed_orders'}, inplace=True)\n",
    "total_orders_printed"
   ]
  },
  {
   "cell_type": "code",
   "execution_count": 66,
   "id": "7c1adf0b",
   "metadata": {
    "scrolled": true
   },
   "outputs": [
    {
     "data": {
      "text/html": [
       "<div>\n",
       "<style scoped>\n",
       "    .dataframe tbody tr th:only-of-type {\n",
       "        vertical-align: middle;\n",
       "    }\n",
       "\n",
       "    .dataframe tbody tr th {\n",
       "        vertical-align: top;\n",
       "    }\n",
       "\n",
       "    .dataframe thead th {\n",
       "        text-align: right;\n",
       "    }\n",
       "</style>\n",
       "<table border=\"1\" class=\"dataframe\">\n",
       "  <thead>\n",
       "    <tr style=\"text-align: right;\">\n",
       "      <th></th>\n",
       "      <th>Re_printed</th>\n",
       "    </tr>\n",
       "    <tr>\n",
       "      <th>PRINT_PROVIDER_ID</th>\n",
       "      <th></th>\n",
       "    </tr>\n",
       "  </thead>\n",
       "  <tbody>\n",
       "    <tr>\n",
       "      <th>1</th>\n",
       "      <td>11</td>\n",
       "    </tr>\n",
       "    <tr>\n",
       "      <th>2</th>\n",
       "      <td>10</td>\n",
       "    </tr>\n",
       "    <tr>\n",
       "      <th>3</th>\n",
       "      <td>11</td>\n",
       "    </tr>\n",
       "    <tr>\n",
       "      <th>7</th>\n",
       "      <td>1</td>\n",
       "    </tr>\n",
       "    <tr>\n",
       "      <th>10</th>\n",
       "      <td>12</td>\n",
       "    </tr>\n",
       "    <tr>\n",
       "      <th>14</th>\n",
       "      <td>1</td>\n",
       "    </tr>\n",
       "    <tr>\n",
       "      <th>16</th>\n",
       "      <td>17</td>\n",
       "    </tr>\n",
       "    <tr>\n",
       "      <th>25</th>\n",
       "      <td>5</td>\n",
       "    </tr>\n",
       "    <tr>\n",
       "      <th>26</th>\n",
       "      <td>1</td>\n",
       "    </tr>\n",
       "    <tr>\n",
       "      <th>29</th>\n",
       "      <td>19</td>\n",
       "    </tr>\n",
       "    <tr>\n",
       "      <th>30</th>\n",
       "      <td>1</td>\n",
       "    </tr>\n",
       "    <tr>\n",
       "      <th>37</th>\n",
       "      <td>1</td>\n",
       "    </tr>\n",
       "    <tr>\n",
       "      <th>39</th>\n",
       "      <td>3</td>\n",
       "    </tr>\n",
       "    <tr>\n",
       "      <th>41</th>\n",
       "      <td>3</td>\n",
       "    </tr>\n",
       "    <tr>\n",
       "      <th>42</th>\n",
       "      <td>3</td>\n",
       "    </tr>\n",
       "    <tr>\n",
       "      <th>43</th>\n",
       "      <td>2</td>\n",
       "    </tr>\n",
       "    <tr>\n",
       "      <th>44</th>\n",
       "      <td>1</td>\n",
       "    </tr>\n",
       "    <tr>\n",
       "      <th>45</th>\n",
       "      <td>2</td>\n",
       "    </tr>\n",
       "    <tr>\n",
       "      <th>48</th>\n",
       "      <td>1</td>\n",
       "    </tr>\n",
       "    <tr>\n",
       "      <th>52</th>\n",
       "      <td>1</td>\n",
       "    </tr>\n",
       "    <tr>\n",
       "      <th>59</th>\n",
       "      <td>2</td>\n",
       "    </tr>\n",
       "  </tbody>\n",
       "</table>\n",
       "</div>"
      ],
      "text/plain": [
       "                   Re_printed\n",
       "PRINT_PROVIDER_ID            \n",
       "1                          11\n",
       "2                          10\n",
       "3                          11\n",
       "7                           1\n",
       "10                         12\n",
       "14                          1\n",
       "16                         17\n",
       "25                          5\n",
       "26                          1\n",
       "29                         19\n",
       "30                          1\n",
       "37                          1\n",
       "39                          3\n",
       "41                          3\n",
       "42                          3\n",
       "43                          2\n",
       "44                          1\n",
       "45                          2\n",
       "48                          1\n",
       "52                          1\n",
       "59                          2"
      ]
     },
     "execution_count": 66,
     "metadata": {},
     "output_type": "execute_result"
    }
   ],
   "source": [
    "# First capture the needed columns into a new df\n",
    "printify_df_temp = printify_df[['PRINT_PROVIDER_ID', 'REPRINT_FLAG']]\n",
    "\n",
    "# count the times a reprint flag is present for all the orders done by each printer\n",
    "reprint = printify_df_temp[(printify_df['REPRINT_FLAG'] == 1)].groupby(['PRINT_PROVIDER_ID']).count()\n",
    "\n",
    "# Rename columns\n",
    "reprint.rename(columns={'REPRINT_FLAG':'Re_printed'}, inplace=True)\n",
    "reprint"
   ]
  },
  {
   "cell_type": "code",
   "execution_count": 67,
   "id": "18879c6f",
   "metadata": {},
   "outputs": [
    {
     "data": {
      "text/plain": [
       "array(['Mug', 'Sweatshirt', 'T-Shirt', 'Poster', 'Home Decor',\n",
       "       'Phone Case', 'Long-sleeve', 'Paper products', 'All Over Prints',\n",
       "       'Accessories', 'Tank Top', 'Hoodie', 'Kids clothes', 'Shoes',\n",
       "       'Hats', 'Bags', 'Puzzle', 'V-neck', 'Canvas', 'Trousers',\n",
       "       'Laptop Sleeve', 'Calendar'], dtype=object)"
      ]
     },
     "execution_count": 67,
     "metadata": {},
     "output_type": "execute_result"
    }
   ],
   "source": [
    "printify_df['PRODUCT_TYPE'].unique()"
   ]
  },
  {
   "cell_type": "code",
   "execution_count": 68,
   "id": "9fa1dbca",
   "metadata": {
    "scrolled": true
   },
   "outputs": [
    {
     "data": {
      "text/html": [
       "<div>\n",
       "<style scoped>\n",
       "    .dataframe tbody tr th:only-of-type {\n",
       "        vertical-align: middle;\n",
       "    }\n",
       "\n",
       "    .dataframe tbody tr th {\n",
       "        vertical-align: top;\n",
       "    }\n",
       "\n",
       "    .dataframe thead th {\n",
       "        text-align: right;\n",
       "    }\n",
       "</style>\n",
       "<table border=\"1\" class=\"dataframe\">\n",
       "  <thead>\n",
       "    <tr style=\"text-align: right;\">\n",
       "      <th></th>\n",
       "      <th>Popular_brand</th>\n",
       "    </tr>\n",
       "    <tr>\n",
       "      <th>PRINT_PROVIDER_ID</th>\n",
       "      <th></th>\n",
       "    </tr>\n",
       "  </thead>\n",
       "  <tbody>\n",
       "    <tr>\n",
       "      <th>1</th>\n",
       "      <td>Generic brand</td>\n",
       "    </tr>\n",
       "    <tr>\n",
       "      <th>2</th>\n",
       "      <td>Generic brand</td>\n",
       "    </tr>\n",
       "    <tr>\n",
       "      <th>3</th>\n",
       "      <td>Gildan</td>\n",
       "    </tr>\n",
       "    <tr>\n",
       "      <th>6</th>\n",
       "      <td>Gildan</td>\n",
       "    </tr>\n",
       "    <tr>\n",
       "      <th>7</th>\n",
       "      <td>Generic brand</td>\n",
       "    </tr>\n",
       "    <tr>\n",
       "      <th>8</th>\n",
       "      <td>Fruit Of The Loom</td>\n",
       "    </tr>\n",
       "    <tr>\n",
       "      <th>9</th>\n",
       "      <td>Generic brand</td>\n",
       "    </tr>\n",
       "    <tr>\n",
       "      <th>10</th>\n",
       "      <td>Generic brand</td>\n",
       "    </tr>\n",
       "    <tr>\n",
       "      <th>14</th>\n",
       "      <td>Generic brand</td>\n",
       "    </tr>\n",
       "    <tr>\n",
       "      <th>16</th>\n",
       "      <td>Generic brand</td>\n",
       "    </tr>\n",
       "    <tr>\n",
       "      <th>23</th>\n",
       "      <td>Premium Cases</td>\n",
       "    </tr>\n",
       "    <tr>\n",
       "      <th>25</th>\n",
       "      <td>Bella+Canvas</td>\n",
       "    </tr>\n",
       "    <tr>\n",
       "      <th>26</th>\n",
       "      <td>Gildan</td>\n",
       "    </tr>\n",
       "    <tr>\n",
       "      <th>27</th>\n",
       "      <td>Bella+Canvas</td>\n",
       "    </tr>\n",
       "    <tr>\n",
       "      <th>28</th>\n",
       "      <td>Generic brand</td>\n",
       "    </tr>\n",
       "    <tr>\n",
       "      <th>29</th>\n",
       "      <td>Gildan</td>\n",
       "    </tr>\n",
       "    <tr>\n",
       "      <th>30</th>\n",
       "      <td>Generic brand</td>\n",
       "    </tr>\n",
       "    <tr>\n",
       "      <th>33</th>\n",
       "      <td>Generic brand</td>\n",
       "    </tr>\n",
       "    <tr>\n",
       "      <th>34</th>\n",
       "      <td>Gildan</td>\n",
       "    </tr>\n",
       "    <tr>\n",
       "      <th>36</th>\n",
       "      <td>Generic brand</td>\n",
       "    </tr>\n",
       "    <tr>\n",
       "      <th>37</th>\n",
       "      <td>Gildan</td>\n",
       "    </tr>\n",
       "    <tr>\n",
       "      <th>38</th>\n",
       "      <td>Gildan</td>\n",
       "    </tr>\n",
       "    <tr>\n",
       "      <th>39</th>\n",
       "      <td>Gildan</td>\n",
       "    </tr>\n",
       "    <tr>\n",
       "      <th>40</th>\n",
       "      <td>[Bella+Canvas, Gildan]</td>\n",
       "    </tr>\n",
       "    <tr>\n",
       "      <th>41</th>\n",
       "      <td>Gildan</td>\n",
       "    </tr>\n",
       "    <tr>\n",
       "      <th>42</th>\n",
       "      <td>Bella+Canvas</td>\n",
       "    </tr>\n",
       "    <tr>\n",
       "      <th>43</th>\n",
       "      <td>Gildan</td>\n",
       "    </tr>\n",
       "    <tr>\n",
       "      <th>44</th>\n",
       "      <td>Gildan</td>\n",
       "    </tr>\n",
       "    <tr>\n",
       "      <th>45</th>\n",
       "      <td>Gildan</td>\n",
       "    </tr>\n",
       "    <tr>\n",
       "      <th>46</th>\n",
       "      <td>[Bella+Canvas, Gildan, Next Level]</td>\n",
       "    </tr>\n",
       "    <tr>\n",
       "      <th>47</th>\n",
       "      <td>Generic brand</td>\n",
       "    </tr>\n",
       "    <tr>\n",
       "      <th>48</th>\n",
       "      <td>Generic brand</td>\n",
       "    </tr>\n",
       "    <tr>\n",
       "      <th>49</th>\n",
       "      <td>Generic brand</td>\n",
       "    </tr>\n",
       "    <tr>\n",
       "      <th>51</th>\n",
       "      <td>Generic brand</td>\n",
       "    </tr>\n",
       "    <tr>\n",
       "      <th>52</th>\n",
       "      <td>Gildan</td>\n",
       "    </tr>\n",
       "    <tr>\n",
       "      <th>54</th>\n",
       "      <td>Bella+Canvas</td>\n",
       "    </tr>\n",
       "    <tr>\n",
       "      <th>59</th>\n",
       "      <td>Generic brand</td>\n",
       "    </tr>\n",
       "    <tr>\n",
       "      <th>65</th>\n",
       "      <td>Gildan</td>\n",
       "    </tr>\n",
       "    <tr>\n",
       "      <th>70</th>\n",
       "      <td>Generic brand</td>\n",
       "    </tr>\n",
       "  </tbody>\n",
       "</table>\n",
       "</div>"
      ],
      "text/plain": [
       "                                        Popular_brand\n",
       "PRINT_PROVIDER_ID                                    \n",
       "1                                       Generic brand\n",
       "2                                       Generic brand\n",
       "3                                              Gildan\n",
       "6                                              Gildan\n",
       "7                                       Generic brand\n",
       "8                                   Fruit Of The Loom\n",
       "9                                       Generic brand\n",
       "10                                      Generic brand\n",
       "14                                      Generic brand\n",
       "16                                      Generic brand\n",
       "23                                      Premium Cases\n",
       "25                                       Bella+Canvas\n",
       "26                                             Gildan\n",
       "27                                       Bella+Canvas\n",
       "28                                      Generic brand\n",
       "29                                             Gildan\n",
       "30                                      Generic brand\n",
       "33                                      Generic brand\n",
       "34                                             Gildan\n",
       "36                                      Generic brand\n",
       "37                                             Gildan\n",
       "38                                             Gildan\n",
       "39                                             Gildan\n",
       "40                             [Bella+Canvas, Gildan]\n",
       "41                                             Gildan\n",
       "42                                       Bella+Canvas\n",
       "43                                             Gildan\n",
       "44                                             Gildan\n",
       "45                                             Gildan\n",
       "46                 [Bella+Canvas, Gildan, Next Level]\n",
       "47                                      Generic brand\n",
       "48                                      Generic brand\n",
       "49                                      Generic brand\n",
       "51                                      Generic brand\n",
       "52                                             Gildan\n",
       "54                                       Bella+Canvas\n",
       "59                                      Generic brand\n",
       "65                                             Gildan\n",
       "70                                      Generic brand"
      ]
     },
     "execution_count": 68,
     "metadata": {},
     "output_type": "execute_result"
    }
   ],
   "source": [
    "# Get the mode of brand column for data grouped for each print provider\n",
    "printer_poplular_brand = printify_df[['PRINT_PROVIDER_ID', 'PRODUCT_BRAND']].groupby(['PRINT_PROVIDER_ID'], sort=True).agg(pd.Series.mode)\n",
    "\n",
    "# Rename columns\n",
    "printer_poplular_brand.rename(columns={'PRODUCT_BRAND':'Popular_brand'}, inplace=True)\n",
    "printer_poplular_brand"
   ]
  },
  {
   "cell_type": "code",
   "execution_count": 69,
   "id": "38dc34d3",
   "metadata": {
    "scrolled": true
   },
   "outputs": [
    {
     "data": {
      "text/html": [
       "<div>\n",
       "<style scoped>\n",
       "    .dataframe tbody tr th:only-of-type {\n",
       "        vertical-align: middle;\n",
       "    }\n",
       "\n",
       "    .dataframe tbody tr th {\n",
       "        vertical-align: top;\n",
       "    }\n",
       "\n",
       "    .dataframe thead th {\n",
       "        text-align: right;\n",
       "    }\n",
       "</style>\n",
       "<table border=\"1\" class=\"dataframe\">\n",
       "  <thead>\n",
       "    <tr style=\"text-align: right;\">\n",
       "      <th></th>\n",
       "      <th>Popular_brand</th>\n",
       "    </tr>\n",
       "    <tr>\n",
       "      <th>PRINT_PROVIDER_ID</th>\n",
       "      <th></th>\n",
       "    </tr>\n",
       "  </thead>\n",
       "  <tbody>\n",
       "    <tr>\n",
       "      <th>1</th>\n",
       "      <td>Mug</td>\n",
       "    </tr>\n",
       "    <tr>\n",
       "      <th>2</th>\n",
       "      <td>Poster</td>\n",
       "    </tr>\n",
       "    <tr>\n",
       "      <th>3</th>\n",
       "      <td>T-Shirt</td>\n",
       "    </tr>\n",
       "    <tr>\n",
       "      <th>6</th>\n",
       "      <td>T-Shirt</td>\n",
       "    </tr>\n",
       "    <tr>\n",
       "      <th>7</th>\n",
       "      <td>Poster</td>\n",
       "    </tr>\n",
       "    <tr>\n",
       "      <th>8</th>\n",
       "      <td>Kids clothes</td>\n",
       "    </tr>\n",
       "    <tr>\n",
       "      <th>9</th>\n",
       "      <td>Mug</td>\n",
       "    </tr>\n",
       "    <tr>\n",
       "      <th>10</th>\n",
       "      <td>Accessories</td>\n",
       "    </tr>\n",
       "    <tr>\n",
       "      <th>14</th>\n",
       "      <td>All Over Prints</td>\n",
       "    </tr>\n",
       "    <tr>\n",
       "      <th>16</th>\n",
       "      <td>Mug</td>\n",
       "    </tr>\n",
       "    <tr>\n",
       "      <th>23</th>\n",
       "      <td>Phone Case</td>\n",
       "    </tr>\n",
       "    <tr>\n",
       "      <th>25</th>\n",
       "      <td>T-Shirt</td>\n",
       "    </tr>\n",
       "    <tr>\n",
       "      <th>26</th>\n",
       "      <td>T-Shirt</td>\n",
       "    </tr>\n",
       "    <tr>\n",
       "      <th>27</th>\n",
       "      <td>T-Shirt</td>\n",
       "    </tr>\n",
       "    <tr>\n",
       "      <th>28</th>\n",
       "      <td>Mug</td>\n",
       "    </tr>\n",
       "    <tr>\n",
       "      <th>29</th>\n",
       "      <td>T-Shirt</td>\n",
       "    </tr>\n",
       "    <tr>\n",
       "      <th>30</th>\n",
       "      <td>Mug</td>\n",
       "    </tr>\n",
       "    <tr>\n",
       "      <th>33</th>\n",
       "      <td>Accessories</td>\n",
       "    </tr>\n",
       "    <tr>\n",
       "      <th>34</th>\n",
       "      <td>T-Shirt</td>\n",
       "    </tr>\n",
       "    <tr>\n",
       "      <th>36</th>\n",
       "      <td>Poster</td>\n",
       "    </tr>\n",
       "    <tr>\n",
       "      <th>37</th>\n",
       "      <td>Kids clothes</td>\n",
       "    </tr>\n",
       "    <tr>\n",
       "      <th>38</th>\n",
       "      <td>Hoodie</td>\n",
       "    </tr>\n",
       "    <tr>\n",
       "      <th>39</th>\n",
       "      <td>Sweatshirt</td>\n",
       "    </tr>\n",
       "    <tr>\n",
       "      <th>40</th>\n",
       "      <td>T-Shirt</td>\n",
       "    </tr>\n",
       "    <tr>\n",
       "      <th>41</th>\n",
       "      <td>Home Decor</td>\n",
       "    </tr>\n",
       "    <tr>\n",
       "      <th>42</th>\n",
       "      <td>T-Shirt</td>\n",
       "    </tr>\n",
       "    <tr>\n",
       "      <th>43</th>\n",
       "      <td>T-Shirt</td>\n",
       "    </tr>\n",
       "    <tr>\n",
       "      <th>44</th>\n",
       "      <td>T-Shirt</td>\n",
       "    </tr>\n",
       "    <tr>\n",
       "      <th>45</th>\n",
       "      <td>Sweatshirt</td>\n",
       "    </tr>\n",
       "    <tr>\n",
       "      <th>46</th>\n",
       "      <td>T-Shirt</td>\n",
       "    </tr>\n",
       "    <tr>\n",
       "      <th>47</th>\n",
       "      <td>All Over Prints</td>\n",
       "    </tr>\n",
       "    <tr>\n",
       "      <th>48</th>\n",
       "      <td>Mug</td>\n",
       "    </tr>\n",
       "    <tr>\n",
       "      <th>49</th>\n",
       "      <td>Home Decor</td>\n",
       "    </tr>\n",
       "    <tr>\n",
       "      <th>51</th>\n",
       "      <td>Accessories</td>\n",
       "    </tr>\n",
       "    <tr>\n",
       "      <th>52</th>\n",
       "      <td>Sweatshirt</td>\n",
       "    </tr>\n",
       "    <tr>\n",
       "      <th>54</th>\n",
       "      <td>T-Shirt</td>\n",
       "    </tr>\n",
       "    <tr>\n",
       "      <th>59</th>\n",
       "      <td>Home Decor</td>\n",
       "    </tr>\n",
       "    <tr>\n",
       "      <th>65</th>\n",
       "      <td>T-Shirt</td>\n",
       "    </tr>\n",
       "    <tr>\n",
       "      <th>70</th>\n",
       "      <td>Home Decor</td>\n",
       "    </tr>\n",
       "  </tbody>\n",
       "</table>\n",
       "</div>"
      ],
      "text/plain": [
       "                     Popular_brand\n",
       "PRINT_PROVIDER_ID                 \n",
       "1                              Mug\n",
       "2                           Poster\n",
       "3                          T-Shirt\n",
       "6                          T-Shirt\n",
       "7                           Poster\n",
       "8                     Kids clothes\n",
       "9                              Mug\n",
       "10                     Accessories\n",
       "14                 All Over Prints\n",
       "16                             Mug\n",
       "23                      Phone Case\n",
       "25                         T-Shirt\n",
       "26                         T-Shirt\n",
       "27                         T-Shirt\n",
       "28                             Mug\n",
       "29                         T-Shirt\n",
       "30                             Mug\n",
       "33                     Accessories\n",
       "34                         T-Shirt\n",
       "36                          Poster\n",
       "37                    Kids clothes\n",
       "38                          Hoodie\n",
       "39                      Sweatshirt\n",
       "40                         T-Shirt\n",
       "41                      Home Decor\n",
       "42                         T-Shirt\n",
       "43                         T-Shirt\n",
       "44                         T-Shirt\n",
       "45                      Sweatshirt\n",
       "46                         T-Shirt\n",
       "47                 All Over Prints\n",
       "48                             Mug\n",
       "49                      Home Decor\n",
       "51                     Accessories\n",
       "52                      Sweatshirt\n",
       "54                         T-Shirt\n",
       "59                      Home Decor\n",
       "65                         T-Shirt\n",
       "70                      Home Decor"
      ]
     },
     "execution_count": 69,
     "metadata": {},
     "output_type": "execute_result"
    }
   ],
   "source": [
    "# Get the mode of product type column for data grouped for each print provider\n",
    "printer_poplular_product = printify_df[['PRINT_PROVIDER_ID', 'PRODUCT_TYPE']].groupby(['PRINT_PROVIDER_ID'], sort=True).agg(pd.Series.mode)\n",
    "\n",
    "# Rename columns\n",
    "printer_poplular_product.rename(columns={'PRODUCT_TYPE':'Popular_brand'}, inplace=True)\n",
    "printer_poplular_product"
   ]
  },
  {
   "cell_type": "code",
   "execution_count": 70,
   "id": "637bf368",
   "metadata": {},
   "outputs": [
    {
     "data": {
      "text/plain": [
       "Index(['MERCHANT_ID', 'ORDER_ID', 'SHOP_ID', 'ADDRESS_TO_COUNTRY',\n",
       "       'ADDRESS_TO_REGION', 'ORDER_DT', 'FULFILLED_DT', 'REPRINT_FLAG',\n",
       "       'SALES_CHANNEL_TYPE_ID', 'TOTAL_COST', 'TOTAL_SHIPPING',\n",
       "       'MERCHANT_REGISTERED_DT', 'SUB_IS_ACTIVE_FLAG', 'SUB_PLAN',\n",
       "       'SHIPMENT_CARRIER', 'SHIPMENT_DELIVERD_DT', 'PRINT_PROVIDER_ID',\n",
       "       'PRODUCT_BRAND', 'PRODUCT_TYPE', 'ITEM_STATUS', 'QUANTITY'],\n",
       "      dtype='object')"
      ]
     },
     "execution_count": 70,
     "metadata": {},
     "output_type": "execute_result"
    }
   ],
   "source": [
    "printify_df.columns"
   ]
  },
  {
   "cell_type": "code",
   "execution_count": 71,
   "id": "99e0aaed",
   "metadata": {
    "scrolled": true
   },
   "outputs": [
    {
     "data": {
      "text/html": [
       "<div>\n",
       "<style scoped>\n",
       "    .dataframe tbody tr th:only-of-type {\n",
       "        vertical-align: middle;\n",
       "    }\n",
       "\n",
       "    .dataframe tbody tr th {\n",
       "        vertical-align: top;\n",
       "    }\n",
       "\n",
       "    .dataframe thead th {\n",
       "        text-align: right;\n",
       "    }\n",
       "</style>\n",
       "<table border=\"1\" class=\"dataframe\">\n",
       "  <thead>\n",
       "    <tr style=\"text-align: right;\">\n",
       "      <th></th>\n",
       "      <th>Printer_revenue</th>\n",
       "    </tr>\n",
       "    <tr>\n",
       "      <th>PRINT_PROVIDER_ID</th>\n",
       "      <th></th>\n",
       "    </tr>\n",
       "  </thead>\n",
       "  <tbody>\n",
       "    <tr>\n",
       "      <th>1</th>\n",
       "      <td>2862852</td>\n",
       "    </tr>\n",
       "    <tr>\n",
       "      <th>2</th>\n",
       "      <td>693485</td>\n",
       "    </tr>\n",
       "    <tr>\n",
       "      <th>3</th>\n",
       "      <td>3496045</td>\n",
       "    </tr>\n",
       "    <tr>\n",
       "      <th>6</th>\n",
       "      <td>309024</td>\n",
       "    </tr>\n",
       "    <tr>\n",
       "      <th>7</th>\n",
       "      <td>14508</td>\n",
       "    </tr>\n",
       "    <tr>\n",
       "      <th>8</th>\n",
       "      <td>0</td>\n",
       "    </tr>\n",
       "    <tr>\n",
       "      <th>9</th>\n",
       "      <td>48713</td>\n",
       "    </tr>\n",
       "    <tr>\n",
       "      <th>10</th>\n",
       "      <td>4161449</td>\n",
       "    </tr>\n",
       "    <tr>\n",
       "      <th>14</th>\n",
       "      <td>558541</td>\n",
       "    </tr>\n",
       "    <tr>\n",
       "      <th>16</th>\n",
       "      <td>2924439</td>\n",
       "    </tr>\n",
       "    <tr>\n",
       "      <th>23</th>\n",
       "      <td>357573</td>\n",
       "    </tr>\n",
       "    <tr>\n",
       "      <th>25</th>\n",
       "      <td>808216</td>\n",
       "    </tr>\n",
       "    <tr>\n",
       "      <th>26</th>\n",
       "      <td>422939</td>\n",
       "    </tr>\n",
       "    <tr>\n",
       "      <th>27</th>\n",
       "      <td>314909</td>\n",
       "    </tr>\n",
       "    <tr>\n",
       "      <th>28</th>\n",
       "      <td>48925</td>\n",
       "    </tr>\n",
       "    <tr>\n",
       "      <th>29</th>\n",
       "      <td>5947910</td>\n",
       "    </tr>\n",
       "    <tr>\n",
       "      <th>30</th>\n",
       "      <td>429883</td>\n",
       "    </tr>\n",
       "    <tr>\n",
       "      <th>33</th>\n",
       "      <td>297150</td>\n",
       "    </tr>\n",
       "    <tr>\n",
       "      <th>34</th>\n",
       "      <td>58872</td>\n",
       "    </tr>\n",
       "    <tr>\n",
       "      <th>36</th>\n",
       "      <td>40099</td>\n",
       "    </tr>\n",
       "    <tr>\n",
       "      <th>37</th>\n",
       "      <td>89598</td>\n",
       "    </tr>\n",
       "    <tr>\n",
       "      <th>38</th>\n",
       "      <td>96034</td>\n",
       "    </tr>\n",
       "    <tr>\n",
       "      <th>39</th>\n",
       "      <td>2210919</td>\n",
       "    </tr>\n",
       "    <tr>\n",
       "      <th>40</th>\n",
       "      <td>65522</td>\n",
       "    </tr>\n",
       "    <tr>\n",
       "      <th>41</th>\n",
       "      <td>741482</td>\n",
       "    </tr>\n",
       "    <tr>\n",
       "      <th>42</th>\n",
       "      <td>404716</td>\n",
       "    </tr>\n",
       "    <tr>\n",
       "      <th>43</th>\n",
       "      <td>323118</td>\n",
       "    </tr>\n",
       "    <tr>\n",
       "      <th>44</th>\n",
       "      <td>340086</td>\n",
       "    </tr>\n",
       "    <tr>\n",
       "      <th>45</th>\n",
       "      <td>1508839</td>\n",
       "    </tr>\n",
       "    <tr>\n",
       "      <th>46</th>\n",
       "      <td>6813</td>\n",
       "    </tr>\n",
       "    <tr>\n",
       "      <th>47</th>\n",
       "      <td>83564</td>\n",
       "    </tr>\n",
       "    <tr>\n",
       "      <th>48</th>\n",
       "      <td>274716</td>\n",
       "    </tr>\n",
       "    <tr>\n",
       "      <th>49</th>\n",
       "      <td>0</td>\n",
       "    </tr>\n",
       "    <tr>\n",
       "      <th>51</th>\n",
       "      <td>254453</td>\n",
       "    </tr>\n",
       "    <tr>\n",
       "      <th>52</th>\n",
       "      <td>283460</td>\n",
       "    </tr>\n",
       "    <tr>\n",
       "      <th>54</th>\n",
       "      <td>26640</td>\n",
       "    </tr>\n",
       "    <tr>\n",
       "      <th>59</th>\n",
       "      <td>254187</td>\n",
       "    </tr>\n",
       "    <tr>\n",
       "      <th>65</th>\n",
       "      <td>86265</td>\n",
       "    </tr>\n",
       "    <tr>\n",
       "      <th>70</th>\n",
       "      <td>21046</td>\n",
       "    </tr>\n",
       "  </tbody>\n",
       "</table>\n",
       "</div>"
      ],
      "text/plain": [
       "                   Printer_revenue\n",
       "PRINT_PROVIDER_ID                 \n",
       "1                          2862852\n",
       "2                           693485\n",
       "3                          3496045\n",
       "6                           309024\n",
       "7                            14508\n",
       "8                                0\n",
       "9                            48713\n",
       "10                         4161449\n",
       "14                          558541\n",
       "16                         2924439\n",
       "23                          357573\n",
       "25                          808216\n",
       "26                          422939\n",
       "27                          314909\n",
       "28                           48925\n",
       "29                         5947910\n",
       "30                          429883\n",
       "33                          297150\n",
       "34                           58872\n",
       "36                           40099\n",
       "37                           89598\n",
       "38                           96034\n",
       "39                         2210919\n",
       "40                           65522\n",
       "41                          741482\n",
       "42                          404716\n",
       "43                          323118\n",
       "44                          340086\n",
       "45                         1508839\n",
       "46                            6813\n",
       "47                           83564\n",
       "48                          274716\n",
       "49                               0\n",
       "51                          254453\n",
       "52                          283460\n",
       "54                           26640\n",
       "59                          254187\n",
       "65                           86265\n",
       "70                           21046"
      ]
     },
     "execution_count": 71,
     "metadata": {},
     "output_type": "execute_result"
    }
   ],
   "source": [
    "# Take the sum of total cost for all orders done by each print provider \n",
    "printer_revenue = printify_df[['PRINT_PROVIDER_ID', 'TOTAL_COST']].groupby(['PRINT_PROVIDER_ID']).sum()\n",
    "\n",
    "# rename columns\n",
    "printer_revenue.rename(columns={'TOTAL_COST':'Printer_revenue'}, inplace=True)\n",
    "printer_revenue"
   ]
  },
  {
   "cell_type": "markdown",
   "id": "36c19deb",
   "metadata": {},
   "source": [
    "# Printer Performance Metric Combining"
   ]
  },
  {
   "cell_type": "code",
   "execution_count": 72,
   "id": "bc40abbd",
   "metadata": {
    "scrolled": true
   },
   "outputs": [
    {
     "data": {
      "text/html": [
       "<div>\n",
       "<style scoped>\n",
       "    .dataframe tbody tr th:only-of-type {\n",
       "        vertical-align: middle;\n",
       "    }\n",
       "\n",
       "    .dataframe tbody tr th {\n",
       "        vertical-align: top;\n",
       "    }\n",
       "\n",
       "    .dataframe thead th {\n",
       "        text-align: right;\n",
       "    }\n",
       "</style>\n",
       "<table border=\"1\" class=\"dataframe\">\n",
       "  <thead>\n",
       "    <tr style=\"text-align: right;\">\n",
       "      <th></th>\n",
       "      <th>Time_delay_hours</th>\n",
       "      <th>Total_printed_orders</th>\n",
       "      <th>Re_printed</th>\n",
       "      <th>Printer_revenue</th>\n",
       "      <th>Popular_brand_x</th>\n",
       "      <th>Popular_brand_y</th>\n",
       "    </tr>\n",
       "    <tr>\n",
       "      <th>PRINT_PROVIDER_ID</th>\n",
       "      <th></th>\n",
       "      <th></th>\n",
       "      <th></th>\n",
       "      <th></th>\n",
       "      <th></th>\n",
       "      <th></th>\n",
       "    </tr>\n",
       "  </thead>\n",
       "  <tbody>\n",
       "    <tr>\n",
       "      <th>1</th>\n",
       "      <td>175.976900</td>\n",
       "      <td>1629</td>\n",
       "      <td>11</td>\n",
       "      <td>2862852</td>\n",
       "      <td>Generic brand</td>\n",
       "      <td>Mug</td>\n",
       "    </tr>\n",
       "    <tr>\n",
       "      <th>2</th>\n",
       "      <td>199.278557</td>\n",
       "      <td>528</td>\n",
       "      <td>10</td>\n",
       "      <td>693485</td>\n",
       "      <td>Generic brand</td>\n",
       "      <td>Poster</td>\n",
       "    </tr>\n",
       "    <tr>\n",
       "      <th>3</th>\n",
       "      <td>215.475799</td>\n",
       "      <td>2240</td>\n",
       "      <td>11</td>\n",
       "      <td>3496045</td>\n",
       "      <td>Gildan</td>\n",
       "      <td>T-Shirt</td>\n",
       "    </tr>\n",
       "    <tr>\n",
       "      <th>7</th>\n",
       "      <td>52.769231</td>\n",
       "      <td>13</td>\n",
       "      <td>1</td>\n",
       "      <td>14508</td>\n",
       "      <td>Generic brand</td>\n",
       "      <td>Poster</td>\n",
       "    </tr>\n",
       "    <tr>\n",
       "      <th>10</th>\n",
       "      <td>181.475077</td>\n",
       "      <td>1854</td>\n",
       "      <td>12</td>\n",
       "      <td>4161449</td>\n",
       "      <td>Generic brand</td>\n",
       "      <td>Accessories</td>\n",
       "    </tr>\n",
       "    <tr>\n",
       "      <th>14</th>\n",
       "      <td>819.203390</td>\n",
       "      <td>59</td>\n",
       "      <td>1</td>\n",
       "      <td>558541</td>\n",
       "      <td>Generic brand</td>\n",
       "      <td>All Over Prints</td>\n",
       "    </tr>\n",
       "    <tr>\n",
       "      <th>16</th>\n",
       "      <td>248.983713</td>\n",
       "      <td>1339</td>\n",
       "      <td>17</td>\n",
       "      <td>2924439</td>\n",
       "      <td>Generic brand</td>\n",
       "      <td>Mug</td>\n",
       "    </tr>\n",
       "    <tr>\n",
       "      <th>25</th>\n",
       "      <td>182.034286</td>\n",
       "      <td>357</td>\n",
       "      <td>5</td>\n",
       "      <td>808216</td>\n",
       "      <td>Bella+Canvas</td>\n",
       "      <td>T-Shirt</td>\n",
       "    </tr>\n",
       "    <tr>\n",
       "      <th>26</th>\n",
       "      <td>307.625731</td>\n",
       "      <td>272</td>\n",
       "      <td>1</td>\n",
       "      <td>422939</td>\n",
       "      <td>Gildan</td>\n",
       "      <td>T-Shirt</td>\n",
       "    </tr>\n",
       "    <tr>\n",
       "      <th>29</th>\n",
       "      <td>147.984587</td>\n",
       "      <td>3925</td>\n",
       "      <td>19</td>\n",
       "      <td>5947910</td>\n",
       "      <td>Gildan</td>\n",
       "      <td>T-Shirt</td>\n",
       "    </tr>\n",
       "    <tr>\n",
       "      <th>30</th>\n",
       "      <td>397.594059</td>\n",
       "      <td>339</td>\n",
       "      <td>1</td>\n",
       "      <td>429883</td>\n",
       "      <td>Generic brand</td>\n",
       "      <td>Mug</td>\n",
       "    </tr>\n",
       "    <tr>\n",
       "      <th>37</th>\n",
       "      <td>153.411765</td>\n",
       "      <td>34</td>\n",
       "      <td>1</td>\n",
       "      <td>89598</td>\n",
       "      <td>Gildan</td>\n",
       "      <td>Kids clothes</td>\n",
       "    </tr>\n",
       "    <tr>\n",
       "      <th>39</th>\n",
       "      <td>278.034483</td>\n",
       "      <td>1157</td>\n",
       "      <td>3</td>\n",
       "      <td>2210919</td>\n",
       "      <td>Gildan</td>\n",
       "      <td>Sweatshirt</td>\n",
       "    </tr>\n",
       "    <tr>\n",
       "      <th>41</th>\n",
       "      <td>249.261538</td>\n",
       "      <td>530</td>\n",
       "      <td>3</td>\n",
       "      <td>741482</td>\n",
       "      <td>Gildan</td>\n",
       "      <td>Home Decor</td>\n",
       "    </tr>\n",
       "    <tr>\n",
       "      <th>42</th>\n",
       "      <td>363.359788</td>\n",
       "      <td>195</td>\n",
       "      <td>3</td>\n",
       "      <td>404716</td>\n",
       "      <td>Bella+Canvas</td>\n",
       "      <td>T-Shirt</td>\n",
       "    </tr>\n",
       "    <tr>\n",
       "      <th>43</th>\n",
       "      <td>207.025478</td>\n",
       "      <td>165</td>\n",
       "      <td>2</td>\n",
       "      <td>323118</td>\n",
       "      <td>Gildan</td>\n",
       "      <td>T-Shirt</td>\n",
       "    </tr>\n",
       "    <tr>\n",
       "      <th>44</th>\n",
       "      <td>531.220588</td>\n",
       "      <td>141</td>\n",
       "      <td>1</td>\n",
       "      <td>340086</td>\n",
       "      <td>Gildan</td>\n",
       "      <td>T-Shirt</td>\n",
       "    </tr>\n",
       "    <tr>\n",
       "      <th>45</th>\n",
       "      <td>261.330317</td>\n",
       "      <td>452</td>\n",
       "      <td>2</td>\n",
       "      <td>1508839</td>\n",
       "      <td>Gildan</td>\n",
       "      <td>Sweatshirt</td>\n",
       "    </tr>\n",
       "    <tr>\n",
       "      <th>48</th>\n",
       "      <td>273.952381</td>\n",
       "      <td>272</td>\n",
       "      <td>1</td>\n",
       "      <td>274716</td>\n",
       "      <td>Generic brand</td>\n",
       "      <td>Mug</td>\n",
       "    </tr>\n",
       "    <tr>\n",
       "      <th>52</th>\n",
       "      <td>269.350746</td>\n",
       "      <td>134</td>\n",
       "      <td>1</td>\n",
       "      <td>283460</td>\n",
       "      <td>Gildan</td>\n",
       "      <td>Sweatshirt</td>\n",
       "    </tr>\n",
       "    <tr>\n",
       "      <th>59</th>\n",
       "      <td>559.050926</td>\n",
       "      <td>327</td>\n",
       "      <td>2</td>\n",
       "      <td>254187</td>\n",
       "      <td>Generic brand</td>\n",
       "      <td>Home Decor</td>\n",
       "    </tr>\n",
       "  </tbody>\n",
       "</table>\n",
       "</div>"
      ],
      "text/plain": [
       "                   Time_delay_hours  Total_printed_orders  Re_printed  \\\n",
       "PRINT_PROVIDER_ID                                                       \n",
       "1                        175.976900                  1629          11   \n",
       "2                        199.278557                   528          10   \n",
       "3                        215.475799                  2240          11   \n",
       "7                         52.769231                    13           1   \n",
       "10                       181.475077                  1854          12   \n",
       "14                       819.203390                    59           1   \n",
       "16                       248.983713                  1339          17   \n",
       "25                       182.034286                   357           5   \n",
       "26                       307.625731                   272           1   \n",
       "29                       147.984587                  3925          19   \n",
       "30                       397.594059                   339           1   \n",
       "37                       153.411765                    34           1   \n",
       "39                       278.034483                  1157           3   \n",
       "41                       249.261538                   530           3   \n",
       "42                       363.359788                   195           3   \n",
       "43                       207.025478                   165           2   \n",
       "44                       531.220588                   141           1   \n",
       "45                       261.330317                   452           2   \n",
       "48                       273.952381                   272           1   \n",
       "52                       269.350746                   134           1   \n",
       "59                       559.050926                   327           2   \n",
       "\n",
       "                   Printer_revenue Popular_brand_x  Popular_brand_y  \n",
       "PRINT_PROVIDER_ID                                                    \n",
       "1                          2862852   Generic brand              Mug  \n",
       "2                           693485   Generic brand           Poster  \n",
       "3                          3496045          Gildan          T-Shirt  \n",
       "7                            14508   Generic brand           Poster  \n",
       "10                         4161449   Generic brand      Accessories  \n",
       "14                          558541   Generic brand  All Over Prints  \n",
       "16                         2924439   Generic brand              Mug  \n",
       "25                          808216    Bella+Canvas          T-Shirt  \n",
       "26                          422939          Gildan          T-Shirt  \n",
       "29                         5947910          Gildan          T-Shirt  \n",
       "30                          429883   Generic brand              Mug  \n",
       "37                           89598          Gildan     Kids clothes  \n",
       "39                         2210919          Gildan       Sweatshirt  \n",
       "41                          741482          Gildan       Home Decor  \n",
       "42                          404716    Bella+Canvas          T-Shirt  \n",
       "43                          323118          Gildan          T-Shirt  \n",
       "44                          340086          Gildan          T-Shirt  \n",
       "45                         1508839          Gildan       Sweatshirt  \n",
       "48                          274716   Generic brand              Mug  \n",
       "52                          283460          Gildan       Sweatshirt  \n",
       "59                          254187   Generic brand       Home Decor  "
      ]
     },
     "execution_count": 72,
     "metadata": {},
     "output_type": "execute_result"
    }
   ],
   "source": [
    "# Merge the individual printer performance into one df \n",
    "# Merge was preffered over concat due to precision and ability\n",
    "# to specify the collumn to merge on like in SQL\n",
    "# Thus, not very clean code here, but very optimal as others would\n",
    "# need to sort first\n",
    "\n",
    "# merging delay time with total printed orders\n",
    "printer_perf1 = pd.merge(printer_delay, total_orders_printed, on=['PRINT_PROVIDER_ID'])\n",
    "\n",
    "# merge previous with reprint data for each printer\n",
    "printer_perf2 = pd.merge(printer_perf1, reprint, on=['PRINT_PROVIDER_ID'])\n",
    "\n",
    "# merge printer revenue on previous\n",
    "printer_perf3 = pd.merge(printer_perf2, printer_revenue, on=['PRINT_PROVIDER_ID'])\n",
    "\n",
    "# merge on brands and products that each printer does more\n",
    "printer_perf4 = pd.merge(printer_perf3, printer_poplular_brand, on=['PRINT_PROVIDER_ID'])\n",
    "printer_perf = pd.merge(printer_perf4, printer_poplular_product, on=['PRINT_PROVIDER_ID'])\n",
    "printer_perf"
   ]
  },
  {
   "cell_type": "code",
   "execution_count": null,
   "id": "1061f7e8",
   "metadata": {},
   "outputs": [],
   "source": []
  },
  {
   "cell_type": "code",
   "execution_count": null,
   "id": "6d087faa",
   "metadata": {},
   "outputs": [],
   "source": []
  },
  {
   "cell_type": "markdown",
   "id": "b5f622b6",
   "metadata": {},
   "source": [
    "# Print Providers Success criteria\n",
    "\n",
    "Success_factor = {(log10(Revenue)* (Total_printed - Re_printed * 10)) / (Time_delay * 1.5)}"
   ]
  },
  {
   "cell_type": "code",
   "execution_count": 73,
   "id": "bc0c873b",
   "metadata": {
    "scrolled": true
   },
   "outputs": [
    {
     "data": {
      "text/html": [
       "<div>\n",
       "<style scoped>\n",
       "    .dataframe tbody tr th:only-of-type {\n",
       "        vertical-align: middle;\n",
       "    }\n",
       "\n",
       "    .dataframe tbody tr th {\n",
       "        vertical-align: top;\n",
       "    }\n",
       "\n",
       "    .dataframe thead th {\n",
       "        text-align: right;\n",
       "    }\n",
       "</style>\n",
       "<table border=\"1\" class=\"dataframe\">\n",
       "  <thead>\n",
       "    <tr style=\"text-align: right;\">\n",
       "      <th></th>\n",
       "      <th>Time_delay_hours</th>\n",
       "      <th>Total_printed_orders</th>\n",
       "      <th>Re_printed</th>\n",
       "      <th>Printer_revenue</th>\n",
       "      <th>Popular_brand_x</th>\n",
       "      <th>Popular_brand_y</th>\n",
       "      <th>Printer_sucesss_factor</th>\n",
       "    </tr>\n",
       "    <tr>\n",
       "      <th>PRINT_PROVIDER_ID</th>\n",
       "      <th></th>\n",
       "      <th></th>\n",
       "      <th></th>\n",
       "      <th></th>\n",
       "      <th></th>\n",
       "      <th></th>\n",
       "      <th></th>\n",
       "    </tr>\n",
       "  </thead>\n",
       "  <tbody>\n",
       "    <tr>\n",
       "      <th>29</th>\n",
       "      <td>147.984587</td>\n",
       "      <td>3925</td>\n",
       "      <td>19</td>\n",
       "      <td>5947910</td>\n",
       "      <td>Gildan</td>\n",
       "      <td>T-Shirt</td>\n",
       "      <td>256.468442</td>\n",
       "    </tr>\n",
       "    <tr>\n",
       "      <th>3</th>\n",
       "      <td>215.475799</td>\n",
       "      <td>2240</td>\n",
       "      <td>11</td>\n",
       "      <td>3496045</td>\n",
       "      <td>Gildan</td>\n",
       "      <td>T-Shirt</td>\n",
       "      <td>97.025878</td>\n",
       "    </tr>\n",
       "    <tr>\n",
       "      <th>10</th>\n",
       "      <td>181.475077</td>\n",
       "      <td>1854</td>\n",
       "      <td>12</td>\n",
       "      <td>4161449</td>\n",
       "      <td>Generic brand</td>\n",
       "      <td>Accessories</td>\n",
       "      <td>94.870631</td>\n",
       "    </tr>\n",
       "    <tr>\n",
       "      <th>1</th>\n",
       "      <td>175.976900</td>\n",
       "      <td>1629</td>\n",
       "      <td>11</td>\n",
       "      <td>2862852</td>\n",
       "      <td>Generic brand</td>\n",
       "      <td>Mug</td>\n",
       "      <td>83.600838</td>\n",
       "    </tr>\n",
       "    <tr>\n",
       "      <th>16</th>\n",
       "      <td>248.983713</td>\n",
       "      <td>1339</td>\n",
       "      <td>17</td>\n",
       "      <td>2924439</td>\n",
       "      <td>Generic brand</td>\n",
       "      <td>Mug</td>\n",
       "      <td>45.537941</td>\n",
       "    </tr>\n",
       "    <tr>\n",
       "      <th>39</th>\n",
       "      <td>278.034483</td>\n",
       "      <td>1157</td>\n",
       "      <td>3</td>\n",
       "      <td>2210919</td>\n",
       "      <td>Gildan</td>\n",
       "      <td>Sweatshirt</td>\n",
       "      <td>38.576152</td>\n",
       "    </tr>\n",
       "    <tr>\n",
       "      <th>2</th>\n",
       "      <td>199.278557</td>\n",
       "      <td>528</td>\n",
       "      <td>10</td>\n",
       "      <td>693485</td>\n",
       "      <td>Generic brand</td>\n",
       "      <td>Poster</td>\n",
       "      <td>18.817608</td>\n",
       "    </tr>\n",
       "    <tr>\n",
       "      <th>41</th>\n",
       "      <td>249.261538</td>\n",
       "      <td>530</td>\n",
       "      <td>3</td>\n",
       "      <td>741482</td>\n",
       "      <td>Gildan</td>\n",
       "      <td>Home Decor</td>\n",
       "      <td>17.662474</td>\n",
       "    </tr>\n",
       "    <tr>\n",
       "      <th>45</th>\n",
       "      <td>261.330317</td>\n",
       "      <td>452</td>\n",
       "      <td>2</td>\n",
       "      <td>1508839</td>\n",
       "      <td>Gildan</td>\n",
       "      <td>Sweatshirt</td>\n",
       "      <td>15.320689</td>\n",
       "    </tr>\n",
       "    <tr>\n",
       "      <th>25</th>\n",
       "      <td>182.034286</td>\n",
       "      <td>357</td>\n",
       "      <td>5</td>\n",
       "      <td>808216</td>\n",
       "      <td>Bella+Canvas</td>\n",
       "      <td>T-Shirt</td>\n",
       "      <td>14.944527</td>\n",
       "    </tr>\n",
       "    <tr>\n",
       "      <th>48</th>\n",
       "      <td>273.952381</td>\n",
       "      <td>272</td>\n",
       "      <td>1</td>\n",
       "      <td>274716</td>\n",
       "      <td>Generic brand</td>\n",
       "      <td>Mug</td>\n",
       "      <td>7.802383</td>\n",
       "    </tr>\n",
       "    <tr>\n",
       "      <th>26</th>\n",
       "      <td>307.625731</td>\n",
       "      <td>272</td>\n",
       "      <td>1</td>\n",
       "      <td>422939</td>\n",
       "      <td>Gildan</td>\n",
       "      <td>T-Shirt</td>\n",
       "      <td>7.187718</td>\n",
       "    </tr>\n",
       "    <tr>\n",
       "      <th>30</th>\n",
       "      <td>397.594059</td>\n",
       "      <td>339</td>\n",
       "      <td>1</td>\n",
       "      <td>429883</td>\n",
       "      <td>Generic brand</td>\n",
       "      <td>Mug</td>\n",
       "      <td>6.992203</td>\n",
       "    </tr>\n",
       "    <tr>\n",
       "      <th>43</th>\n",
       "      <td>207.025478</td>\n",
       "      <td>165</td>\n",
       "      <td>2</td>\n",
       "      <td>323118</td>\n",
       "      <td>Gildan</td>\n",
       "      <td>T-Shirt</td>\n",
       "      <td>5.788109</td>\n",
       "    </tr>\n",
       "    <tr>\n",
       "      <th>59</th>\n",
       "      <td>559.050926</td>\n",
       "      <td>327</td>\n",
       "      <td>2</td>\n",
       "      <td>254187</td>\n",
       "      <td>Generic brand</td>\n",
       "      <td>Home Decor</td>\n",
       "      <td>4.452319</td>\n",
       "    </tr>\n",
       "    <tr>\n",
       "      <th>42</th>\n",
       "      <td>363.359788</td>\n",
       "      <td>195</td>\n",
       "      <td>3</td>\n",
       "      <td>404716</td>\n",
       "      <td>Bella+Canvas</td>\n",
       "      <td>T-Shirt</td>\n",
       "      <td>3.819272</td>\n",
       "    </tr>\n",
       "    <tr>\n",
       "      <th>52</th>\n",
       "      <td>269.350746</td>\n",
       "      <td>134</td>\n",
       "      <td>1</td>\n",
       "      <td>283460</td>\n",
       "      <td>Gildan</td>\n",
       "      <td>Sweatshirt</td>\n",
       "      <td>3.765215</td>\n",
       "    </tr>\n",
       "    <tr>\n",
       "      <th>44</th>\n",
       "      <td>531.220588</td>\n",
       "      <td>141</td>\n",
       "      <td>1</td>\n",
       "      <td>340086</td>\n",
       "      <td>Gildan</td>\n",
       "      <td>T-Shirt</td>\n",
       "      <td>2.046150</td>\n",
       "    </tr>\n",
       "    <tr>\n",
       "      <th>37</th>\n",
       "      <td>153.411765</td>\n",
       "      <td>34</td>\n",
       "      <td>1</td>\n",
       "      <td>89598</td>\n",
       "      <td>Gildan</td>\n",
       "      <td>Kids clothes</td>\n",
       "      <td>1.162119</td>\n",
       "    </tr>\n",
       "    <tr>\n",
       "      <th>14</th>\n",
       "      <td>819.203390</td>\n",
       "      <td>59</td>\n",
       "      <td>1</td>\n",
       "      <td>558541</td>\n",
       "      <td>Generic brand</td>\n",
       "      <td>All Over Prints</td>\n",
       "      <td>0.515633</td>\n",
       "    </tr>\n",
       "    <tr>\n",
       "      <th>7</th>\n",
       "      <td>52.769231</td>\n",
       "      <td>13</td>\n",
       "      <td>1</td>\n",
       "      <td>14508</td>\n",
       "      <td>Generic brand</td>\n",
       "      <td>Poster</td>\n",
       "      <td>0.354889</td>\n",
       "    </tr>\n",
       "  </tbody>\n",
       "</table>\n",
       "</div>"
      ],
      "text/plain": [
       "                   Time_delay_hours  Total_printed_orders  Re_printed  \\\n",
       "PRINT_PROVIDER_ID                                                       \n",
       "29                       147.984587                  3925          19   \n",
       "3                        215.475799                  2240          11   \n",
       "10                       181.475077                  1854          12   \n",
       "1                        175.976900                  1629          11   \n",
       "16                       248.983713                  1339          17   \n",
       "39                       278.034483                  1157           3   \n",
       "2                        199.278557                   528          10   \n",
       "41                       249.261538                   530           3   \n",
       "45                       261.330317                   452           2   \n",
       "25                       182.034286                   357           5   \n",
       "48                       273.952381                   272           1   \n",
       "26                       307.625731                   272           1   \n",
       "30                       397.594059                   339           1   \n",
       "43                       207.025478                   165           2   \n",
       "59                       559.050926                   327           2   \n",
       "42                       363.359788                   195           3   \n",
       "52                       269.350746                   134           1   \n",
       "44                       531.220588                   141           1   \n",
       "37                       153.411765                    34           1   \n",
       "14                       819.203390                    59           1   \n",
       "7                         52.769231                    13           1   \n",
       "\n",
       "                   Printer_revenue Popular_brand_x  Popular_brand_y  \\\n",
       "PRINT_PROVIDER_ID                                                     \n",
       "29                         5947910          Gildan          T-Shirt   \n",
       "3                          3496045          Gildan          T-Shirt   \n",
       "10                         4161449   Generic brand      Accessories   \n",
       "1                          2862852   Generic brand              Mug   \n",
       "16                         2924439   Generic brand              Mug   \n",
       "39                         2210919          Gildan       Sweatshirt   \n",
       "2                           693485   Generic brand           Poster   \n",
       "41                          741482          Gildan       Home Decor   \n",
       "45                         1508839          Gildan       Sweatshirt   \n",
       "25                          808216    Bella+Canvas          T-Shirt   \n",
       "48                          274716   Generic brand              Mug   \n",
       "26                          422939          Gildan          T-Shirt   \n",
       "30                          429883   Generic brand              Mug   \n",
       "43                          323118          Gildan          T-Shirt   \n",
       "59                          254187   Generic brand       Home Decor   \n",
       "42                          404716    Bella+Canvas          T-Shirt   \n",
       "52                          283460          Gildan       Sweatshirt   \n",
       "44                          340086          Gildan          T-Shirt   \n",
       "37                           89598          Gildan     Kids clothes   \n",
       "14                          558541   Generic brand  All Over Prints   \n",
       "7                            14508   Generic brand           Poster   \n",
       "\n",
       "                   Printer_sucesss_factor  \n",
       "PRINT_PROVIDER_ID                          \n",
       "29                             256.468442  \n",
       "3                               97.025878  \n",
       "10                              94.870631  \n",
       "1                               83.600838  \n",
       "16                              45.537941  \n",
       "39                              38.576152  \n",
       "2                               18.817608  \n",
       "41                              17.662474  \n",
       "45                              15.320689  \n",
       "25                              14.944527  \n",
       "48                               7.802383  \n",
       "26                               7.187718  \n",
       "30                               6.992203  \n",
       "43                               5.788109  \n",
       "59                               4.452319  \n",
       "42                               3.819272  \n",
       "52                               3.765215  \n",
       "44                               2.046150  \n",
       "37                               1.162119  \n",
       "14                               0.515633  \n",
       "7                                0.354889  "
      ]
     },
     "execution_count": 73,
     "metadata": {},
     "output_type": "execute_result"
    }
   ],
   "source": [
    "printer_perf['Printer_sucesss_factor'] = (\n",
    "(np.log10(printer_perf['Printer_revenue']) * \n",
    "(printer_perf['Total_printed_orders'] - printer_perf['Re_printed'] * 10)) /\n",
    "printer_perf['Time_delay_hours'] * 1.5)\n",
    "printer_perf.sort_values(['Printer_sucesss_factor'], ascending=False, inplace=True)\n",
    "printer_perf"
   ]
  },
  {
   "cell_type": "markdown",
   "id": "934278c5",
   "metadata": {},
   "source": [
    "## How attributes correlate with sucess factor"
   ]
  },
  {
   "cell_type": "code",
   "execution_count": 74,
   "id": "394e7b97",
   "metadata": {},
   "outputs": [
    {
     "data": {
      "text/plain": [
       "0.9323231111336184"
      ]
     },
     "execution_count": 74,
     "metadata": {},
     "output_type": "execute_result"
    }
   ],
   "source": [
    "# Total Revenue\n",
    "printer_perf['Printer_sucesss_factor'].corr(printer_perf['Printer_revenue'])"
   ]
  },
  {
   "cell_type": "code",
   "execution_count": 75,
   "id": "c6e14554",
   "metadata": {},
   "outputs": [
    {
     "data": {
      "application/vnd.plotly.v1+json": {
       "config": {
        "plotlyServerURL": "https://plot.ly"
       },
       "data": [
        {
         "hovertemplate": "Total_printed_orders=%{x}<br>Printer_sucesss_factor=%{y}<br>Printer_revenue=%{marker.size}<extra></extra>",
         "legendgroup": "",
         "marker": {
          "color": "#636efa",
          "size": [
           5947910,
           3496045,
           4161449,
           2862852,
           2924439,
           2210919,
           693485,
           741482,
           1508839,
           808216,
           274716,
           422939,
           429883,
           323118,
           254187,
           404716,
           283460,
           340086,
           89598,
           558541,
           14508
          ],
          "sizemode": "area",
          "sizeref": 14869.775,
          "symbol": "circle"
         },
         "mode": "markers",
         "name": "",
         "orientation": "v",
         "showlegend": false,
         "type": "scatter",
         "x": [
          3925,
          2240,
          1854,
          1629,
          1339,
          1157,
          528,
          530,
          452,
          357,
          272,
          272,
          339,
          165,
          327,
          195,
          134,
          141,
          34,
          59,
          13
         ],
         "xaxis": "x",
         "y": [
          256.46844168710066,
          97.02587784178982,
          94.87063146947688,
          83.60083780529907,
          45.537940969746316,
          38.57615165543527,
          18.817608148015253,
          17.662474069156506,
          15.320689347458071,
          14.944527494850291,
          7.802382978449037,
          7.187718473214476,
          6.992202959201954,
          5.788109095735293,
          4.452319092148031,
          3.8192715926275094,
          3.765215005519516,
          2.0461503455527703,
          1.162119083233962,
          0.5156332994032444,
          0.3548892733150747
         ],
         "yaxis": "y"
        },
        {
         "hovertemplate": "<b>OLS trendline</b><br>Printer_sucesss_factor = 0.0599144 * Total_printed_orders + -10.9353<br>R<sup>2</sup>=0.955124<br><br>Total_printed_orders=%{x}<br>Printer_sucesss_factor=%{y} <b>(trend)</b><extra></extra>",
         "legendgroup": "",
         "marker": {
          "color": "#636efa",
          "symbol": "circle"
         },
         "mode": "lines",
         "name": "",
         "showlegend": false,
         "type": "scatter",
         "x": [
          13,
          34,
          59,
          134,
          141,
          165,
          195,
          272,
          272,
          327,
          339,
          357,
          452,
          528,
          530,
          1157,
          1339,
          1629,
          1854,
          2240,
          3925
         ],
         "xaxis": "x",
         "y": [
          -10.156442827543566,
          -8.898241137673718,
          -7.400381983066758,
          -2.906804519245874,
          -2.4874039559559247,
          -1.049459167533243,
          0.7479718179951114,
          5.361378014184552,
          5.361378014184552,
          8.656668154319867,
          9.375640548531209,
          10.454099139848221,
          16.14596392735467,
          20.699455757359836,
          20.819284489728393,
          58.385592087270986,
          69.29000673280967,
          86.66517292625042,
          100.14590531771307,
          123.27285066484455,
          224.22855768535373
         ],
         "yaxis": "y"
        }
       ],
       "layout": {
        "legend": {
         "itemsizing": "constant",
         "tracegroupgap": 0
        },
        "template": {
         "data": {
          "bar": [
           {
            "error_x": {
             "color": "#2a3f5f"
            },
            "error_y": {
             "color": "#2a3f5f"
            },
            "marker": {
             "line": {
              "color": "#E5ECF6",
              "width": 0.5
             },
             "pattern": {
              "fillmode": "overlay",
              "size": 10,
              "solidity": 0.2
             }
            },
            "type": "bar"
           }
          ],
          "barpolar": [
           {
            "marker": {
             "line": {
              "color": "#E5ECF6",
              "width": 0.5
             },
             "pattern": {
              "fillmode": "overlay",
              "size": 10,
              "solidity": 0.2
             }
            },
            "type": "barpolar"
           }
          ],
          "carpet": [
           {
            "aaxis": {
             "endlinecolor": "#2a3f5f",
             "gridcolor": "white",
             "linecolor": "white",
             "minorgridcolor": "white",
             "startlinecolor": "#2a3f5f"
            },
            "baxis": {
             "endlinecolor": "#2a3f5f",
             "gridcolor": "white",
             "linecolor": "white",
             "minorgridcolor": "white",
             "startlinecolor": "#2a3f5f"
            },
            "type": "carpet"
           }
          ],
          "choropleth": [
           {
            "colorbar": {
             "outlinewidth": 0,
             "ticks": ""
            },
            "type": "choropleth"
           }
          ],
          "contour": [
           {
            "colorbar": {
             "outlinewidth": 0,
             "ticks": ""
            },
            "colorscale": [
             [
              0,
              "#0d0887"
             ],
             [
              0.1111111111111111,
              "#46039f"
             ],
             [
              0.2222222222222222,
              "#7201a8"
             ],
             [
              0.3333333333333333,
              "#9c179e"
             ],
             [
              0.4444444444444444,
              "#bd3786"
             ],
             [
              0.5555555555555556,
              "#d8576b"
             ],
             [
              0.6666666666666666,
              "#ed7953"
             ],
             [
              0.7777777777777778,
              "#fb9f3a"
             ],
             [
              0.8888888888888888,
              "#fdca26"
             ],
             [
              1,
              "#f0f921"
             ]
            ],
            "type": "contour"
           }
          ],
          "contourcarpet": [
           {
            "colorbar": {
             "outlinewidth": 0,
             "ticks": ""
            },
            "type": "contourcarpet"
           }
          ],
          "heatmap": [
           {
            "colorbar": {
             "outlinewidth": 0,
             "ticks": ""
            },
            "colorscale": [
             [
              0,
              "#0d0887"
             ],
             [
              0.1111111111111111,
              "#46039f"
             ],
             [
              0.2222222222222222,
              "#7201a8"
             ],
             [
              0.3333333333333333,
              "#9c179e"
             ],
             [
              0.4444444444444444,
              "#bd3786"
             ],
             [
              0.5555555555555556,
              "#d8576b"
             ],
             [
              0.6666666666666666,
              "#ed7953"
             ],
             [
              0.7777777777777778,
              "#fb9f3a"
             ],
             [
              0.8888888888888888,
              "#fdca26"
             ],
             [
              1,
              "#f0f921"
             ]
            ],
            "type": "heatmap"
           }
          ],
          "heatmapgl": [
           {
            "colorbar": {
             "outlinewidth": 0,
             "ticks": ""
            },
            "colorscale": [
             [
              0,
              "#0d0887"
             ],
             [
              0.1111111111111111,
              "#46039f"
             ],
             [
              0.2222222222222222,
              "#7201a8"
             ],
             [
              0.3333333333333333,
              "#9c179e"
             ],
             [
              0.4444444444444444,
              "#bd3786"
             ],
             [
              0.5555555555555556,
              "#d8576b"
             ],
             [
              0.6666666666666666,
              "#ed7953"
             ],
             [
              0.7777777777777778,
              "#fb9f3a"
             ],
             [
              0.8888888888888888,
              "#fdca26"
             ],
             [
              1,
              "#f0f921"
             ]
            ],
            "type": "heatmapgl"
           }
          ],
          "histogram": [
           {
            "marker": {
             "pattern": {
              "fillmode": "overlay",
              "size": 10,
              "solidity": 0.2
             }
            },
            "type": "histogram"
           }
          ],
          "histogram2d": [
           {
            "colorbar": {
             "outlinewidth": 0,
             "ticks": ""
            },
            "colorscale": [
             [
              0,
              "#0d0887"
             ],
             [
              0.1111111111111111,
              "#46039f"
             ],
             [
              0.2222222222222222,
              "#7201a8"
             ],
             [
              0.3333333333333333,
              "#9c179e"
             ],
             [
              0.4444444444444444,
              "#bd3786"
             ],
             [
              0.5555555555555556,
              "#d8576b"
             ],
             [
              0.6666666666666666,
              "#ed7953"
             ],
             [
              0.7777777777777778,
              "#fb9f3a"
             ],
             [
              0.8888888888888888,
              "#fdca26"
             ],
             [
              1,
              "#f0f921"
             ]
            ],
            "type": "histogram2d"
           }
          ],
          "histogram2dcontour": [
           {
            "colorbar": {
             "outlinewidth": 0,
             "ticks": ""
            },
            "colorscale": [
             [
              0,
              "#0d0887"
             ],
             [
              0.1111111111111111,
              "#46039f"
             ],
             [
              0.2222222222222222,
              "#7201a8"
             ],
             [
              0.3333333333333333,
              "#9c179e"
             ],
             [
              0.4444444444444444,
              "#bd3786"
             ],
             [
              0.5555555555555556,
              "#d8576b"
             ],
             [
              0.6666666666666666,
              "#ed7953"
             ],
             [
              0.7777777777777778,
              "#fb9f3a"
             ],
             [
              0.8888888888888888,
              "#fdca26"
             ],
             [
              1,
              "#f0f921"
             ]
            ],
            "type": "histogram2dcontour"
           }
          ],
          "mesh3d": [
           {
            "colorbar": {
             "outlinewidth": 0,
             "ticks": ""
            },
            "type": "mesh3d"
           }
          ],
          "parcoords": [
           {
            "line": {
             "colorbar": {
              "outlinewidth": 0,
              "ticks": ""
             }
            },
            "type": "parcoords"
           }
          ],
          "pie": [
           {
            "automargin": true,
            "type": "pie"
           }
          ],
          "scatter": [
           {
            "marker": {
             "colorbar": {
              "outlinewidth": 0,
              "ticks": ""
             }
            },
            "type": "scatter"
           }
          ],
          "scatter3d": [
           {
            "line": {
             "colorbar": {
              "outlinewidth": 0,
              "ticks": ""
             }
            },
            "marker": {
             "colorbar": {
              "outlinewidth": 0,
              "ticks": ""
             }
            },
            "type": "scatter3d"
           }
          ],
          "scattercarpet": [
           {
            "marker": {
             "colorbar": {
              "outlinewidth": 0,
              "ticks": ""
             }
            },
            "type": "scattercarpet"
           }
          ],
          "scattergeo": [
           {
            "marker": {
             "colorbar": {
              "outlinewidth": 0,
              "ticks": ""
             }
            },
            "type": "scattergeo"
           }
          ],
          "scattergl": [
           {
            "marker": {
             "colorbar": {
              "outlinewidth": 0,
              "ticks": ""
             }
            },
            "type": "scattergl"
           }
          ],
          "scattermapbox": [
           {
            "marker": {
             "colorbar": {
              "outlinewidth": 0,
              "ticks": ""
             }
            },
            "type": "scattermapbox"
           }
          ],
          "scatterpolar": [
           {
            "marker": {
             "colorbar": {
              "outlinewidth": 0,
              "ticks": ""
             }
            },
            "type": "scatterpolar"
           }
          ],
          "scatterpolargl": [
           {
            "marker": {
             "colorbar": {
              "outlinewidth": 0,
              "ticks": ""
             }
            },
            "type": "scatterpolargl"
           }
          ],
          "scatterternary": [
           {
            "marker": {
             "colorbar": {
              "outlinewidth": 0,
              "ticks": ""
             }
            },
            "type": "scatterternary"
           }
          ],
          "surface": [
           {
            "colorbar": {
             "outlinewidth": 0,
             "ticks": ""
            },
            "colorscale": [
             [
              0,
              "#0d0887"
             ],
             [
              0.1111111111111111,
              "#46039f"
             ],
             [
              0.2222222222222222,
              "#7201a8"
             ],
             [
              0.3333333333333333,
              "#9c179e"
             ],
             [
              0.4444444444444444,
              "#bd3786"
             ],
             [
              0.5555555555555556,
              "#d8576b"
             ],
             [
              0.6666666666666666,
              "#ed7953"
             ],
             [
              0.7777777777777778,
              "#fb9f3a"
             ],
             [
              0.8888888888888888,
              "#fdca26"
             ],
             [
              1,
              "#f0f921"
             ]
            ],
            "type": "surface"
           }
          ],
          "table": [
           {
            "cells": {
             "fill": {
              "color": "#EBF0F8"
             },
             "line": {
              "color": "white"
             }
            },
            "header": {
             "fill": {
              "color": "#C8D4E3"
             },
             "line": {
              "color": "white"
             }
            },
            "type": "table"
           }
          ]
         },
         "layout": {
          "annotationdefaults": {
           "arrowcolor": "#2a3f5f",
           "arrowhead": 0,
           "arrowwidth": 1
          },
          "autotypenumbers": "strict",
          "coloraxis": {
           "colorbar": {
            "outlinewidth": 0,
            "ticks": ""
           }
          },
          "colorscale": {
           "diverging": [
            [
             0,
             "#8e0152"
            ],
            [
             0.1,
             "#c51b7d"
            ],
            [
             0.2,
             "#de77ae"
            ],
            [
             0.3,
             "#f1b6da"
            ],
            [
             0.4,
             "#fde0ef"
            ],
            [
             0.5,
             "#f7f7f7"
            ],
            [
             0.6,
             "#e6f5d0"
            ],
            [
             0.7,
             "#b8e186"
            ],
            [
             0.8,
             "#7fbc41"
            ],
            [
             0.9,
             "#4d9221"
            ],
            [
             1,
             "#276419"
            ]
           ],
           "sequential": [
            [
             0,
             "#0d0887"
            ],
            [
             0.1111111111111111,
             "#46039f"
            ],
            [
             0.2222222222222222,
             "#7201a8"
            ],
            [
             0.3333333333333333,
             "#9c179e"
            ],
            [
             0.4444444444444444,
             "#bd3786"
            ],
            [
             0.5555555555555556,
             "#d8576b"
            ],
            [
             0.6666666666666666,
             "#ed7953"
            ],
            [
             0.7777777777777778,
             "#fb9f3a"
            ],
            [
             0.8888888888888888,
             "#fdca26"
            ],
            [
             1,
             "#f0f921"
            ]
           ],
           "sequentialminus": [
            [
             0,
             "#0d0887"
            ],
            [
             0.1111111111111111,
             "#46039f"
            ],
            [
             0.2222222222222222,
             "#7201a8"
            ],
            [
             0.3333333333333333,
             "#9c179e"
            ],
            [
             0.4444444444444444,
             "#bd3786"
            ],
            [
             0.5555555555555556,
             "#d8576b"
            ],
            [
             0.6666666666666666,
             "#ed7953"
            ],
            [
             0.7777777777777778,
             "#fb9f3a"
            ],
            [
             0.8888888888888888,
             "#fdca26"
            ],
            [
             1,
             "#f0f921"
            ]
           ]
          },
          "colorway": [
           "#636efa",
           "#EF553B",
           "#00cc96",
           "#ab63fa",
           "#FFA15A",
           "#19d3f3",
           "#FF6692",
           "#B6E880",
           "#FF97FF",
           "#FECB52"
          ],
          "font": {
           "color": "#2a3f5f"
          },
          "geo": {
           "bgcolor": "white",
           "lakecolor": "white",
           "landcolor": "#E5ECF6",
           "showlakes": true,
           "showland": true,
           "subunitcolor": "white"
          },
          "hoverlabel": {
           "align": "left"
          },
          "hovermode": "closest",
          "mapbox": {
           "style": "light"
          },
          "paper_bgcolor": "white",
          "plot_bgcolor": "#E5ECF6",
          "polar": {
           "angularaxis": {
            "gridcolor": "white",
            "linecolor": "white",
            "ticks": ""
           },
           "bgcolor": "#E5ECF6",
           "radialaxis": {
            "gridcolor": "white",
            "linecolor": "white",
            "ticks": ""
           }
          },
          "scene": {
           "xaxis": {
            "backgroundcolor": "#E5ECF6",
            "gridcolor": "white",
            "gridwidth": 2,
            "linecolor": "white",
            "showbackground": true,
            "ticks": "",
            "zerolinecolor": "white"
           },
           "yaxis": {
            "backgroundcolor": "#E5ECF6",
            "gridcolor": "white",
            "gridwidth": 2,
            "linecolor": "white",
            "showbackground": true,
            "ticks": "",
            "zerolinecolor": "white"
           },
           "zaxis": {
            "backgroundcolor": "#E5ECF6",
            "gridcolor": "white",
            "gridwidth": 2,
            "linecolor": "white",
            "showbackground": true,
            "ticks": "",
            "zerolinecolor": "white"
           }
          },
          "shapedefaults": {
           "line": {
            "color": "#2a3f5f"
           }
          },
          "ternary": {
           "aaxis": {
            "gridcolor": "white",
            "linecolor": "white",
            "ticks": ""
           },
           "baxis": {
            "gridcolor": "white",
            "linecolor": "white",
            "ticks": ""
           },
           "bgcolor": "#E5ECF6",
           "caxis": {
            "gridcolor": "white",
            "linecolor": "white",
            "ticks": ""
           }
          },
          "title": {
           "x": 0.05
          },
          "xaxis": {
           "automargin": true,
           "gridcolor": "white",
           "linecolor": "white",
           "ticks": "",
           "title": {
            "standoff": 15
           },
           "zerolinecolor": "white",
           "zerolinewidth": 2
          },
          "yaxis": {
           "automargin": true,
           "gridcolor": "white",
           "linecolor": "white",
           "ticks": "",
           "title": {
            "standoff": 15
           },
           "zerolinecolor": "white",
           "zerolinewidth": 2
          }
         }
        },
        "title": {
         "text": "Sucess factor vs Total printed Merchadise, size is orders revenue"
        },
        "xaxis": {
         "anchor": "y",
         "domain": [
          0,
          1
         ],
         "title": {
          "text": "Total_printed_orders"
         }
        },
        "yaxis": {
         "anchor": "x",
         "domain": [
          0,
          1
         ],
         "title": {
          "text": "Printer_sucesss_factor"
         }
        }
       }
      },
      "text/html": [
       "<div>                            <div id=\"5abdab10-738e-48f7-84c2-24512291a30f\" class=\"plotly-graph-div\" style=\"height:525px; width:100%;\"></div>            <script type=\"text/javascript\">                require([\"plotly\"], function(Plotly) {                    window.PLOTLYENV=window.PLOTLYENV || {};                                    if (document.getElementById(\"5abdab10-738e-48f7-84c2-24512291a30f\")) {                    Plotly.newPlot(                        \"5abdab10-738e-48f7-84c2-24512291a30f\",                        [{\"hovertemplate\":\"Total_printed_orders=%{x}<br>Printer_sucesss_factor=%{y}<br>Printer_revenue=%{marker.size}<extra></extra>\",\"legendgroup\":\"\",\"marker\":{\"color\":\"#636efa\",\"size\":[5947910,3496045,4161449,2862852,2924439,2210919,693485,741482,1508839,808216,274716,422939,429883,323118,254187,404716,283460,340086,89598,558541,14508],\"sizemode\":\"area\",\"sizeref\":14869.775,\"symbol\":\"circle\"},\"mode\":\"markers\",\"name\":\"\",\"orientation\":\"v\",\"showlegend\":false,\"x\":[3925,2240,1854,1629,1339,1157,528,530,452,357,272,272,339,165,327,195,134,141,34,59,13],\"xaxis\":\"x\",\"y\":[256.46844168710066,97.02587784178982,94.87063146947688,83.60083780529907,45.537940969746316,38.57615165543527,18.817608148015253,17.662474069156506,15.320689347458071,14.944527494850291,7.802382978449037,7.187718473214476,6.992202959201954,5.788109095735293,4.452319092148031,3.8192715926275094,3.765215005519516,2.0461503455527703,1.162119083233962,0.5156332994032444,0.3548892733150747],\"yaxis\":\"y\",\"type\":\"scatter\"},{\"hovertemplate\":\"<b>OLS trendline</b><br>Printer_sucesss_factor = 0.0599144 * Total_printed_orders + -10.9353<br>R<sup>2</sup>=0.955124<br><br>Total_printed_orders=%{x}<br>Printer_sucesss_factor=%{y} <b>(trend)</b><extra></extra>\",\"legendgroup\":\"\",\"marker\":{\"color\":\"#636efa\",\"symbol\":\"circle\"},\"mode\":\"lines\",\"name\":\"\",\"showlegend\":false,\"x\":[13,34,59,134,141,165,195,272,272,327,339,357,452,528,530,1157,1339,1629,1854,2240,3925],\"xaxis\":\"x\",\"y\":[-10.156442827543566,-8.898241137673718,-7.400381983066758,-2.906804519245874,-2.4874039559559247,-1.049459167533243,0.7479718179951114,5.361378014184552,5.361378014184552,8.656668154319867,9.375640548531209,10.454099139848221,16.14596392735467,20.699455757359836,20.819284489728393,58.385592087270986,69.29000673280967,86.66517292625042,100.14590531771307,123.27285066484455,224.22855768535373],\"yaxis\":\"y\",\"type\":\"scatter\"}],                        {\"template\":{\"data\":{\"bar\":[{\"error_x\":{\"color\":\"#2a3f5f\"},\"error_y\":{\"color\":\"#2a3f5f\"},\"marker\":{\"line\":{\"color\":\"#E5ECF6\",\"width\":0.5},\"pattern\":{\"fillmode\":\"overlay\",\"size\":10,\"solidity\":0.2}},\"type\":\"bar\"}],\"barpolar\":[{\"marker\":{\"line\":{\"color\":\"#E5ECF6\",\"width\":0.5},\"pattern\":{\"fillmode\":\"overlay\",\"size\":10,\"solidity\":0.2}},\"type\":\"barpolar\"}],\"carpet\":[{\"aaxis\":{\"endlinecolor\":\"#2a3f5f\",\"gridcolor\":\"white\",\"linecolor\":\"white\",\"minorgridcolor\":\"white\",\"startlinecolor\":\"#2a3f5f\"},\"baxis\":{\"endlinecolor\":\"#2a3f5f\",\"gridcolor\":\"white\",\"linecolor\":\"white\",\"minorgridcolor\":\"white\",\"startlinecolor\":\"#2a3f5f\"},\"type\":\"carpet\"}],\"choropleth\":[{\"colorbar\":{\"outlinewidth\":0,\"ticks\":\"\"},\"type\":\"choropleth\"}],\"contour\":[{\"colorbar\":{\"outlinewidth\":0,\"ticks\":\"\"},\"colorscale\":[[0.0,\"#0d0887\"],[0.1111111111111111,\"#46039f\"],[0.2222222222222222,\"#7201a8\"],[0.3333333333333333,\"#9c179e\"],[0.4444444444444444,\"#bd3786\"],[0.5555555555555556,\"#d8576b\"],[0.6666666666666666,\"#ed7953\"],[0.7777777777777778,\"#fb9f3a\"],[0.8888888888888888,\"#fdca26\"],[1.0,\"#f0f921\"]],\"type\":\"contour\"}],\"contourcarpet\":[{\"colorbar\":{\"outlinewidth\":0,\"ticks\":\"\"},\"type\":\"contourcarpet\"}],\"heatmap\":[{\"colorbar\":{\"outlinewidth\":0,\"ticks\":\"\"},\"colorscale\":[[0.0,\"#0d0887\"],[0.1111111111111111,\"#46039f\"],[0.2222222222222222,\"#7201a8\"],[0.3333333333333333,\"#9c179e\"],[0.4444444444444444,\"#bd3786\"],[0.5555555555555556,\"#d8576b\"],[0.6666666666666666,\"#ed7953\"],[0.7777777777777778,\"#fb9f3a\"],[0.8888888888888888,\"#fdca26\"],[1.0,\"#f0f921\"]],\"type\":\"heatmap\"}],\"heatmapgl\":[{\"colorbar\":{\"outlinewidth\":0,\"ticks\":\"\"},\"colorscale\":[[0.0,\"#0d0887\"],[0.1111111111111111,\"#46039f\"],[0.2222222222222222,\"#7201a8\"],[0.3333333333333333,\"#9c179e\"],[0.4444444444444444,\"#bd3786\"],[0.5555555555555556,\"#d8576b\"],[0.6666666666666666,\"#ed7953\"],[0.7777777777777778,\"#fb9f3a\"],[0.8888888888888888,\"#fdca26\"],[1.0,\"#f0f921\"]],\"type\":\"heatmapgl\"}],\"histogram\":[{\"marker\":{\"pattern\":{\"fillmode\":\"overlay\",\"size\":10,\"solidity\":0.2}},\"type\":\"histogram\"}],\"histogram2d\":[{\"colorbar\":{\"outlinewidth\":0,\"ticks\":\"\"},\"colorscale\":[[0.0,\"#0d0887\"],[0.1111111111111111,\"#46039f\"],[0.2222222222222222,\"#7201a8\"],[0.3333333333333333,\"#9c179e\"],[0.4444444444444444,\"#bd3786\"],[0.5555555555555556,\"#d8576b\"],[0.6666666666666666,\"#ed7953\"],[0.7777777777777778,\"#fb9f3a\"],[0.8888888888888888,\"#fdca26\"],[1.0,\"#f0f921\"]],\"type\":\"histogram2d\"}],\"histogram2dcontour\":[{\"colorbar\":{\"outlinewidth\":0,\"ticks\":\"\"},\"colorscale\":[[0.0,\"#0d0887\"],[0.1111111111111111,\"#46039f\"],[0.2222222222222222,\"#7201a8\"],[0.3333333333333333,\"#9c179e\"],[0.4444444444444444,\"#bd3786\"],[0.5555555555555556,\"#d8576b\"],[0.6666666666666666,\"#ed7953\"],[0.7777777777777778,\"#fb9f3a\"],[0.8888888888888888,\"#fdca26\"],[1.0,\"#f0f921\"]],\"type\":\"histogram2dcontour\"}],\"mesh3d\":[{\"colorbar\":{\"outlinewidth\":0,\"ticks\":\"\"},\"type\":\"mesh3d\"}],\"parcoords\":[{\"line\":{\"colorbar\":{\"outlinewidth\":0,\"ticks\":\"\"}},\"type\":\"parcoords\"}],\"pie\":[{\"automargin\":true,\"type\":\"pie\"}],\"scatter\":[{\"marker\":{\"colorbar\":{\"outlinewidth\":0,\"ticks\":\"\"}},\"type\":\"scatter\"}],\"scatter3d\":[{\"line\":{\"colorbar\":{\"outlinewidth\":0,\"ticks\":\"\"}},\"marker\":{\"colorbar\":{\"outlinewidth\":0,\"ticks\":\"\"}},\"type\":\"scatter3d\"}],\"scattercarpet\":[{\"marker\":{\"colorbar\":{\"outlinewidth\":0,\"ticks\":\"\"}},\"type\":\"scattercarpet\"}],\"scattergeo\":[{\"marker\":{\"colorbar\":{\"outlinewidth\":0,\"ticks\":\"\"}},\"type\":\"scattergeo\"}],\"scattergl\":[{\"marker\":{\"colorbar\":{\"outlinewidth\":0,\"ticks\":\"\"}},\"type\":\"scattergl\"}],\"scattermapbox\":[{\"marker\":{\"colorbar\":{\"outlinewidth\":0,\"ticks\":\"\"}},\"type\":\"scattermapbox\"}],\"scatterpolar\":[{\"marker\":{\"colorbar\":{\"outlinewidth\":0,\"ticks\":\"\"}},\"type\":\"scatterpolar\"}],\"scatterpolargl\":[{\"marker\":{\"colorbar\":{\"outlinewidth\":0,\"ticks\":\"\"}},\"type\":\"scatterpolargl\"}],\"scatterternary\":[{\"marker\":{\"colorbar\":{\"outlinewidth\":0,\"ticks\":\"\"}},\"type\":\"scatterternary\"}],\"surface\":[{\"colorbar\":{\"outlinewidth\":0,\"ticks\":\"\"},\"colorscale\":[[0.0,\"#0d0887\"],[0.1111111111111111,\"#46039f\"],[0.2222222222222222,\"#7201a8\"],[0.3333333333333333,\"#9c179e\"],[0.4444444444444444,\"#bd3786\"],[0.5555555555555556,\"#d8576b\"],[0.6666666666666666,\"#ed7953\"],[0.7777777777777778,\"#fb9f3a\"],[0.8888888888888888,\"#fdca26\"],[1.0,\"#f0f921\"]],\"type\":\"surface\"}],\"table\":[{\"cells\":{\"fill\":{\"color\":\"#EBF0F8\"},\"line\":{\"color\":\"white\"}},\"header\":{\"fill\":{\"color\":\"#C8D4E3\"},\"line\":{\"color\":\"white\"}},\"type\":\"table\"}]},\"layout\":{\"annotationdefaults\":{\"arrowcolor\":\"#2a3f5f\",\"arrowhead\":0,\"arrowwidth\":1},\"autotypenumbers\":\"strict\",\"coloraxis\":{\"colorbar\":{\"outlinewidth\":0,\"ticks\":\"\"}},\"colorscale\":{\"diverging\":[[0,\"#8e0152\"],[0.1,\"#c51b7d\"],[0.2,\"#de77ae\"],[0.3,\"#f1b6da\"],[0.4,\"#fde0ef\"],[0.5,\"#f7f7f7\"],[0.6,\"#e6f5d0\"],[0.7,\"#b8e186\"],[0.8,\"#7fbc41\"],[0.9,\"#4d9221\"],[1,\"#276419\"]],\"sequential\":[[0.0,\"#0d0887\"],[0.1111111111111111,\"#46039f\"],[0.2222222222222222,\"#7201a8\"],[0.3333333333333333,\"#9c179e\"],[0.4444444444444444,\"#bd3786\"],[0.5555555555555556,\"#d8576b\"],[0.6666666666666666,\"#ed7953\"],[0.7777777777777778,\"#fb9f3a\"],[0.8888888888888888,\"#fdca26\"],[1.0,\"#f0f921\"]],\"sequentialminus\":[[0.0,\"#0d0887\"],[0.1111111111111111,\"#46039f\"],[0.2222222222222222,\"#7201a8\"],[0.3333333333333333,\"#9c179e\"],[0.4444444444444444,\"#bd3786\"],[0.5555555555555556,\"#d8576b\"],[0.6666666666666666,\"#ed7953\"],[0.7777777777777778,\"#fb9f3a\"],[0.8888888888888888,\"#fdca26\"],[1.0,\"#f0f921\"]]},\"colorway\":[\"#636efa\",\"#EF553B\",\"#00cc96\",\"#ab63fa\",\"#FFA15A\",\"#19d3f3\",\"#FF6692\",\"#B6E880\",\"#FF97FF\",\"#FECB52\"],\"font\":{\"color\":\"#2a3f5f\"},\"geo\":{\"bgcolor\":\"white\",\"lakecolor\":\"white\",\"landcolor\":\"#E5ECF6\",\"showlakes\":true,\"showland\":true,\"subunitcolor\":\"white\"},\"hoverlabel\":{\"align\":\"left\"},\"hovermode\":\"closest\",\"mapbox\":{\"style\":\"light\"},\"paper_bgcolor\":\"white\",\"plot_bgcolor\":\"#E5ECF6\",\"polar\":{\"angularaxis\":{\"gridcolor\":\"white\",\"linecolor\":\"white\",\"ticks\":\"\"},\"bgcolor\":\"#E5ECF6\",\"radialaxis\":{\"gridcolor\":\"white\",\"linecolor\":\"white\",\"ticks\":\"\"}},\"scene\":{\"xaxis\":{\"backgroundcolor\":\"#E5ECF6\",\"gridcolor\":\"white\",\"gridwidth\":2,\"linecolor\":\"white\",\"showbackground\":true,\"ticks\":\"\",\"zerolinecolor\":\"white\"},\"yaxis\":{\"backgroundcolor\":\"#E5ECF6\",\"gridcolor\":\"white\",\"gridwidth\":2,\"linecolor\":\"white\",\"showbackground\":true,\"ticks\":\"\",\"zerolinecolor\":\"white\"},\"zaxis\":{\"backgroundcolor\":\"#E5ECF6\",\"gridcolor\":\"white\",\"gridwidth\":2,\"linecolor\":\"white\",\"showbackground\":true,\"ticks\":\"\",\"zerolinecolor\":\"white\"}},\"shapedefaults\":{\"line\":{\"color\":\"#2a3f5f\"}},\"ternary\":{\"aaxis\":{\"gridcolor\":\"white\",\"linecolor\":\"white\",\"ticks\":\"\"},\"baxis\":{\"gridcolor\":\"white\",\"linecolor\":\"white\",\"ticks\":\"\"},\"bgcolor\":\"#E5ECF6\",\"caxis\":{\"gridcolor\":\"white\",\"linecolor\":\"white\",\"ticks\":\"\"}},\"title\":{\"x\":0.05},\"xaxis\":{\"automargin\":true,\"gridcolor\":\"white\",\"linecolor\":\"white\",\"ticks\":\"\",\"title\":{\"standoff\":15},\"zerolinecolor\":\"white\",\"zerolinewidth\":2},\"yaxis\":{\"automargin\":true,\"gridcolor\":\"white\",\"linecolor\":\"white\",\"ticks\":\"\",\"title\":{\"standoff\":15},\"zerolinecolor\":\"white\",\"zerolinewidth\":2}}},\"xaxis\":{\"anchor\":\"y\",\"domain\":[0.0,1.0],\"title\":{\"text\":\"Total_printed_orders\"}},\"yaxis\":{\"anchor\":\"x\",\"domain\":[0.0,1.0],\"title\":{\"text\":\"Printer_sucesss_factor\"}},\"legend\":{\"tracegroupgap\":0,\"itemsizing\":\"constant\"},\"title\":{\"text\":\"Sucess factor vs Total printed Merchadise, size is orders revenue\"}},                        {\"responsive\": true}                    ).then(function(){\n",
       "                            \n",
       "var gd = document.getElementById('5abdab10-738e-48f7-84c2-24512291a30f');\n",
       "var x = new MutationObserver(function (mutations, observer) {{\n",
       "        var display = window.getComputedStyle(gd).display;\n",
       "        if (!display || display === 'none') {{\n",
       "            console.log([gd, 'removed!']);\n",
       "            Plotly.purge(gd);\n",
       "            observer.disconnect();\n",
       "        }}\n",
       "}});\n",
       "\n",
       "// Listen for the removal of the full notebook cells\n",
       "var notebookContainer = gd.closest('#notebook-container');\n",
       "if (notebookContainer) {{\n",
       "    x.observe(notebookContainer, {childList: true});\n",
       "}}\n",
       "\n",
       "// Listen for the clearing of the current output cell\n",
       "var outputEl = gd.closest('.output');\n",
       "if (outputEl) {{\n",
       "    x.observe(outputEl, {childList: true});\n",
       "}}\n",
       "\n",
       "                        })                };                });            </script>        </div>"
      ]
     },
     "metadata": {},
     "output_type": "display_data"
    }
   ],
   "source": [
    "fig = px.scatter(printer_perf, x=\"Total_printed_orders\", y=\"Printer_sucesss_factor\", \n",
    "                 trendline=\"ols\", size=\"Printer_revenue\",\n",
    "                labels={'x':'Total Revenue of Printed merchadise', 'y':'Sucess Factor'}, \n",
    "                 title='Sucess factor vs Total printed Merchadise, size is orders revenue')\n",
    "fig.show()"
   ]
  },
  {
   "cell_type": "code",
   "execution_count": 76,
   "id": "27107606",
   "metadata": {},
   "outputs": [
    {
     "data": {
      "text/plain": [
       "0.9773043623847617"
      ]
     },
     "execution_count": 76,
     "metadata": {},
     "output_type": "execute_result"
    }
   ],
   "source": [
    "# Total printed\n",
    "printer_perf['Printer_sucesss_factor'].corr(printer_perf['Total_printed_orders'])"
   ]
  },
  {
   "cell_type": "code",
   "execution_count": 77,
   "id": "87aed4ef",
   "metadata": {},
   "outputs": [
    {
     "data": {
      "text/plain": [
       "-0.33151743753275953"
      ]
     },
     "execution_count": 77,
     "metadata": {},
     "output_type": "execute_result"
    }
   ],
   "source": [
    "# Time delays\n",
    "printer_perf['Printer_sucesss_factor'].corr(printer_perf['Time_delay_hours'])"
   ]
  },
  {
   "cell_type": "code",
   "execution_count": 78,
   "id": "a00ee4ca",
   "metadata": {},
   "outputs": [
    {
     "data": {
      "application/vnd.plotly.v1+json": {
       "config": {
        "plotlyServerURL": "https://plot.ly"
       },
       "data": [
        {
         "hovertemplate": "Time_delay_hours=%{x}<br>Printer_sucesss_factor=%{y}<br>Total_printed_orders=%{marker.size}<extra></extra>",
         "legendgroup": "",
         "marker": {
          "color": "#636efa",
          "size": [
           3925,
           2240,
           1854,
           1629,
           1339,
           1157,
           528,
           530,
           452,
           357,
           272,
           272,
           339,
           165,
           327,
           195,
           134,
           141,
           34,
           59,
           13
          ],
          "sizemode": "area",
          "sizeref": 9.8125,
          "symbol": "circle"
         },
         "mode": "markers",
         "name": "",
         "orientation": "v",
         "showlegend": false,
         "type": "scatter",
         "x": [
          147.98458725182863,
          215.475799086758,
          181.47507692307693,
          175.9769001490313,
          248.98371335504885,
          278.0344827586207,
          199.27855711422845,
          249.26153846153846,
          261.33031674208144,
          182.03428571428572,
          273.95238095238096,
          307.62573099415204,
          397.5940594059406,
          207.02547770700636,
          559.050925925926,
          363.35978835978835,
          269.35074626865674,
          531.2205882352941,
          153.41176470588235,
          819.2033898305085,
          52.76923076923077
         ],
         "xaxis": "x",
         "y": [
          256.46844168710066,
          97.02587784178982,
          94.87063146947688,
          83.60083780529907,
          45.537940969746316,
          38.57615165543527,
          18.817608148015253,
          17.662474069156506,
          15.320689347458071,
          14.944527494850291,
          7.802382978449037,
          7.187718473214476,
          6.992202959201954,
          5.788109095735293,
          4.452319092148031,
          3.8192715926275094,
          3.765215005519516,
          2.0461503455527703,
          1.162119083233962,
          0.5156332994032444,
          0.3548892733150747
         ],
         "yaxis": "y"
        },
        {
         "hovertemplate": "<b>OLS trendline</b><br>Printer_sucesss_factor = -0.115458 * Time_delay_hours + 68.0023<br>R<sup>2</sup>=0.109904<br><br>Time_delay_hours=%{x}<br>Printer_sucesss_factor=%{y} <b>(trend)</b><extra></extra>",
         "legendgroup": "",
         "marker": {
          "color": "#636efa",
          "symbol": "circle"
         },
         "mode": "lines",
         "name": "",
         "showlegend": false,
         "type": "scatter",
         "x": [
          52.76923076923077,
          147.98458725182863,
          153.41176470588235,
          175.9769001490313,
          181.47507692307693,
          182.03428571428572,
          199.27855711422845,
          207.02547770700636,
          215.475799086758,
          248.98371335504885,
          249.26153846153846,
          261.33031674208144,
          269.35074626865674,
          273.95238095238096,
          278.0344827586207,
          307.62573099415204,
          363.35978835978835,
          397.5940594059406,
          531.2205882352941,
          559.050925925926,
          819.2033898305085
         ],
         "xaxis": "x",
         "y": [
          61.90970637890182,
          50.916334243334006,
          50.289723330953706,
          47.68439851382334,
          47.04959016381452,
          46.98502504984194,
          44.99403641408603,
          44.099592659137045,
          43.12393567454409,
          39.25517978635553,
          39.22310266248526,
          37.829665975789496,
          36.903643433523925,
          36.37234801670361,
          35.90103681324801,
          32.484491249312484,
          26.04954991337886,
          22.096930343351524,
          6.668682076762842,
          3.4554476764111257,
          -26.58122868903051
         ],
         "yaxis": "y"
        }
       ],
       "layout": {
        "legend": {
         "itemsizing": "constant",
         "tracegroupgap": 0
        },
        "template": {
         "data": {
          "bar": [
           {
            "error_x": {
             "color": "#2a3f5f"
            },
            "error_y": {
             "color": "#2a3f5f"
            },
            "marker": {
             "line": {
              "color": "#E5ECF6",
              "width": 0.5
             },
             "pattern": {
              "fillmode": "overlay",
              "size": 10,
              "solidity": 0.2
             }
            },
            "type": "bar"
           }
          ],
          "barpolar": [
           {
            "marker": {
             "line": {
              "color": "#E5ECF6",
              "width": 0.5
             },
             "pattern": {
              "fillmode": "overlay",
              "size": 10,
              "solidity": 0.2
             }
            },
            "type": "barpolar"
           }
          ],
          "carpet": [
           {
            "aaxis": {
             "endlinecolor": "#2a3f5f",
             "gridcolor": "white",
             "linecolor": "white",
             "minorgridcolor": "white",
             "startlinecolor": "#2a3f5f"
            },
            "baxis": {
             "endlinecolor": "#2a3f5f",
             "gridcolor": "white",
             "linecolor": "white",
             "minorgridcolor": "white",
             "startlinecolor": "#2a3f5f"
            },
            "type": "carpet"
           }
          ],
          "choropleth": [
           {
            "colorbar": {
             "outlinewidth": 0,
             "ticks": ""
            },
            "type": "choropleth"
           }
          ],
          "contour": [
           {
            "colorbar": {
             "outlinewidth": 0,
             "ticks": ""
            },
            "colorscale": [
             [
              0,
              "#0d0887"
             ],
             [
              0.1111111111111111,
              "#46039f"
             ],
             [
              0.2222222222222222,
              "#7201a8"
             ],
             [
              0.3333333333333333,
              "#9c179e"
             ],
             [
              0.4444444444444444,
              "#bd3786"
             ],
             [
              0.5555555555555556,
              "#d8576b"
             ],
             [
              0.6666666666666666,
              "#ed7953"
             ],
             [
              0.7777777777777778,
              "#fb9f3a"
             ],
             [
              0.8888888888888888,
              "#fdca26"
             ],
             [
              1,
              "#f0f921"
             ]
            ],
            "type": "contour"
           }
          ],
          "contourcarpet": [
           {
            "colorbar": {
             "outlinewidth": 0,
             "ticks": ""
            },
            "type": "contourcarpet"
           }
          ],
          "heatmap": [
           {
            "colorbar": {
             "outlinewidth": 0,
             "ticks": ""
            },
            "colorscale": [
             [
              0,
              "#0d0887"
             ],
             [
              0.1111111111111111,
              "#46039f"
             ],
             [
              0.2222222222222222,
              "#7201a8"
             ],
             [
              0.3333333333333333,
              "#9c179e"
             ],
             [
              0.4444444444444444,
              "#bd3786"
             ],
             [
              0.5555555555555556,
              "#d8576b"
             ],
             [
              0.6666666666666666,
              "#ed7953"
             ],
             [
              0.7777777777777778,
              "#fb9f3a"
             ],
             [
              0.8888888888888888,
              "#fdca26"
             ],
             [
              1,
              "#f0f921"
             ]
            ],
            "type": "heatmap"
           }
          ],
          "heatmapgl": [
           {
            "colorbar": {
             "outlinewidth": 0,
             "ticks": ""
            },
            "colorscale": [
             [
              0,
              "#0d0887"
             ],
             [
              0.1111111111111111,
              "#46039f"
             ],
             [
              0.2222222222222222,
              "#7201a8"
             ],
             [
              0.3333333333333333,
              "#9c179e"
             ],
             [
              0.4444444444444444,
              "#bd3786"
             ],
             [
              0.5555555555555556,
              "#d8576b"
             ],
             [
              0.6666666666666666,
              "#ed7953"
             ],
             [
              0.7777777777777778,
              "#fb9f3a"
             ],
             [
              0.8888888888888888,
              "#fdca26"
             ],
             [
              1,
              "#f0f921"
             ]
            ],
            "type": "heatmapgl"
           }
          ],
          "histogram": [
           {
            "marker": {
             "pattern": {
              "fillmode": "overlay",
              "size": 10,
              "solidity": 0.2
             }
            },
            "type": "histogram"
           }
          ],
          "histogram2d": [
           {
            "colorbar": {
             "outlinewidth": 0,
             "ticks": ""
            },
            "colorscale": [
             [
              0,
              "#0d0887"
             ],
             [
              0.1111111111111111,
              "#46039f"
             ],
             [
              0.2222222222222222,
              "#7201a8"
             ],
             [
              0.3333333333333333,
              "#9c179e"
             ],
             [
              0.4444444444444444,
              "#bd3786"
             ],
             [
              0.5555555555555556,
              "#d8576b"
             ],
             [
              0.6666666666666666,
              "#ed7953"
             ],
             [
              0.7777777777777778,
              "#fb9f3a"
             ],
             [
              0.8888888888888888,
              "#fdca26"
             ],
             [
              1,
              "#f0f921"
             ]
            ],
            "type": "histogram2d"
           }
          ],
          "histogram2dcontour": [
           {
            "colorbar": {
             "outlinewidth": 0,
             "ticks": ""
            },
            "colorscale": [
             [
              0,
              "#0d0887"
             ],
             [
              0.1111111111111111,
              "#46039f"
             ],
             [
              0.2222222222222222,
              "#7201a8"
             ],
             [
              0.3333333333333333,
              "#9c179e"
             ],
             [
              0.4444444444444444,
              "#bd3786"
             ],
             [
              0.5555555555555556,
              "#d8576b"
             ],
             [
              0.6666666666666666,
              "#ed7953"
             ],
             [
              0.7777777777777778,
              "#fb9f3a"
             ],
             [
              0.8888888888888888,
              "#fdca26"
             ],
             [
              1,
              "#f0f921"
             ]
            ],
            "type": "histogram2dcontour"
           }
          ],
          "mesh3d": [
           {
            "colorbar": {
             "outlinewidth": 0,
             "ticks": ""
            },
            "type": "mesh3d"
           }
          ],
          "parcoords": [
           {
            "line": {
             "colorbar": {
              "outlinewidth": 0,
              "ticks": ""
             }
            },
            "type": "parcoords"
           }
          ],
          "pie": [
           {
            "automargin": true,
            "type": "pie"
           }
          ],
          "scatter": [
           {
            "marker": {
             "colorbar": {
              "outlinewidth": 0,
              "ticks": ""
             }
            },
            "type": "scatter"
           }
          ],
          "scatter3d": [
           {
            "line": {
             "colorbar": {
              "outlinewidth": 0,
              "ticks": ""
             }
            },
            "marker": {
             "colorbar": {
              "outlinewidth": 0,
              "ticks": ""
             }
            },
            "type": "scatter3d"
           }
          ],
          "scattercarpet": [
           {
            "marker": {
             "colorbar": {
              "outlinewidth": 0,
              "ticks": ""
             }
            },
            "type": "scattercarpet"
           }
          ],
          "scattergeo": [
           {
            "marker": {
             "colorbar": {
              "outlinewidth": 0,
              "ticks": ""
             }
            },
            "type": "scattergeo"
           }
          ],
          "scattergl": [
           {
            "marker": {
             "colorbar": {
              "outlinewidth": 0,
              "ticks": ""
             }
            },
            "type": "scattergl"
           }
          ],
          "scattermapbox": [
           {
            "marker": {
             "colorbar": {
              "outlinewidth": 0,
              "ticks": ""
             }
            },
            "type": "scattermapbox"
           }
          ],
          "scatterpolar": [
           {
            "marker": {
             "colorbar": {
              "outlinewidth": 0,
              "ticks": ""
             }
            },
            "type": "scatterpolar"
           }
          ],
          "scatterpolargl": [
           {
            "marker": {
             "colorbar": {
              "outlinewidth": 0,
              "ticks": ""
             }
            },
            "type": "scatterpolargl"
           }
          ],
          "scatterternary": [
           {
            "marker": {
             "colorbar": {
              "outlinewidth": 0,
              "ticks": ""
             }
            },
            "type": "scatterternary"
           }
          ],
          "surface": [
           {
            "colorbar": {
             "outlinewidth": 0,
             "ticks": ""
            },
            "colorscale": [
             [
              0,
              "#0d0887"
             ],
             [
              0.1111111111111111,
              "#46039f"
             ],
             [
              0.2222222222222222,
              "#7201a8"
             ],
             [
              0.3333333333333333,
              "#9c179e"
             ],
             [
              0.4444444444444444,
              "#bd3786"
             ],
             [
              0.5555555555555556,
              "#d8576b"
             ],
             [
              0.6666666666666666,
              "#ed7953"
             ],
             [
              0.7777777777777778,
              "#fb9f3a"
             ],
             [
              0.8888888888888888,
              "#fdca26"
             ],
             [
              1,
              "#f0f921"
             ]
            ],
            "type": "surface"
           }
          ],
          "table": [
           {
            "cells": {
             "fill": {
              "color": "#EBF0F8"
             },
             "line": {
              "color": "white"
             }
            },
            "header": {
             "fill": {
              "color": "#C8D4E3"
             },
             "line": {
              "color": "white"
             }
            },
            "type": "table"
           }
          ]
         },
         "layout": {
          "annotationdefaults": {
           "arrowcolor": "#2a3f5f",
           "arrowhead": 0,
           "arrowwidth": 1
          },
          "autotypenumbers": "strict",
          "coloraxis": {
           "colorbar": {
            "outlinewidth": 0,
            "ticks": ""
           }
          },
          "colorscale": {
           "diverging": [
            [
             0,
             "#8e0152"
            ],
            [
             0.1,
             "#c51b7d"
            ],
            [
             0.2,
             "#de77ae"
            ],
            [
             0.3,
             "#f1b6da"
            ],
            [
             0.4,
             "#fde0ef"
            ],
            [
             0.5,
             "#f7f7f7"
            ],
            [
             0.6,
             "#e6f5d0"
            ],
            [
             0.7,
             "#b8e186"
            ],
            [
             0.8,
             "#7fbc41"
            ],
            [
             0.9,
             "#4d9221"
            ],
            [
             1,
             "#276419"
            ]
           ],
           "sequential": [
            [
             0,
             "#0d0887"
            ],
            [
             0.1111111111111111,
             "#46039f"
            ],
            [
             0.2222222222222222,
             "#7201a8"
            ],
            [
             0.3333333333333333,
             "#9c179e"
            ],
            [
             0.4444444444444444,
             "#bd3786"
            ],
            [
             0.5555555555555556,
             "#d8576b"
            ],
            [
             0.6666666666666666,
             "#ed7953"
            ],
            [
             0.7777777777777778,
             "#fb9f3a"
            ],
            [
             0.8888888888888888,
             "#fdca26"
            ],
            [
             1,
             "#f0f921"
            ]
           ],
           "sequentialminus": [
            [
             0,
             "#0d0887"
            ],
            [
             0.1111111111111111,
             "#46039f"
            ],
            [
             0.2222222222222222,
             "#7201a8"
            ],
            [
             0.3333333333333333,
             "#9c179e"
            ],
            [
             0.4444444444444444,
             "#bd3786"
            ],
            [
             0.5555555555555556,
             "#d8576b"
            ],
            [
             0.6666666666666666,
             "#ed7953"
            ],
            [
             0.7777777777777778,
             "#fb9f3a"
            ],
            [
             0.8888888888888888,
             "#fdca26"
            ],
            [
             1,
             "#f0f921"
            ]
           ]
          },
          "colorway": [
           "#636efa",
           "#EF553B",
           "#00cc96",
           "#ab63fa",
           "#FFA15A",
           "#19d3f3",
           "#FF6692",
           "#B6E880",
           "#FF97FF",
           "#FECB52"
          ],
          "font": {
           "color": "#2a3f5f"
          },
          "geo": {
           "bgcolor": "white",
           "lakecolor": "white",
           "landcolor": "#E5ECF6",
           "showlakes": true,
           "showland": true,
           "subunitcolor": "white"
          },
          "hoverlabel": {
           "align": "left"
          },
          "hovermode": "closest",
          "mapbox": {
           "style": "light"
          },
          "paper_bgcolor": "white",
          "plot_bgcolor": "#E5ECF6",
          "polar": {
           "angularaxis": {
            "gridcolor": "white",
            "linecolor": "white",
            "ticks": ""
           },
           "bgcolor": "#E5ECF6",
           "radialaxis": {
            "gridcolor": "white",
            "linecolor": "white",
            "ticks": ""
           }
          },
          "scene": {
           "xaxis": {
            "backgroundcolor": "#E5ECF6",
            "gridcolor": "white",
            "gridwidth": 2,
            "linecolor": "white",
            "showbackground": true,
            "ticks": "",
            "zerolinecolor": "white"
           },
           "yaxis": {
            "backgroundcolor": "#E5ECF6",
            "gridcolor": "white",
            "gridwidth": 2,
            "linecolor": "white",
            "showbackground": true,
            "ticks": "",
            "zerolinecolor": "white"
           },
           "zaxis": {
            "backgroundcolor": "#E5ECF6",
            "gridcolor": "white",
            "gridwidth": 2,
            "linecolor": "white",
            "showbackground": true,
            "ticks": "",
            "zerolinecolor": "white"
           }
          },
          "shapedefaults": {
           "line": {
            "color": "#2a3f5f"
           }
          },
          "ternary": {
           "aaxis": {
            "gridcolor": "white",
            "linecolor": "white",
            "ticks": ""
           },
           "baxis": {
            "gridcolor": "white",
            "linecolor": "white",
            "ticks": ""
           },
           "bgcolor": "#E5ECF6",
           "caxis": {
            "gridcolor": "white",
            "linecolor": "white",
            "ticks": ""
           }
          },
          "title": {
           "x": 0.05
          },
          "xaxis": {
           "automargin": true,
           "gridcolor": "white",
           "linecolor": "white",
           "ticks": "",
           "title": {
            "standoff": 15
           },
           "zerolinecolor": "white",
           "zerolinewidth": 2
          },
          "yaxis": {
           "automargin": true,
           "gridcolor": "white",
           "linecolor": "white",
           "ticks": "",
           "title": {
            "standoff": 15
           },
           "zerolinecolor": "white",
           "zerolinewidth": 2
          }
         }
        },
        "title": {
         "text": "Sucess factor vs average delay time, size is Printer total orders"
        },
        "xaxis": {
         "anchor": "y",
         "domain": [
          0,
          1
         ],
         "title": {
          "text": "Time_delay_hours"
         }
        },
        "yaxis": {
         "anchor": "x",
         "domain": [
          0,
          1
         ],
         "title": {
          "text": "Printer_sucesss_factor"
         }
        }
       }
      },
      "text/html": [
       "<div>                            <div id=\"4cd63282-9264-42a8-9aaa-9e483a2606ed\" class=\"plotly-graph-div\" style=\"height:525px; width:100%;\"></div>            <script type=\"text/javascript\">                require([\"plotly\"], function(Plotly) {                    window.PLOTLYENV=window.PLOTLYENV || {};                                    if (document.getElementById(\"4cd63282-9264-42a8-9aaa-9e483a2606ed\")) {                    Plotly.newPlot(                        \"4cd63282-9264-42a8-9aaa-9e483a2606ed\",                        [{\"hovertemplate\":\"Time_delay_hours=%{x}<br>Printer_sucesss_factor=%{y}<br>Total_printed_orders=%{marker.size}<extra></extra>\",\"legendgroup\":\"\",\"marker\":{\"color\":\"#636efa\",\"size\":[3925,2240,1854,1629,1339,1157,528,530,452,357,272,272,339,165,327,195,134,141,34,59,13],\"sizemode\":\"area\",\"sizeref\":9.8125,\"symbol\":\"circle\"},\"mode\":\"markers\",\"name\":\"\",\"orientation\":\"v\",\"showlegend\":false,\"x\":[147.98458725182863,215.475799086758,181.47507692307693,175.9769001490313,248.98371335504885,278.0344827586207,199.27855711422845,249.26153846153846,261.33031674208144,182.03428571428572,273.95238095238096,307.62573099415204,397.5940594059406,207.02547770700636,559.050925925926,363.35978835978835,269.35074626865674,531.2205882352941,153.41176470588235,819.2033898305085,52.76923076923077],\"xaxis\":\"x\",\"y\":[256.46844168710066,97.02587784178982,94.87063146947688,83.60083780529907,45.537940969746316,38.57615165543527,18.817608148015253,17.662474069156506,15.320689347458071,14.944527494850291,7.802382978449037,7.187718473214476,6.992202959201954,5.788109095735293,4.452319092148031,3.8192715926275094,3.765215005519516,2.0461503455527703,1.162119083233962,0.5156332994032444,0.3548892733150747],\"yaxis\":\"y\",\"type\":\"scatter\"},{\"hovertemplate\":\"<b>OLS trendline</b><br>Printer_sucesss_factor = -0.115458 * Time_delay_hours + 68.0023<br>R<sup>2</sup>=0.109904<br><br>Time_delay_hours=%{x}<br>Printer_sucesss_factor=%{y} <b>(trend)</b><extra></extra>\",\"legendgroup\":\"\",\"marker\":{\"color\":\"#636efa\",\"symbol\":\"circle\"},\"mode\":\"lines\",\"name\":\"\",\"showlegend\":false,\"x\":[52.76923076923077,147.98458725182863,153.41176470588235,175.9769001490313,181.47507692307693,182.03428571428572,199.27855711422845,207.02547770700636,215.475799086758,248.98371335504885,249.26153846153846,261.33031674208144,269.35074626865674,273.95238095238096,278.0344827586207,307.62573099415204,363.35978835978835,397.5940594059406,531.2205882352941,559.050925925926,819.2033898305085],\"xaxis\":\"x\",\"y\":[61.90970637890182,50.916334243334006,50.289723330953706,47.68439851382334,47.04959016381452,46.98502504984194,44.99403641408603,44.099592659137045,43.12393567454409,39.25517978635553,39.22310266248526,37.829665975789496,36.903643433523925,36.37234801670361,35.90103681324801,32.484491249312484,26.04954991337886,22.096930343351524,6.668682076762842,3.4554476764111257,-26.58122868903051],\"yaxis\":\"y\",\"type\":\"scatter\"}],                        {\"template\":{\"data\":{\"bar\":[{\"error_x\":{\"color\":\"#2a3f5f\"},\"error_y\":{\"color\":\"#2a3f5f\"},\"marker\":{\"line\":{\"color\":\"#E5ECF6\",\"width\":0.5},\"pattern\":{\"fillmode\":\"overlay\",\"size\":10,\"solidity\":0.2}},\"type\":\"bar\"}],\"barpolar\":[{\"marker\":{\"line\":{\"color\":\"#E5ECF6\",\"width\":0.5},\"pattern\":{\"fillmode\":\"overlay\",\"size\":10,\"solidity\":0.2}},\"type\":\"barpolar\"}],\"carpet\":[{\"aaxis\":{\"endlinecolor\":\"#2a3f5f\",\"gridcolor\":\"white\",\"linecolor\":\"white\",\"minorgridcolor\":\"white\",\"startlinecolor\":\"#2a3f5f\"},\"baxis\":{\"endlinecolor\":\"#2a3f5f\",\"gridcolor\":\"white\",\"linecolor\":\"white\",\"minorgridcolor\":\"white\",\"startlinecolor\":\"#2a3f5f\"},\"type\":\"carpet\"}],\"choropleth\":[{\"colorbar\":{\"outlinewidth\":0,\"ticks\":\"\"},\"type\":\"choropleth\"}],\"contour\":[{\"colorbar\":{\"outlinewidth\":0,\"ticks\":\"\"},\"colorscale\":[[0.0,\"#0d0887\"],[0.1111111111111111,\"#46039f\"],[0.2222222222222222,\"#7201a8\"],[0.3333333333333333,\"#9c179e\"],[0.4444444444444444,\"#bd3786\"],[0.5555555555555556,\"#d8576b\"],[0.6666666666666666,\"#ed7953\"],[0.7777777777777778,\"#fb9f3a\"],[0.8888888888888888,\"#fdca26\"],[1.0,\"#f0f921\"]],\"type\":\"contour\"}],\"contourcarpet\":[{\"colorbar\":{\"outlinewidth\":0,\"ticks\":\"\"},\"type\":\"contourcarpet\"}],\"heatmap\":[{\"colorbar\":{\"outlinewidth\":0,\"ticks\":\"\"},\"colorscale\":[[0.0,\"#0d0887\"],[0.1111111111111111,\"#46039f\"],[0.2222222222222222,\"#7201a8\"],[0.3333333333333333,\"#9c179e\"],[0.4444444444444444,\"#bd3786\"],[0.5555555555555556,\"#d8576b\"],[0.6666666666666666,\"#ed7953\"],[0.7777777777777778,\"#fb9f3a\"],[0.8888888888888888,\"#fdca26\"],[1.0,\"#f0f921\"]],\"type\":\"heatmap\"}],\"heatmapgl\":[{\"colorbar\":{\"outlinewidth\":0,\"ticks\":\"\"},\"colorscale\":[[0.0,\"#0d0887\"],[0.1111111111111111,\"#46039f\"],[0.2222222222222222,\"#7201a8\"],[0.3333333333333333,\"#9c179e\"],[0.4444444444444444,\"#bd3786\"],[0.5555555555555556,\"#d8576b\"],[0.6666666666666666,\"#ed7953\"],[0.7777777777777778,\"#fb9f3a\"],[0.8888888888888888,\"#fdca26\"],[1.0,\"#f0f921\"]],\"type\":\"heatmapgl\"}],\"histogram\":[{\"marker\":{\"pattern\":{\"fillmode\":\"overlay\",\"size\":10,\"solidity\":0.2}},\"type\":\"histogram\"}],\"histogram2d\":[{\"colorbar\":{\"outlinewidth\":0,\"ticks\":\"\"},\"colorscale\":[[0.0,\"#0d0887\"],[0.1111111111111111,\"#46039f\"],[0.2222222222222222,\"#7201a8\"],[0.3333333333333333,\"#9c179e\"],[0.4444444444444444,\"#bd3786\"],[0.5555555555555556,\"#d8576b\"],[0.6666666666666666,\"#ed7953\"],[0.7777777777777778,\"#fb9f3a\"],[0.8888888888888888,\"#fdca26\"],[1.0,\"#f0f921\"]],\"type\":\"histogram2d\"}],\"histogram2dcontour\":[{\"colorbar\":{\"outlinewidth\":0,\"ticks\":\"\"},\"colorscale\":[[0.0,\"#0d0887\"],[0.1111111111111111,\"#46039f\"],[0.2222222222222222,\"#7201a8\"],[0.3333333333333333,\"#9c179e\"],[0.4444444444444444,\"#bd3786\"],[0.5555555555555556,\"#d8576b\"],[0.6666666666666666,\"#ed7953\"],[0.7777777777777778,\"#fb9f3a\"],[0.8888888888888888,\"#fdca26\"],[1.0,\"#f0f921\"]],\"type\":\"histogram2dcontour\"}],\"mesh3d\":[{\"colorbar\":{\"outlinewidth\":0,\"ticks\":\"\"},\"type\":\"mesh3d\"}],\"parcoords\":[{\"line\":{\"colorbar\":{\"outlinewidth\":0,\"ticks\":\"\"}},\"type\":\"parcoords\"}],\"pie\":[{\"automargin\":true,\"type\":\"pie\"}],\"scatter\":[{\"marker\":{\"colorbar\":{\"outlinewidth\":0,\"ticks\":\"\"}},\"type\":\"scatter\"}],\"scatter3d\":[{\"line\":{\"colorbar\":{\"outlinewidth\":0,\"ticks\":\"\"}},\"marker\":{\"colorbar\":{\"outlinewidth\":0,\"ticks\":\"\"}},\"type\":\"scatter3d\"}],\"scattercarpet\":[{\"marker\":{\"colorbar\":{\"outlinewidth\":0,\"ticks\":\"\"}},\"type\":\"scattercarpet\"}],\"scattergeo\":[{\"marker\":{\"colorbar\":{\"outlinewidth\":0,\"ticks\":\"\"}},\"type\":\"scattergeo\"}],\"scattergl\":[{\"marker\":{\"colorbar\":{\"outlinewidth\":0,\"ticks\":\"\"}},\"type\":\"scattergl\"}],\"scattermapbox\":[{\"marker\":{\"colorbar\":{\"outlinewidth\":0,\"ticks\":\"\"}},\"type\":\"scattermapbox\"}],\"scatterpolar\":[{\"marker\":{\"colorbar\":{\"outlinewidth\":0,\"ticks\":\"\"}},\"type\":\"scatterpolar\"}],\"scatterpolargl\":[{\"marker\":{\"colorbar\":{\"outlinewidth\":0,\"ticks\":\"\"}},\"type\":\"scatterpolargl\"}],\"scatterternary\":[{\"marker\":{\"colorbar\":{\"outlinewidth\":0,\"ticks\":\"\"}},\"type\":\"scatterternary\"}],\"surface\":[{\"colorbar\":{\"outlinewidth\":0,\"ticks\":\"\"},\"colorscale\":[[0.0,\"#0d0887\"],[0.1111111111111111,\"#46039f\"],[0.2222222222222222,\"#7201a8\"],[0.3333333333333333,\"#9c179e\"],[0.4444444444444444,\"#bd3786\"],[0.5555555555555556,\"#d8576b\"],[0.6666666666666666,\"#ed7953\"],[0.7777777777777778,\"#fb9f3a\"],[0.8888888888888888,\"#fdca26\"],[1.0,\"#f0f921\"]],\"type\":\"surface\"}],\"table\":[{\"cells\":{\"fill\":{\"color\":\"#EBF0F8\"},\"line\":{\"color\":\"white\"}},\"header\":{\"fill\":{\"color\":\"#C8D4E3\"},\"line\":{\"color\":\"white\"}},\"type\":\"table\"}]},\"layout\":{\"annotationdefaults\":{\"arrowcolor\":\"#2a3f5f\",\"arrowhead\":0,\"arrowwidth\":1},\"autotypenumbers\":\"strict\",\"coloraxis\":{\"colorbar\":{\"outlinewidth\":0,\"ticks\":\"\"}},\"colorscale\":{\"diverging\":[[0,\"#8e0152\"],[0.1,\"#c51b7d\"],[0.2,\"#de77ae\"],[0.3,\"#f1b6da\"],[0.4,\"#fde0ef\"],[0.5,\"#f7f7f7\"],[0.6,\"#e6f5d0\"],[0.7,\"#b8e186\"],[0.8,\"#7fbc41\"],[0.9,\"#4d9221\"],[1,\"#276419\"]],\"sequential\":[[0.0,\"#0d0887\"],[0.1111111111111111,\"#46039f\"],[0.2222222222222222,\"#7201a8\"],[0.3333333333333333,\"#9c179e\"],[0.4444444444444444,\"#bd3786\"],[0.5555555555555556,\"#d8576b\"],[0.6666666666666666,\"#ed7953\"],[0.7777777777777778,\"#fb9f3a\"],[0.8888888888888888,\"#fdca26\"],[1.0,\"#f0f921\"]],\"sequentialminus\":[[0.0,\"#0d0887\"],[0.1111111111111111,\"#46039f\"],[0.2222222222222222,\"#7201a8\"],[0.3333333333333333,\"#9c179e\"],[0.4444444444444444,\"#bd3786\"],[0.5555555555555556,\"#d8576b\"],[0.6666666666666666,\"#ed7953\"],[0.7777777777777778,\"#fb9f3a\"],[0.8888888888888888,\"#fdca26\"],[1.0,\"#f0f921\"]]},\"colorway\":[\"#636efa\",\"#EF553B\",\"#00cc96\",\"#ab63fa\",\"#FFA15A\",\"#19d3f3\",\"#FF6692\",\"#B6E880\",\"#FF97FF\",\"#FECB52\"],\"font\":{\"color\":\"#2a3f5f\"},\"geo\":{\"bgcolor\":\"white\",\"lakecolor\":\"white\",\"landcolor\":\"#E5ECF6\",\"showlakes\":true,\"showland\":true,\"subunitcolor\":\"white\"},\"hoverlabel\":{\"align\":\"left\"},\"hovermode\":\"closest\",\"mapbox\":{\"style\":\"light\"},\"paper_bgcolor\":\"white\",\"plot_bgcolor\":\"#E5ECF6\",\"polar\":{\"angularaxis\":{\"gridcolor\":\"white\",\"linecolor\":\"white\",\"ticks\":\"\"},\"bgcolor\":\"#E5ECF6\",\"radialaxis\":{\"gridcolor\":\"white\",\"linecolor\":\"white\",\"ticks\":\"\"}},\"scene\":{\"xaxis\":{\"backgroundcolor\":\"#E5ECF6\",\"gridcolor\":\"white\",\"gridwidth\":2,\"linecolor\":\"white\",\"showbackground\":true,\"ticks\":\"\",\"zerolinecolor\":\"white\"},\"yaxis\":{\"backgroundcolor\":\"#E5ECF6\",\"gridcolor\":\"white\",\"gridwidth\":2,\"linecolor\":\"white\",\"showbackground\":true,\"ticks\":\"\",\"zerolinecolor\":\"white\"},\"zaxis\":{\"backgroundcolor\":\"#E5ECF6\",\"gridcolor\":\"white\",\"gridwidth\":2,\"linecolor\":\"white\",\"showbackground\":true,\"ticks\":\"\",\"zerolinecolor\":\"white\"}},\"shapedefaults\":{\"line\":{\"color\":\"#2a3f5f\"}},\"ternary\":{\"aaxis\":{\"gridcolor\":\"white\",\"linecolor\":\"white\",\"ticks\":\"\"},\"baxis\":{\"gridcolor\":\"white\",\"linecolor\":\"white\",\"ticks\":\"\"},\"bgcolor\":\"#E5ECF6\",\"caxis\":{\"gridcolor\":\"white\",\"linecolor\":\"white\",\"ticks\":\"\"}},\"title\":{\"x\":0.05},\"xaxis\":{\"automargin\":true,\"gridcolor\":\"white\",\"linecolor\":\"white\",\"ticks\":\"\",\"title\":{\"standoff\":15},\"zerolinecolor\":\"white\",\"zerolinewidth\":2},\"yaxis\":{\"automargin\":true,\"gridcolor\":\"white\",\"linecolor\":\"white\",\"ticks\":\"\",\"title\":{\"standoff\":15},\"zerolinecolor\":\"white\",\"zerolinewidth\":2}}},\"xaxis\":{\"anchor\":\"y\",\"domain\":[0.0,1.0],\"title\":{\"text\":\"Time_delay_hours\"}},\"yaxis\":{\"anchor\":\"x\",\"domain\":[0.0,1.0],\"title\":{\"text\":\"Printer_sucesss_factor\"}},\"legend\":{\"tracegroupgap\":0,\"itemsizing\":\"constant\"},\"title\":{\"text\":\"Sucess factor vs average delay time, size is Printer total orders\"}},                        {\"responsive\": true}                    ).then(function(){\n",
       "                            \n",
       "var gd = document.getElementById('4cd63282-9264-42a8-9aaa-9e483a2606ed');\n",
       "var x = new MutationObserver(function (mutations, observer) {{\n",
       "        var display = window.getComputedStyle(gd).display;\n",
       "        if (!display || display === 'none') {{\n",
       "            console.log([gd, 'removed!']);\n",
       "            Plotly.purge(gd);\n",
       "            observer.disconnect();\n",
       "        }}\n",
       "}});\n",
       "\n",
       "// Listen for the removal of the full notebook cells\n",
       "var notebookContainer = gd.closest('#notebook-container');\n",
       "if (notebookContainer) {{\n",
       "    x.observe(notebookContainer, {childList: true});\n",
       "}}\n",
       "\n",
       "// Listen for the clearing of the current output cell\n",
       "var outputEl = gd.closest('.output');\n",
       "if (outputEl) {{\n",
       "    x.observe(outputEl, {childList: true});\n",
       "}}\n",
       "\n",
       "                        })                };                });            </script>        </div>"
      ]
     },
     "metadata": {},
     "output_type": "display_data"
    }
   ],
   "source": [
    "# using plotly express to plot an interactive scatter plot\n",
    "fig = px.scatter(printer_perf, x=\"Time_delay_hours\", y=\"Printer_sucesss_factor\", \n",
    "                 trendline=\"ols\", size=\"Total_printed_orders\",\n",
    "                labels={'x':'Average time delay', 'y':'Sucess Factor'}, \n",
    "                 title='Sucess factor vs average delay time, size is Printer total orders')\n",
    "fig.show()"
   ]
  },
  {
   "cell_type": "code",
   "execution_count": 79,
   "id": "d7e22b28",
   "metadata": {},
   "outputs": [
    {
     "data": {
      "text/plain": [
       "0.8168782609844771"
      ]
     },
     "execution_count": 79,
     "metadata": {},
     "output_type": "execute_result"
    }
   ],
   "source": [
    "# Reprinted orders\n",
    "printer_perf['Printer_sucesss_factor'].corr(printer_perf['Re_printed'])"
   ]
  },
  {
   "cell_type": "code",
   "execution_count": 80,
   "id": "2cf2eaae",
   "metadata": {},
   "outputs": [
    {
     "data": {
      "application/vnd.plotly.v1+json": {
       "config": {
        "plotlyServerURL": "https://plot.ly"
       },
       "data": [
        {
         "hovertemplate": "Re_printed=%{x}<br>Printer_sucesss_factor=%{y}<br>Total_printed_orders=%{marker.size}<extra></extra>",
         "legendgroup": "",
         "marker": {
          "color": "#636efa",
          "size": [
           3925,
           2240,
           1854,
           1629,
           1339,
           1157,
           528,
           530,
           452,
           357,
           272,
           272,
           339,
           165,
           327,
           195,
           134,
           141,
           34,
           59,
           13
          ],
          "sizemode": "area",
          "sizeref": 9.8125,
          "symbol": "circle"
         },
         "mode": "markers",
         "name": "",
         "orientation": "v",
         "showlegend": false,
         "type": "scatter",
         "x": [
          19,
          11,
          12,
          11,
          17,
          3,
          10,
          3,
          2,
          5,
          1,
          1,
          1,
          2,
          2,
          3,
          1,
          1,
          1,
          1,
          1
         ],
         "xaxis": "x",
         "y": [
          256.46844168710066,
          97.02587784178982,
          94.87063146947688,
          83.60083780529907,
          45.537940969746316,
          38.57615165543527,
          18.817608148015253,
          17.662474069156506,
          15.320689347458071,
          14.944527494850291,
          7.802382978449037,
          7.187718473214476,
          6.992202959201954,
          5.788109095735293,
          4.452319092148031,
          3.8192715926275094,
          3.765215005519516,
          2.0461503455527703,
          1.162119083233962,
          0.5156332994032444,
          0.3548892733150747
         ],
         "yaxis": "y"
        },
        {
         "hovertemplate": "<b>OLS trendline</b><br>Printer_sucesss_factor = 8.51866 * Re_printed + -9.20497<br>R<sup>2</sup>=0.667290<br><br>Re_printed=%{x}<br>Printer_sucesss_factor=%{y} <b>(trend)</b><extra></extra>",
         "legendgroup": "",
         "marker": {
          "color": "#636efa",
          "symbol": "circle"
         },
         "mode": "lines",
         "name": "",
         "showlegend": false,
         "type": "scatter",
         "x": [
          1,
          1,
          1,
          1,
          1,
          1,
          1,
          1,
          2,
          2,
          2,
          3,
          3,
          3,
          5,
          10,
          11,
          11,
          12,
          17,
          19
         ],
         "xaxis": "x",
         "y": [
          -0.6863081851548074,
          -0.6863081851548074,
          -0.6863081851548074,
          -0.6863081851548074,
          -0.6863081851548074,
          -0.6863081851548074,
          -0.6863081851548074,
          -0.6863081851548074,
          7.8323546145576035,
          7.8323546145576035,
          7.8323546145576035,
          16.351017414270018,
          16.351017414270018,
          16.351017414270018,
          33.388343013694836,
          75.98165701225689,
          84.5003198119693,
          84.5003198119693,
          93.01898261168172,
          135.61229661024376,
          152.64962220966856
         ],
         "yaxis": "y"
        }
       ],
       "layout": {
        "legend": {
         "itemsizing": "constant",
         "tracegroupgap": 0
        },
        "template": {
         "data": {
          "bar": [
           {
            "error_x": {
             "color": "#2a3f5f"
            },
            "error_y": {
             "color": "#2a3f5f"
            },
            "marker": {
             "line": {
              "color": "#E5ECF6",
              "width": 0.5
             },
             "pattern": {
              "fillmode": "overlay",
              "size": 10,
              "solidity": 0.2
             }
            },
            "type": "bar"
           }
          ],
          "barpolar": [
           {
            "marker": {
             "line": {
              "color": "#E5ECF6",
              "width": 0.5
             },
             "pattern": {
              "fillmode": "overlay",
              "size": 10,
              "solidity": 0.2
             }
            },
            "type": "barpolar"
           }
          ],
          "carpet": [
           {
            "aaxis": {
             "endlinecolor": "#2a3f5f",
             "gridcolor": "white",
             "linecolor": "white",
             "minorgridcolor": "white",
             "startlinecolor": "#2a3f5f"
            },
            "baxis": {
             "endlinecolor": "#2a3f5f",
             "gridcolor": "white",
             "linecolor": "white",
             "minorgridcolor": "white",
             "startlinecolor": "#2a3f5f"
            },
            "type": "carpet"
           }
          ],
          "choropleth": [
           {
            "colorbar": {
             "outlinewidth": 0,
             "ticks": ""
            },
            "type": "choropleth"
           }
          ],
          "contour": [
           {
            "colorbar": {
             "outlinewidth": 0,
             "ticks": ""
            },
            "colorscale": [
             [
              0,
              "#0d0887"
             ],
             [
              0.1111111111111111,
              "#46039f"
             ],
             [
              0.2222222222222222,
              "#7201a8"
             ],
             [
              0.3333333333333333,
              "#9c179e"
             ],
             [
              0.4444444444444444,
              "#bd3786"
             ],
             [
              0.5555555555555556,
              "#d8576b"
             ],
             [
              0.6666666666666666,
              "#ed7953"
             ],
             [
              0.7777777777777778,
              "#fb9f3a"
             ],
             [
              0.8888888888888888,
              "#fdca26"
             ],
             [
              1,
              "#f0f921"
             ]
            ],
            "type": "contour"
           }
          ],
          "contourcarpet": [
           {
            "colorbar": {
             "outlinewidth": 0,
             "ticks": ""
            },
            "type": "contourcarpet"
           }
          ],
          "heatmap": [
           {
            "colorbar": {
             "outlinewidth": 0,
             "ticks": ""
            },
            "colorscale": [
             [
              0,
              "#0d0887"
             ],
             [
              0.1111111111111111,
              "#46039f"
             ],
             [
              0.2222222222222222,
              "#7201a8"
             ],
             [
              0.3333333333333333,
              "#9c179e"
             ],
             [
              0.4444444444444444,
              "#bd3786"
             ],
             [
              0.5555555555555556,
              "#d8576b"
             ],
             [
              0.6666666666666666,
              "#ed7953"
             ],
             [
              0.7777777777777778,
              "#fb9f3a"
             ],
             [
              0.8888888888888888,
              "#fdca26"
             ],
             [
              1,
              "#f0f921"
             ]
            ],
            "type": "heatmap"
           }
          ],
          "heatmapgl": [
           {
            "colorbar": {
             "outlinewidth": 0,
             "ticks": ""
            },
            "colorscale": [
             [
              0,
              "#0d0887"
             ],
             [
              0.1111111111111111,
              "#46039f"
             ],
             [
              0.2222222222222222,
              "#7201a8"
             ],
             [
              0.3333333333333333,
              "#9c179e"
             ],
             [
              0.4444444444444444,
              "#bd3786"
             ],
             [
              0.5555555555555556,
              "#d8576b"
             ],
             [
              0.6666666666666666,
              "#ed7953"
             ],
             [
              0.7777777777777778,
              "#fb9f3a"
             ],
             [
              0.8888888888888888,
              "#fdca26"
             ],
             [
              1,
              "#f0f921"
             ]
            ],
            "type": "heatmapgl"
           }
          ],
          "histogram": [
           {
            "marker": {
             "pattern": {
              "fillmode": "overlay",
              "size": 10,
              "solidity": 0.2
             }
            },
            "type": "histogram"
           }
          ],
          "histogram2d": [
           {
            "colorbar": {
             "outlinewidth": 0,
             "ticks": ""
            },
            "colorscale": [
             [
              0,
              "#0d0887"
             ],
             [
              0.1111111111111111,
              "#46039f"
             ],
             [
              0.2222222222222222,
              "#7201a8"
             ],
             [
              0.3333333333333333,
              "#9c179e"
             ],
             [
              0.4444444444444444,
              "#bd3786"
             ],
             [
              0.5555555555555556,
              "#d8576b"
             ],
             [
              0.6666666666666666,
              "#ed7953"
             ],
             [
              0.7777777777777778,
              "#fb9f3a"
             ],
             [
              0.8888888888888888,
              "#fdca26"
             ],
             [
              1,
              "#f0f921"
             ]
            ],
            "type": "histogram2d"
           }
          ],
          "histogram2dcontour": [
           {
            "colorbar": {
             "outlinewidth": 0,
             "ticks": ""
            },
            "colorscale": [
             [
              0,
              "#0d0887"
             ],
             [
              0.1111111111111111,
              "#46039f"
             ],
             [
              0.2222222222222222,
              "#7201a8"
             ],
             [
              0.3333333333333333,
              "#9c179e"
             ],
             [
              0.4444444444444444,
              "#bd3786"
             ],
             [
              0.5555555555555556,
              "#d8576b"
             ],
             [
              0.6666666666666666,
              "#ed7953"
             ],
             [
              0.7777777777777778,
              "#fb9f3a"
             ],
             [
              0.8888888888888888,
              "#fdca26"
             ],
             [
              1,
              "#f0f921"
             ]
            ],
            "type": "histogram2dcontour"
           }
          ],
          "mesh3d": [
           {
            "colorbar": {
             "outlinewidth": 0,
             "ticks": ""
            },
            "type": "mesh3d"
           }
          ],
          "parcoords": [
           {
            "line": {
             "colorbar": {
              "outlinewidth": 0,
              "ticks": ""
             }
            },
            "type": "parcoords"
           }
          ],
          "pie": [
           {
            "automargin": true,
            "type": "pie"
           }
          ],
          "scatter": [
           {
            "marker": {
             "colorbar": {
              "outlinewidth": 0,
              "ticks": ""
             }
            },
            "type": "scatter"
           }
          ],
          "scatter3d": [
           {
            "line": {
             "colorbar": {
              "outlinewidth": 0,
              "ticks": ""
             }
            },
            "marker": {
             "colorbar": {
              "outlinewidth": 0,
              "ticks": ""
             }
            },
            "type": "scatter3d"
           }
          ],
          "scattercarpet": [
           {
            "marker": {
             "colorbar": {
              "outlinewidth": 0,
              "ticks": ""
             }
            },
            "type": "scattercarpet"
           }
          ],
          "scattergeo": [
           {
            "marker": {
             "colorbar": {
              "outlinewidth": 0,
              "ticks": ""
             }
            },
            "type": "scattergeo"
           }
          ],
          "scattergl": [
           {
            "marker": {
             "colorbar": {
              "outlinewidth": 0,
              "ticks": ""
             }
            },
            "type": "scattergl"
           }
          ],
          "scattermapbox": [
           {
            "marker": {
             "colorbar": {
              "outlinewidth": 0,
              "ticks": ""
             }
            },
            "type": "scattermapbox"
           }
          ],
          "scatterpolar": [
           {
            "marker": {
             "colorbar": {
              "outlinewidth": 0,
              "ticks": ""
             }
            },
            "type": "scatterpolar"
           }
          ],
          "scatterpolargl": [
           {
            "marker": {
             "colorbar": {
              "outlinewidth": 0,
              "ticks": ""
             }
            },
            "type": "scatterpolargl"
           }
          ],
          "scatterternary": [
           {
            "marker": {
             "colorbar": {
              "outlinewidth": 0,
              "ticks": ""
             }
            },
            "type": "scatterternary"
           }
          ],
          "surface": [
           {
            "colorbar": {
             "outlinewidth": 0,
             "ticks": ""
            },
            "colorscale": [
             [
              0,
              "#0d0887"
             ],
             [
              0.1111111111111111,
              "#46039f"
             ],
             [
              0.2222222222222222,
              "#7201a8"
             ],
             [
              0.3333333333333333,
              "#9c179e"
             ],
             [
              0.4444444444444444,
              "#bd3786"
             ],
             [
              0.5555555555555556,
              "#d8576b"
             ],
             [
              0.6666666666666666,
              "#ed7953"
             ],
             [
              0.7777777777777778,
              "#fb9f3a"
             ],
             [
              0.8888888888888888,
              "#fdca26"
             ],
             [
              1,
              "#f0f921"
             ]
            ],
            "type": "surface"
           }
          ],
          "table": [
           {
            "cells": {
             "fill": {
              "color": "#EBF0F8"
             },
             "line": {
              "color": "white"
             }
            },
            "header": {
             "fill": {
              "color": "#C8D4E3"
             },
             "line": {
              "color": "white"
             }
            },
            "type": "table"
           }
          ]
         },
         "layout": {
          "annotationdefaults": {
           "arrowcolor": "#2a3f5f",
           "arrowhead": 0,
           "arrowwidth": 1
          },
          "autotypenumbers": "strict",
          "coloraxis": {
           "colorbar": {
            "outlinewidth": 0,
            "ticks": ""
           }
          },
          "colorscale": {
           "diverging": [
            [
             0,
             "#8e0152"
            ],
            [
             0.1,
             "#c51b7d"
            ],
            [
             0.2,
             "#de77ae"
            ],
            [
             0.3,
             "#f1b6da"
            ],
            [
             0.4,
             "#fde0ef"
            ],
            [
             0.5,
             "#f7f7f7"
            ],
            [
             0.6,
             "#e6f5d0"
            ],
            [
             0.7,
             "#b8e186"
            ],
            [
             0.8,
             "#7fbc41"
            ],
            [
             0.9,
             "#4d9221"
            ],
            [
             1,
             "#276419"
            ]
           ],
           "sequential": [
            [
             0,
             "#0d0887"
            ],
            [
             0.1111111111111111,
             "#46039f"
            ],
            [
             0.2222222222222222,
             "#7201a8"
            ],
            [
             0.3333333333333333,
             "#9c179e"
            ],
            [
             0.4444444444444444,
             "#bd3786"
            ],
            [
             0.5555555555555556,
             "#d8576b"
            ],
            [
             0.6666666666666666,
             "#ed7953"
            ],
            [
             0.7777777777777778,
             "#fb9f3a"
            ],
            [
             0.8888888888888888,
             "#fdca26"
            ],
            [
             1,
             "#f0f921"
            ]
           ],
           "sequentialminus": [
            [
             0,
             "#0d0887"
            ],
            [
             0.1111111111111111,
             "#46039f"
            ],
            [
             0.2222222222222222,
             "#7201a8"
            ],
            [
             0.3333333333333333,
             "#9c179e"
            ],
            [
             0.4444444444444444,
             "#bd3786"
            ],
            [
             0.5555555555555556,
             "#d8576b"
            ],
            [
             0.6666666666666666,
             "#ed7953"
            ],
            [
             0.7777777777777778,
             "#fb9f3a"
            ],
            [
             0.8888888888888888,
             "#fdca26"
            ],
            [
             1,
             "#f0f921"
            ]
           ]
          },
          "colorway": [
           "#636efa",
           "#EF553B",
           "#00cc96",
           "#ab63fa",
           "#FFA15A",
           "#19d3f3",
           "#FF6692",
           "#B6E880",
           "#FF97FF",
           "#FECB52"
          ],
          "font": {
           "color": "#2a3f5f"
          },
          "geo": {
           "bgcolor": "white",
           "lakecolor": "white",
           "landcolor": "#E5ECF6",
           "showlakes": true,
           "showland": true,
           "subunitcolor": "white"
          },
          "hoverlabel": {
           "align": "left"
          },
          "hovermode": "closest",
          "mapbox": {
           "style": "light"
          },
          "paper_bgcolor": "white",
          "plot_bgcolor": "#E5ECF6",
          "polar": {
           "angularaxis": {
            "gridcolor": "white",
            "linecolor": "white",
            "ticks": ""
           },
           "bgcolor": "#E5ECF6",
           "radialaxis": {
            "gridcolor": "white",
            "linecolor": "white",
            "ticks": ""
           }
          },
          "scene": {
           "xaxis": {
            "backgroundcolor": "#E5ECF6",
            "gridcolor": "white",
            "gridwidth": 2,
            "linecolor": "white",
            "showbackground": true,
            "ticks": "",
            "zerolinecolor": "white"
           },
           "yaxis": {
            "backgroundcolor": "#E5ECF6",
            "gridcolor": "white",
            "gridwidth": 2,
            "linecolor": "white",
            "showbackground": true,
            "ticks": "",
            "zerolinecolor": "white"
           },
           "zaxis": {
            "backgroundcolor": "#E5ECF6",
            "gridcolor": "white",
            "gridwidth": 2,
            "linecolor": "white",
            "showbackground": true,
            "ticks": "",
            "zerolinecolor": "white"
           }
          },
          "shapedefaults": {
           "line": {
            "color": "#2a3f5f"
           }
          },
          "ternary": {
           "aaxis": {
            "gridcolor": "white",
            "linecolor": "white",
            "ticks": ""
           },
           "baxis": {
            "gridcolor": "white",
            "linecolor": "white",
            "ticks": ""
           },
           "bgcolor": "#E5ECF6",
           "caxis": {
            "gridcolor": "white",
            "linecolor": "white",
            "ticks": ""
           }
          },
          "title": {
           "x": 0.05
          },
          "xaxis": {
           "automargin": true,
           "gridcolor": "white",
           "linecolor": "white",
           "ticks": "",
           "title": {
            "standoff": 15
           },
           "zerolinecolor": "white",
           "zerolinewidth": 2
          },
          "yaxis": {
           "automargin": true,
           "gridcolor": "white",
           "linecolor": "white",
           "ticks": "",
           "title": {
            "standoff": 15
           },
           "zerolinecolor": "white",
           "zerolinewidth": 2
          }
         }
        },
        "title": {
         "text": "Sucess factor vs re-printed orders, size is Printer total orders"
        },
        "xaxis": {
         "anchor": "y",
         "domain": [
          0,
          1
         ],
         "title": {
          "text": "Re_printed"
         }
        },
        "yaxis": {
         "anchor": "x",
         "domain": [
          0,
          1
         ],
         "title": {
          "text": "Printer_sucesss_factor"
         }
        }
       }
      },
      "text/html": [
       "<div>                            <div id=\"bafc6e9b-4e68-4dfb-aab2-f646be46e303\" class=\"plotly-graph-div\" style=\"height:525px; width:100%;\"></div>            <script type=\"text/javascript\">                require([\"plotly\"], function(Plotly) {                    window.PLOTLYENV=window.PLOTLYENV || {};                                    if (document.getElementById(\"bafc6e9b-4e68-4dfb-aab2-f646be46e303\")) {                    Plotly.newPlot(                        \"bafc6e9b-4e68-4dfb-aab2-f646be46e303\",                        [{\"hovertemplate\":\"Re_printed=%{x}<br>Printer_sucesss_factor=%{y}<br>Total_printed_orders=%{marker.size}<extra></extra>\",\"legendgroup\":\"\",\"marker\":{\"color\":\"#636efa\",\"size\":[3925,2240,1854,1629,1339,1157,528,530,452,357,272,272,339,165,327,195,134,141,34,59,13],\"sizemode\":\"area\",\"sizeref\":9.8125,\"symbol\":\"circle\"},\"mode\":\"markers\",\"name\":\"\",\"orientation\":\"v\",\"showlegend\":false,\"x\":[19,11,12,11,17,3,10,3,2,5,1,1,1,2,2,3,1,1,1,1,1],\"xaxis\":\"x\",\"y\":[256.46844168710066,97.02587784178982,94.87063146947688,83.60083780529907,45.537940969746316,38.57615165543527,18.817608148015253,17.662474069156506,15.320689347458071,14.944527494850291,7.802382978449037,7.187718473214476,6.992202959201954,5.788109095735293,4.452319092148031,3.8192715926275094,3.765215005519516,2.0461503455527703,1.162119083233962,0.5156332994032444,0.3548892733150747],\"yaxis\":\"y\",\"type\":\"scatter\"},{\"hovertemplate\":\"<b>OLS trendline</b><br>Printer_sucesss_factor = 8.51866 * Re_printed + -9.20497<br>R<sup>2</sup>=0.667290<br><br>Re_printed=%{x}<br>Printer_sucesss_factor=%{y} <b>(trend)</b><extra></extra>\",\"legendgroup\":\"\",\"marker\":{\"color\":\"#636efa\",\"symbol\":\"circle\"},\"mode\":\"lines\",\"name\":\"\",\"showlegend\":false,\"x\":[1,1,1,1,1,1,1,1,2,2,2,3,3,3,5,10,11,11,12,17,19],\"xaxis\":\"x\",\"y\":[-0.6863081851548074,-0.6863081851548074,-0.6863081851548074,-0.6863081851548074,-0.6863081851548074,-0.6863081851548074,-0.6863081851548074,-0.6863081851548074,7.8323546145576035,7.8323546145576035,7.8323546145576035,16.351017414270018,16.351017414270018,16.351017414270018,33.388343013694836,75.98165701225689,84.5003198119693,84.5003198119693,93.01898261168172,135.61229661024376,152.64962220966856],\"yaxis\":\"y\",\"type\":\"scatter\"}],                        {\"template\":{\"data\":{\"bar\":[{\"error_x\":{\"color\":\"#2a3f5f\"},\"error_y\":{\"color\":\"#2a3f5f\"},\"marker\":{\"line\":{\"color\":\"#E5ECF6\",\"width\":0.5},\"pattern\":{\"fillmode\":\"overlay\",\"size\":10,\"solidity\":0.2}},\"type\":\"bar\"}],\"barpolar\":[{\"marker\":{\"line\":{\"color\":\"#E5ECF6\",\"width\":0.5},\"pattern\":{\"fillmode\":\"overlay\",\"size\":10,\"solidity\":0.2}},\"type\":\"barpolar\"}],\"carpet\":[{\"aaxis\":{\"endlinecolor\":\"#2a3f5f\",\"gridcolor\":\"white\",\"linecolor\":\"white\",\"minorgridcolor\":\"white\",\"startlinecolor\":\"#2a3f5f\"},\"baxis\":{\"endlinecolor\":\"#2a3f5f\",\"gridcolor\":\"white\",\"linecolor\":\"white\",\"minorgridcolor\":\"white\",\"startlinecolor\":\"#2a3f5f\"},\"type\":\"carpet\"}],\"choropleth\":[{\"colorbar\":{\"outlinewidth\":0,\"ticks\":\"\"},\"type\":\"choropleth\"}],\"contour\":[{\"colorbar\":{\"outlinewidth\":0,\"ticks\":\"\"},\"colorscale\":[[0.0,\"#0d0887\"],[0.1111111111111111,\"#46039f\"],[0.2222222222222222,\"#7201a8\"],[0.3333333333333333,\"#9c179e\"],[0.4444444444444444,\"#bd3786\"],[0.5555555555555556,\"#d8576b\"],[0.6666666666666666,\"#ed7953\"],[0.7777777777777778,\"#fb9f3a\"],[0.8888888888888888,\"#fdca26\"],[1.0,\"#f0f921\"]],\"type\":\"contour\"}],\"contourcarpet\":[{\"colorbar\":{\"outlinewidth\":0,\"ticks\":\"\"},\"type\":\"contourcarpet\"}],\"heatmap\":[{\"colorbar\":{\"outlinewidth\":0,\"ticks\":\"\"},\"colorscale\":[[0.0,\"#0d0887\"],[0.1111111111111111,\"#46039f\"],[0.2222222222222222,\"#7201a8\"],[0.3333333333333333,\"#9c179e\"],[0.4444444444444444,\"#bd3786\"],[0.5555555555555556,\"#d8576b\"],[0.6666666666666666,\"#ed7953\"],[0.7777777777777778,\"#fb9f3a\"],[0.8888888888888888,\"#fdca26\"],[1.0,\"#f0f921\"]],\"type\":\"heatmap\"}],\"heatmapgl\":[{\"colorbar\":{\"outlinewidth\":0,\"ticks\":\"\"},\"colorscale\":[[0.0,\"#0d0887\"],[0.1111111111111111,\"#46039f\"],[0.2222222222222222,\"#7201a8\"],[0.3333333333333333,\"#9c179e\"],[0.4444444444444444,\"#bd3786\"],[0.5555555555555556,\"#d8576b\"],[0.6666666666666666,\"#ed7953\"],[0.7777777777777778,\"#fb9f3a\"],[0.8888888888888888,\"#fdca26\"],[1.0,\"#f0f921\"]],\"type\":\"heatmapgl\"}],\"histogram\":[{\"marker\":{\"pattern\":{\"fillmode\":\"overlay\",\"size\":10,\"solidity\":0.2}},\"type\":\"histogram\"}],\"histogram2d\":[{\"colorbar\":{\"outlinewidth\":0,\"ticks\":\"\"},\"colorscale\":[[0.0,\"#0d0887\"],[0.1111111111111111,\"#46039f\"],[0.2222222222222222,\"#7201a8\"],[0.3333333333333333,\"#9c179e\"],[0.4444444444444444,\"#bd3786\"],[0.5555555555555556,\"#d8576b\"],[0.6666666666666666,\"#ed7953\"],[0.7777777777777778,\"#fb9f3a\"],[0.8888888888888888,\"#fdca26\"],[1.0,\"#f0f921\"]],\"type\":\"histogram2d\"}],\"histogram2dcontour\":[{\"colorbar\":{\"outlinewidth\":0,\"ticks\":\"\"},\"colorscale\":[[0.0,\"#0d0887\"],[0.1111111111111111,\"#46039f\"],[0.2222222222222222,\"#7201a8\"],[0.3333333333333333,\"#9c179e\"],[0.4444444444444444,\"#bd3786\"],[0.5555555555555556,\"#d8576b\"],[0.6666666666666666,\"#ed7953\"],[0.7777777777777778,\"#fb9f3a\"],[0.8888888888888888,\"#fdca26\"],[1.0,\"#f0f921\"]],\"type\":\"histogram2dcontour\"}],\"mesh3d\":[{\"colorbar\":{\"outlinewidth\":0,\"ticks\":\"\"},\"type\":\"mesh3d\"}],\"parcoords\":[{\"line\":{\"colorbar\":{\"outlinewidth\":0,\"ticks\":\"\"}},\"type\":\"parcoords\"}],\"pie\":[{\"automargin\":true,\"type\":\"pie\"}],\"scatter\":[{\"marker\":{\"colorbar\":{\"outlinewidth\":0,\"ticks\":\"\"}},\"type\":\"scatter\"}],\"scatter3d\":[{\"line\":{\"colorbar\":{\"outlinewidth\":0,\"ticks\":\"\"}},\"marker\":{\"colorbar\":{\"outlinewidth\":0,\"ticks\":\"\"}},\"type\":\"scatter3d\"}],\"scattercarpet\":[{\"marker\":{\"colorbar\":{\"outlinewidth\":0,\"ticks\":\"\"}},\"type\":\"scattercarpet\"}],\"scattergeo\":[{\"marker\":{\"colorbar\":{\"outlinewidth\":0,\"ticks\":\"\"}},\"type\":\"scattergeo\"}],\"scattergl\":[{\"marker\":{\"colorbar\":{\"outlinewidth\":0,\"ticks\":\"\"}},\"type\":\"scattergl\"}],\"scattermapbox\":[{\"marker\":{\"colorbar\":{\"outlinewidth\":0,\"ticks\":\"\"}},\"type\":\"scattermapbox\"}],\"scatterpolar\":[{\"marker\":{\"colorbar\":{\"outlinewidth\":0,\"ticks\":\"\"}},\"type\":\"scatterpolar\"}],\"scatterpolargl\":[{\"marker\":{\"colorbar\":{\"outlinewidth\":0,\"ticks\":\"\"}},\"type\":\"scatterpolargl\"}],\"scatterternary\":[{\"marker\":{\"colorbar\":{\"outlinewidth\":0,\"ticks\":\"\"}},\"type\":\"scatterternary\"}],\"surface\":[{\"colorbar\":{\"outlinewidth\":0,\"ticks\":\"\"},\"colorscale\":[[0.0,\"#0d0887\"],[0.1111111111111111,\"#46039f\"],[0.2222222222222222,\"#7201a8\"],[0.3333333333333333,\"#9c179e\"],[0.4444444444444444,\"#bd3786\"],[0.5555555555555556,\"#d8576b\"],[0.6666666666666666,\"#ed7953\"],[0.7777777777777778,\"#fb9f3a\"],[0.8888888888888888,\"#fdca26\"],[1.0,\"#f0f921\"]],\"type\":\"surface\"}],\"table\":[{\"cells\":{\"fill\":{\"color\":\"#EBF0F8\"},\"line\":{\"color\":\"white\"}},\"header\":{\"fill\":{\"color\":\"#C8D4E3\"},\"line\":{\"color\":\"white\"}},\"type\":\"table\"}]},\"layout\":{\"annotationdefaults\":{\"arrowcolor\":\"#2a3f5f\",\"arrowhead\":0,\"arrowwidth\":1},\"autotypenumbers\":\"strict\",\"coloraxis\":{\"colorbar\":{\"outlinewidth\":0,\"ticks\":\"\"}},\"colorscale\":{\"diverging\":[[0,\"#8e0152\"],[0.1,\"#c51b7d\"],[0.2,\"#de77ae\"],[0.3,\"#f1b6da\"],[0.4,\"#fde0ef\"],[0.5,\"#f7f7f7\"],[0.6,\"#e6f5d0\"],[0.7,\"#b8e186\"],[0.8,\"#7fbc41\"],[0.9,\"#4d9221\"],[1,\"#276419\"]],\"sequential\":[[0.0,\"#0d0887\"],[0.1111111111111111,\"#46039f\"],[0.2222222222222222,\"#7201a8\"],[0.3333333333333333,\"#9c179e\"],[0.4444444444444444,\"#bd3786\"],[0.5555555555555556,\"#d8576b\"],[0.6666666666666666,\"#ed7953\"],[0.7777777777777778,\"#fb9f3a\"],[0.8888888888888888,\"#fdca26\"],[1.0,\"#f0f921\"]],\"sequentialminus\":[[0.0,\"#0d0887\"],[0.1111111111111111,\"#46039f\"],[0.2222222222222222,\"#7201a8\"],[0.3333333333333333,\"#9c179e\"],[0.4444444444444444,\"#bd3786\"],[0.5555555555555556,\"#d8576b\"],[0.6666666666666666,\"#ed7953\"],[0.7777777777777778,\"#fb9f3a\"],[0.8888888888888888,\"#fdca26\"],[1.0,\"#f0f921\"]]},\"colorway\":[\"#636efa\",\"#EF553B\",\"#00cc96\",\"#ab63fa\",\"#FFA15A\",\"#19d3f3\",\"#FF6692\",\"#B6E880\",\"#FF97FF\",\"#FECB52\"],\"font\":{\"color\":\"#2a3f5f\"},\"geo\":{\"bgcolor\":\"white\",\"lakecolor\":\"white\",\"landcolor\":\"#E5ECF6\",\"showlakes\":true,\"showland\":true,\"subunitcolor\":\"white\"},\"hoverlabel\":{\"align\":\"left\"},\"hovermode\":\"closest\",\"mapbox\":{\"style\":\"light\"},\"paper_bgcolor\":\"white\",\"plot_bgcolor\":\"#E5ECF6\",\"polar\":{\"angularaxis\":{\"gridcolor\":\"white\",\"linecolor\":\"white\",\"ticks\":\"\"},\"bgcolor\":\"#E5ECF6\",\"radialaxis\":{\"gridcolor\":\"white\",\"linecolor\":\"white\",\"ticks\":\"\"}},\"scene\":{\"xaxis\":{\"backgroundcolor\":\"#E5ECF6\",\"gridcolor\":\"white\",\"gridwidth\":2,\"linecolor\":\"white\",\"showbackground\":true,\"ticks\":\"\",\"zerolinecolor\":\"white\"},\"yaxis\":{\"backgroundcolor\":\"#E5ECF6\",\"gridcolor\":\"white\",\"gridwidth\":2,\"linecolor\":\"white\",\"showbackground\":true,\"ticks\":\"\",\"zerolinecolor\":\"white\"},\"zaxis\":{\"backgroundcolor\":\"#E5ECF6\",\"gridcolor\":\"white\",\"gridwidth\":2,\"linecolor\":\"white\",\"showbackground\":true,\"ticks\":\"\",\"zerolinecolor\":\"white\"}},\"shapedefaults\":{\"line\":{\"color\":\"#2a3f5f\"}},\"ternary\":{\"aaxis\":{\"gridcolor\":\"white\",\"linecolor\":\"white\",\"ticks\":\"\"},\"baxis\":{\"gridcolor\":\"white\",\"linecolor\":\"white\",\"ticks\":\"\"},\"bgcolor\":\"#E5ECF6\",\"caxis\":{\"gridcolor\":\"white\",\"linecolor\":\"white\",\"ticks\":\"\"}},\"title\":{\"x\":0.05},\"xaxis\":{\"automargin\":true,\"gridcolor\":\"white\",\"linecolor\":\"white\",\"ticks\":\"\",\"title\":{\"standoff\":15},\"zerolinecolor\":\"white\",\"zerolinewidth\":2},\"yaxis\":{\"automargin\":true,\"gridcolor\":\"white\",\"linecolor\":\"white\",\"ticks\":\"\",\"title\":{\"standoff\":15},\"zerolinecolor\":\"white\",\"zerolinewidth\":2}}},\"xaxis\":{\"anchor\":\"y\",\"domain\":[0.0,1.0],\"title\":{\"text\":\"Re_printed\"}},\"yaxis\":{\"anchor\":\"x\",\"domain\":[0.0,1.0],\"title\":{\"text\":\"Printer_sucesss_factor\"}},\"legend\":{\"tracegroupgap\":0,\"itemsizing\":\"constant\"},\"title\":{\"text\":\"Sucess factor vs re-printed orders, size is Printer total orders\"}},                        {\"responsive\": true}                    ).then(function(){\n",
       "                            \n",
       "var gd = document.getElementById('bafc6e9b-4e68-4dfb-aab2-f646be46e303');\n",
       "var x = new MutationObserver(function (mutations, observer) {{\n",
       "        var display = window.getComputedStyle(gd).display;\n",
       "        if (!display || display === 'none') {{\n",
       "            console.log([gd, 'removed!']);\n",
       "            Plotly.purge(gd);\n",
       "            observer.disconnect();\n",
       "        }}\n",
       "}});\n",
       "\n",
       "// Listen for the removal of the full notebook cells\n",
       "var notebookContainer = gd.closest('#notebook-container');\n",
       "if (notebookContainer) {{\n",
       "    x.observe(notebookContainer, {childList: true});\n",
       "}}\n",
       "\n",
       "// Listen for the clearing of the current output cell\n",
       "var outputEl = gd.closest('.output');\n",
       "if (outputEl) {{\n",
       "    x.observe(outputEl, {childList: true});\n",
       "}}\n",
       "\n",
       "                        })                };                });            </script>        </div>"
      ]
     },
     "metadata": {},
     "output_type": "display_data"
    }
   ],
   "source": [
    "# using plotly express to plot an interactive scatter plot\n",
    "fig = px.scatter(printer_perf, x=\"Re_printed\", y=\"Printer_sucesss_factor\", \n",
    "                 trendline=\"ols\", size=\"Total_printed_orders\",\n",
    "                labels={'x':'Average time delay', 'y':'Sucess Factor'}, \n",
    "                 title='Sucess factor vs re-printed orders, size is Printer total orders')\n",
    "fig.show()"
   ]
  },
  {
   "cell_type": "markdown",
   "id": "496e1973",
   "metadata": {},
   "source": [
    "## Why reprinted has high correlation to success\n",
    "- Beacause they are directly linked / related to the total number printed orders for a given printer. Despite multiplying its effect by 10, its effect is still high."
   ]
  },
  {
   "cell_type": "markdown",
   "id": "fb7ae783",
   "metadata": {},
   "source": [
    "# Selecting top and Bottom Two"
   ]
  },
  {
   "cell_type": "markdown",
   "id": "d6f72963",
   "metadata": {},
   "source": [
    "# Best Performing"
   ]
  },
  {
   "cell_type": "code",
   "execution_count": 81,
   "id": "346ab2fb",
   "metadata": {
    "scrolled": true
   },
   "outputs": [
    {
     "data": {
      "text/html": [
       "<div>\n",
       "<style scoped>\n",
       "    .dataframe tbody tr th:only-of-type {\n",
       "        vertical-align: middle;\n",
       "    }\n",
       "\n",
       "    .dataframe tbody tr th {\n",
       "        vertical-align: top;\n",
       "    }\n",
       "\n",
       "    .dataframe thead th {\n",
       "        text-align: right;\n",
       "    }\n",
       "</style>\n",
       "<table border=\"1\" class=\"dataframe\">\n",
       "  <thead>\n",
       "    <tr style=\"text-align: right;\">\n",
       "      <th></th>\n",
       "      <th>Time_delay_hours</th>\n",
       "      <th>Total_printed_orders</th>\n",
       "      <th>Re_printed</th>\n",
       "      <th>Printer_revenue</th>\n",
       "      <th>Popular_brand_x</th>\n",
       "      <th>Popular_brand_y</th>\n",
       "      <th>Printer_sucesss_factor</th>\n",
       "    </tr>\n",
       "    <tr>\n",
       "      <th>PRINT_PROVIDER_ID</th>\n",
       "      <th></th>\n",
       "      <th></th>\n",
       "      <th></th>\n",
       "      <th></th>\n",
       "      <th></th>\n",
       "      <th></th>\n",
       "      <th></th>\n",
       "    </tr>\n",
       "  </thead>\n",
       "  <tbody>\n",
       "    <tr>\n",
       "      <th>29</th>\n",
       "      <td>147.984587</td>\n",
       "      <td>3925</td>\n",
       "      <td>19</td>\n",
       "      <td>5947910</td>\n",
       "      <td>Gildan</td>\n",
       "      <td>T-Shirt</td>\n",
       "      <td>256.468442</td>\n",
       "    </tr>\n",
       "    <tr>\n",
       "      <th>3</th>\n",
       "      <td>215.475799</td>\n",
       "      <td>2240</td>\n",
       "      <td>11</td>\n",
       "      <td>3496045</td>\n",
       "      <td>Gildan</td>\n",
       "      <td>T-Shirt</td>\n",
       "      <td>97.025878</td>\n",
       "    </tr>\n",
       "  </tbody>\n",
       "</table>\n",
       "</div>"
      ],
      "text/plain": [
       "                   Time_delay_hours  Total_printed_orders  Re_printed  \\\n",
       "PRINT_PROVIDER_ID                                                       \n",
       "29                       147.984587                  3925          19   \n",
       "3                        215.475799                  2240          11   \n",
       "\n",
       "                   Printer_revenue Popular_brand_x Popular_brand_y  \\\n",
       "PRINT_PROVIDER_ID                                                    \n",
       "29                         5947910          Gildan         T-Shirt   \n",
       "3                          3496045          Gildan         T-Shirt   \n",
       "\n",
       "                   Printer_sucesss_factor  \n",
       "PRINT_PROVIDER_ID                          \n",
       "29                             256.468442  \n",
       "3                               97.025878  "
      ]
     },
     "execution_count": 81,
     "metadata": {},
     "output_type": "execute_result"
    }
   ],
   "source": [
    "# Best two\n",
    "printer_perf[:2]"
   ]
  },
  {
   "cell_type": "markdown",
   "id": "5a3203d7",
   "metadata": {},
   "source": [
    "## Apply discount to Printer: 29 and 3"
   ]
  },
  {
   "cell_type": "code",
   "execution_count": null,
   "id": "43cad507",
   "metadata": {},
   "outputs": [],
   "source": []
  },
  {
   "cell_type": "markdown",
   "id": "255dc38b",
   "metadata": {},
   "source": [
    "# Dismal performance"
   ]
  },
  {
   "cell_type": "code",
   "execution_count": 82,
   "id": "59da2c13",
   "metadata": {},
   "outputs": [
    {
     "data": {
      "text/html": [
       "<div>\n",
       "<style scoped>\n",
       "    .dataframe tbody tr th:only-of-type {\n",
       "        vertical-align: middle;\n",
       "    }\n",
       "\n",
       "    .dataframe tbody tr th {\n",
       "        vertical-align: top;\n",
       "    }\n",
       "\n",
       "    .dataframe thead th {\n",
       "        text-align: right;\n",
       "    }\n",
       "</style>\n",
       "<table border=\"1\" class=\"dataframe\">\n",
       "  <thead>\n",
       "    <tr style=\"text-align: right;\">\n",
       "      <th></th>\n",
       "      <th>Time_delay_hours</th>\n",
       "      <th>Total_printed_orders</th>\n",
       "      <th>Re_printed</th>\n",
       "      <th>Printer_revenue</th>\n",
       "      <th>Popular_brand_x</th>\n",
       "      <th>Popular_brand_y</th>\n",
       "      <th>Printer_sucesss_factor</th>\n",
       "    </tr>\n",
       "    <tr>\n",
       "      <th>PRINT_PROVIDER_ID</th>\n",
       "      <th></th>\n",
       "      <th></th>\n",
       "      <th></th>\n",
       "      <th></th>\n",
       "      <th></th>\n",
       "      <th></th>\n",
       "      <th></th>\n",
       "    </tr>\n",
       "  </thead>\n",
       "  <tbody>\n",
       "    <tr>\n",
       "      <th>14</th>\n",
       "      <td>819.203390</td>\n",
       "      <td>59</td>\n",
       "      <td>1</td>\n",
       "      <td>558541</td>\n",
       "      <td>Generic brand</td>\n",
       "      <td>All Over Prints</td>\n",
       "      <td>0.515633</td>\n",
       "    </tr>\n",
       "    <tr>\n",
       "      <th>7</th>\n",
       "      <td>52.769231</td>\n",
       "      <td>13</td>\n",
       "      <td>1</td>\n",
       "      <td>14508</td>\n",
       "      <td>Generic brand</td>\n",
       "      <td>Poster</td>\n",
       "      <td>0.354889</td>\n",
       "    </tr>\n",
       "  </tbody>\n",
       "</table>\n",
       "</div>"
      ],
      "text/plain": [
       "                   Time_delay_hours  Total_printed_orders  Re_printed  \\\n",
       "PRINT_PROVIDER_ID                                                       \n",
       "14                       819.203390                    59           1   \n",
       "7                         52.769231                    13           1   \n",
       "\n",
       "                   Printer_revenue Popular_brand_x  Popular_brand_y  \\\n",
       "PRINT_PROVIDER_ID                                                     \n",
       "14                          558541   Generic brand  All Over Prints   \n",
       "7                            14508   Generic brand           Poster   \n",
       "\n",
       "                   Printer_sucesss_factor  \n",
       "PRINT_PROVIDER_ID                          \n",
       "14                               0.515633  \n",
       "7                                0.354889  "
      ]
     },
     "execution_count": 82,
     "metadata": {},
     "output_type": "execute_result"
    }
   ],
   "source": [
    "# Last two\n",
    "printer_perf[-2:]"
   ]
  },
  {
   "cell_type": "markdown",
   "id": "b1b8b2ec",
   "metadata": {},
   "source": [
    "## End contract with: 14 and 7"
   ]
  },
  {
   "cell_type": "code",
   "execution_count": null,
   "id": "1a3990f0",
   "metadata": {},
   "outputs": [],
   "source": []
  }
 ],
 "metadata": {
  "kernelspec": {
   "display_name": "Python 3",
   "language": "python",
   "name": "python3"
  },
  "language_info": {
   "codemirror_mode": {
    "name": "ipython",
    "version": 3
   },
   "file_extension": ".py",
   "mimetype": "text/x-python",
   "name": "python",
   "nbconvert_exporter": "python",
   "pygments_lexer": "ipython3",
   "version": "3.8.8"
  }
 },
 "nbformat": 4,
 "nbformat_minor": 5
}
