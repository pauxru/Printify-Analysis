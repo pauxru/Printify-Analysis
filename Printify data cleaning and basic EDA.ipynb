{
 "cells": [
  {
   "cell_type": "markdown",
   "id": "555f47be",
   "metadata": {},
   "source": [
    "# Perform EDA on Printify Data Gathered"
   ]
  },
  {
   "cell_type": "code",
   "execution_count": 1,
   "id": "f8885776",
   "metadata": {},
   "outputs": [],
   "source": [
    "import pandas as pd\n",
    "import numpy as np\n",
    "import time\n",
    "import collections\n",
    "import plotly.graph_objects as go\n",
    "import plotly.express as px"
   ]
  },
  {
   "cell_type": "code",
   "execution_count": 20,
   "id": "efbf1b11",
   "metadata": {
    "scrolled": true
   },
   "outputs": [
    {
     "data": {
      "text/html": [
       "<div>\n",
       "<style scoped>\n",
       "    .dataframe tbody tr th:only-of-type {\n",
       "        vertical-align: middle;\n",
       "    }\n",
       "\n",
       "    .dataframe tbody tr th {\n",
       "        vertical-align: top;\n",
       "    }\n",
       "\n",
       "    .dataframe thead th {\n",
       "        text-align: right;\n",
       "    }\n",
       "</style>\n",
       "<table border=\"1\" class=\"dataframe\">\n",
       "  <thead>\n",
       "    <tr style=\"text-align: right;\">\n",
       "      <th></th>\n",
       "      <th>Description</th>\n",
       "      <th>Brand providers</th>\n",
       "      <th>Floor_price</th>\n",
       "      <th>Premium_Floor_price</th>\n",
       "      <th>Customizations</th>\n",
       "      <th>Tags</th>\n",
       "    </tr>\n",
       "  </thead>\n",
       "  <tbody>\n",
       "    <tr>\n",
       "      <th>0</th>\n",
       "      <td>Oven Mitts &amp; Pot Holders</td>\n",
       "      <td>By Generic brand</td>\n",
       "      <td>From USD 24.93</td>\n",
       "      <td>From USD 19.20 with Printify Premium</td>\n",
       "      <td>1 size1 colorArtsAdd</td>\n",
       "      <td>New</td>\n",
       "    </tr>\n",
       "    <tr>\n",
       "      <th>1</th>\n",
       "      <td>Tripod Lamp with High-Res Printed Shade, US\\CA...</td>\n",
       "      <td>By Generic brand</td>\n",
       "      <td>From USD 37.31</td>\n",
       "      <td>From USD 28.74 with Printify Premium</td>\n",
       "      <td>1 size1 colorLamp In a Box</td>\n",
       "      <td>New</td>\n",
       "    </tr>\n",
       "    <tr>\n",
       "      <th>2</th>\n",
       "      <td>Heart-Shaped Mug</td>\n",
       "      <td>By Generic brand</td>\n",
       "      <td>From USD 13.91</td>\n",
       "      <td>From USD 10.71 with Printify Premium</td>\n",
       "      <td>1 size1 colorOPT OnDemand</td>\n",
       "      <td>New</td>\n",
       "    </tr>\n",
       "    <tr>\n",
       "      <th>3</th>\n",
       "      <td>Passport Cover</td>\n",
       "      <td>By Generic brand</td>\n",
       "      <td>From USD 13.43</td>\n",
       "      <td>From USD 10.34 with Printify Premium</td>\n",
       "      <td>1 size1 colorPersonalized Luggage</td>\n",
       "      <td>New</td>\n",
       "    </tr>\n",
       "    <tr>\n",
       "      <th>4</th>\n",
       "      <td>Balloon (Round, Heart-Shaped)</td>\n",
       "      <td>By Generic brand</td>\n",
       "      <td>From USD 7.99</td>\n",
       "      <td>From USD 6.15 with Printify Premium</td>\n",
       "      <td>1 size1 colorPhoto Balloon Store</td>\n",
       "      <td>New</td>\n",
       "    </tr>\n",
       "  </tbody>\n",
       "</table>\n",
       "</div>"
      ],
      "text/plain": [
       "                                         Description   Brand providers  \\\n",
       "0                           Oven Mitts & Pot Holders  By Generic brand   \n",
       "1  Tripod Lamp with High-Res Printed Shade, US\\CA...  By Generic brand   \n",
       "2                                   Heart-Shaped Mug  By Generic brand   \n",
       "3                                     Passport Cover  By Generic brand   \n",
       "4                      Balloon (Round, Heart-Shaped)  By Generic brand   \n",
       "\n",
       "      Floor_price                   Premium_Floor_price  \\\n",
       "0  From USD 24.93  From USD 19.20 with Printify Premium   \n",
       "1  From USD 37.31  From USD 28.74 with Printify Premium   \n",
       "2  From USD 13.91  From USD 10.71 with Printify Premium   \n",
       "3  From USD 13.43  From USD 10.34 with Printify Premium   \n",
       "4   From USD 7.99   From USD 6.15 with Printify Premium   \n",
       "\n",
       "                     Customizations  Tags  \n",
       "0               1 size1 colorArtsAdd  New  \n",
       "1         1 size1 colorLamp In a Box  New  \n",
       "2          1 size1 colorOPT OnDemand  New  \n",
       "3  1 size1 colorPersonalized Luggage  New  \n",
       "4   1 size1 colorPhoto Balloon Store  New  "
      ]
     },
     "execution_count": 20,
     "metadata": {},
     "output_type": "execute_result"
    }
   ],
   "source": [
    "# Read the printify products excel file into pandas dataframe\n",
    "products = pd.read_excel('printify_products.xlsx')\n",
    "products.head()"
   ]
  },
  {
   "cell_type": "code",
   "execution_count": 21,
   "id": "78c83f95",
   "metadata": {},
   "outputs": [
    {
     "data": {
      "text/html": [
       "<div>\n",
       "<style scoped>\n",
       "    .dataframe tbody tr th:only-of-type {\n",
       "        vertical-align: middle;\n",
       "    }\n",
       "\n",
       "    .dataframe tbody tr th {\n",
       "        vertical-align: top;\n",
       "    }\n",
       "\n",
       "    .dataframe thead th {\n",
       "        text-align: right;\n",
       "    }\n",
       "</style>\n",
       "<table border=\"1\" class=\"dataframe\">\n",
       "  <thead>\n",
       "    <tr style=\"text-align: right;\">\n",
       "      <th></th>\n",
       "      <th>Brand</th>\n",
       "      <th>Description</th>\n",
       "      <th># of Products</th>\n",
       "    </tr>\n",
       "  </thead>\n",
       "  <tbody>\n",
       "    <tr>\n",
       "      <th>0</th>\n",
       "      <td>Alstyle</td>\n",
       "      <td>Alstyle Apparel &amp; Activewear is an industry le...</td>\n",
       "      <td>1 product</td>\n",
       "    </tr>\n",
       "    <tr>\n",
       "      <th>1</th>\n",
       "      <td>American Apparel</td>\n",
       "      <td>Passion, innovation &amp; ethical practices for th...</td>\n",
       "      <td>1 product</td>\n",
       "    </tr>\n",
       "    <tr>\n",
       "      <th>2</th>\n",
       "      <td>Anvil</td>\n",
       "      <td>Anvil labels, perfect for ultimate customizati...</td>\n",
       "      <td>1 product</td>\n",
       "    </tr>\n",
       "    <tr>\n",
       "      <th>3</th>\n",
       "      <td>Arctic Zone</td>\n",
       "      <td>In 1986, when we began under the California In...</td>\n",
       "      <td>1 product</td>\n",
       "    </tr>\n",
       "    <tr>\n",
       "      <th>4</th>\n",
       "      <td>AS Colour</td>\n",
       "      <td>AS Colour is a New Zealand based manufacturer ...</td>\n",
       "      <td>10 products</td>\n",
       "    </tr>\n",
       "  </tbody>\n",
       "</table>\n",
       "</div>"
      ],
      "text/plain": [
       "              Brand                                        Description  \\\n",
       "0           Alstyle  Alstyle Apparel & Activewear is an industry le...   \n",
       "1  American Apparel  Passion, innovation & ethical practices for th...   \n",
       "2             Anvil  Anvil labels, perfect for ultimate customizati...   \n",
       "3       Arctic Zone  In 1986, when we began under the California In...   \n",
       "4         AS Colour  AS Colour is a New Zealand based manufacturer ...   \n",
       "\n",
       "  # of Products  \n",
       "0     1 product  \n",
       "1     1 product  \n",
       "2     1 product  \n",
       "3     1 product  \n",
       "4   10 products  "
      ]
     },
     "execution_count": 21,
     "metadata": {},
     "output_type": "execute_result"
    }
   ],
   "source": [
    "brands = pd.read_excel('printify_brands.xlsx')\n",
    "brands.head()"
   ]
  },
  {
   "cell_type": "code",
   "execution_count": 22,
   "id": "8fd56f47",
   "metadata": {},
   "outputs": [
    {
     "data": {
      "text/html": [
       "<div>\n",
       "<style scoped>\n",
       "    .dataframe tbody tr th:only-of-type {\n",
       "        vertical-align: middle;\n",
       "    }\n",
       "\n",
       "    .dataframe tbody tr th {\n",
       "        vertical-align: top;\n",
       "    }\n",
       "\n",
       "    .dataframe thead th {\n",
       "        text-align: right;\n",
       "    }\n",
       "</style>\n",
       "<table border=\"1\" class=\"dataframe\">\n",
       "  <thead>\n",
       "    <tr style=\"text-align: right;\">\n",
       "      <th></th>\n",
       "      <th>Description</th>\n",
       "      <th>Brand providers</th>\n",
       "      <th>Floor_price</th>\n",
       "      <th>Premium_Floor_price</th>\n",
       "      <th>Customizations</th>\n",
       "      <th>Tags</th>\n",
       "    </tr>\n",
       "  </thead>\n",
       "  <tbody>\n",
       "    <tr>\n",
       "      <th>0</th>\n",
       "      <td>Oven Mitts &amp; Pot Holders</td>\n",
       "      <td>By Generic brand</td>\n",
       "      <td>From USD 24.93</td>\n",
       "      <td>From USD 19.20 with Printify Premium</td>\n",
       "      <td>1 size1 colorArtsAdd</td>\n",
       "      <td>New</td>\n",
       "    </tr>\n",
       "    <tr>\n",
       "      <th>1</th>\n",
       "      <td>Tripod Lamp with High-Res Printed Shade, US\\CA...</td>\n",
       "      <td>By Generic brand</td>\n",
       "      <td>From USD 37.31</td>\n",
       "      <td>From USD 28.74 with Printify Premium</td>\n",
       "      <td>1 size1 colorLamp In a Box</td>\n",
       "      <td>New</td>\n",
       "    </tr>\n",
       "    <tr>\n",
       "      <th>2</th>\n",
       "      <td>Heart-Shaped Mug</td>\n",
       "      <td>By Generic brand</td>\n",
       "      <td>From USD 13.91</td>\n",
       "      <td>From USD 10.71 with Printify Premium</td>\n",
       "      <td>1 size1 colorOPT OnDemand</td>\n",
       "      <td>New</td>\n",
       "    </tr>\n",
       "    <tr>\n",
       "      <th>3</th>\n",
       "      <td>Passport Cover</td>\n",
       "      <td>By Generic brand</td>\n",
       "      <td>From USD 13.43</td>\n",
       "      <td>From USD 10.34 with Printify Premium</td>\n",
       "      <td>1 size1 colorPersonalized Luggage</td>\n",
       "      <td>New</td>\n",
       "    </tr>\n",
       "    <tr>\n",
       "      <th>4</th>\n",
       "      <td>Balloon (Round, Heart-Shaped)</td>\n",
       "      <td>By Generic brand</td>\n",
       "      <td>From USD 7.99</td>\n",
       "      <td>From USD 6.15 with Printify Premium</td>\n",
       "      <td>1 size1 colorPhoto Balloon Store</td>\n",
       "      <td>New</td>\n",
       "    </tr>\n",
       "  </tbody>\n",
       "</table>\n",
       "</div>"
      ],
      "text/plain": [
       "                                         Description   Brand providers  \\\n",
       "0                           Oven Mitts & Pot Holders  By Generic brand   \n",
       "1  Tripod Lamp with High-Res Printed Shade, US\\CA...  By Generic brand   \n",
       "2                                   Heart-Shaped Mug  By Generic brand   \n",
       "3                                     Passport Cover  By Generic brand   \n",
       "4                      Balloon (Round, Heart-Shaped)  By Generic brand   \n",
       "\n",
       "      Floor_price                   Premium_Floor_price  \\\n",
       "0  From USD 24.93  From USD 19.20 with Printify Premium   \n",
       "1  From USD 37.31  From USD 28.74 with Printify Premium   \n",
       "2  From USD 13.91  From USD 10.71 with Printify Premium   \n",
       "3  From USD 13.43  From USD 10.34 with Printify Premium   \n",
       "4   From USD 7.99   From USD 6.15 with Printify Premium   \n",
       "\n",
       "                     Customizations  Tags  \n",
       "0               1 size1 colorArtsAdd  New  \n",
       "1         1 size1 colorLamp In a Box  New  \n",
       "2          1 size1 colorOPT OnDemand  New  \n",
       "3  1 size1 colorPersonalized Luggage  New  \n",
       "4   1 size1 colorPhoto Balloon Store  New  "
      ]
     },
     "execution_count": 22,
     "metadata": {},
     "output_type": "execute_result"
    }
   ],
   "source": [
    "printers = pd.read_excel('printify_products.xlsx')\n",
    "printers.head()"
   ]
  },
  {
   "cell_type": "code",
   "execution_count": 23,
   "id": "29db176a",
   "metadata": {},
   "outputs": [],
   "source": [
    "# Fix the price columns by removing the text\n",
    "for index, items in enumerate(products['Floor_price']):\n",
    "    items = items.split(\" \")\n",
    "    price = float(items[-1])\n",
    "    #print(f\"{products.loc[index]['Floor_price']} --> {price}\")\n",
    "    products.loc[index]['Floor_price'] = price  # Replace with cleaned price\n",
    "    "
   ]
  },
  {
   "cell_type": "code",
   "execution_count": 24,
   "id": "35311f35",
   "metadata": {},
   "outputs": [],
   "source": [
    "# Fix the price columns by removing the text\n",
    "for index, items in enumerate(products['Premium_Floor_price']):\n",
    "    items = items.split(\" \")\n",
    "    price = float(items[2])\n",
    "    #print(f\"{products.loc[index]['Premium_Floor_price']} --> {price}\")\n",
    "    products.loc[index]['Premium_Floor_price'] = price  # Replace with cleaned price\n",
    "    "
   ]
  },
  {
   "cell_type": "code",
   "execution_count": 25,
   "id": "e5f63ff1",
   "metadata": {},
   "outputs": [
    {
     "data": {
      "text/html": [
       "<div>\n",
       "<style scoped>\n",
       "    .dataframe tbody tr th:only-of-type {\n",
       "        vertical-align: middle;\n",
       "    }\n",
       "\n",
       "    .dataframe tbody tr th {\n",
       "        vertical-align: top;\n",
       "    }\n",
       "\n",
       "    .dataframe thead th {\n",
       "        text-align: right;\n",
       "    }\n",
       "</style>\n",
       "<table border=\"1\" class=\"dataframe\">\n",
       "  <thead>\n",
       "    <tr style=\"text-align: right;\">\n",
       "      <th></th>\n",
       "      <th>Description</th>\n",
       "      <th>Brand providers</th>\n",
       "      <th>Floor_price</th>\n",
       "      <th>Premium_Floor_price</th>\n",
       "      <th>Customizations</th>\n",
       "      <th>Tags</th>\n",
       "    </tr>\n",
       "  </thead>\n",
       "  <tbody>\n",
       "    <tr>\n",
       "      <th>0</th>\n",
       "      <td>Oven Mitts &amp; Pot Holders</td>\n",
       "      <td>By Generic brand</td>\n",
       "      <td>24.93</td>\n",
       "      <td>19.2</td>\n",
       "      <td>1 size1 colorArtsAdd</td>\n",
       "      <td>New</td>\n",
       "    </tr>\n",
       "    <tr>\n",
       "      <th>1</th>\n",
       "      <td>Tripod Lamp with High-Res Printed Shade, US\\CA...</td>\n",
       "      <td>By Generic brand</td>\n",
       "      <td>37.31</td>\n",
       "      <td>28.74</td>\n",
       "      <td>1 size1 colorLamp In a Box</td>\n",
       "      <td>New</td>\n",
       "    </tr>\n",
       "    <tr>\n",
       "      <th>2</th>\n",
       "      <td>Heart-Shaped Mug</td>\n",
       "      <td>By Generic brand</td>\n",
       "      <td>13.91</td>\n",
       "      <td>10.71</td>\n",
       "      <td>1 size1 colorOPT OnDemand</td>\n",
       "      <td>New</td>\n",
       "    </tr>\n",
       "    <tr>\n",
       "      <th>3</th>\n",
       "      <td>Passport Cover</td>\n",
       "      <td>By Generic brand</td>\n",
       "      <td>13.43</td>\n",
       "      <td>10.34</td>\n",
       "      <td>1 size1 colorPersonalized Luggage</td>\n",
       "      <td>New</td>\n",
       "    </tr>\n",
       "    <tr>\n",
       "      <th>4</th>\n",
       "      <td>Balloon (Round, Heart-Shaped)</td>\n",
       "      <td>By Generic brand</td>\n",
       "      <td>7.99</td>\n",
       "      <td>6.15</td>\n",
       "      <td>1 size1 colorPhoto Balloon Store</td>\n",
       "      <td>New</td>\n",
       "    </tr>\n",
       "    <tr>\n",
       "      <th>5</th>\n",
       "      <td>Soft Picnic Bag</td>\n",
       "      <td>By Generic brand</td>\n",
       "      <td>16.21</td>\n",
       "      <td>12.48</td>\n",
       "      <td>1 size1 colorSmart Printee</td>\n",
       "      <td>New</td>\n",
       "    </tr>\n",
       "    <tr>\n",
       "      <th>6</th>\n",
       "      <td>Polyester Car Seat Covers</td>\n",
       "      <td>By Generic brand</td>\n",
       "      <td>38.81</td>\n",
       "      <td>29.89</td>\n",
       "      <td>1 size1 colorSubliminator</td>\n",
       "      <td>New</td>\n",
       "    </tr>\n",
       "    <tr>\n",
       "      <th>7</th>\n",
       "      <td>Standard Mug, 11oz</td>\n",
       "      <td>By ORCA Coatings</td>\n",
       "      <td>5.51</td>\n",
       "      <td>4.24</td>\n",
       "      <td>1 size1 colorTextildruck Europa</td>\n",
       "      <td>New</td>\n",
       "    </tr>\n",
       "    <tr>\n",
       "      <th>8</th>\n",
       "      <td>Unisex Twill Hat</td>\n",
       "      <td>By Generic brandCP 80</td>\n",
       "      <td>15.73</td>\n",
       "      <td>12.11</td>\n",
       "      <td>1 size10 colorsMyLocker</td>\n",
       "      <td>Embroidery</td>\n",
       "    </tr>\n",
       "    <tr>\n",
       "      <th>9</th>\n",
       "      <td>Knit Beanie</td>\n",
       "      <td>By Generic brandCP 90</td>\n",
       "      <td>14.67</td>\n",
       "      <td>11.3</td>\n",
       "      <td>1 size11 colorsMyLocker</td>\n",
       "      <td>Embroidery</td>\n",
       "    </tr>\n",
       "  </tbody>\n",
       "</table>\n",
       "</div>"
      ],
      "text/plain": [
       "                                         Description        Brand providers  \\\n",
       "0                           Oven Mitts & Pot Holders       By Generic brand   \n",
       "1  Tripod Lamp with High-Res Printed Shade, US\\CA...       By Generic brand   \n",
       "2                                   Heart-Shaped Mug       By Generic brand   \n",
       "3                                     Passport Cover       By Generic brand   \n",
       "4                      Balloon (Round, Heart-Shaped)       By Generic brand   \n",
       "5                                    Soft Picnic Bag       By Generic brand   \n",
       "6                          Polyester Car Seat Covers       By Generic brand   \n",
       "7                                 Standard Mug, 11oz       By ORCA Coatings   \n",
       "8                                   Unisex Twill Hat  By Generic brandCP 80   \n",
       "9                                        Knit Beanie  By Generic brandCP 90   \n",
       "\n",
       "  Floor_price Premium_Floor_price                    Customizations   \\\n",
       "0       24.93                19.2               1 size1 colorArtsAdd   \n",
       "1       37.31               28.74         1 size1 colorLamp In a Box   \n",
       "2       13.91               10.71          1 size1 colorOPT OnDemand   \n",
       "3       13.43               10.34  1 size1 colorPersonalized Luggage   \n",
       "4        7.99                6.15   1 size1 colorPhoto Balloon Store   \n",
       "5       16.21               12.48         1 size1 colorSmart Printee   \n",
       "6       38.81               29.89          1 size1 colorSubliminator   \n",
       "7        5.51                4.24    1 size1 colorTextildruck Europa   \n",
       "8       15.73               12.11            1 size10 colorsMyLocker   \n",
       "9       14.67                11.3            1 size11 colorsMyLocker   \n",
       "\n",
       "         Tags  \n",
       "0         New  \n",
       "1         New  \n",
       "2         New  \n",
       "3         New  \n",
       "4         New  \n",
       "5         New  \n",
       "6         New  \n",
       "7         New  \n",
       "8  Embroidery  \n",
       "9  Embroidery  "
      ]
     },
     "execution_count": 25,
     "metadata": {},
     "output_type": "execute_result"
    }
   ],
   "source": [
    "# Confirm price is a number \n",
    "products.head(10)"
   ]
  },
  {
   "cell_type": "code",
   "execution_count": 26,
   "id": "306fc0b3",
   "metadata": {
    "scrolled": true
   },
   "outputs": [
    {
     "name": "stdout",
     "output_type": "stream",
     "text": [
      "By Alstyle1301 --> Alstyle\n",
      "By Alstyle1301 --> Alstyle\n",
      "By American Apparel2001W --> American Apparel\n",
      "By American Apparel2001W --> American Apparel\n",
      "By Anvil980 --> Anvil\n",
      "By Arctic Zone --> Arctic Zone\n",
      "By AS Colour5039 --> AS Colour\n",
      "By AS Colour4062 --> AS Colour\n",
      "By AS Colour5039 --> AS Colour\n",
      "By AS Colour5001 --> AS Colour\n",
      "By AS Colour5065 --> AS Colour\n",
      "By AS Colour5101 --> AS Colour\n",
      "By AS Colour5101 --> AS Colour\n",
      "By AS Colour5029 --> AS Colour\n",
      "By AS Colour5025 --> AS Colour\n",
      "By AS Colour5025 --> AS Colour\n",
      "By AS Colour5065 --> AS Colour\n",
      "By AS Colour4028 --> AS Colour\n",
      "By AS Colour4001 --> AS Colour\n",
      "By AS Colour5101 --> AS Colour\n",
      "By AS Colour5101 --> AS Colour\n",
      "By AS Colour5025 --> AS Colour\n",
      "By AS Colour4028 --> AS Colour\n",
      "By AS Colour5025 --> AS Colour\n",
      "By AS Colour1001 --> AS Colour\n",
      "By AWDISJH001 --> AWDIS\n",
      "By AWDISJH050 --> AWDIS\n",
      "By AWDISJH003 --> AWDIS\n",
      "By AWDISJH050 --> AWDIS\n",
      "By AWDISJH030 --> AWDIS\n",
      "By AWDISJH001 --> AWDIS\n",
      "By AWDISJH001F --> AWDIS\n",
      "By AWDISJH050 --> AWDIS\n",
      "By AWDISJH003 --> AWDIS\n",
      "By AWDISJH055 --> AWDIS\n",
      "By AWDISJH001F --> AWDIS\n",
      "By AWDISJH050 --> AWDIS\n",
      "By AWDISJH030J --> AWDIS\n",
      "By AWDISJH001J --> AWDIS\n",
      "By B&CTU03T --> B&C\n",
      "By B&CTU01T --> B&C\n",
      "By B&CWUI24 --> B&C\n",
      "By B&CWUI25 --> B&C\n",
      "By B&CWU02K --> B&C\n",
      "By B&CWUI23 --> B&C\n",
      "By B&CWU02K --> B&C\n",
      "By B&CWUI25 --> B&C\n",
      "By B&CTW04T --> B&C\n",
      "By B&CTU01T --> B&C\n",
      "By B&CWUI24 --> B&C\n",
      "By B&CWUI25 --> B&C\n",
      "By B&CWUI23 --> B&C\n",
      "By B&CWUI25 --> B&C\n",
      "By Bella+Canvas3001 --> Bella+Canvas\n",
      "By Bella+Canvas3001 --> Bella+Canvas\n",
      "By Bella+Canvas3005 --> Bella+Canvas\n",
      "By Bella+Canvas3003 --> Bella+Canvas\n",
      "By Bella+Canvas3413 --> Bella+Canvas\n",
      "By Bella+Canvas3719 --> Bella+Canvas\n",
      "By Bella+Canvas3200 --> Bella+Canvas\n",
      "By Bella+Canvas3501 --> Bella+Canvas\n",
      "By Bella+Canvas3480 --> Bella+Canvas\n",
      "By Bella+Canvas6004 --> Bella+Canvas\n",
      "By Bella+Canvas3005 --> Bella+Canvas\n",
      "By Bella+Canvas6035 --> Bella+Canvas\n",
      "By Bella+Canvas6400 --> Bella+Canvas\n",
      "By Bella+Canvas3413 --> Bella+Canvas\n",
      "By Bella+Canvas8882 --> Bella+Canvas\n",
      "By Bella+Canvas6005 --> Bella+Canvas\n",
      "By Bella+Canvas3719 --> Bella+Canvas\n",
      "By Bella+Canvas7505 --> Bella+Canvas\n",
      "By Bella+Canvas7503 --> Bella+Canvas\n",
      "By Bella+Canvas3200 --> Bella+Canvas\n",
      "By Bella+Canvas3501 --> Bella+Canvas\n",
      "By Bella+Canvas7503 --> Bella+Canvas\n",
      "By Bella+Canvas3480 --> Bella+Canvas\n",
      "By Bella+Canvas8800 --> Bella+Canvas\n",
      "By Bella+Canvas8803 --> Bella+Canvas\n",
      "By Bella+Canvas3001Y --> Bella+Canvas\n",
      "By Bella+Canvas3480Y --> Bella+Canvas\n",
      "By Bella+Canvas3001T --> Bella+Canvas\n",
      "By CamelBakEddy --> CamelBak\n",
      "By Case Mate --> Case Mate\n",
      "By Case Mate --> Case Mate\n",
      "By Case Mate --> Case Mate\n",
      "By ChampionT425 --> Champion\n",
      "By ChampionS700 --> Champion\n",
      "By ChampionS600 --> Champion\n",
      "By ChampionS700 --> Champion\n",
      "By ChampionS600 --> Champion\n",
      "By ChampionT425 --> Champion\n",
      "By ChampionT453W --> Champion\n",
      "By ChampionS700 --> Champion\n",
      "By ChampionS600 --> Champion\n",
      "By ChampionS700 --> Champion\n",
      "By ChampionS600 --> Champion\n",
      "By Colortone1050 --> Colortone\n",
      "By Comfort Colors®1717 --> Comfort Colors®\n",
      "By Comfort Colors®1745 --> Comfort Colors®\n",
      "By Comfort Colors®1717 --> Comfort Colors®\n",
      "By Comfort Colors®1745 --> Comfort Colors®\n",
      "By Comfort Colors®9018 --> Comfort Colors®\n",
      "By Cotton HeritageM2580 --> Cotton Heritage\n",
      "By Cotton HeritageM2480 --> Cotton Heritage\n",
      "By Cotton HeritageM2580 --> Cotton Heritage\n",
      "By Cotton HeritageM2580 --> Cotton Heritage\n",
      "By Cotton HeritageM2480 --> Cotton Heritage\n",
      "By Cotton HeritageM2580 --> Cotton Heritage\n",
      "By Delta11730 --> Delta\n",
      "By Delta11736 --> Delta\n",
      "By Doggie Skins3902 --> Doggie Skins\n",
      "By EconsciousEC1000 --> Econscious\n",
      "By EconsciousEC1000 --> Econscious\n",
      "By EconsciousEC3000 --> Econscious\n",
      "By EconsciousEC8040 --> Econscious\n",
      "By ElevateTM12605 --> Elevate\n",
      "By ElevateTM92605 --> Elevate\n",
      "By Fruit Of The Loom996MR --> Fruit Of The Loom\n",
      "By Fruit Of The Loom996MR --> Fruit Of The Loom\n",
      "By Gerber Childrenswear6516A --> Gerber Childrenswear\n",
      "By Gerber Childrenswear1516A --> Gerber Childrenswear\n",
      "By Gildan64200 --> Gildan\n",
      "By Gildan64200 --> Gildan\n",
      "By Gildan18000 --> Gildan\n",
      "By Gildan18000 --> Gildan\n",
      "By Gildan18500 --> Gildan\n",
      "By Gildan18500 --> Gildan\n",
      "By Gildan18500 --> Gildan\n",
      "By Gildan18500 --> Gildan\n",
      "By Gildan2000 --> Gildan\n",
      "By Gildan5000 --> Gildan\n",
      "By Gildan18600 --> Gildan\n",
      "By Gildan18600 --> Gildan\n",
      "By Gildan18600 --> Gildan\n",
      "By Gildan18600 --> Gildan\n",
      "By Gildan5000 --> Gildan\n",
      "By Gildan2000 --> Gildan\n",
      "By Gildan64000 --> Gildan\n",
      "By Gildan64V00 --> Gildan\n",
      "By Gildan5000 --> Gildan\n",
      "By Gildan5000 --> Gildan\n",
      "By GildanH000 --> Gildan\n",
      "By Gildan5000 --> Gildan\n",
      "By Gildan18600 --> Gildan\n",
      "By Gildan12500 --> Gildan\n",
      "By Gildan18600 --> Gildan\n",
      "By Gildan12000 --> Gildan\n",
      "By Gildan2400 --> Gildan\n",
      "By Gildan5200 --> Gildan\n",
      "By Gildan2200 --> Gildan\n",
      "By GildanGD12 --> Gildan\n",
      "By Gildan64000 --> Gildan\n",
      "By Gildan64000L --> Gildan\n",
      "By GildanGIL4100 --> Gildan\n",
      "By Gildan5000L --> Gildan\n",
      "By Gildan4100L --> Gildan\n",
      "By Gildan5000 --> Gildan\n",
      "By Gildan5000 --> Gildan\n",
      "By GildanH000 --> Gildan\n",
      "By Gildan5000 --> Gildan\n",
      "By Gildan18600 --> Gildan\n",
      "By Gildan12500 --> Gildan\n",
      "By Gildan18600 --> Gildan\n",
      "By Gildan12000 --> Gildan\n",
      "By Gildan5200 --> Gildan\n",
      "By Gildan5000B --> Gildan\n",
      "By Gildan64000B --> Gildan\n",
      "By Gildan64500P --> Gildan\n",
      "By Gildan18500B --> Gildan\n",
      "By Gildan64500P --> Gildan\n",
      "By Greenbomb --> Greenbomb\n",
      "By Greenbomb --> Greenbomb\n",
      "By Hanes5180 --> Hanes\n",
      "By HanesP170 --> Hanes\n",
      "By HanesP170 --> Hanes\n",
      "By HanesP160 --> Hanes\n",
      "By HanesP160 --> Hanes\n",
      "By Hanes5180 --> Hanes\n",
      "By HanesP170 --> Hanes\n",
      "By HanesP170 --> Hanes\n",
      "By HanesP160 --> Hanes\n",
      "By HanesP160 --> Hanes\n",
      "By Independent Trading CompanySS4500 --> Independent Trading Company\n",
      "By Independent Trading CompanySS3000 --> Independent Trading Company\n",
      "By Independent Trading CompanySS4500 --> Independent Trading Company\n",
      "By Independent Trading CompanySS4500 --> Independent Trading Company\n",
      "By Independent Trading CompanyAFX64CRP --> Independent Trading Company\n",
      "By Independent Trading CompanySS3000 --> Independent Trading Company\n",
      "By Independent Trading CompanySS4500 --> Independent Trading Company\n",
      "By Independent Trading CompanyAFX64CRP --> Independent Trading Company\n",
      "By JERZEES562MR --> JERZEES\n",
      "By JERZEES562MR --> JERZEES\n",
      "By Lane SevenLS15000 --> Lane Seven\n",
      "By Lane SevenLS14001 --> Lane Seven\n",
      "By Lane SevenLS14003 --> Lane Seven\n",
      "By Lane SevenLS14001 --> Lane Seven\n",
      "By Lane SevenLS14004 --> Lane Seven\n",
      "By Lane SevenLS14001 --> Lane Seven\n",
      "By Lane SevenLS14003 --> Lane Seven\n",
      "By Lane SevenLS14004 --> Lane Seven\n",
      "By Lane SevenLS15009 --> Lane Seven\n",
      "By Lane SevenLST006 --> Lane Seven\n",
      "By Lane SevenLST006 --> Lane Seven\n",
      "By Lane SevenLS15000 --> Lane Seven\n",
      "By Lane SevenLS14001 --> Lane Seven\n",
      "By Lane SevenLS14003 --> Lane Seven\n",
      "By Lane SevenLS12000 --> Lane Seven\n",
      "By Lane SevenLS14001 --> Lane Seven\n",
      "By Lane SevenLS14004 --> Lane Seven\n",
      "By Lane SevenLS12000 --> Lane Seven\n",
      "By Lane SevenLS14001 --> Lane Seven\n",
      "By Lane SevenLS14003 --> Lane Seven\n",
      "By Lane SevenLS14004 --> Lane Seven\n",
      "By Lane SevenLS15009 --> Lane Seven\n",
      "By Lane SevenLST006 --> Lane Seven\n",
      "By Lane SevenLST006 --> Lane Seven\n",
      "By LAT Apparel3509 --> LAT Apparel\n",
      "By LAT Apparel3804 --> LAT Apparel\n",
      "By LAT Apparel6101 --> LAT Apparel\n",
      "By Magnum Magnetics --> Magnum Magnetics\n",
      "By Next Level1533 --> Next Level\n",
      "By Next Level3600 --> Next Level\n",
      "By Next Level6010 --> Next Level\n",
      "By Next Level3601 --> Next Level\n",
      "By Next Level6051 --> Next Level\n",
      "By Next Level6760 --> Next Level\n",
      "By Next Level6710 --> Next Level\n",
      "By Next Level3900 --> Next Level\n",
      "By Next Level6051 --> Next Level\n",
      "By Next Level6733 --> Next Level\n",
      "By Next Level3710 --> Next Level\n",
      "By ORCA Coatings --> ORCA Coatings\n",
      "By ORCA Coatings --> ORCA Coatings\n",
      "By ORCA Coatings --> ORCA Coatings\n",
      "By ORCA Coatings --> ORCA Coatings\n",
      "By ORCA Coatings --> ORCA Coatings\n",
      "By ORCA Coatings --> ORCA Coatings\n",
      "By ORCA Coatings --> ORCA Coatings\n",
      "By Polar CamelW12 --> Polar Camel\n",
      "By Polar CamelT20 --> Polar Camel\n",
      "By Polar CamelT30 --> Polar Camel\n",
      "By Port AuthorityB150 --> Port Authority\n",
      "By Rabbit Skins3321 --> Rabbit Skins\n",
      "By Rabbit Skins3401 --> Rabbit Skins\n",
      "By Rabbit Skins3326 --> Rabbit Skins\n",
      "By Rabbit Skins4411 --> Rabbit Skins\n",
      "By Rabbit Skins3302 --> Rabbit Skins\n",
      "By Rabbit Skins4424 --> Rabbit Skins\n",
      "By Rabbit Skins3322 --> Rabbit Skins\n",
      "By Rabbit Skins4411 --> Rabbit Skins\n",
      "By Rabbit Skins3302 --> Rabbit Skins\n",
      "By Rabbit Skins4400 --> Rabbit Skins\n",
      "By Rabbit Skins3401 --> Rabbit Skins\n",
      "By Rabbit Skins1004 --> Rabbit Skins\n",
      "By Rabbit Skins1004 --> Rabbit Skins\n",
      "By Royal Apparel5051ORG --> Royal Apparel\n",
      "By Royal Apparel5051ORG --> Royal Apparel\n",
      "By Seventh Avenue Apothecary --> Seventh Avenue Apothecary\n",
      "By SG ClothingSGTEE --> SG Clothing\n",
      "By Soundwave --> Soundwave\n",
      "By Sport-TekSTC19 --> Sport-Tek\n",
      "By Sport-TekST270 --> Sport-Tek\n",
      "By Sport-TekLST650 --> Sport-Tek\n",
      "By Sport-TekLST650 --> Sport-Tek\n",
      "By Stanley StellaSTTK909 --> Stanley Stella\n",
      "By Stanley StellaSTTU755 --> Stanley Stella\n",
      "By Stanley StellaSTTU759 --> Stanley Stella\n",
      "By Stanley StellaSTTM562 --> Stanley Stella\n",
      "By Stanley StellaSTTM559 --> Stanley Stella\n",
      "By Stanley StellaSTSU812 --> Stanley Stella\n",
      "By Stanley StellaSTSU824 --> Stanley Stella\n",
      "By Stanley StellaSTSM566 --> Stanley Stella\n",
      "By Stanley StellaSTSU822 --> Stanley Stella\n",
      "By Stanley StellaSTSU823 --> Stanley Stella\n",
      "By Stanley StellaSTSU824 --> Stanley Stella\n",
      "By Stanley StellaSTSU811 --> Stanley Stella\n",
      "By Stanley StellaSTTM558 --> Stanley Stella\n",
      "By Stanley StellaSTSM566 --> Stanley Stella\n",
      "By Stanley StellaSTSU822 --> Stanley Stella\n",
      "By Stanley StellaSTTM560 --> Stanley Stella\n",
      "By Stanley StellaSTTM543 --> Stanley Stella\n",
      "By Stanley StellaSTTM543 --> Stanley Stella\n",
      "By Stanley StellaSTTU755 --> Stanley Stella\n",
      "By Stanley StellaSTTW039 --> Stanley Stella\n",
      "By Stanley StellaSTTW032 --> Stanley Stella\n",
      "By Stanley StellaSTTU759 --> Stanley Stella\n",
      "By Stanley StellaSTTW023 --> Stanley Stella\n",
      "By Stanley StellaSTTW017 --> Stanley Stella\n",
      "By Stanley StellaSTDW144 --> Stanley Stella\n",
      "By Stanley StellaSTSU812 --> Stanley Stella\n",
      "By Stanley StellaSTSU824 --> Stanley Stella\n",
      "By Stanley StellaSTSU822 --> Stanley Stella\n",
      "By Stanley StellaSTDW143 --> Stanley Stella\n",
      "By Stanley StellaSTSW132 --> Stanley Stella\n",
      "By Stanley StellaSTSU823 --> Stanley Stella\n",
      "By Stanley StellaSTSU824 --> Stanley Stella\n",
      "By Stanley StellaSTSU811 --> Stanley Stella\n",
      "By Stanley StellaSTSW125 --> Stanley Stella\n",
      "By Stanley StellaSTTM558 --> Stanley Stella\n",
      "By Stanley StellaSTSU822 --> Stanley Stella\n",
      "By Stanley StellaSTTW013 --> Stanley Stella\n",
      "By Stanley StellaSTTW038 --> Stanley Stella\n",
      "By Stanley StellaSTDW144 --> Stanley Stella\n",
      "By Stanley StellaSTDW143 --> Stanley Stella\n",
      "By Stanley StellaSTAU760 --> Stanley Stella\n",
      "By Stanley StellaSTAU764 --> Stanley Stella\n",
      "By Stik-Withit --> Stik-Withit\n",
      "By Tecre1364 --> Tecre\n",
      "By Tecre1355 --> Tecre\n",
      "By Tecre1364 --> Tecre\n",
      "By Tecre1355 --> Tecre\n",
      "By Terry Town --> Terry Town\n",
      "By The Laughing Giraffe --> The Laughing Giraffe\n",
      "By The Laughing Giraffe --> The Laughing Giraffe\n",
      "By Tultex320 --> Tultex\n",
      "By Tultex340 --> Tultex\n",
      "By Tultex320 --> Tultex\n",
      "By Tultex340 --> Tultex\n",
      "By Tultex320Y --> Tultex\n",
      "By Westford Mill®W801 --> Westford Mill®\n"
     ]
    }
   ],
   "source": [
    "# Clean the Brands column   \n",
    "\n",
    "for clean_brand in list(brands[\"Brand\"]):\n",
    "     for index, messy_brand in enumerate(products[\"Brand providers\"]):\n",
    "            # messy_brand = messy_brand.replace('By','').strip()\n",
    "            if clean_brand in messy_brand:\n",
    "                print(f\"{products.loc[index]['Brand providers']} --> {clean_brand}\")\n",
    "                products.loc[index][\"Brand providers\"] = clean_brand\n",
    "            elif 'Generic' in messy_brand:\n",
    "                #print(f\"{products.loc[index]['Brand providers']} --> Generic Brand\")\n",
    "                products.loc[index][\"Brand providers\"] = \"Generic Brand\"\n",
    "                "
   ]
  },
  {
   "cell_type": "code",
   "execution_count": 27,
   "id": "a99c7dc3",
   "metadata": {},
   "outputs": [
    {
     "data": {
      "text/html": [
       "<div>\n",
       "<style scoped>\n",
       "    .dataframe tbody tr th:only-of-type {\n",
       "        vertical-align: middle;\n",
       "    }\n",
       "\n",
       "    .dataframe tbody tr th {\n",
       "        vertical-align: top;\n",
       "    }\n",
       "\n",
       "    .dataframe thead th {\n",
       "        text-align: right;\n",
       "    }\n",
       "</style>\n",
       "<table border=\"1\" class=\"dataframe\">\n",
       "  <thead>\n",
       "    <tr style=\"text-align: right;\">\n",
       "      <th></th>\n",
       "      <th>Description</th>\n",
       "      <th>Brand providers</th>\n",
       "      <th>Floor_price</th>\n",
       "      <th>Premium_Floor_price</th>\n",
       "      <th>Customizations</th>\n",
       "      <th>Tags</th>\n",
       "    </tr>\n",
       "  </thead>\n",
       "  <tbody>\n",
       "    <tr>\n",
       "      <th>0</th>\n",
       "      <td>Oven Mitts &amp; Pot Holders</td>\n",
       "      <td>Generic Brand</td>\n",
       "      <td>24.93</td>\n",
       "      <td>19.2</td>\n",
       "      <td>1 size1 colorArtsAdd</td>\n",
       "      <td>New</td>\n",
       "    </tr>\n",
       "    <tr>\n",
       "      <th>1</th>\n",
       "      <td>Tripod Lamp with High-Res Printed Shade, US\\CA...</td>\n",
       "      <td>Generic Brand</td>\n",
       "      <td>37.31</td>\n",
       "      <td>28.74</td>\n",
       "      <td>1 size1 colorLamp In a Box</td>\n",
       "      <td>New</td>\n",
       "    </tr>\n",
       "    <tr>\n",
       "      <th>2</th>\n",
       "      <td>Heart-Shaped Mug</td>\n",
       "      <td>Generic Brand</td>\n",
       "      <td>13.91</td>\n",
       "      <td>10.71</td>\n",
       "      <td>1 size1 colorOPT OnDemand</td>\n",
       "      <td>New</td>\n",
       "    </tr>\n",
       "    <tr>\n",
       "      <th>3</th>\n",
       "      <td>Passport Cover</td>\n",
       "      <td>Generic Brand</td>\n",
       "      <td>13.43</td>\n",
       "      <td>10.34</td>\n",
       "      <td>1 size1 colorPersonalized Luggage</td>\n",
       "      <td>New</td>\n",
       "    </tr>\n",
       "    <tr>\n",
       "      <th>4</th>\n",
       "      <td>Balloon (Round, Heart-Shaped)</td>\n",
       "      <td>Generic Brand</td>\n",
       "      <td>7.99</td>\n",
       "      <td>6.15</td>\n",
       "      <td>1 size1 colorPhoto Balloon Store</td>\n",
       "      <td>New</td>\n",
       "    </tr>\n",
       "    <tr>\n",
       "      <th>5</th>\n",
       "      <td>Soft Picnic Bag</td>\n",
       "      <td>Generic Brand</td>\n",
       "      <td>16.21</td>\n",
       "      <td>12.48</td>\n",
       "      <td>1 size1 colorSmart Printee</td>\n",
       "      <td>New</td>\n",
       "    </tr>\n",
       "    <tr>\n",
       "      <th>6</th>\n",
       "      <td>Polyester Car Seat Covers</td>\n",
       "      <td>Generic Brand</td>\n",
       "      <td>38.81</td>\n",
       "      <td>29.89</td>\n",
       "      <td>1 size1 colorSubliminator</td>\n",
       "      <td>New</td>\n",
       "    </tr>\n",
       "    <tr>\n",
       "      <th>7</th>\n",
       "      <td>Standard Mug, 11oz</td>\n",
       "      <td>ORCA Coatings</td>\n",
       "      <td>5.51</td>\n",
       "      <td>4.24</td>\n",
       "      <td>1 size1 colorTextildruck Europa</td>\n",
       "      <td>New</td>\n",
       "    </tr>\n",
       "    <tr>\n",
       "      <th>8</th>\n",
       "      <td>Unisex Twill Hat</td>\n",
       "      <td>Generic Brand</td>\n",
       "      <td>15.73</td>\n",
       "      <td>12.11</td>\n",
       "      <td>1 size10 colorsMyLocker</td>\n",
       "      <td>Embroidery</td>\n",
       "    </tr>\n",
       "    <tr>\n",
       "      <th>9</th>\n",
       "      <td>Knit Beanie</td>\n",
       "      <td>Generic Brand</td>\n",
       "      <td>14.67</td>\n",
       "      <td>11.3</td>\n",
       "      <td>1 size11 colorsMyLocker</td>\n",
       "      <td>Embroidery</td>\n",
       "    </tr>\n",
       "  </tbody>\n",
       "</table>\n",
       "</div>"
      ],
      "text/plain": [
       "                                         Description Brand providers  \\\n",
       "0                           Oven Mitts & Pot Holders   Generic Brand   \n",
       "1  Tripod Lamp with High-Res Printed Shade, US\\CA...   Generic Brand   \n",
       "2                                   Heart-Shaped Mug   Generic Brand   \n",
       "3                                     Passport Cover   Generic Brand   \n",
       "4                      Balloon (Round, Heart-Shaped)   Generic Brand   \n",
       "5                                    Soft Picnic Bag   Generic Brand   \n",
       "6                          Polyester Car Seat Covers   Generic Brand   \n",
       "7                                 Standard Mug, 11oz   ORCA Coatings   \n",
       "8                                   Unisex Twill Hat   Generic Brand   \n",
       "9                                        Knit Beanie   Generic Brand   \n",
       "\n",
       "  Floor_price Premium_Floor_price                    Customizations   \\\n",
       "0       24.93                19.2               1 size1 colorArtsAdd   \n",
       "1       37.31               28.74         1 size1 colorLamp In a Box   \n",
       "2       13.91               10.71          1 size1 colorOPT OnDemand   \n",
       "3       13.43               10.34  1 size1 colorPersonalized Luggage   \n",
       "4        7.99                6.15   1 size1 colorPhoto Balloon Store   \n",
       "5       16.21               12.48         1 size1 colorSmart Printee   \n",
       "6       38.81               29.89          1 size1 colorSubliminator   \n",
       "7        5.51                4.24    1 size1 colorTextildruck Europa   \n",
       "8       15.73               12.11            1 size10 colorsMyLocker   \n",
       "9       14.67                11.3            1 size11 colorsMyLocker   \n",
       "\n",
       "         Tags  \n",
       "0         New  \n",
       "1         New  \n",
       "2         New  \n",
       "3         New  \n",
       "4         New  \n",
       "5         New  \n",
       "6         New  \n",
       "7         New  \n",
       "8  Embroidery  \n",
       "9  Embroidery  "
      ]
     },
     "execution_count": 27,
     "metadata": {},
     "output_type": "execute_result"
    }
   ],
   "source": [
    "# Confirm brand is okay \n",
    "products.head(10)"
   ]
  },
  {
   "cell_type": "code",
   "execution_count": 28,
   "id": "d2efd0b7",
   "metadata": {},
   "outputs": [
    {
     "name": "stdout",
     "output_type": "stream",
     "text": [
      "In Brands: 46 \n",
      "In Products: 46\n"
     ]
    }
   ],
   "source": [
    "# Confirm that brands in products are all in brands table\n",
    "# Add one to the brands for the generic brand\n",
    "\n",
    "print(f\"In Brands: {len(brands['Brand']) + 1} \\nIn Products: {len(products['Brand providers'].unique())}\")"
   ]
  },
  {
   "cell_type": "code",
   "execution_count": 29,
   "id": "1797231c",
   "metadata": {
    "scrolled": true
   },
   "outputs": [],
   "source": [
    "products1 = products[['Brand providers']]\n",
    "brands_count = pd.DataFrame(index= products1['Brand providers'].unique(), columns=['Count'])\n",
    "for br in brands_count.index:\n",
    "    brands_count.loc[br] = int(products1[products1['Brand providers']== br].count())\n"
   ]
  },
  {
   "cell_type": "code",
   "execution_count": 30,
   "id": "ef67304c",
   "metadata": {
    "scrolled": true
   },
   "outputs": [
    {
     "data": {
      "text/html": [
       "<div>\n",
       "<style scoped>\n",
       "    .dataframe tbody tr th:only-of-type {\n",
       "        vertical-align: middle;\n",
       "    }\n",
       "\n",
       "    .dataframe tbody tr th {\n",
       "        vertical-align: top;\n",
       "    }\n",
       "\n",
       "    .dataframe thead th {\n",
       "        text-align: right;\n",
       "    }\n",
       "</style>\n",
       "<table border=\"1\" class=\"dataframe\">\n",
       "  <thead>\n",
       "    <tr style=\"text-align: right;\">\n",
       "      <th></th>\n",
       "      <th>Count</th>\n",
       "    </tr>\n",
       "  </thead>\n",
       "  <tbody>\n",
       "    <tr>\n",
       "      <th>Generic Brand</th>\n",
       "      <td>521</td>\n",
       "    </tr>\n",
       "    <tr>\n",
       "      <th>ORCA Coatings</th>\n",
       "      <td>7</td>\n",
       "    </tr>\n",
       "    <tr>\n",
       "      <th>Westford Mill®</th>\n",
       "      <td>1</td>\n",
       "    </tr>\n",
       "    <tr>\n",
       "      <th>Sport-Tek</th>\n",
       "      <td>4</td>\n",
       "    </tr>\n",
       "    <tr>\n",
       "      <th>Colortone</th>\n",
       "      <td>1</td>\n",
       "    </tr>\n",
       "    <tr>\n",
       "      <th>Gildan</th>\n",
       "      <td>49</td>\n",
       "    </tr>\n",
       "    <tr>\n",
       "      <th>AS Colour</th>\n",
       "      <td>19</td>\n",
       "    </tr>\n",
       "    <tr>\n",
       "      <th>Stanley Stella</th>\n",
       "      <td>42</td>\n",
       "    </tr>\n",
       "    <tr>\n",
       "      <th>Next Level</th>\n",
       "      <td>11</td>\n",
       "    </tr>\n",
       "    <tr>\n",
       "      <th>LAT Apparel</th>\n",
       "      <td>3</td>\n",
       "    </tr>\n",
       "    <tr>\n",
       "      <th>Bella+Canvas</th>\n",
       "      <td>28</td>\n",
       "    </tr>\n",
       "    <tr>\n",
       "      <th>Delta</th>\n",
       "      <td>2</td>\n",
       "    </tr>\n",
       "    <tr>\n",
       "      <th>Comfort Colors®</th>\n",
       "      <td>5</td>\n",
       "    </tr>\n",
       "    <tr>\n",
       "      <th>American Apparel</th>\n",
       "      <td>2</td>\n",
       "    </tr>\n",
       "    <tr>\n",
       "      <th>B&amp;C</th>\n",
       "      <td>14</td>\n",
       "    </tr>\n",
       "    <tr>\n",
       "      <th>Champion</th>\n",
       "      <td>11</td>\n",
       "    </tr>\n",
       "    <tr>\n",
       "      <th>Alstyle</th>\n",
       "      <td>2</td>\n",
       "    </tr>\n",
       "    <tr>\n",
       "      <th>SG Clothing</th>\n",
       "      <td>1</td>\n",
       "    </tr>\n",
       "    <tr>\n",
       "      <th>Anvil</th>\n",
       "      <td>1</td>\n",
       "    </tr>\n",
       "    <tr>\n",
       "      <th>Hanes</th>\n",
       "      <td>10</td>\n",
       "    </tr>\n",
       "    <tr>\n",
       "      <th>Econscious</th>\n",
       "      <td>4</td>\n",
       "    </tr>\n",
       "    <tr>\n",
       "      <th>Royal Apparel</th>\n",
       "      <td>2</td>\n",
       "    </tr>\n",
       "    <tr>\n",
       "      <th>Lane Seven</th>\n",
       "      <td>24</td>\n",
       "    </tr>\n",
       "    <tr>\n",
       "      <th>AWDIS</th>\n",
       "      <td>14</td>\n",
       "    </tr>\n",
       "    <tr>\n",
       "      <th>Fruit Of The Loom</th>\n",
       "      <td>2</td>\n",
       "    </tr>\n",
       "    <tr>\n",
       "      <th>Tultex</th>\n",
       "      <td>5</td>\n",
       "    </tr>\n",
       "    <tr>\n",
       "      <th>Independent Trading Company</th>\n",
       "      <td>8</td>\n",
       "    </tr>\n",
       "    <tr>\n",
       "      <th>Cotton Heritage</th>\n",
       "      <td>6</td>\n",
       "    </tr>\n",
       "    <tr>\n",
       "      <th>JERZEES</th>\n",
       "      <td>2</td>\n",
       "    </tr>\n",
       "    <tr>\n",
       "      <th>Elevate</th>\n",
       "      <td>2</td>\n",
       "    </tr>\n",
       "    <tr>\n",
       "      <th>Rabbit Skins</th>\n",
       "      <td>13</td>\n",
       "    </tr>\n",
       "    <tr>\n",
       "      <th>Gerber Childrenswear</th>\n",
       "      <td>2</td>\n",
       "    </tr>\n",
       "    <tr>\n",
       "      <th>Case Mate</th>\n",
       "      <td>3</td>\n",
       "    </tr>\n",
       "    <tr>\n",
       "      <th>Port Authority</th>\n",
       "      <td>1</td>\n",
       "    </tr>\n",
       "    <tr>\n",
       "      <th>The Laughing Giraffe</th>\n",
       "      <td>2</td>\n",
       "    </tr>\n",
       "    <tr>\n",
       "      <th>Terry Town</th>\n",
       "      <td>1</td>\n",
       "    </tr>\n",
       "    <tr>\n",
       "      <th>Polar Camel</th>\n",
       "      <td>3</td>\n",
       "    </tr>\n",
       "    <tr>\n",
       "      <th>Soundwave</th>\n",
       "      <td>1</td>\n",
       "    </tr>\n",
       "    <tr>\n",
       "      <th>CamelBak</th>\n",
       "      <td>1</td>\n",
       "    </tr>\n",
       "    <tr>\n",
       "      <th>Stik-Withit</th>\n",
       "      <td>1</td>\n",
       "    </tr>\n",
       "    <tr>\n",
       "      <th>Tecre</th>\n",
       "      <td>4</td>\n",
       "    </tr>\n",
       "    <tr>\n",
       "      <th>Magnum Magnetics</th>\n",
       "      <td>1</td>\n",
       "    </tr>\n",
       "    <tr>\n",
       "      <th>Seventh Avenue Apothecary</th>\n",
       "      <td>1</td>\n",
       "    </tr>\n",
       "    <tr>\n",
       "      <th>Greenbomb</th>\n",
       "      <td>2</td>\n",
       "    </tr>\n",
       "    <tr>\n",
       "      <th>Doggie Skins</th>\n",
       "      <td>1</td>\n",
       "    </tr>\n",
       "    <tr>\n",
       "      <th>Arctic Zone</th>\n",
       "      <td>1</td>\n",
       "    </tr>\n",
       "  </tbody>\n",
       "</table>\n",
       "</div>"
      ],
      "text/plain": [
       "                            Count\n",
       "Generic Brand                 521\n",
       "ORCA Coatings                   7\n",
       "Westford Mill®                  1\n",
       "Sport-Tek                       4\n",
       "Colortone                       1\n",
       "Gildan                         49\n",
       "AS Colour                      19\n",
       "Stanley Stella                 42\n",
       "Next Level                     11\n",
       "LAT Apparel                     3\n",
       "Bella+Canvas                   28\n",
       "Delta                           2\n",
       "Comfort Colors®                 5\n",
       "American Apparel                2\n",
       "B&C                            14\n",
       "Champion                       11\n",
       "Alstyle                         2\n",
       "SG Clothing                     1\n",
       "Anvil                           1\n",
       "Hanes                          10\n",
       "Econscious                      4\n",
       "Royal Apparel                   2\n",
       "Lane Seven                     24\n",
       "AWDIS                          14\n",
       "Fruit Of The Loom               2\n",
       "Tultex                          5\n",
       "Independent Trading Company     8\n",
       "Cotton Heritage                 6\n",
       "JERZEES                         2\n",
       "Elevate                         2\n",
       "Rabbit Skins                   13\n",
       "Gerber Childrenswear            2\n",
       "Case Mate                       3\n",
       "Port Authority                  1\n",
       "The Laughing Giraffe            2\n",
       "Terry Town                      1\n",
       "Polar Camel                     3\n",
       "Soundwave                       1\n",
       "CamelBak                        1\n",
       "Stik-Withit                     1\n",
       "Tecre                           4\n",
       "Magnum Magnetics                1\n",
       "Seventh Avenue Apothecary       1\n",
       "Greenbomb                       2\n",
       "Doggie Skins                    1\n",
       "Arctic Zone                     1"
      ]
     },
     "execution_count": 30,
     "metadata": {},
     "output_type": "execute_result"
    }
   ],
   "source": [
    "brands_count"
   ]
  },
  {
   "cell_type": "code",
   "execution_count": 31,
   "id": "8cca531a",
   "metadata": {
    "scrolled": true
   },
   "outputs": [
    {
     "data": {
      "image/png": "[encoded data removed]",
      "text/plain": [
       "<Figure size 1080x720 with 1 Axes>"
      ]
     },
     "metadata": {
      "needs_background": "light"
     },
     "output_type": "display_data"
    }
   ],
   "source": [
    "# Brand popularity\n",
    "\n",
    "ax = brands_count.plot.bar(title =\"Brand Popularity\", figsize=(15, 10), legend=True, fontsize=12)"
   ]
  },
  {
   "cell_type": "code",
   "execution_count": 32,
   "id": "19fa2228",
   "metadata": {},
   "outputs": [],
   "source": [
    "brands_count.drop('Generic Brand', inplace=True)"
   ]
  },
  {
   "cell_type": "code",
   "execution_count": 33,
   "id": "80d8a3fd",
   "metadata": {},
   "outputs": [
    {
     "data": {
      "text/plain": [
       "<AxesSubplot:title={'center':'Brand Popularity'}>"
      ]
     },
     "execution_count": 33,
     "metadata": {},
     "output_type": "execute_result"
    },
    {
     "data": {
      "image/png": "[encoded data removed]",
      "text/plain": [
       "<Figure size 1080x720 with 1 Axes>"
      ]
     },
     "metadata": {
      "needs_background": "light"
     },
     "output_type": "display_data"
    }
   ],
   "source": [
    "#Same as above without the Generic brand data\n",
    "brands_count.plot.bar(title =\"Brand Popularity\", figsize=(15, 10), legend=True, fontsize=12)"
   ]
  },
  {
   "cell_type": "code",
   "execution_count": 34,
   "id": "477bc7df",
   "metadata": {},
   "outputs": [
    {
     "data": {
      "application/vnd.plotly.v1+json": {
       "config": {
        "plotlyServerURL": "https://plot.ly"
       },
       "data": [
        {
         "orientation": "v",
         "type": "bar",
         "width": 1,
         "x": [
          "ORCA Coatings",
          "Westford Mill®",
          "Sport-Tek",
          "Colortone",
          "Gildan",
          "AS Colour",
          "Stanley Stella",
          "Next Level",
          "LAT Apparel",
          "Bella+Canvas",
          "Delta",
          "Comfort Colors®",
          "American Apparel",
          "B&C",
          "Champion",
          "Alstyle",
          "SG Clothing",
          "Anvil",
          "Hanes",
          "Econscious",
          "Royal Apparel",
          "Lane Seven",
          "AWDIS",
          "Fruit Of The Loom",
          "Tultex",
          "Independent Trading Company",
          "Cotton Heritage",
          "JERZEES",
          "Elevate",
          "Rabbit Skins",
          "Gerber Childrenswear",
          "Case Mate",
          "Port Authority",
          "The Laughing Giraffe",
          "Terry Town",
          "Polar Camel",
          "Soundwave",
          "CamelBak",
          "Stik-Withit",
          "Tecre",
          "Magnum Magnetics",
          "Seventh Avenue Apothecary",
          "Greenbomb",
          "Doggie Skins",
          "Arctic Zone"
         ],
         "y": [
          7,
          1,
          4,
          1,
          49,
          19,
          42,
          11,
          3,
          28,
          2,
          5,
          2,
          14,
          11,
          2,
          1,
          1,
          10,
          4,
          2,
          24,
          14,
          2,
          5,
          8,
          6,
          2,
          2,
          13,
          2,
          3,
          1,
          2,
          1,
          3,
          1,
          1,
          1,
          4,
          1,
          1,
          2,
          1,
          1
         ]
        }
       ],
       "layout": {
        "template": {
         "data": {
          "bar": [
           {
            "error_x": {
             "color": "#2a3f5f"
            },
            "error_y": {
             "color": "#2a3f5f"
            },
            "marker": {
             "line": {
              "color": "#E5ECF6",
              "width": 0.5
             },
             "pattern": {
              "fillmode": "overlay",
              "size": 10,
              "solidity": 0.2
             }
            },
            "type": "bar"
           }
          ],
          "barpolar": [
           {
            "marker": {
             "line": {
              "color": "#E5ECF6",
              "width": 0.5
             },
             "pattern": {
              "fillmode": "overlay",
              "size": 10,
              "solidity": 0.2
             }
            },
            "type": "barpolar"
           }
          ],
          "carpet": [
           {
            "aaxis": {
             "endlinecolor": "#2a3f5f",
             "gridcolor": "white",
             "linecolor": "white",
             "minorgridcolor": "white",
             "startlinecolor": "#2a3f5f"
            },
            "baxis": {
             "endlinecolor": "#2a3f5f",
             "gridcolor": "white",
             "linecolor": "white",
             "minorgridcolor": "white",
             "startlinecolor": "#2a3f5f"
            },
            "type": "carpet"
           }
          ],
          "choropleth": [
           {
            "colorbar": {
             "outlinewidth": 0,
             "ticks": ""
            },
            "type": "choropleth"
           }
          ],
          "contour": [
           {
            "colorbar": {
             "outlinewidth": 0,
             "ticks": ""
            },
            "colorscale": [
             [
              0,
              "#0d0887"
             ],
             [
              0.1111111111111111,
              "#46039f"
             ],
             [
              0.2222222222222222,
              "#7201a8"
             ],
             [
              0.3333333333333333,
              "#9c179e"
             ],
             [
              0.4444444444444444,
              "#bd3786"
             ],
             [
              0.5555555555555556,
              "#d8576b"
             ],
             [
              0.6666666666666666,
              "#ed7953"
             ],
             [
              0.7777777777777778,
              "#fb9f3a"
             ],
             [
              0.8888888888888888,
              "#fdca26"
             ],
             [
              1,
              "#f0f921"
             ]
            ],
            "type": "contour"
           }
          ],
          "contourcarpet": [
           {
            "colorbar": {
             "outlinewidth": 0,
             "ticks": ""
            },
            "type": "contourcarpet"
           }
          ],
          "heatmap": [
           {
            "colorbar": {
             "outlinewidth": 0,
             "ticks": ""
            },
            "colorscale": [
             [
              0,
              "#0d0887"
             ],
             [
              0.1111111111111111,
              "#46039f"
             ],
             [
              0.2222222222222222,
              "#7201a8"
             ],
             [
              0.3333333333333333,
              "#9c179e"
             ],
             [
              0.4444444444444444,
              "#bd3786"
             ],
             [
              0.5555555555555556,
              "#d8576b"
             ],
             [
              0.6666666666666666,
              "#ed7953"
             ],
             [
              0.7777777777777778,
              "#fb9f3a"
             ],
             [
              0.8888888888888888,
              "#fdca26"
             ],
             [
              1,
              "#f0f921"
             ]
            ],
            "type": "heatmap"
           }
          ],
          "heatmapgl": [
           {
            "colorbar": {
             "outlinewidth": 0,
             "ticks": ""
            },
            "colorscale": [
             [
              0,
              "#0d0887"
             ],
             [
              0.1111111111111111,
              "#46039f"
             ],
             [
              0.2222222222222222,
              "#7201a8"
             ],
             [
              0.3333333333333333,
              "#9c179e"
             ],
             [
              0.4444444444444444,
              "#bd3786"
             ],
             [
              0.5555555555555556,
              "#d8576b"
             ],
             [
              0.6666666666666666,
              "#ed7953"
             ],
             [
              0.7777777777777778,
              "#fb9f3a"
             ],
             [
              0.8888888888888888,
              "#fdca26"
             ],
             [
              1,
              "#f0f921"
             ]
            ],
            "type": "heatmapgl"
           }
          ],
          "histogram": [
           {
            "marker": {
             "pattern": {
              "fillmode": "overlay",
              "size": 10,
              "solidity": 0.2
             }
            },
            "type": "histogram"
           }
          ],
          "histogram2d": [
           {
            "colorbar": {
             "outlinewidth": 0,
             "ticks": ""
            },
            "colorscale": [
             [
              0,
              "#0d0887"
             ],
             [
              0.1111111111111111,
              "#46039f"
             ],
             [
              0.2222222222222222,
              "#7201a8"
             ],
             [
              0.3333333333333333,
              "#9c179e"
             ],
             [
              0.4444444444444444,
              "#bd3786"
             ],
             [
              0.5555555555555556,
              "#d8576b"
             ],
             [
              0.6666666666666666,
              "#ed7953"
             ],
             [
              0.7777777777777778,
              "#fb9f3a"
             ],
             [
              0.8888888888888888,
              "#fdca26"
             ],
             [
              1,
              "#f0f921"
             ]
            ],
            "type": "histogram2d"
           }
          ],
          "histogram2dcontour": [
           {
            "colorbar": {
             "outlinewidth": 0,
             "ticks": ""
            },
            "colorscale": [
             [
              0,
              "#0d0887"
             ],
             [
              0.1111111111111111,
              "#46039f"
             ],
             [
              0.2222222222222222,
              "#7201a8"
             ],
             [
              0.3333333333333333,
              "#9c179e"
             ],
             [
              0.4444444444444444,
              "#bd3786"
             ],
             [
              0.5555555555555556,
              "#d8576b"
             ],
             [
              0.6666666666666666,
              "#ed7953"
             ],
             [
              0.7777777777777778,
              "#fb9f3a"
             ],
             [
              0.8888888888888888,
              "#fdca26"
             ],
             [
              1,
              "#f0f921"
             ]
            ],
            "type": "histogram2dcontour"
           }
          ],
          "mesh3d": [
           {
            "colorbar": {
             "outlinewidth": 0,
             "ticks": ""
            },
            "type": "mesh3d"
           }
          ],
          "parcoords": [
           {
            "line": {
             "colorbar": {
              "outlinewidth": 0,
              "ticks": ""
             }
            },
            "type": "parcoords"
           }
          ],
          "pie": [
           {
            "automargin": true,
            "type": "pie"
           }
          ],
          "scatter": [
           {
            "marker": {
             "colorbar": {
              "outlinewidth": 0,
              "ticks": ""
             }
            },
            "type": "scatter"
           }
          ],
          "scatter3d": [
           {
            "line": {
             "colorbar": {
              "outlinewidth": 0,
              "ticks": ""
             }
            },
            "marker": {
             "colorbar": {
              "outlinewidth": 0,
              "ticks": ""
             }
            },
            "type": "scatter3d"
           }
          ],
          "scattercarpet": [
           {
            "marker": {
             "colorbar": {
              "outlinewidth": 0,
              "ticks": ""
             }
            },
            "type": "scattercarpet"
           }
          ],
          "scattergeo": [
           {
            "marker": {
             "colorbar": {
              "outlinewidth": 0,
              "ticks": ""
             }
            },
            "type": "scattergeo"
           }
          ],
          "scattergl": [
           {
            "marker": {
             "colorbar": {
              "outlinewidth": 0,
              "ticks": ""
             }
            },
            "type": "scattergl"
           }
          ],
          "scattermapbox": [
           {
            "marker": {
             "colorbar": {
              "outlinewidth": 0,
              "ticks": ""
             }
            },
            "type": "scattermapbox"
           }
          ],
          "scatterpolar": [
           {
            "marker": {
             "colorbar": {
              "outlinewidth": 0,
              "ticks": ""
             }
            },
            "type": "scatterpolar"
           }
          ],
          "scatterpolargl": [
           {
            "marker": {
             "colorbar": {
              "outlinewidth": 0,
              "ticks": ""
             }
            },
            "type": "scatterpolargl"
           }
          ],
          "scatterternary": [
           {
            "marker": {
             "colorbar": {
              "outlinewidth": 0,
              "ticks": ""
             }
            },
            "type": "scatterternary"
           }
          ],
          "surface": [
           {
            "colorbar": {
             "outlinewidth": 0,
             "ticks": ""
            },
            "colorscale": [
             [
              0,
              "#0d0887"
             ],
             [
              0.1111111111111111,
              "#46039f"
             ],
             [
              0.2222222222222222,
              "#7201a8"
             ],
             [
              0.3333333333333333,
              "#9c179e"
             ],
             [
              0.4444444444444444,
              "#bd3786"
             ],
             [
              0.5555555555555556,
              "#d8576b"
             ],
             [
              0.6666666666666666,
              "#ed7953"
             ],
             [
              0.7777777777777778,
              "#fb9f3a"
             ],
             [
              0.8888888888888888,
              "#fdca26"
             ],
             [
              1,
              "#f0f921"
             ]
            ],
            "type": "surface"
           }
          ],
          "table": [
           {
            "cells": {
             "fill": {
              "color": "#EBF0F8"
             },
             "line": {
              "color": "white"
             }
            },
            "header": {
             "fill": {
              "color": "#C8D4E3"
             },
             "line": {
              "color": "white"
             }
            },
            "type": "table"
           }
          ]
         },
         "layout": {
          "annotationdefaults": {
           "arrowcolor": "#2a3f5f",
           "arrowhead": 0,
           "arrowwidth": 1
          },
          "autotypenumbers": "strict",
          "coloraxis": {
           "colorbar": {
            "outlinewidth": 0,
            "ticks": ""
           }
          },
          "colorscale": {
           "diverging": [
            [
             0,
             "#8e0152"
            ],
            [
             0.1,
             "#c51b7d"
            ],
            [
             0.2,
             "#de77ae"
            ],
            [
             0.3,
             "#f1b6da"
            ],
            [
             0.4,
             "#fde0ef"
            ],
            [
             0.5,
             "#f7f7f7"
            ],
            [
             0.6,
             "#e6f5d0"
            ],
            [
             0.7,
             "#b8e186"
            ],
            [
             0.8,
             "#7fbc41"
            ],
            [
             0.9,
             "#4d9221"
            ],
            [
             1,
             "#276419"
            ]
           ],
           "sequential": [
            [
             0,
             "#0d0887"
            ],
            [
             0.1111111111111111,
             "#46039f"
            ],
            [
             0.2222222222222222,
             "#7201a8"
            ],
            [
             0.3333333333333333,
             "#9c179e"
            ],
            [
             0.4444444444444444,
             "#bd3786"
            ],
            [
             0.5555555555555556,
             "#d8576b"
            ],
            [
             0.6666666666666666,
             "#ed7953"
            ],
            [
             0.7777777777777778,
             "#fb9f3a"
            ],
            [
             0.8888888888888888,
             "#fdca26"
            ],
            [
             1,
             "#f0f921"
            ]
           ],
           "sequentialminus": [
            [
             0,
             "#0d0887"
            ],
            [
             0.1111111111111111,
             "#46039f"
            ],
            [
             0.2222222222222222,
             "#7201a8"
            ],
            [
             0.3333333333333333,
             "#9c179e"
            ],
            [
             0.4444444444444444,
             "#bd3786"
            ],
            [
             0.5555555555555556,
             "#d8576b"
            ],
            [
             0.6666666666666666,
             "#ed7953"
            ],
            [
             0.7777777777777778,
             "#fb9f3a"
            ],
            [
             0.8888888888888888,
             "#fdca26"
            ],
            [
             1,
             "#f0f921"
            ]
           ]
          },
          "colorway": [
           "#636efa",
           "#EF553B",
           "#00cc96",
           "#ab63fa",
           "#FFA15A",
           "#19d3f3",
           "#FF6692",
           "#B6E880",
           "#FF97FF",
           "#FECB52"
          ],
          "font": {
           "color": "#2a3f5f"
          },
          "geo": {
           "bgcolor": "white",
           "lakecolor": "white",
           "landcolor": "#E5ECF6",
           "showlakes": true,
           "showland": true,
           "subunitcolor": "white"
          },
          "hoverlabel": {
           "align": "left"
          },
          "hovermode": "closest",
          "mapbox": {
           "style": "light"
          },
          "paper_bgcolor": "white",
          "plot_bgcolor": "#E5ECF6",
          "polar": {
           "angularaxis": {
            "gridcolor": "white",
            "linecolor": "white",
            "ticks": ""
           },
           "bgcolor": "#E5ECF6",
           "radialaxis": {
            "gridcolor": "white",
            "linecolor": "white",
            "ticks": ""
           }
          },
          "scene": {
           "xaxis": {
            "backgroundcolor": "#E5ECF6",
            "gridcolor": "white",
            "gridwidth": 2,
            "linecolor": "white",
            "showbackground": true,
            "ticks": "",
            "zerolinecolor": "white"
           },
           "yaxis": {
            "backgroundcolor": "#E5ECF6",
            "gridcolor": "white",
            "gridwidth": 2,
            "linecolor": "white",
            "showbackground": true,
            "ticks": "",
            "zerolinecolor": "white"
           },
           "zaxis": {
            "backgroundcolor": "#E5ECF6",
            "gridcolor": "white",
            "gridwidth": 2,
            "linecolor": "white",
            "showbackground": true,
            "ticks": "",
            "zerolinecolor": "white"
           }
          },
          "shapedefaults": {
           "line": {
            "color": "#2a3f5f"
           }
          },
          "ternary": {
           "aaxis": {
            "gridcolor": "white",
            "linecolor": "white",
            "ticks": ""
           },
           "baxis": {
            "gridcolor": "white",
            "linecolor": "white",
            "ticks": ""
           },
           "bgcolor": "#E5ECF6",
           "caxis": {
            "gridcolor": "white",
            "linecolor": "white",
            "ticks": ""
           }
          },
          "title": {
           "x": 0.05
          },
          "xaxis": {
           "automargin": true,
           "gridcolor": "white",
           "linecolor": "white",
           "ticks": "",
           "title": {
            "standoff": 15
           },
           "zerolinecolor": "white",
           "zerolinewidth": 2
          },
          "yaxis": {
           "automargin": true,
           "gridcolor": "white",
           "linecolor": "white",
           "ticks": "",
           "title": {
            "standoff": 15
           },
           "zerolinecolor": "white",
           "zerolinewidth": 2
          }
         }
        }
       }
      },
      "text/html": [
       "<div>                            <div id=\"0f966257-7a37-4930-b392-016b91c07a1e\" class=\"plotly-graph-div\" style=\"height:525px; width:100%;\"></div>            <script type=\"text/javascript\">                require([\"plotly\"], function(Plotly) {                    window.PLOTLYENV=window.PLOTLYENV || {};                                    if (document.getElementById(\"0f966257-7a37-4930-b392-016b91c07a1e\")) {                    Plotly.newPlot(                        \"0f966257-7a37-4930-b392-016b91c07a1e\",                        [{\"orientation\":\"v\",\"width\":1,\"x\":[\"ORCA Coatings\",\"Westford Mill\\u00ae\",\"Sport-Tek\",\"Colortone\",\"Gildan\",\"AS Colour\",\"Stanley Stella\",\"Next Level\",\"LAT Apparel\",\"Bella+Canvas\",\"Delta\",\"Comfort Colors\\u00ae\",\"American Apparel\",\"B&C\",\"Champion\",\"Alstyle\",\"SG Clothing\",\"Anvil\",\"Hanes\",\"Econscious\",\"Royal Apparel\",\"Lane Seven\",\"AWDIS\",\"Fruit Of The Loom\",\"Tultex\",\"Independent Trading Company\",\"Cotton Heritage\",\"JERZEES\",\"Elevate\",\"Rabbit Skins\",\"Gerber Childrenswear\",\"Case Mate\",\"Port Authority\",\"The Laughing Giraffe\",\"Terry Town\",\"Polar Camel\",\"Soundwave\",\"CamelBak\",\"Stik-Withit\",\"Tecre\",\"Magnum Magnetics\",\"Seventh Avenue Apothecary\",\"Greenbomb\",\"Doggie Skins\",\"Arctic Zone\"],\"y\":[7,1,4,1,49,19,42,11,3,28,2,5,2,14,11,2,1,1,10,4,2,24,14,2,5,8,6,2,2,13,2,3,1,2,1,3,1,1,1,4,1,1,2,1,1],\"type\":\"bar\"}],                        {\"template\":{\"data\":{\"bar\":[{\"error_x\":{\"color\":\"#2a3f5f\"},\"error_y\":{\"color\":\"#2a3f5f\"},\"marker\":{\"line\":{\"color\":\"#E5ECF6\",\"width\":0.5},\"pattern\":{\"fillmode\":\"overlay\",\"size\":10,\"solidity\":0.2}},\"type\":\"bar\"}],\"barpolar\":[{\"marker\":{\"line\":{\"color\":\"#E5ECF6\",\"width\":0.5},\"pattern\":{\"fillmode\":\"overlay\",\"size\":10,\"solidity\":0.2}},\"type\":\"barpolar\"}],\"carpet\":[{\"aaxis\":{\"endlinecolor\":\"#2a3f5f\",\"gridcolor\":\"white\",\"linecolor\":\"white\",\"minorgridcolor\":\"white\",\"startlinecolor\":\"#2a3f5f\"},\"baxis\":{\"endlinecolor\":\"#2a3f5f\",\"gridcolor\":\"white\",\"linecolor\":\"white\",\"minorgridcolor\":\"white\",\"startlinecolor\":\"#2a3f5f\"},\"type\":\"carpet\"}],\"choropleth\":[{\"colorbar\":{\"outlinewidth\":0,\"ticks\":\"\"},\"type\":\"choropleth\"}],\"contour\":[{\"colorbar\":{\"outlinewidth\":0,\"ticks\":\"\"},\"colorscale\":[[0.0,\"#0d0887\"],[0.1111111111111111,\"#46039f\"],[0.2222222222222222,\"#7201a8\"],[0.3333333333333333,\"#9c179e\"],[0.4444444444444444,\"#bd3786\"],[0.5555555555555556,\"#d8576b\"],[0.6666666666666666,\"#ed7953\"],[0.7777777777777778,\"#fb9f3a\"],[0.8888888888888888,\"#fdca26\"],[1.0,\"#f0f921\"]],\"type\":\"contour\"}],\"contourcarpet\":[{\"colorbar\":{\"outlinewidth\":0,\"ticks\":\"\"},\"type\":\"contourcarpet\"}],\"heatmap\":[{\"colorbar\":{\"outlinewidth\":0,\"ticks\":\"\"},\"colorscale\":[[0.0,\"#0d0887\"],[0.1111111111111111,\"#46039f\"],[0.2222222222222222,\"#7201a8\"],[0.3333333333333333,\"#9c179e\"],[0.4444444444444444,\"#bd3786\"],[0.5555555555555556,\"#d8576b\"],[0.6666666666666666,\"#ed7953\"],[0.7777777777777778,\"#fb9f3a\"],[0.8888888888888888,\"#fdca26\"],[1.0,\"#f0f921\"]],\"type\":\"heatmap\"}],\"heatmapgl\":[{\"colorbar\":{\"outlinewidth\":0,\"ticks\":\"\"},\"colorscale\":[[0.0,\"#0d0887\"],[0.1111111111111111,\"#46039f\"],[0.2222222222222222,\"#7201a8\"],[0.3333333333333333,\"#9c179e\"],[0.4444444444444444,\"#bd3786\"],[0.5555555555555556,\"#d8576b\"],[0.6666666666666666,\"#ed7953\"],[0.7777777777777778,\"#fb9f3a\"],[0.8888888888888888,\"#fdca26\"],[1.0,\"#f0f921\"]],\"type\":\"heatmapgl\"}],\"histogram\":[{\"marker\":{\"pattern\":{\"fillmode\":\"overlay\",\"size\":10,\"solidity\":0.2}},\"type\":\"histogram\"}],\"histogram2d\":[{\"colorbar\":{\"outlinewidth\":0,\"ticks\":\"\"},\"colorscale\":[[0.0,\"#0d0887\"],[0.1111111111111111,\"#46039f\"],[0.2222222222222222,\"#7201a8\"],[0.3333333333333333,\"#9c179e\"],[0.4444444444444444,\"#bd3786\"],[0.5555555555555556,\"#d8576b\"],[0.6666666666666666,\"#ed7953\"],[0.7777777777777778,\"#fb9f3a\"],[0.8888888888888888,\"#fdca26\"],[1.0,\"#f0f921\"]],\"type\":\"histogram2d\"}],\"histogram2dcontour\":[{\"colorbar\":{\"outlinewidth\":0,\"ticks\":\"\"},\"colorscale\":[[0.0,\"#0d0887\"],[0.1111111111111111,\"#46039f\"],[0.2222222222222222,\"#7201a8\"],[0.3333333333333333,\"#9c179e\"],[0.4444444444444444,\"#bd3786\"],[0.5555555555555556,\"#d8576b\"],[0.6666666666666666,\"#ed7953\"],[0.7777777777777778,\"#fb9f3a\"],[0.8888888888888888,\"#fdca26\"],[1.0,\"#f0f921\"]],\"type\":\"histogram2dcontour\"}],\"mesh3d\":[{\"colorbar\":{\"outlinewidth\":0,\"ticks\":\"\"},\"type\":\"mesh3d\"}],\"parcoords\":[{\"line\":{\"colorbar\":{\"outlinewidth\":0,\"ticks\":\"\"}},\"type\":\"parcoords\"}],\"pie\":[{\"automargin\":true,\"type\":\"pie\"}],\"scatter\":[{\"marker\":{\"colorbar\":{\"outlinewidth\":0,\"ticks\":\"\"}},\"type\":\"scatter\"}],\"scatter3d\":[{\"line\":{\"colorbar\":{\"outlinewidth\":0,\"ticks\":\"\"}},\"marker\":{\"colorbar\":{\"outlinewidth\":0,\"ticks\":\"\"}},\"type\":\"scatter3d\"}],\"scattercarpet\":[{\"marker\":{\"colorbar\":{\"outlinewidth\":0,\"ticks\":\"\"}},\"type\":\"scattercarpet\"}],\"scattergeo\":[{\"marker\":{\"colorbar\":{\"outlinewidth\":0,\"ticks\":\"\"}},\"type\":\"scattergeo\"}],\"scattergl\":[{\"marker\":{\"colorbar\":{\"outlinewidth\":0,\"ticks\":\"\"}},\"type\":\"scattergl\"}],\"scattermapbox\":[{\"marker\":{\"colorbar\":{\"outlinewidth\":0,\"ticks\":\"\"}},\"type\":\"scattermapbox\"}],\"scatterpolar\":[{\"marker\":{\"colorbar\":{\"outlinewidth\":0,\"ticks\":\"\"}},\"type\":\"scatterpolar\"}],\"scatterpolargl\":[{\"marker\":{\"colorbar\":{\"outlinewidth\":0,\"ticks\":\"\"}},\"type\":\"scatterpolargl\"}],\"scatterternary\":[{\"marker\":{\"colorbar\":{\"outlinewidth\":0,\"ticks\":\"\"}},\"type\":\"scatterternary\"}],\"surface\":[{\"colorbar\":{\"outlinewidth\":0,\"ticks\":\"\"},\"colorscale\":[[0.0,\"#0d0887\"],[0.1111111111111111,\"#46039f\"],[0.2222222222222222,\"#7201a8\"],[0.3333333333333333,\"#9c179e\"],[0.4444444444444444,\"#bd3786\"],[0.5555555555555556,\"#d8576b\"],[0.6666666666666666,\"#ed7953\"],[0.7777777777777778,\"#fb9f3a\"],[0.8888888888888888,\"#fdca26\"],[1.0,\"#f0f921\"]],\"type\":\"surface\"}],\"table\":[{\"cells\":{\"fill\":{\"color\":\"#EBF0F8\"},\"line\":{\"color\":\"white\"}},\"header\":{\"fill\":{\"color\":\"#C8D4E3\"},\"line\":{\"color\":\"white\"}},\"type\":\"table\"}]},\"layout\":{\"annotationdefaults\":{\"arrowcolor\":\"#2a3f5f\",\"arrowhead\":0,\"arrowwidth\":1},\"autotypenumbers\":\"strict\",\"coloraxis\":{\"colorbar\":{\"outlinewidth\":0,\"ticks\":\"\"}},\"colorscale\":{\"diverging\":[[0,\"#8e0152\"],[0.1,\"#c51b7d\"],[0.2,\"#de77ae\"],[0.3,\"#f1b6da\"],[0.4,\"#fde0ef\"],[0.5,\"#f7f7f7\"],[0.6,\"#e6f5d0\"],[0.7,\"#b8e186\"],[0.8,\"#7fbc41\"],[0.9,\"#4d9221\"],[1,\"#276419\"]],\"sequential\":[[0.0,\"#0d0887\"],[0.1111111111111111,\"#46039f\"],[0.2222222222222222,\"#7201a8\"],[0.3333333333333333,\"#9c179e\"],[0.4444444444444444,\"#bd3786\"],[0.5555555555555556,\"#d8576b\"],[0.6666666666666666,\"#ed7953\"],[0.7777777777777778,\"#fb9f3a\"],[0.8888888888888888,\"#fdca26\"],[1.0,\"#f0f921\"]],\"sequentialminus\":[[0.0,\"#0d0887\"],[0.1111111111111111,\"#46039f\"],[0.2222222222222222,\"#7201a8\"],[0.3333333333333333,\"#9c179e\"],[0.4444444444444444,\"#bd3786\"],[0.5555555555555556,\"#d8576b\"],[0.6666666666666666,\"#ed7953\"],[0.7777777777777778,\"#fb9f3a\"],[0.8888888888888888,\"#fdca26\"],[1.0,\"#f0f921\"]]},\"colorway\":[\"#636efa\",\"#EF553B\",\"#00cc96\",\"#ab63fa\",\"#FFA15A\",\"#19d3f3\",\"#FF6692\",\"#B6E880\",\"#FF97FF\",\"#FECB52\"],\"font\":{\"color\":\"#2a3f5f\"},\"geo\":{\"bgcolor\":\"white\",\"lakecolor\":\"white\",\"landcolor\":\"#E5ECF6\",\"showlakes\":true,\"showland\":true,\"subunitcolor\":\"white\"},\"hoverlabel\":{\"align\":\"left\"},\"hovermode\":\"closest\",\"mapbox\":{\"style\":\"light\"},\"paper_bgcolor\":\"white\",\"plot_bgcolor\":\"#E5ECF6\",\"polar\":{\"angularaxis\":{\"gridcolor\":\"white\",\"linecolor\":\"white\",\"ticks\":\"\"},\"bgcolor\":\"#E5ECF6\",\"radialaxis\":{\"gridcolor\":\"white\",\"linecolor\":\"white\",\"ticks\":\"\"}},\"scene\":{\"xaxis\":{\"backgroundcolor\":\"#E5ECF6\",\"gridcolor\":\"white\",\"gridwidth\":2,\"linecolor\":\"white\",\"showbackground\":true,\"ticks\":\"\",\"zerolinecolor\":\"white\"},\"yaxis\":{\"backgroundcolor\":\"#E5ECF6\",\"gridcolor\":\"white\",\"gridwidth\":2,\"linecolor\":\"white\",\"showbackground\":true,\"ticks\":\"\",\"zerolinecolor\":\"white\"},\"zaxis\":{\"backgroundcolor\":\"#E5ECF6\",\"gridcolor\":\"white\",\"gridwidth\":2,\"linecolor\":\"white\",\"showbackground\":true,\"ticks\":\"\",\"zerolinecolor\":\"white\"}},\"shapedefaults\":{\"line\":{\"color\":\"#2a3f5f\"}},\"ternary\":{\"aaxis\":{\"gridcolor\":\"white\",\"linecolor\":\"white\",\"ticks\":\"\"},\"baxis\":{\"gridcolor\":\"white\",\"linecolor\":\"white\",\"ticks\":\"\"},\"bgcolor\":\"#E5ECF6\",\"caxis\":{\"gridcolor\":\"white\",\"linecolor\":\"white\",\"ticks\":\"\"}},\"title\":{\"x\":0.05},\"xaxis\":{\"automargin\":true,\"gridcolor\":\"white\",\"linecolor\":\"white\",\"ticks\":\"\",\"title\":{\"standoff\":15},\"zerolinecolor\":\"white\",\"zerolinewidth\":2},\"yaxis\":{\"automargin\":true,\"gridcolor\":\"white\",\"linecolor\":\"white\",\"ticks\":\"\",\"title\":{\"standoff\":15},\"zerolinecolor\":\"white\",\"zerolinewidth\":2}}}},                        {\"responsive\": true}                    ).then(function(){\n",
       "                            \n",
       "var gd = document.getElementById('0f966257-7a37-4930-b392-016b91c07a1e');\n",
       "var x = new MutationObserver(function (mutations, observer) {{\n",
       "        var display = window.getComputedStyle(gd).display;\n",
       "        if (!display || display === 'none') {{\n",
       "            console.log([gd, 'removed!']);\n",
       "            Plotly.purge(gd);\n",
       "            observer.disconnect();\n",
       "        }}\n",
       "}});\n",
       "\n",
       "// Listen for the removal of the full notebook cells\n",
       "var notebookContainer = gd.closest('#notebook-container');\n",
       "if (notebookContainer) {{\n",
       "    x.observe(notebookContainer, {childList: true});\n",
       "}}\n",
       "\n",
       "// Listen for the clearing of the current output cell\n",
       "var outputEl = gd.closest('.output');\n",
       "if (outputEl) {{\n",
       "    x.observe(outputEl, {childList: true});\n",
       "}}\n",
       "\n",
       "                        })                };                });            </script>        </div>"
      ]
     },
     "metadata": {},
     "output_type": "display_data"
    }
   ],
   "source": [
    "# Removed the Generic Brand due to imbalance\n",
    "# Plotted in plottly which is iteractive\n",
    "fig = go.Figure(go.Bar(\n",
    "            x=brands_count.index,\n",
    "            y=brands_count['Count'],\n",
    "            orientation='v', width=1))\n",
    "\n",
    "fig.show()"
   ]
  },
  {
   "cell_type": "code",
   "execution_count": 58,
   "id": "8df2961b",
   "metadata": {
    "scrolled": true
   },
   "outputs": [
    {
     "data": {
      "text/html": [
       "<div>\n",
       "<style scoped>\n",
       "    .dataframe tbody tr th:only-of-type {\n",
       "        vertical-align: middle;\n",
       "    }\n",
       "\n",
       "    .dataframe tbody tr th {\n",
       "        vertical-align: top;\n",
       "    }\n",
       "\n",
       "    .dataframe thead th {\n",
       "        text-align: right;\n",
       "    }\n",
       "</style>\n",
       "<table border=\"1\" class=\"dataframe\">\n",
       "  <thead>\n",
       "    <tr style=\"text-align: right;\">\n",
       "      <th></th>\n",
       "      <th>Average_price</th>\n",
       "    </tr>\n",
       "  </thead>\n",
       "  <tbody>\n",
       "    <tr>\n",
       "      <th>Generic Brand</th>\n",
       "      <td>19.097505</td>\n",
       "    </tr>\n",
       "    <tr>\n",
       "      <th>ORCA Coatings</th>\n",
       "      <td>7.635714</td>\n",
       "    </tr>\n",
       "    <tr>\n",
       "      <th>Westford Mill®</th>\n",
       "      <td>11.72</td>\n",
       "    </tr>\n",
       "    <tr>\n",
       "      <th>Sport-Tek</th>\n",
       "      <td>31.755</td>\n",
       "    </tr>\n",
       "    <tr>\n",
       "      <th>Colortone</th>\n",
       "      <td>19.27</td>\n",
       "    </tr>\n",
       "    <tr>\n",
       "      <th>Gildan</th>\n",
       "      <td>16.693878</td>\n",
       "    </tr>\n",
       "    <tr>\n",
       "      <th>AS Colour</th>\n",
       "      <td>21.080526</td>\n",
       "    </tr>\n",
       "    <tr>\n",
       "      <th>Stanley Stella</th>\n",
       "      <td>27.034524</td>\n",
       "    </tr>\n",
       "    <tr>\n",
       "      <th>Next Level</th>\n",
       "      <td>13.504545</td>\n",
       "    </tr>\n",
       "    <tr>\n",
       "      <th>LAT Apparel</th>\n",
       "      <td>17.113333</td>\n",
       "    </tr>\n",
       "    <tr>\n",
       "      <th>Bella+Canvas</th>\n",
       "      <td>17.108214</td>\n",
       "    </tr>\n",
       "    <tr>\n",
       "      <th>Delta</th>\n",
       "      <td>9.435</td>\n",
       "    </tr>\n",
       "    <tr>\n",
       "      <th>Comfort Colors®</th>\n",
       "      <td>16.704</td>\n",
       "    </tr>\n",
       "    <tr>\n",
       "      <th>American Apparel</th>\n",
       "      <td>10.22</td>\n",
       "    </tr>\n",
       "    <tr>\n",
       "      <th>B&amp;C</th>\n",
       "      <td>21.385714</td>\n",
       "    </tr>\n",
       "    <tr>\n",
       "      <th>Champion</th>\n",
       "      <td>27.110909</td>\n",
       "    </tr>\n",
       "    <tr>\n",
       "      <th>Alstyle</th>\n",
       "      <td>8.12</td>\n",
       "    </tr>\n",
       "    <tr>\n",
       "      <th>SG Clothing</th>\n",
       "      <td>11.99</td>\n",
       "    </tr>\n",
       "    <tr>\n",
       "      <th>Anvil</th>\n",
       "      <td>10.7</td>\n",
       "    </tr>\n",
       "    <tr>\n",
       "      <th>Hanes</th>\n",
       "      <td>18.778</td>\n",
       "    </tr>\n",
       "    <tr>\n",
       "      <th>Econscious</th>\n",
       "      <td>19.775</td>\n",
       "    </tr>\n",
       "    <tr>\n",
       "      <th>Royal Apparel</th>\n",
       "      <td>15.94</td>\n",
       "    </tr>\n",
       "    <tr>\n",
       "      <th>Lane Seven</th>\n",
       "      <td>21.714167</td>\n",
       "    </tr>\n",
       "    <tr>\n",
       "      <th>AWDIS</th>\n",
       "      <td>24.877143</td>\n",
       "    </tr>\n",
       "    <tr>\n",
       "      <th>Fruit Of The Loom</th>\n",
       "      <td>18.33</td>\n",
       "    </tr>\n",
       "    <tr>\n",
       "      <th>Tultex</th>\n",
       "      <td>22.098</td>\n",
       "    </tr>\n",
       "    <tr>\n",
       "      <th>Independent Trading Company</th>\n",
       "      <td>27.015</td>\n",
       "    </tr>\n",
       "    <tr>\n",
       "      <th>Cotton Heritage</th>\n",
       "      <td>27.616667</td>\n",
       "    </tr>\n",
       "    <tr>\n",
       "      <th>JERZEES</th>\n",
       "      <td>16.3</td>\n",
       "    </tr>\n",
       "    <tr>\n",
       "      <th>Elevate</th>\n",
       "      <td>67.16</td>\n",
       "    </tr>\n",
       "    <tr>\n",
       "      <th>Rabbit Skins</th>\n",
       "      <td>11.025385</td>\n",
       "    </tr>\n",
       "    <tr>\n",
       "      <th>Gerber Childrenswear</th>\n",
       "      <td>11.855</td>\n",
       "    </tr>\n",
       "    <tr>\n",
       "      <th>Case Mate</th>\n",
       "      <td>14.303333</td>\n",
       "    </tr>\n",
       "    <tr>\n",
       "      <th>Port Authority</th>\n",
       "      <td>7.39</td>\n",
       "    </tr>\n",
       "    <tr>\n",
       "      <th>The Laughing Giraffe</th>\n",
       "      <td>12.69</td>\n",
       "    </tr>\n",
       "    <tr>\n",
       "      <th>Terry Town</th>\n",
       "      <td>22.16</td>\n",
       "    </tr>\n",
       "    <tr>\n",
       "      <th>Polar Camel</th>\n",
       "      <td>17.413333</td>\n",
       "    </tr>\n",
       "    <tr>\n",
       "      <th>Soundwave</th>\n",
       "      <td>51.93</td>\n",
       "    </tr>\n",
       "    <tr>\n",
       "      <th>CamelBak</th>\n",
       "      <td>22.06</td>\n",
       "    </tr>\n",
       "    <tr>\n",
       "      <th>Stik-Withit</th>\n",
       "      <td>19.49</td>\n",
       "    </tr>\n",
       "    <tr>\n",
       "      <th>Tecre</th>\n",
       "      <td>2.775</td>\n",
       "    </tr>\n",
       "    <tr>\n",
       "      <th>Magnum Magnetics</th>\n",
       "      <td>2.63</td>\n",
       "    </tr>\n",
       "    <tr>\n",
       "      <th>Seventh Avenue Apothecary</th>\n",
       "      <td>32.84</td>\n",
       "    </tr>\n",
       "    <tr>\n",
       "      <th>Greenbomb</th>\n",
       "      <td>9.33</td>\n",
       "    </tr>\n",
       "    <tr>\n",
       "      <th>Doggie Skins</th>\n",
       "      <td>20.15</td>\n",
       "    </tr>\n",
       "    <tr>\n",
       "      <th>Arctic Zone</th>\n",
       "      <td>26.12</td>\n",
       "    </tr>\n",
       "  </tbody>\n",
       "</table>\n",
       "</div>"
      ],
      "text/plain": [
       "                            Average_price\n",
       "Generic Brand                   19.097505\n",
       "ORCA Coatings                    7.635714\n",
       "Westford Mill®                      11.72\n",
       "Sport-Tek                          31.755\n",
       "Colortone                           19.27\n",
       "Gildan                          16.693878\n",
       "AS Colour                       21.080526\n",
       "Stanley Stella                  27.034524\n",
       "Next Level                      13.504545\n",
       "LAT Apparel                     17.113333\n",
       "Bella+Canvas                    17.108214\n",
       "Delta                               9.435\n",
       "Comfort Colors®                    16.704\n",
       "American Apparel                    10.22\n",
       "B&C                             21.385714\n",
       "Champion                        27.110909\n",
       "Alstyle                              8.12\n",
       "SG Clothing                         11.99\n",
       "Anvil                                10.7\n",
       "Hanes                              18.778\n",
       "Econscious                         19.775\n",
       "Royal Apparel                       15.94\n",
       "Lane Seven                      21.714167\n",
       "AWDIS                           24.877143\n",
       "Fruit Of The Loom                   18.33\n",
       "Tultex                             22.098\n",
       "Independent Trading Company        27.015\n",
       "Cotton Heritage                 27.616667\n",
       "JERZEES                              16.3\n",
       "Elevate                             67.16\n",
       "Rabbit Skins                    11.025385\n",
       "Gerber Childrenswear               11.855\n",
       "Case Mate                       14.303333\n",
       "Port Authority                       7.39\n",
       "The Laughing Giraffe                12.69\n",
       "Terry Town                          22.16\n",
       "Polar Camel                     17.413333\n",
       "Soundwave                           51.93\n",
       "CamelBak                            22.06\n",
       "Stik-Withit                         19.49\n",
       "Tecre                               2.775\n",
       "Magnum Magnetics                     2.63\n",
       "Seventh Avenue Apothecary           32.84\n",
       "Greenbomb                            9.33\n",
       "Doggie Skins                        20.15\n",
       "Arctic Zone                         26.12"
      ]
     },
     "execution_count": 58,
     "metadata": {},
     "output_type": "execute_result"
    }
   ],
   "source": [
    "products2 = products[['Brand providers','Floor_price']]\n",
    "brands_count2 = pd.DataFrame(index= products['Brand providers'].unique(), columns=[\"Average_price\"])\n",
    "for br in brands_count2.index:\n",
    "    brands_count2.loc[br] = products2[products2['Brand providers'] == br].Floor_price.mean()\n",
    "brands_count2"
   ]
  },
  {
   "cell_type": "code",
   "execution_count": 63,
   "id": "e106b551",
   "metadata": {},
   "outputs": [
    {
     "data": {
      "application/vnd.plotly.v1+json": {
       "config": {
        "plotlyServerURL": "https://plot.ly"
       },
       "data": [
        {
         "orientation": "v",
         "type": "bar",
         "width": 0.9,
         "x": [
          "Generic Brand",
          "ORCA Coatings",
          "Westford Mill®",
          "Sport-Tek",
          "Colortone",
          "Gildan",
          "AS Colour",
          "Stanley Stella",
          "Next Level",
          "LAT Apparel",
          "Bella+Canvas",
          "Delta",
          "Comfort Colors®",
          "American Apparel",
          "B&C",
          "Champion",
          "Alstyle",
          "SG Clothing",
          "Anvil",
          "Hanes",
          "Econscious",
          "Royal Apparel",
          "Lane Seven",
          "AWDIS",
          "Fruit Of The Loom",
          "Tultex",
          "Independent Trading Company",
          "Cotton Heritage",
          "JERZEES",
          "Elevate",
          "Rabbit Skins",
          "Gerber Childrenswear",
          "Case Mate",
          "Port Authority",
          "The Laughing Giraffe",
          "Terry Town",
          "Polar Camel",
          "Soundwave",
          "CamelBak",
          "Stik-Withit",
          "Tecre",
          "Magnum Magnetics",
          "Seventh Avenue Apothecary",
          "Greenbomb",
          "Doggie Skins",
          "Arctic Zone"
         ],
         "y": [
          19.097504798464488,
          7.635714285714286,
          11.72,
          31.755,
          19.27,
          16.693877551020407,
          21.080526315789477,
          27.03452380952381,
          13.504545454545456,
          17.113333333333333,
          17.108214285714286,
          9.434999999999999,
          16.704,
          10.22,
          21.385714285714283,
          27.110909090909093,
          8.12,
          11.99,
          10.7,
          18.778,
          19.775,
          15.94,
          21.714166666666667,
          24.877142857142854,
          18.33,
          22.098,
          27.015,
          27.61666666666667,
          16.3,
          67.16,
          11.025384615384613,
          11.855,
          14.303333333333333,
          7.39,
          12.69,
          22.16,
          17.41333333333333,
          51.93,
          22.06,
          19.49,
          2.775,
          2.63,
          32.84,
          9.33,
          20.15,
          26.12
         ]
        }
       ],
       "layout": {
        "template": {
         "data": {
          "bar": [
           {
            "error_x": {
             "color": "#2a3f5f"
            },
            "error_y": {
             "color": "#2a3f5f"
            },
            "marker": {
             "line": {
              "color": "#E5ECF6",
              "width": 0.5
             },
             "pattern": {
              "fillmode": "overlay",
              "size": 10,
              "solidity": 0.2
             }
            },
            "type": "bar"
           }
          ],
          "barpolar": [
           {
            "marker": {
             "line": {
              "color": "#E5ECF6",
              "width": 0.5
             },
             "pattern": {
              "fillmode": "overlay",
              "size": 10,
              "solidity": 0.2
             }
            },
            "type": "barpolar"
           }
          ],
          "carpet": [
           {
            "aaxis": {
             "endlinecolor": "#2a3f5f",
             "gridcolor": "white",
             "linecolor": "white",
             "minorgridcolor": "white",
             "startlinecolor": "#2a3f5f"
            },
            "baxis": {
             "endlinecolor": "#2a3f5f",
             "gridcolor": "white",
             "linecolor": "white",
             "minorgridcolor": "white",
             "startlinecolor": "#2a3f5f"
            },
            "type": "carpet"
           }
          ],
          "choropleth": [
           {
            "colorbar": {
             "outlinewidth": 0,
             "ticks": ""
            },
            "type": "choropleth"
           }
          ],
          "contour": [
           {
            "colorbar": {
             "outlinewidth": 0,
             "ticks": ""
            },
            "colorscale": [
             [
              0,
              "#0d0887"
             ],
             [
              0.1111111111111111,
              "#46039f"
             ],
             [
              0.2222222222222222,
              "#7201a8"
             ],
             [
              0.3333333333333333,
              "#9c179e"
             ],
             [
              0.4444444444444444,
              "#bd3786"
             ],
             [
              0.5555555555555556,
              "#d8576b"
             ],
             [
              0.6666666666666666,
              "#ed7953"
             ],
             [
              0.7777777777777778,
              "#fb9f3a"
             ],
             [
              0.8888888888888888,
              "#fdca26"
             ],
             [
              1,
              "#f0f921"
             ]
            ],
            "type": "contour"
           }
          ],
          "contourcarpet": [
           {
            "colorbar": {
             "outlinewidth": 0,
             "ticks": ""
            },
            "type": "contourcarpet"
           }
          ],
          "heatmap": [
           {
            "colorbar": {
             "outlinewidth": 0,
             "ticks": ""
            },
            "colorscale": [
             [
              0,
              "#0d0887"
             ],
             [
              0.1111111111111111,
              "#46039f"
             ],
             [
              0.2222222222222222,
              "#7201a8"
             ],
             [
              0.3333333333333333,
              "#9c179e"
             ],
             [
              0.4444444444444444,
              "#bd3786"
             ],
             [
              0.5555555555555556,
              "#d8576b"
             ],
             [
              0.6666666666666666,
              "#ed7953"
             ],
             [
              0.7777777777777778,
              "#fb9f3a"
             ],
             [
              0.8888888888888888,
              "#fdca26"
             ],
             [
              1,
              "#f0f921"
             ]
            ],
            "type": "heatmap"
           }
          ],
          "heatmapgl": [
           {
            "colorbar": {
             "outlinewidth": 0,
             "ticks": ""
            },
            "colorscale": [
             [
              0,
              "#0d0887"
             ],
             [
              0.1111111111111111,
              "#46039f"
             ],
             [
              0.2222222222222222,
              "#7201a8"
             ],
             [
              0.3333333333333333,
              "#9c179e"
             ],
             [
              0.4444444444444444,
              "#bd3786"
             ],
             [
              0.5555555555555556,
              "#d8576b"
             ],
             [
              0.6666666666666666,
              "#ed7953"
             ],
             [
              0.7777777777777778,
              "#fb9f3a"
             ],
             [
              0.8888888888888888,
              "#fdca26"
             ],
             [
              1,
              "#f0f921"
             ]
            ],
            "type": "heatmapgl"
           }
          ],
          "histogram": [
           {
            "marker": {
             "pattern": {
              "fillmode": "overlay",
              "size": 10,
              "solidity": 0.2
             }
            },
            "type": "histogram"
           }
          ],
          "histogram2d": [
           {
            "colorbar": {
             "outlinewidth": 0,
             "ticks": ""
            },
            "colorscale": [
             [
              0,
              "#0d0887"
             ],
             [
              0.1111111111111111,
              "#46039f"
             ],
             [
              0.2222222222222222,
              "#7201a8"
             ],
             [
              0.3333333333333333,
              "#9c179e"
             ],
             [
              0.4444444444444444,
              "#bd3786"
             ],
             [
              0.5555555555555556,
              "#d8576b"
             ],
             [
              0.6666666666666666,
              "#ed7953"
             ],
             [
              0.7777777777777778,
              "#fb9f3a"
             ],
             [
              0.8888888888888888,
              "#fdca26"
             ],
             [
              1,
              "#f0f921"
             ]
            ],
            "type": "histogram2d"
           }
          ],
          "histogram2dcontour": [
           {
            "colorbar": {
             "outlinewidth": 0,
             "ticks": ""
            },
            "colorscale": [
             [
              0,
              "#0d0887"
             ],
             [
              0.1111111111111111,
              "#46039f"
             ],
             [
              0.2222222222222222,
              "#7201a8"
             ],
             [
              0.3333333333333333,
              "#9c179e"
             ],
             [
              0.4444444444444444,
              "#bd3786"
             ],
             [
              0.5555555555555556,
              "#d8576b"
             ],
             [
              0.6666666666666666,
              "#ed7953"
             ],
             [
              0.7777777777777778,
              "#fb9f3a"
             ],
             [
              0.8888888888888888,
              "#fdca26"
             ],
             [
              1,
              "#f0f921"
             ]
            ],
            "type": "histogram2dcontour"
           }
          ],
          "mesh3d": [
           {
            "colorbar": {
             "outlinewidth": 0,
             "ticks": ""
            },
            "type": "mesh3d"
           }
          ],
          "parcoords": [
           {
            "line": {
             "colorbar": {
              "outlinewidth": 0,
              "ticks": ""
             }
            },
            "type": "parcoords"
           }
          ],
          "pie": [
           {
            "automargin": true,
            "type": "pie"
           }
          ],
          "scatter": [
           {
            "marker": {
             "colorbar": {
              "outlinewidth": 0,
              "ticks": ""
             }
            },
            "type": "scatter"
           }
          ],
          "scatter3d": [
           {
            "line": {
             "colorbar": {
              "outlinewidth": 0,
              "ticks": ""
             }
            },
            "marker": {
             "colorbar": {
              "outlinewidth": 0,
              "ticks": ""
             }
            },
            "type": "scatter3d"
           }
          ],
          "scattercarpet": [
           {
            "marker": {
             "colorbar": {
              "outlinewidth": 0,
              "ticks": ""
             }
            },
            "type": "scattercarpet"
           }
          ],
          "scattergeo": [
           {
            "marker": {
             "colorbar": {
              "outlinewidth": 0,
              "ticks": ""
             }
            },
            "type": "scattergeo"
           }
          ],
          "scattergl": [
           {
            "marker": {
             "colorbar": {
              "outlinewidth": 0,
              "ticks": ""
             }
            },
            "type": "scattergl"
           }
          ],
          "scattermapbox": [
           {
            "marker": {
             "colorbar": {
              "outlinewidth": 0,
              "ticks": ""
             }
            },
            "type": "scattermapbox"
           }
          ],
          "scatterpolar": [
           {
            "marker": {
             "colorbar": {
              "outlinewidth": 0,
              "ticks": ""
             }
            },
            "type": "scatterpolar"
           }
          ],
          "scatterpolargl": [
           {
            "marker": {
             "colorbar": {
              "outlinewidth": 0,
              "ticks": ""
             }
            },
            "type": "scatterpolargl"
           }
          ],
          "scatterternary": [
           {
            "marker": {
             "colorbar": {
              "outlinewidth": 0,
              "ticks": ""
             }
            },
            "type": "scatterternary"
           }
          ],
          "surface": [
           {
            "colorbar": {
             "outlinewidth": 0,
             "ticks": ""
            },
            "colorscale": [
             [
              0,
              "#0d0887"
             ],
             [
              0.1111111111111111,
              "#46039f"
             ],
             [
              0.2222222222222222,
              "#7201a8"
             ],
             [
              0.3333333333333333,
              "#9c179e"
             ],
             [
              0.4444444444444444,
              "#bd3786"
             ],
             [
              0.5555555555555556,
              "#d8576b"
             ],
             [
              0.6666666666666666,
              "#ed7953"
             ],
             [
              0.7777777777777778,
              "#fb9f3a"
             ],
             [
              0.8888888888888888,
              "#fdca26"
             ],
             [
              1,
              "#f0f921"
             ]
            ],
            "type": "surface"
           }
          ],
          "table": [
           {
            "cells": {
             "fill": {
              "color": "#EBF0F8"
             },
             "line": {
              "color": "white"
             }
            },
            "header": {
             "fill": {
              "color": "#C8D4E3"
             },
             "line": {
              "color": "white"
             }
            },
            "type": "table"
           }
          ]
         },
         "layout": {
          "annotationdefaults": {
           "arrowcolor": "#2a3f5f",
           "arrowhead": 0,
           "arrowwidth": 1
          },
          "autotypenumbers": "strict",
          "coloraxis": {
           "colorbar": {
            "outlinewidth": 0,
            "ticks": ""
           }
          },
          "colorscale": {
           "diverging": [
            [
             0,
             "#8e0152"
            ],
            [
             0.1,
             "#c51b7d"
            ],
            [
             0.2,
             "#de77ae"
            ],
            [
             0.3,
             "#f1b6da"
            ],
            [
             0.4,
             "#fde0ef"
            ],
            [
             0.5,
             "#f7f7f7"
            ],
            [
             0.6,
             "#e6f5d0"
            ],
            [
             0.7,
             "#b8e186"
            ],
            [
             0.8,
             "#7fbc41"
            ],
            [
             0.9,
             "#4d9221"
            ],
            [
             1,
             "#276419"
            ]
           ],
           "sequential": [
            [
             0,
             "#0d0887"
            ],
            [
             0.1111111111111111,
             "#46039f"
            ],
            [
             0.2222222222222222,
             "#7201a8"
            ],
            [
             0.3333333333333333,
             "#9c179e"
            ],
            [
             0.4444444444444444,
             "#bd3786"
            ],
            [
             0.5555555555555556,
             "#d8576b"
            ],
            [
             0.6666666666666666,
             "#ed7953"
            ],
            [
             0.7777777777777778,
             "#fb9f3a"
            ],
            [
             0.8888888888888888,
             "#fdca26"
            ],
            [
             1,
             "#f0f921"
            ]
           ],
           "sequentialminus": [
            [
             0,
             "#0d0887"
            ],
            [
             0.1111111111111111,
             "#46039f"
            ],
            [
             0.2222222222222222,
             "#7201a8"
            ],
            [
             0.3333333333333333,
             "#9c179e"
            ],
            [
             0.4444444444444444,
             "#bd3786"
            ],
            [
             0.5555555555555556,
             "#d8576b"
            ],
            [
             0.6666666666666666,
             "#ed7953"
            ],
            [
             0.7777777777777778,
             "#fb9f3a"
            ],
            [
             0.8888888888888888,
             "#fdca26"
            ],
            [
             1,
             "#f0f921"
            ]
           ]
          },
          "colorway": [
           "#636efa",
           "#EF553B",
           "#00cc96",
           "#ab63fa",
           "#FFA15A",
           "#19d3f3",
           "#FF6692",
           "#B6E880",
           "#FF97FF",
           "#FECB52"
          ],
          "font": {
           "color": "#2a3f5f"
          },
          "geo": {
           "bgcolor": "white",
           "lakecolor": "white",
           "landcolor": "#E5ECF6",
           "showlakes": true,
           "showland": true,
           "subunitcolor": "white"
          },
          "hoverlabel": {
           "align": "left"
          },
          "hovermode": "closest",
          "mapbox": {
           "style": "light"
          },
          "paper_bgcolor": "white",
          "plot_bgcolor": "#E5ECF6",
          "polar": {
           "angularaxis": {
            "gridcolor": "white",
            "linecolor": "white",
            "ticks": ""
           },
           "bgcolor": "#E5ECF6",
           "radialaxis": {
            "gridcolor": "white",
            "linecolor": "white",
            "ticks": ""
           }
          },
          "scene": {
           "xaxis": {
            "backgroundcolor": "#E5ECF6",
            "gridcolor": "white",
            "gridwidth": 2,
            "linecolor": "white",
            "showbackground": true,
            "ticks": "",
            "zerolinecolor": "white"
           },
           "yaxis": {
            "backgroundcolor": "#E5ECF6",
            "gridcolor": "white",
            "gridwidth": 2,
            "linecolor": "white",
            "showbackground": true,
            "ticks": "",
            "zerolinecolor": "white"
           },
           "zaxis": {
            "backgroundcolor": "#E5ECF6",
            "gridcolor": "white",
            "gridwidth": 2,
            "linecolor": "white",
            "showbackground": true,
            "ticks": "",
            "zerolinecolor": "white"
           }
          },
          "shapedefaults": {
           "line": {
            "color": "#2a3f5f"
           }
          },
          "ternary": {
           "aaxis": {
            "gridcolor": "white",
            "linecolor": "white",
            "ticks": ""
           },
           "baxis": {
            "gridcolor": "white",
            "linecolor": "white",
            "ticks": ""
           },
           "bgcolor": "#E5ECF6",
           "caxis": {
            "gridcolor": "white",
            "linecolor": "white",
            "ticks": ""
           }
          },
          "title": {
           "x": 0.05
          },
          "xaxis": {
           "automargin": true,
           "gridcolor": "white",
           "linecolor": "white",
           "ticks": "",
           "title": {
            "standoff": 15
           },
           "zerolinecolor": "white",
           "zerolinewidth": 2
          },
          "yaxis": {
           "automargin": true,
           "gridcolor": "white",
           "linecolor": "white",
           "ticks": "",
           "title": {
            "standoff": 15
           },
           "zerolinecolor": "white",
           "zerolinewidth": 2
          }
         }
        }
       }
      },
      "text/html": [
       "<div>                            <div id=\"fe70d980-ae25-4742-b966-bc4288b18ff2\" class=\"plotly-graph-div\" style=\"height:525px; width:100%;\"></div>            <script type=\"text/javascript\">                require([\"plotly\"], function(Plotly) {                    window.PLOTLYENV=window.PLOTLYENV || {};                                    if (document.getElementById(\"fe70d980-ae25-4742-b966-bc4288b18ff2\")) {                    Plotly.newPlot(                        \"fe70d980-ae25-4742-b966-bc4288b18ff2\",                        [{\"orientation\":\"v\",\"width\":0.9,\"x\":[\"Generic Brand\",\"ORCA Coatings\",\"Westford Mill\\u00ae\",\"Sport-Tek\",\"Colortone\",\"Gildan\",\"AS Colour\",\"Stanley Stella\",\"Next Level\",\"LAT Apparel\",\"Bella+Canvas\",\"Delta\",\"Comfort Colors\\u00ae\",\"American Apparel\",\"B&C\",\"Champion\",\"Alstyle\",\"SG Clothing\",\"Anvil\",\"Hanes\",\"Econscious\",\"Royal Apparel\",\"Lane Seven\",\"AWDIS\",\"Fruit Of The Loom\",\"Tultex\",\"Independent Trading Company\",\"Cotton Heritage\",\"JERZEES\",\"Elevate\",\"Rabbit Skins\",\"Gerber Childrenswear\",\"Case Mate\",\"Port Authority\",\"The Laughing Giraffe\",\"Terry Town\",\"Polar Camel\",\"Soundwave\",\"CamelBak\",\"Stik-Withit\",\"Tecre\",\"Magnum Magnetics\",\"Seventh Avenue Apothecary\",\"Greenbomb\",\"Doggie Skins\",\"Arctic Zone\"],\"y\":[19.097504798464488,7.635714285714286,11.72,31.755,19.27,16.693877551020407,21.080526315789477,27.03452380952381,13.504545454545456,17.113333333333333,17.108214285714286,9.434999999999999,16.704,10.22,21.385714285714283,27.110909090909093,8.12,11.99,10.7,18.778,19.775,15.94,21.714166666666667,24.877142857142854,18.33,22.098,27.015,27.61666666666667,16.3,67.16,11.025384615384613,11.855,14.303333333333333,7.39,12.69,22.16,17.41333333333333,51.93,22.06,19.49,2.775,2.63,32.84,9.33,20.15,26.12],\"type\":\"bar\"}],                        {\"template\":{\"data\":{\"bar\":[{\"error_x\":{\"color\":\"#2a3f5f\"},\"error_y\":{\"color\":\"#2a3f5f\"},\"marker\":{\"line\":{\"color\":\"#E5ECF6\",\"width\":0.5},\"pattern\":{\"fillmode\":\"overlay\",\"size\":10,\"solidity\":0.2}},\"type\":\"bar\"}],\"barpolar\":[{\"marker\":{\"line\":{\"color\":\"#E5ECF6\",\"width\":0.5},\"pattern\":{\"fillmode\":\"overlay\",\"size\":10,\"solidity\":0.2}},\"type\":\"barpolar\"}],\"carpet\":[{\"aaxis\":{\"endlinecolor\":\"#2a3f5f\",\"gridcolor\":\"white\",\"linecolor\":\"white\",\"minorgridcolor\":\"white\",\"startlinecolor\":\"#2a3f5f\"},\"baxis\":{\"endlinecolor\":\"#2a3f5f\",\"gridcolor\":\"white\",\"linecolor\":\"white\",\"minorgridcolor\":\"white\",\"startlinecolor\":\"#2a3f5f\"},\"type\":\"carpet\"}],\"choropleth\":[{\"colorbar\":{\"outlinewidth\":0,\"ticks\":\"\"},\"type\":\"choropleth\"}],\"contour\":[{\"colorbar\":{\"outlinewidth\":0,\"ticks\":\"\"},\"colorscale\":[[0.0,\"#0d0887\"],[0.1111111111111111,\"#46039f\"],[0.2222222222222222,\"#7201a8\"],[0.3333333333333333,\"#9c179e\"],[0.4444444444444444,\"#bd3786\"],[0.5555555555555556,\"#d8576b\"],[0.6666666666666666,\"#ed7953\"],[0.7777777777777778,\"#fb9f3a\"],[0.8888888888888888,\"#fdca26\"],[1.0,\"#f0f921\"]],\"type\":\"contour\"}],\"contourcarpet\":[{\"colorbar\":{\"outlinewidth\":0,\"ticks\":\"\"},\"type\":\"contourcarpet\"}],\"heatmap\":[{\"colorbar\":{\"outlinewidth\":0,\"ticks\":\"\"},\"colorscale\":[[0.0,\"#0d0887\"],[0.1111111111111111,\"#46039f\"],[0.2222222222222222,\"#7201a8\"],[0.3333333333333333,\"#9c179e\"],[0.4444444444444444,\"#bd3786\"],[0.5555555555555556,\"#d8576b\"],[0.6666666666666666,\"#ed7953\"],[0.7777777777777778,\"#fb9f3a\"],[0.8888888888888888,\"#fdca26\"],[1.0,\"#f0f921\"]],\"type\":\"heatmap\"}],\"heatmapgl\":[{\"colorbar\":{\"outlinewidth\":0,\"ticks\":\"\"},\"colorscale\":[[0.0,\"#0d0887\"],[0.1111111111111111,\"#46039f\"],[0.2222222222222222,\"#7201a8\"],[0.3333333333333333,\"#9c179e\"],[0.4444444444444444,\"#bd3786\"],[0.5555555555555556,\"#d8576b\"],[0.6666666666666666,\"#ed7953\"],[0.7777777777777778,\"#fb9f3a\"],[0.8888888888888888,\"#fdca26\"],[1.0,\"#f0f921\"]],\"type\":\"heatmapgl\"}],\"histogram\":[{\"marker\":{\"pattern\":{\"fillmode\":\"overlay\",\"size\":10,\"solidity\":0.2}},\"type\":\"histogram\"}],\"histogram2d\":[{\"colorbar\":{\"outlinewidth\":0,\"ticks\":\"\"},\"colorscale\":[[0.0,\"#0d0887\"],[0.1111111111111111,\"#46039f\"],[0.2222222222222222,\"#7201a8\"],[0.3333333333333333,\"#9c179e\"],[0.4444444444444444,\"#bd3786\"],[0.5555555555555556,\"#d8576b\"],[0.6666666666666666,\"#ed7953\"],[0.7777777777777778,\"#fb9f3a\"],[0.8888888888888888,\"#fdca26\"],[1.0,\"#f0f921\"]],\"type\":\"histogram2d\"}],\"histogram2dcontour\":[{\"colorbar\":{\"outlinewidth\":0,\"ticks\":\"\"},\"colorscale\":[[0.0,\"#0d0887\"],[0.1111111111111111,\"#46039f\"],[0.2222222222222222,\"#7201a8\"],[0.3333333333333333,\"#9c179e\"],[0.4444444444444444,\"#bd3786\"],[0.5555555555555556,\"#d8576b\"],[0.6666666666666666,\"#ed7953\"],[0.7777777777777778,\"#fb9f3a\"],[0.8888888888888888,\"#fdca26\"],[1.0,\"#f0f921\"]],\"type\":\"histogram2dcontour\"}],\"mesh3d\":[{\"colorbar\":{\"outlinewidth\":0,\"ticks\":\"\"},\"type\":\"mesh3d\"}],\"parcoords\":[{\"line\":{\"colorbar\":{\"outlinewidth\":0,\"ticks\":\"\"}},\"type\":\"parcoords\"}],\"pie\":[{\"automargin\":true,\"type\":\"pie\"}],\"scatter\":[{\"marker\":{\"colorbar\":{\"outlinewidth\":0,\"ticks\":\"\"}},\"type\":\"scatter\"}],\"scatter3d\":[{\"line\":{\"colorbar\":{\"outlinewidth\":0,\"ticks\":\"\"}},\"marker\":{\"colorbar\":{\"outlinewidth\":0,\"ticks\":\"\"}},\"type\":\"scatter3d\"}],\"scattercarpet\":[{\"marker\":{\"colorbar\":{\"outlinewidth\":0,\"ticks\":\"\"}},\"type\":\"scattercarpet\"}],\"scattergeo\":[{\"marker\":{\"colorbar\":{\"outlinewidth\":0,\"ticks\":\"\"}},\"type\":\"scattergeo\"}],\"scattergl\":[{\"marker\":{\"colorbar\":{\"outlinewidth\":0,\"ticks\":\"\"}},\"type\":\"scattergl\"}],\"scattermapbox\":[{\"marker\":{\"colorbar\":{\"outlinewidth\":0,\"ticks\":\"\"}},\"type\":\"scattermapbox\"}],\"scatterpolar\":[{\"marker\":{\"colorbar\":{\"outlinewidth\":0,\"ticks\":\"\"}},\"type\":\"scatterpolar\"}],\"scatterpolargl\":[{\"marker\":{\"colorbar\":{\"outlinewidth\":0,\"ticks\":\"\"}},\"type\":\"scatterpolargl\"}],\"scatterternary\":[{\"marker\":{\"colorbar\":{\"outlinewidth\":0,\"ticks\":\"\"}},\"type\":\"scatterternary\"}],\"surface\":[{\"colorbar\":{\"outlinewidth\":0,\"ticks\":\"\"},\"colorscale\":[[0.0,\"#0d0887\"],[0.1111111111111111,\"#46039f\"],[0.2222222222222222,\"#7201a8\"],[0.3333333333333333,\"#9c179e\"],[0.4444444444444444,\"#bd3786\"],[0.5555555555555556,\"#d8576b\"],[0.6666666666666666,\"#ed7953\"],[0.7777777777777778,\"#fb9f3a\"],[0.8888888888888888,\"#fdca26\"],[1.0,\"#f0f921\"]],\"type\":\"surface\"}],\"table\":[{\"cells\":{\"fill\":{\"color\":\"#EBF0F8\"},\"line\":{\"color\":\"white\"}},\"header\":{\"fill\":{\"color\":\"#C8D4E3\"},\"line\":{\"color\":\"white\"}},\"type\":\"table\"}]},\"layout\":{\"annotationdefaults\":{\"arrowcolor\":\"#2a3f5f\",\"arrowhead\":0,\"arrowwidth\":1},\"autotypenumbers\":\"strict\",\"coloraxis\":{\"colorbar\":{\"outlinewidth\":0,\"ticks\":\"\"}},\"colorscale\":{\"diverging\":[[0,\"#8e0152\"],[0.1,\"#c51b7d\"],[0.2,\"#de77ae\"],[0.3,\"#f1b6da\"],[0.4,\"#fde0ef\"],[0.5,\"#f7f7f7\"],[0.6,\"#e6f5d0\"],[0.7,\"#b8e186\"],[0.8,\"#7fbc41\"],[0.9,\"#4d9221\"],[1,\"#276419\"]],\"sequential\":[[0.0,\"#0d0887\"],[0.1111111111111111,\"#46039f\"],[0.2222222222222222,\"#7201a8\"],[0.3333333333333333,\"#9c179e\"],[0.4444444444444444,\"#bd3786\"],[0.5555555555555556,\"#d8576b\"],[0.6666666666666666,\"#ed7953\"],[0.7777777777777778,\"#fb9f3a\"],[0.8888888888888888,\"#fdca26\"],[1.0,\"#f0f921\"]],\"sequentialminus\":[[0.0,\"#0d0887\"],[0.1111111111111111,\"#46039f\"],[0.2222222222222222,\"#7201a8\"],[0.3333333333333333,\"#9c179e\"],[0.4444444444444444,\"#bd3786\"],[0.5555555555555556,\"#d8576b\"],[0.6666666666666666,\"#ed7953\"],[0.7777777777777778,\"#fb9f3a\"],[0.8888888888888888,\"#fdca26\"],[1.0,\"#f0f921\"]]},\"colorway\":[\"#636efa\",\"#EF553B\",\"#00cc96\",\"#ab63fa\",\"#FFA15A\",\"#19d3f3\",\"#FF6692\",\"#B6E880\",\"#FF97FF\",\"#FECB52\"],\"font\":{\"color\":\"#2a3f5f\"},\"geo\":{\"bgcolor\":\"white\",\"lakecolor\":\"white\",\"landcolor\":\"#E5ECF6\",\"showlakes\":true,\"showland\":true,\"subunitcolor\":\"white\"},\"hoverlabel\":{\"align\":\"left\"},\"hovermode\":\"closest\",\"mapbox\":{\"style\":\"light\"},\"paper_bgcolor\":\"white\",\"plot_bgcolor\":\"#E5ECF6\",\"polar\":{\"angularaxis\":{\"gridcolor\":\"white\",\"linecolor\":\"white\",\"ticks\":\"\"},\"bgcolor\":\"#E5ECF6\",\"radialaxis\":{\"gridcolor\":\"white\",\"linecolor\":\"white\",\"ticks\":\"\"}},\"scene\":{\"xaxis\":{\"backgroundcolor\":\"#E5ECF6\",\"gridcolor\":\"white\",\"gridwidth\":2,\"linecolor\":\"white\",\"showbackground\":true,\"ticks\":\"\",\"zerolinecolor\":\"white\"},\"yaxis\":{\"backgroundcolor\":\"#E5ECF6\",\"gridcolor\":\"white\",\"gridwidth\":2,\"linecolor\":\"white\",\"showbackground\":true,\"ticks\":\"\",\"zerolinecolor\":\"white\"},\"zaxis\":{\"backgroundcolor\":\"#E5ECF6\",\"gridcolor\":\"white\",\"gridwidth\":2,\"linecolor\":\"white\",\"showbackground\":true,\"ticks\":\"\",\"zerolinecolor\":\"white\"}},\"shapedefaults\":{\"line\":{\"color\":\"#2a3f5f\"}},\"ternary\":{\"aaxis\":{\"gridcolor\":\"white\",\"linecolor\":\"white\",\"ticks\":\"\"},\"baxis\":{\"gridcolor\":\"white\",\"linecolor\":\"white\",\"ticks\":\"\"},\"bgcolor\":\"#E5ECF6\",\"caxis\":{\"gridcolor\":\"white\",\"linecolor\":\"white\",\"ticks\":\"\"}},\"title\":{\"x\":0.05},\"xaxis\":{\"automargin\":true,\"gridcolor\":\"white\",\"linecolor\":\"white\",\"ticks\":\"\",\"title\":{\"standoff\":15},\"zerolinecolor\":\"white\",\"zerolinewidth\":2},\"yaxis\":{\"automargin\":true,\"gridcolor\":\"white\",\"linecolor\":\"white\",\"ticks\":\"\",\"title\":{\"standoff\":15},\"zerolinecolor\":\"white\",\"zerolinewidth\":2}}}},                        {\"responsive\": true}                    ).then(function(){\n",
       "                            \n",
       "var gd = document.getElementById('fe70d980-ae25-4742-b966-bc4288b18ff2');\n",
       "var x = new MutationObserver(function (mutations, observer) {{\n",
       "        var display = window.getComputedStyle(gd).display;\n",
       "        if (!display || display === 'none') {{\n",
       "            console.log([gd, 'removed!']);\n",
       "            Plotly.purge(gd);\n",
       "            observer.disconnect();\n",
       "        }}\n",
       "}});\n",
       "\n",
       "// Listen for the removal of the full notebook cells\n",
       "var notebookContainer = gd.closest('#notebook-container');\n",
       "if (notebookContainer) {{\n",
       "    x.observe(notebookContainer, {childList: true});\n",
       "}}\n",
       "\n",
       "// Listen for the clearing of the current output cell\n",
       "var outputEl = gd.closest('.output');\n",
       "if (outputEl) {{\n",
       "    x.observe(outputEl, {childList: true});\n",
       "}}\n",
       "\n",
       "                        })                };                });            </script>        </div>"
      ]
     },
     "metadata": {},
     "output_type": "display_data"
    }
   ],
   "source": [
    "fig = go.Figure(go.Bar(\n",
    "            x=brands_count2.index,\n",
    "            y=brands_count2['Average_price'],\n",
    "            orientation='v', width=0.9))\n",
    "\n",
    "fig.show()"
   ]
  },
  {
   "cell_type": "code",
   "execution_count": 64,
   "id": "79c15c59",
   "metadata": {},
   "outputs": [
    {
     "data": {
      "text/plain": [
       "<AxesSubplot:title={'center':'Brand Popularity'}>"
      ]
     },
     "execution_count": 64,
     "metadata": {},
     "output_type": "execute_result"
    },
    {
     "data": {
      "image/png": "[encoded data removed]",
      "text/plain": [
       "<Figure size 1080x720 with 1 Axes>"
      ]
     },
     "metadata": {
      "needs_background": "light"
     },
     "output_type": "display_data"
    }
   ],
   "source": [
    "# Average price of every brand on Printify\n",
    "brands_count2.plot.bar(title =\"Brand Popularity\", figsize=(15, 10), legend=True, fontsize=12)"
   ]
  },
  {
   "cell_type": "code",
   "execution_count": null,
   "id": "261f32dd",
   "metadata": {},
   "outputs": [],
   "source": []
  }
 ],
 "metadata": {
  "kernelspec": {
   "display_name": "Python 3",
   "language": "python",
   "name": "python3"
  },
  "language_info": {
   "codemirror_mode": {
    "name": "ipython",
    "version": 3
   },
   "file_extension": ".py",
   "mimetype": "text/x-python",
   "name": "python",
   "nbconvert_exporter": "python",
   "pygments_lexer": "ipython3",
   "version": "3.8.8"
  }
 },
 "nbformat": 4,
 "nbformat_minor": 5
}
